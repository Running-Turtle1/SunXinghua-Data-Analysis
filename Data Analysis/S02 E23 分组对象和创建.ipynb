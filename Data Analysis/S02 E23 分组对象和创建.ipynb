{
 "cells": [
  {
   "cell_type": "code",
   "id": "initial_id",
   "metadata": {
    "collapsed": true,
    "ExecuteTime": {
     "end_time": "2025-08-30T12:46:43.569782Z",
     "start_time": "2025-08-30T12:46:43.558583Z"
    }
   },
   "source": "import pandas as pd",
   "outputs": [],
   "execution_count": 20
  },
  {
   "metadata": {
    "ExecuteTime": {
     "end_time": "2025-08-30T12:46:43.594114Z",
     "start_time": "2025-08-30T12:46:43.580629Z"
    }
   },
   "cell_type": "code",
   "source": [
    "path = './Repo/分组.xlsx'\n",
    "df = pd.read_excel(path)"
   ],
   "id": "dca8cb6c32c3becc",
   "outputs": [],
   "execution_count": 21
  },
  {
   "metadata": {
    "ExecuteTime": {
     "end_time": "2025-08-30T12:46:43.642590Z",
     "start_time": "2025-08-30T12:46:43.632293Z"
    }
   },
   "cell_type": "code",
   "source": "df",
   "id": "ac1a997684729e9b",
   "outputs": [
    {
     "data": {
      "text/plain": [
       "     学号                  时间   姓名  班级 性别  数学  语文  英语\n",
       "0  A001 2020-05-01 17:00:00  丁智敏  1班  女  54  34  51\n",
       "1  A002 2020-05-02 18:00:00  李平平  3班  女  68  48  41\n",
       "2  A003 2020-05-02 09:00:00   张伊  2班  女  32  65  40\n",
       "3  A004 2020-05-01 08:00:00   王刚  4班  男  70  50  37\n",
       "4  A005 2020-05-01 17:00:00   王松  3班  男  59  55  39\n",
       "5  A006 2020-05-02 18:00:00  卢海军  2班  男  56  40  39\n",
       "6  A007 2020-05-01 08:00:00  李永兴  1班  男  43  53  42\n",
       "7  A008 2020-05-02 09:00:00   王硕  4班  女  68  68  69\n",
       "8  A009 2020-05-01 17:00:00   李超  3班  男  38  35  51\n",
       "9  A010 2020-05-02 18:00:00  张荣耀  1班  男  67  65  36"
      ],
      "text/html": [
       "<div>\n",
       "<style scoped>\n",
       "    .dataframe tbody tr th:only-of-type {\n",
       "        vertical-align: middle;\n",
       "    }\n",
       "\n",
       "    .dataframe tbody tr th {\n",
       "        vertical-align: top;\n",
       "    }\n",
       "\n",
       "    .dataframe thead th {\n",
       "        text-align: right;\n",
       "    }\n",
       "</style>\n",
       "<table border=\"1\" class=\"dataframe\">\n",
       "  <thead>\n",
       "    <tr style=\"text-align: right;\">\n",
       "      <th></th>\n",
       "      <th>学号</th>\n",
       "      <th>时间</th>\n",
       "      <th>姓名</th>\n",
       "      <th>班级</th>\n",
       "      <th>性别</th>\n",
       "      <th>数学</th>\n",
       "      <th>语文</th>\n",
       "      <th>英语</th>\n",
       "    </tr>\n",
       "  </thead>\n",
       "  <tbody>\n",
       "    <tr>\n",
       "      <th>0</th>\n",
       "      <td>A001</td>\n",
       "      <td>2020-05-01 17:00:00</td>\n",
       "      <td>丁智敏</td>\n",
       "      <td>1班</td>\n",
       "      <td>女</td>\n",
       "      <td>54</td>\n",
       "      <td>34</td>\n",
       "      <td>51</td>\n",
       "    </tr>\n",
       "    <tr>\n",
       "      <th>1</th>\n",
       "      <td>A002</td>\n",
       "      <td>2020-05-02 18:00:00</td>\n",
       "      <td>李平平</td>\n",
       "      <td>3班</td>\n",
       "      <td>女</td>\n",
       "      <td>68</td>\n",
       "      <td>48</td>\n",
       "      <td>41</td>\n",
       "    </tr>\n",
       "    <tr>\n",
       "      <th>2</th>\n",
       "      <td>A003</td>\n",
       "      <td>2020-05-02 09:00:00</td>\n",
       "      <td>张伊</td>\n",
       "      <td>2班</td>\n",
       "      <td>女</td>\n",
       "      <td>32</td>\n",
       "      <td>65</td>\n",
       "      <td>40</td>\n",
       "    </tr>\n",
       "    <tr>\n",
       "      <th>3</th>\n",
       "      <td>A004</td>\n",
       "      <td>2020-05-01 08:00:00</td>\n",
       "      <td>王刚</td>\n",
       "      <td>4班</td>\n",
       "      <td>男</td>\n",
       "      <td>70</td>\n",
       "      <td>50</td>\n",
       "      <td>37</td>\n",
       "    </tr>\n",
       "    <tr>\n",
       "      <th>4</th>\n",
       "      <td>A005</td>\n",
       "      <td>2020-05-01 17:00:00</td>\n",
       "      <td>王松</td>\n",
       "      <td>3班</td>\n",
       "      <td>男</td>\n",
       "      <td>59</td>\n",
       "      <td>55</td>\n",
       "      <td>39</td>\n",
       "    </tr>\n",
       "    <tr>\n",
       "      <th>5</th>\n",
       "      <td>A006</td>\n",
       "      <td>2020-05-02 18:00:00</td>\n",
       "      <td>卢海军</td>\n",
       "      <td>2班</td>\n",
       "      <td>男</td>\n",
       "      <td>56</td>\n",
       "      <td>40</td>\n",
       "      <td>39</td>\n",
       "    </tr>\n",
       "    <tr>\n",
       "      <th>6</th>\n",
       "      <td>A007</td>\n",
       "      <td>2020-05-01 08:00:00</td>\n",
       "      <td>李永兴</td>\n",
       "      <td>1班</td>\n",
       "      <td>男</td>\n",
       "      <td>43</td>\n",
       "      <td>53</td>\n",
       "      <td>42</td>\n",
       "    </tr>\n",
       "    <tr>\n",
       "      <th>7</th>\n",
       "      <td>A008</td>\n",
       "      <td>2020-05-02 09:00:00</td>\n",
       "      <td>王硕</td>\n",
       "      <td>4班</td>\n",
       "      <td>女</td>\n",
       "      <td>68</td>\n",
       "      <td>68</td>\n",
       "      <td>69</td>\n",
       "    </tr>\n",
       "    <tr>\n",
       "      <th>8</th>\n",
       "      <td>A009</td>\n",
       "      <td>2020-05-01 17:00:00</td>\n",
       "      <td>李超</td>\n",
       "      <td>3班</td>\n",
       "      <td>男</td>\n",
       "      <td>38</td>\n",
       "      <td>35</td>\n",
       "      <td>51</td>\n",
       "    </tr>\n",
       "    <tr>\n",
       "      <th>9</th>\n",
       "      <td>A010</td>\n",
       "      <td>2020-05-02 18:00:00</td>\n",
       "      <td>张荣耀</td>\n",
       "      <td>1班</td>\n",
       "      <td>男</td>\n",
       "      <td>67</td>\n",
       "      <td>65</td>\n",
       "      <td>36</td>\n",
       "    </tr>\n",
       "  </tbody>\n",
       "</table>\n",
       "</div>"
      ]
     },
     "execution_count": 22,
     "metadata": {},
     "output_type": "execute_result"
    }
   ],
   "execution_count": 22
  },
  {
   "metadata": {
    "ExecuteTime": {
     "end_time": "2025-08-30T12:46:43.654691Z",
     "start_time": "2025-08-30T12:46:43.642590Z"
    }
   },
   "cell_type": "code",
   "source": "df2 = df.groupby(df.index % 2 == 0)[['语文', '数学', '英语']].sum()",
   "id": "4202c1d6f29a2556",
   "outputs": [],
   "execution_count": 23
  },
  {
   "metadata": {
    "ExecuteTime": {
     "end_time": "2025-08-30T12:46:43.667761Z",
     "start_time": "2025-08-30T12:46:43.654691Z"
    }
   },
   "cell_type": "code",
   "source": "df2",
   "id": "d86d2024c05cb69d",
   "outputs": [
    {
     "data": {
      "text/plain": [
       "        语文   数学   英语\n",
       "False  271  329  222\n",
       "True   242  226  223"
      ],
      "text/html": [
       "<div>\n",
       "<style scoped>\n",
       "    .dataframe tbody tr th:only-of-type {\n",
       "        vertical-align: middle;\n",
       "    }\n",
       "\n",
       "    .dataframe tbody tr th {\n",
       "        vertical-align: top;\n",
       "    }\n",
       "\n",
       "    .dataframe thead th {\n",
       "        text-align: right;\n",
       "    }\n",
       "</style>\n",
       "<table border=\"1\" class=\"dataframe\">\n",
       "  <thead>\n",
       "    <tr style=\"text-align: right;\">\n",
       "      <th></th>\n",
       "      <th>语文</th>\n",
       "      <th>数学</th>\n",
       "      <th>英语</th>\n",
       "    </tr>\n",
       "  </thead>\n",
       "  <tbody>\n",
       "    <tr>\n",
       "      <th>False</th>\n",
       "      <td>271</td>\n",
       "      <td>329</td>\n",
       "      <td>222</td>\n",
       "    </tr>\n",
       "    <tr>\n",
       "      <th>True</th>\n",
       "      <td>242</td>\n",
       "      <td>226</td>\n",
       "      <td>223</td>\n",
       "    </tr>\n",
       "  </tbody>\n",
       "</table>\n",
       "</div>"
      ]
     },
     "execution_count": 24,
     "metadata": {},
     "output_type": "execute_result"
    }
   ],
   "execution_count": 24
  },
  {
   "metadata": {
    "ExecuteTime": {
     "end_time": "2025-08-30T12:46:43.683372Z",
     "start_time": "2025-08-30T12:46:43.673997Z"
    }
   },
   "cell_type": "code",
   "source": [
    "df3 = df.groupby(df.index >= 5)['语文'].sum()\n",
    "df3"
   ],
   "id": "b7131ee4bd08faca",
   "outputs": [
    {
     "data": {
      "text/plain": [
       "False    252\n",
       "True     261\n",
       "Name: 语文, dtype: int64"
      ]
     },
     "execution_count": 25,
     "metadata": {},
     "output_type": "execute_result"
    }
   ],
   "execution_count": 25
  },
  {
   "metadata": {
    "ExecuteTime": {
     "end_time": "2025-08-30T12:46:43.761538Z",
     "start_time": "2025-08-30T12:46:43.750895Z"
    }
   },
   "cell_type": "code",
   "source": [
    "# 按姓氏或首字母分组\n",
    "df4 = df.groupby(df.姓名.str[0])[['语文','数学','英语']].sum()\n",
    "df4"
   ],
   "id": "f13b01dd8a62330",
   "outputs": [
    {
     "data": {
      "text/plain": [
       "     语文   数学   英语\n",
       "姓名               \n",
       "丁    34   54   51\n",
       "卢    40   56   39\n",
       "张   130   99   76\n",
       "李   136  149  134\n",
       "王   173  197  145"
      ],
      "text/html": [
       "<div>\n",
       "<style scoped>\n",
       "    .dataframe tbody tr th:only-of-type {\n",
       "        vertical-align: middle;\n",
       "    }\n",
       "\n",
       "    .dataframe tbody tr th {\n",
       "        vertical-align: top;\n",
       "    }\n",
       "\n",
       "    .dataframe thead th {\n",
       "        text-align: right;\n",
       "    }\n",
       "</style>\n",
       "<table border=\"1\" class=\"dataframe\">\n",
       "  <thead>\n",
       "    <tr style=\"text-align: right;\">\n",
       "      <th></th>\n",
       "      <th>语文</th>\n",
       "      <th>数学</th>\n",
       "      <th>英语</th>\n",
       "    </tr>\n",
       "    <tr>\n",
       "      <th>姓名</th>\n",
       "      <th></th>\n",
       "      <th></th>\n",
       "      <th></th>\n",
       "    </tr>\n",
       "  </thead>\n",
       "  <tbody>\n",
       "    <tr>\n",
       "      <th>丁</th>\n",
       "      <td>34</td>\n",
       "      <td>54</td>\n",
       "      <td>51</td>\n",
       "    </tr>\n",
       "    <tr>\n",
       "      <th>卢</th>\n",
       "      <td>40</td>\n",
       "      <td>56</td>\n",
       "      <td>39</td>\n",
       "    </tr>\n",
       "    <tr>\n",
       "      <th>张</th>\n",
       "      <td>130</td>\n",
       "      <td>99</td>\n",
       "      <td>76</td>\n",
       "    </tr>\n",
       "    <tr>\n",
       "      <th>李</th>\n",
       "      <td>136</td>\n",
       "      <td>149</td>\n",
       "      <td>134</td>\n",
       "    </tr>\n",
       "    <tr>\n",
       "      <th>王</th>\n",
       "      <td>173</td>\n",
       "      <td>197</td>\n",
       "      <td>145</td>\n",
       "    </tr>\n",
       "  </tbody>\n",
       "</table>\n",
       "</div>"
      ]
     },
     "execution_count": 26,
     "metadata": {},
     "output_type": "execute_result"
    }
   ],
   "execution_count": 26
  },
  {
   "metadata": {
    "ExecuteTime": {
     "end_time": "2025-08-30T12:46:43.795227Z",
     "start_time": "2025-08-30T12:46:43.782881Z"
    }
   },
   "cell_type": "code",
   "source": [
    "# 按姓名第1和第2个字母分组，注意两个str要写在列表中\n",
    "df4_2 = df.groupby([df.姓名.str[0], df.姓名.str[1]])[['语文','数学','英语']].sum()\n",
    "df4_2"
   ],
   "id": "d5e667d72bddb6",
   "outputs": [
    {
     "data": {
      "text/plain": [
       "       语文  数学  英语\n",
       "姓名 姓名            \n",
       "丁  智   34  54  51\n",
       "卢  海   40  56  39\n",
       "张  伊   65  32  40\n",
       "   荣   65  67  36\n",
       "李  平   48  68  41\n",
       "   永   53  43  42\n",
       "   超   35  38  51\n",
       "王  刚   50  70  37\n",
       "   松   55  59  39\n",
       "   硕   68  68  69"
      ],
      "text/html": [
       "<div>\n",
       "<style scoped>\n",
       "    .dataframe tbody tr th:only-of-type {\n",
       "        vertical-align: middle;\n",
       "    }\n",
       "\n",
       "    .dataframe tbody tr th {\n",
       "        vertical-align: top;\n",
       "    }\n",
       "\n",
       "    .dataframe thead th {\n",
       "        text-align: right;\n",
       "    }\n",
       "</style>\n",
       "<table border=\"1\" class=\"dataframe\">\n",
       "  <thead>\n",
       "    <tr style=\"text-align: right;\">\n",
       "      <th></th>\n",
       "      <th></th>\n",
       "      <th>语文</th>\n",
       "      <th>数学</th>\n",
       "      <th>英语</th>\n",
       "    </tr>\n",
       "    <tr>\n",
       "      <th>姓名</th>\n",
       "      <th>姓名</th>\n",
       "      <th></th>\n",
       "      <th></th>\n",
       "      <th></th>\n",
       "    </tr>\n",
       "  </thead>\n",
       "  <tbody>\n",
       "    <tr>\n",
       "      <th>丁</th>\n",
       "      <th>智</th>\n",
       "      <td>34</td>\n",
       "      <td>54</td>\n",
       "      <td>51</td>\n",
       "    </tr>\n",
       "    <tr>\n",
       "      <th>卢</th>\n",
       "      <th>海</th>\n",
       "      <td>40</td>\n",
       "      <td>56</td>\n",
       "      <td>39</td>\n",
       "    </tr>\n",
       "    <tr>\n",
       "      <th rowspan=\"2\" valign=\"top\">张</th>\n",
       "      <th>伊</th>\n",
       "      <td>65</td>\n",
       "      <td>32</td>\n",
       "      <td>40</td>\n",
       "    </tr>\n",
       "    <tr>\n",
       "      <th>荣</th>\n",
       "      <td>65</td>\n",
       "      <td>67</td>\n",
       "      <td>36</td>\n",
       "    </tr>\n",
       "    <tr>\n",
       "      <th rowspan=\"3\" valign=\"top\">李</th>\n",
       "      <th>平</th>\n",
       "      <td>48</td>\n",
       "      <td>68</td>\n",
       "      <td>41</td>\n",
       "    </tr>\n",
       "    <tr>\n",
       "      <th>永</th>\n",
       "      <td>53</td>\n",
       "      <td>43</td>\n",
       "      <td>42</td>\n",
       "    </tr>\n",
       "    <tr>\n",
       "      <th>超</th>\n",
       "      <td>35</td>\n",
       "      <td>38</td>\n",
       "      <td>51</td>\n",
       "    </tr>\n",
       "    <tr>\n",
       "      <th rowspan=\"3\" valign=\"top\">王</th>\n",
       "      <th>刚</th>\n",
       "      <td>50</td>\n",
       "      <td>70</td>\n",
       "      <td>37</td>\n",
       "    </tr>\n",
       "    <tr>\n",
       "      <th>松</th>\n",
       "      <td>55</td>\n",
       "      <td>59</td>\n",
       "      <td>39</td>\n",
       "    </tr>\n",
       "    <tr>\n",
       "      <th>硕</th>\n",
       "      <td>68</td>\n",
       "      <td>68</td>\n",
       "      <td>69</td>\n",
       "    </tr>\n",
       "  </tbody>\n",
       "</table>\n",
       "</div>"
      ]
     },
     "execution_count": 27,
     "metadata": {},
     "output_type": "execute_result"
    }
   ],
   "execution_count": 27
  },
  {
   "metadata": {
    "ExecuteTime": {
     "end_time": "2025-08-30T12:46:43.917718Z",
     "start_time": "2025-08-30T12:46:43.908688Z"
    }
   },
   "cell_type": "code",
   "source": [
    "# 按指定班级分组（不需要全部班级时使用）\n",
    "df5 = df.groupby(\n",
    "    df.班级.isin(['1班', '2班'])\n",
    ")[['语文', '数学', '英语']].sum()\n",
    "df5"
   ],
   "id": "7b19873074f9e551",
   "outputs": [
    {
     "data": {
      "text/plain": [
       "        语文   数学   英语\n",
       "班级                  \n",
       "False  256  303  237\n",
       "True   257  252  208"
      ],
      "text/html": [
       "<div>\n",
       "<style scoped>\n",
       "    .dataframe tbody tr th:only-of-type {\n",
       "        vertical-align: middle;\n",
       "    }\n",
       "\n",
       "    .dataframe tbody tr th {\n",
       "        vertical-align: top;\n",
       "    }\n",
       "\n",
       "    .dataframe thead th {\n",
       "        text-align: right;\n",
       "    }\n",
       "</style>\n",
       "<table border=\"1\" class=\"dataframe\">\n",
       "  <thead>\n",
       "    <tr style=\"text-align: right;\">\n",
       "      <th></th>\n",
       "      <th>语文</th>\n",
       "      <th>数学</th>\n",
       "      <th>英语</th>\n",
       "    </tr>\n",
       "    <tr>\n",
       "      <th>班级</th>\n",
       "      <th></th>\n",
       "      <th></th>\n",
       "      <th></th>\n",
       "    </tr>\n",
       "  </thead>\n",
       "  <tbody>\n",
       "    <tr>\n",
       "      <th>False</th>\n",
       "      <td>256</td>\n",
       "      <td>303</td>\n",
       "      <td>237</td>\n",
       "    </tr>\n",
       "    <tr>\n",
       "      <th>True</th>\n",
       "      <td>257</td>\n",
       "      <td>252</td>\n",
       "      <td>208</td>\n",
       "    </tr>\n",
       "  </tbody>\n",
       "</table>\n",
       "</div>"
      ]
     },
     "execution_count": 28,
     "metadata": {},
     "output_type": "execute_result"
    }
   ],
   "execution_count": 28
  },
  {
   "metadata": {
    "ExecuteTime": {
     "end_time": "2025-08-30T12:46:43.984512Z",
     "start_time": "2025-08-30T12:46:43.970817Z"
    }
   },
   "cell_type": "code",
   "source": [
    "# 按指定班级分组（不包括1班和2班的其它班级，记住~加的位置，没有isnotin函数）\n",
    "df6 = df.groupby(~df.班级.isin(['1班','2班']))[['语文','数学','英语']].sum()\n",
    "df6"
   ],
   "id": "2653e43d79fda630",
   "outputs": [
    {
     "data": {
      "text/plain": [
       "        语文   数学   英语\n",
       "班级                  \n",
       "False  257  252  208\n",
       "True   256  303  237"
      ],
      "text/html": [
       "<div>\n",
       "<style scoped>\n",
       "    .dataframe tbody tr th:only-of-type {\n",
       "        vertical-align: middle;\n",
       "    }\n",
       "\n",
       "    .dataframe tbody tr th {\n",
       "        vertical-align: top;\n",
       "    }\n",
       "\n",
       "    .dataframe thead th {\n",
       "        text-align: right;\n",
       "    }\n",
       "</style>\n",
       "<table border=\"1\" class=\"dataframe\">\n",
       "  <thead>\n",
       "    <tr style=\"text-align: right;\">\n",
       "      <th></th>\n",
       "      <th>语文</th>\n",
       "      <th>数学</th>\n",
       "      <th>英语</th>\n",
       "    </tr>\n",
       "    <tr>\n",
       "      <th>班级</th>\n",
       "      <th></th>\n",
       "      <th></th>\n",
       "      <th></th>\n",
       "    </tr>\n",
       "  </thead>\n",
       "  <tbody>\n",
       "    <tr>\n",
       "      <th>False</th>\n",
       "      <td>257</td>\n",
       "      <td>252</td>\n",
       "      <td>208</td>\n",
       "    </tr>\n",
       "    <tr>\n",
       "      <th>True</th>\n",
       "      <td>256</td>\n",
       "      <td>303</td>\n",
       "      <td>237</td>\n",
       "    </tr>\n",
       "  </tbody>\n",
       "</table>\n",
       "</div>"
      ]
     },
     "execution_count": 29,
     "metadata": {},
     "output_type": "execute_result"
    }
   ],
   "execution_count": 29
  },
  {
   "metadata": {
    "ExecuteTime": {
     "end_time": "2025-08-30T12:46:44.129601Z",
     "start_time": "2025-08-30T12:46:44.118640Z"
    }
   },
   "cell_type": "code",
   "source": [
    "# 按日期小时分组\n",
    "df7 = df.groupby(\n",
    "    [df.时间.dt.date, df.时间.dt.hour]\n",
    ")[['语文','数学','英语']].sum()\n",
    "df7"
   ],
   "id": "c270b5d8bbe4d293",
   "outputs": [
    {
     "data": {
      "text/plain": [
       "                语文   数学   英语\n",
       "时间         时间               \n",
       "2020-05-01 8   103  113   79\n",
       "           17  124  151  141\n",
       "2020-05-02 9   133  100  109\n",
       "           18  153  191  116"
      ],
      "text/html": [
       "<div>\n",
       "<style scoped>\n",
       "    .dataframe tbody tr th:only-of-type {\n",
       "        vertical-align: middle;\n",
       "    }\n",
       "\n",
       "    .dataframe tbody tr th {\n",
       "        vertical-align: top;\n",
       "    }\n",
       "\n",
       "    .dataframe thead th {\n",
       "        text-align: right;\n",
       "    }\n",
       "</style>\n",
       "<table border=\"1\" class=\"dataframe\">\n",
       "  <thead>\n",
       "    <tr style=\"text-align: right;\">\n",
       "      <th></th>\n",
       "      <th></th>\n",
       "      <th>语文</th>\n",
       "      <th>数学</th>\n",
       "      <th>英语</th>\n",
       "    </tr>\n",
       "    <tr>\n",
       "      <th>时间</th>\n",
       "      <th>时间</th>\n",
       "      <th></th>\n",
       "      <th></th>\n",
       "      <th></th>\n",
       "    </tr>\n",
       "  </thead>\n",
       "  <tbody>\n",
       "    <tr>\n",
       "      <th rowspan=\"2\" valign=\"top\">2020-05-01</th>\n",
       "      <th>8</th>\n",
       "      <td>103</td>\n",
       "      <td>113</td>\n",
       "      <td>79</td>\n",
       "    </tr>\n",
       "    <tr>\n",
       "      <th>17</th>\n",
       "      <td>124</td>\n",
       "      <td>151</td>\n",
       "      <td>141</td>\n",
       "    </tr>\n",
       "    <tr>\n",
       "      <th rowspan=\"2\" valign=\"top\">2020-05-02</th>\n",
       "      <th>9</th>\n",
       "      <td>133</td>\n",
       "      <td>100</td>\n",
       "      <td>109</td>\n",
       "    </tr>\n",
       "    <tr>\n",
       "      <th>18</th>\n",
       "      <td>153</td>\n",
       "      <td>191</td>\n",
       "      <td>116</td>\n",
       "    </tr>\n",
       "  </tbody>\n",
       "</table>\n",
       "</div>"
      ]
     },
     "execution_count": 30,
     "metadata": {},
     "output_type": "execute_result"
    }
   ],
   "execution_count": 30
  },
  {
   "metadata": {
    "ExecuteTime": {
     "end_time": "2025-08-30T12:46:44.193148Z",
     "start_time": "2025-08-30T12:46:44.184233Z"
    }
   },
   "cell_type": "code",
   "source": [
    "# 按日期中的年份分组\n",
    "df8 = df.groupby([df.时间.dt.year])[['语文','数学','英语']].sum()\n",
    "df8"
   ],
   "id": "337f577f59cb091c",
   "outputs": [
    {
     "data": {
      "text/plain": [
       "       语文   数学   英语\n",
       "时间                 \n",
       "2020  513  555  445"
      ],
      "text/html": [
       "<div>\n",
       "<style scoped>\n",
       "    .dataframe tbody tr th:only-of-type {\n",
       "        vertical-align: middle;\n",
       "    }\n",
       "\n",
       "    .dataframe tbody tr th {\n",
       "        vertical-align: top;\n",
       "    }\n",
       "\n",
       "    .dataframe thead th {\n",
       "        text-align: right;\n",
       "    }\n",
       "</style>\n",
       "<table border=\"1\" class=\"dataframe\">\n",
       "  <thead>\n",
       "    <tr style=\"text-align: right;\">\n",
       "      <th></th>\n",
       "      <th>语文</th>\n",
       "      <th>数学</th>\n",
       "      <th>英语</th>\n",
       "    </tr>\n",
       "    <tr>\n",
       "      <th>时间</th>\n",
       "      <th></th>\n",
       "      <th></th>\n",
       "      <th></th>\n",
       "    </tr>\n",
       "  </thead>\n",
       "  <tbody>\n",
       "    <tr>\n",
       "      <th>2020</th>\n",
       "      <td>513</td>\n",
       "      <td>555</td>\n",
       "      <td>445</td>\n",
       "    </tr>\n",
       "  </tbody>\n",
       "</table>\n",
       "</div>"
      ]
     },
     "execution_count": 31,
     "metadata": {},
     "output_type": "execute_result"
    }
   ],
   "execution_count": 31
  },
  {
   "metadata": {
    "ExecuteTime": {
     "end_time": "2025-08-30T12:47:47.684295Z",
     "start_time": "2025-08-30T12:47:47.674274Z"
    }
   },
   "cell_type": "code",
   "source": [
    "# 利用表格函数pipe直接使用分组方法\n",
    "df9 = df.pipe(pd.DataFrame.groupby,'班级')['语文'].sum()\n",
    "# 我們平時的寫法\n",
    "# df.groupby('班级')\n",
    "print(df9)"
   ],
   "id": "c0eac1219c7edec",
   "outputs": [
    {
     "name": "stdout",
     "output_type": "stream",
     "text": [
      "班级\n",
      "1班    152\n",
      "2班    105\n",
      "3班    138\n",
      "4班    118\n",
      "Name: 语文, dtype: int64\n"
     ]
    }
   ],
   "execution_count": 36
  },
  {
   "metadata": {
    "ExecuteTime": {
     "end_time": "2025-08-30T12:46:44.401991Z",
     "start_time": "2025-08-30T12:46:44.401991Z"
    }
   },
   "cell_type": "code",
   "source": "",
   "id": "14ae7a7ffaefa41d",
   "outputs": [],
   "execution_count": null
  }
 ],
 "metadata": {
  "kernelspec": {
   "display_name": "Python 3",
   "language": "python",
   "name": "python3"
  },
  "language_info": {
   "codemirror_mode": {
    "name": "ipython",
    "version": 2
   },
   "file_extension": ".py",
   "mimetype": "text/x-python",
   "name": "python",
   "nbconvert_exporter": "python",
   "pygments_lexer": "ipython2",
   "version": "2.7.6"
  }
 },
 "nbformat": 4,
 "nbformat_minor": 5
}
