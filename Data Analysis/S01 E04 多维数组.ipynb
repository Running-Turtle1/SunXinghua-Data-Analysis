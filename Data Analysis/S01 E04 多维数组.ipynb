{
 "cells": [
  {
   "cell_type": "code",
   "id": "initial_id",
   "metadata": {
    "collapsed": true,
    "ExecuteTime": {
     "end_time": "2025-08-24T07:41:10.190658Z",
     "start_time": "2025-08-24T07:41:09.943601Z"
    }
   },
   "source": "import numpy as np",
   "execution_count": 1,
   "outputs": []
  },
  {
   "metadata": {
    "ExecuteTime": {
     "end_time": "2025-08-24T07:43:12.787801Z",
     "start_time": "2025-08-24T07:43:12.778202Z"
    }
   },
   "cell_type": "code",
   "source": [
    "a = np.array([[1,2,3], [4,5,6]])\n",
    "a"
   ],
   "id": "799cb830830aa5ca",
   "execution_count": 3,
   "outputs": []
  },
  {
   "metadata": {
    "ExecuteTime": {
     "end_time": "2025-08-24T07:43:49.751468Z",
     "start_time": "2025-08-24T07:43:49.744924Z"
    }
   },
   "cell_type": "code",
   "source": "a.shape",
   "id": "3ed799a513d94281",
   "execution_count": 4,
   "outputs": []
  },
  {
   "metadata": {
    "ExecuteTime": {
     "end_time": "2025-08-24T07:43:53.103154Z",
     "start_time": "2025-08-24T07:43:53.097828Z"
    }
   },
   "cell_type": "code",
   "source": "a.ndim",
   "id": "e1acf3c7fb7ce501",
   "execution_count": 5,
   "outputs": []
  },
  {
   "metadata": {
    "ExecuteTime": {
     "end_time": "2025-08-24T07:43:54.939902Z",
     "start_time": "2025-08-24T07:43:54.933409Z"
    }
   },
   "cell_type": "code",
   "source": "a.size",
   "id": "ea5f3b054b37849e",
   "execution_count": 6,
   "outputs": []
  },
  {
   "metadata": {
    "ExecuteTime": {
     "end_time": "2025-08-24T07:44:01.227545Z",
     "start_time": "2025-08-24T07:44:01.220501Z"
    }
   },
   "cell_type": "code",
   "source": "a.dtype",
   "id": "e9da96e838e1325b",
   "execution_count": 7,
   "outputs": []
  },
  {
   "metadata": {
    "ExecuteTime": {
     "end_time": "2025-08-24T07:45:46.311268Z",
     "start_time": "2025-08-24T07:45:46.302629Z"
    }
   },
   "cell_type": "code",
   "source": [
    "b = a.reshape(6)\n",
    "b"
   ],
   "id": "6b863d9bac5b0a3c",
   "execution_count": 8,
   "outputs": []
  },
  {
   "metadata": {
    "ExecuteTime": {
     "end_time": "2025-08-24T07:45:58.338576Z",
     "start_time": "2025-08-24T07:45:58.330207Z"
    }
   },
   "cell_type": "code",
   "source": [
    "b = b.reshape((3, 2))\n",
    "b"
   ],
   "id": "8dc1d4b88aaeb2e8",
   "execution_count": 9,
   "outputs": []
  },
  {
   "metadata": {
    "ExecuteTime": {
     "end_time": "2025-08-24T07:46:18.644820Z",
     "start_time": "2025-08-24T07:46:18.637966Z"
    }
   },
   "cell_type": "code",
   "source": [
    "b = b.flatten()\n",
    "b"
   ],
   "id": "eaca2ca651de9f38",
   "execution_count": 11,
   "outputs": []
  },
  {
   "metadata": {
    "ExecuteTime": {
     "end_time": "2025-08-24T07:47:17.530023Z",
     "start_time": "2025-08-24T07:47:17.521102Z"
    }
   },
   "cell_type": "code",
   "source": [
    "a = np.zeros((2, 2))\n",
    "b = np.ones_like(a)\n",
    "a, b"
   ],
   "id": "bbe17a1ff39fef7c",
   "execution_count": 14,
   "outputs": []
  },
  {
   "metadata": {
    "ExecuteTime": {
     "end_time": "2025-08-24T07:47:20.800409Z",
     "start_time": "2025-08-24T07:47:20.792645Z"
    }
   },
   "cell_type": "code",
   "source": "a + b",
   "id": "164aca3af736ab04",
   "execution_count": 15,
   "outputs": []
  },
  {
   "metadata": {
    "ExecuteTime": {
     "end_time": "2025-08-24T07:47:22.797217Z",
     "start_time": "2025-08-24T07:47:22.789453Z"
    }
   },
   "cell_type": "code",
   "source": "a - b",
   "id": "bbca7c1377f8d6f9",
   "execution_count": 16,
   "outputs": []
  },
  {
   "metadata": {
    "ExecuteTime": {
     "end_time": "2025-08-24T07:47:25.033068Z",
     "start_time": "2025-08-24T07:47:25.025606Z"
    }
   },
   "cell_type": "code",
   "source": "a * b",
   "id": "ed6fc96bf47fd45d",
   "execution_count": 17,
   "outputs": []
  },
  {
   "metadata": {
    "ExecuteTime": {
     "end_time": "2025-08-24T07:47:30.085018Z",
     "start_time": "2025-08-24T07:47:30.077885Z"
    }
   },
   "cell_type": "code",
   "source": "a / b",
   "id": "bb3c7886834f6013",
   "execution_count": 18,
   "outputs": []
  },
  {
   "metadata": {},
   "cell_type": "markdown",
   "source": "广播机制",
   "id": "7ae1948ddb837d91"
  },
  {
   "metadata": {
    "ExecuteTime": {
     "end_time": "2025-08-24T08:22:18.726927Z",
     "start_time": "2025-08-24T08:22:18.718041Z"
    }
   },
   "cell_type": "code",
   "source": [
    "a = np.array([\n",
    "    [[1, 2], [3, 4]],\n",
    "    [[5, 6], [7, 8]],\n",
    "    [[-1, -2], [-3, -4]]\n",
    "])\n",
    "a.shape"
   ],
   "id": "75e447b5083d0cf2",
   "execution_count": 19,
   "outputs": []
  },
  {
   "metadata": {
    "ExecuteTime": {
     "end_time": "2025-08-24T08:23:44.811719Z",
     "start_time": "2025-08-24T08:23:44.805779Z"
    }
   },
   "cell_type": "code",
   "source": [
    "b = np.array([[1], [-1]])\n",
    "b.shape"
   ],
   "id": "8cb85b3f3eabd6ce",
   "execution_count": 25,
   "outputs": []
  },
  {
   "metadata": {
    "ExecuteTime": {
     "end_time": "2025-08-24T08:23:46.208300Z",
     "start_time": "2025-08-24T08:23:46.199088Z"
    }
   },
   "cell_type": "code",
   "source": "a + b",
   "id": "f54c1d72fb9171c5",
   "execution_count": 26,
   "outputs": []
  },
  {
   "metadata": {
    "ExecuteTime": {
     "end_time": "2025-08-24T08:24:03.209289Z",
     "start_time": "2025-08-24T08:24:03.196093Z"
    }
   },
   "cell_type": "code",
   "source": "a",
   "id": "38972d01d59f51ca",
   "execution_count": 27,
   "outputs": []
  }
 ],
 "metadata": {
  "kernelspec": {
   "display_name": "Python 3",
   "language": "python",
   "name": "python3"
  },
  "language_info": {
   "codemirror_mode": {
    "name": "ipython",
    "version": 2
   },
   "file_extension": ".py",
   "mimetype": "text/x-python",
   "name": "python",
   "nbconvert_exporter": "python",
   "pygments_lexer": "ipython2",
   "version": "2.7.6"
  }
 },
 "nbformat": 4,
 "nbformat_minor": 5
}
