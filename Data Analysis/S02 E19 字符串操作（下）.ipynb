{
 "cells": [
  {
   "metadata": {},
   "cell_type": "markdown",
   "source": "## 1 pad 填充字符",
   "id": "2ebe035a08195851"
  },
  {
   "metadata": {},
   "cell_type": "markdown",
   "source": "将长度不足的填充一些字符使其达到对应长度, 默认填在最左边的",
   "id": "403952c7b0f62360"
  },
  {
   "metadata": {
    "ExecuteTime": {
     "end_time": "2025-08-30T11:04:37.261646Z",
     "start_time": "2025-08-30T11:04:34.495635Z"
    }
   },
   "cell_type": "code",
   "source": [
    "import pandas as pd\n",
    "path = './Repo/字符串.xlsx'\n",
    "df = pd.read_excel(path)"
   ],
   "id": "a1596139830a929a",
   "execution_count": 2,
   "outputs": []
  },
  {
   "metadata": {
    "ExecuteTime": {
     "end_time": "2025-08-30T11:04:37.310036Z",
     "start_time": "2025-08-30T11:04:37.267627Z"
    }
   },
   "cell_type": "code",
   "source": "df",
   "id": "336446ec11e9e2af",
   "execution_count": 3,
   "outputs": []
  },
  {
   "metadata": {
    "ExecuteTime": {
     "end_time": "2025-08-30T11:05:06.772987Z",
     "start_time": "2025-08-30T11:05:06.761721Z"
    }
   },
   "cell_type": "code",
   "source": "df['姓名'] = df['姓名'].str.pad(5, fillchar = '&')",
   "id": "1442e709698b4e21",
   "execution_count": 4,
   "outputs": []
  },
  {
   "metadata": {
    "ExecuteTime": {
     "end_time": "2025-08-30T11:05:07.577372Z",
     "start_time": "2025-08-30T11:05:07.556043Z"
    }
   },
   "cell_type": "code",
   "source": "df",
   "id": "1cebd793b44cd00c",
   "execution_count": 5,
   "outputs": []
  },
  {
   "metadata": {
    "ExecuteTime": {
     "end_time": "2025-08-30T11:06:19.108043Z",
     "start_time": "2025-08-30T11:06:19.101113Z"
    }
   },
   "cell_type": "code",
   "source": "df['姓名'] = df['姓名'].str.pad(6, side = 'right', fillchar = 'r')",
   "id": "59405e7ac45d89f1",
   "execution_count": 6,
   "outputs": []
  },
  {
   "metadata": {
    "ExecuteTime": {
     "end_time": "2025-08-30T11:06:19.861859Z",
     "start_time": "2025-08-30T11:06:19.846770Z"
    }
   },
   "cell_type": "code",
   "source": "df",
   "id": "b81b14679ebb863c",
   "execution_count": 7,
   "outputs": []
  },
  {
   "metadata": {
    "ExecuteTime": {
     "end_time": "2025-08-30T11:07:32.742316Z",
     "start_time": "2025-08-30T11:07:32.734076Z"
    }
   },
   "cell_type": "code",
   "source": "df['年龄'] = df['年龄'].astype(str).str.pad(7, side = 'both', fillchar = 'x')",
   "id": "39fc8e84176cfb5c",
   "execution_count": 10,
   "outputs": []
  },
  {
   "metadata": {
    "ExecuteTime": {
     "end_time": "2025-08-30T11:07:33.647815Z",
     "start_time": "2025-08-30T11:07:33.631453Z"
    }
   },
   "cell_type": "code",
   "source": "df",
   "id": "472a7e02e6c91f57",
   "execution_count": 11,
   "outputs": []
  },
  {
   "metadata": {},
   "cell_type": "markdown",
   "source": "## 2 zfill",
   "id": "82c982eff862a159"
  },
  {
   "metadata": {
    "ExecuteTime": {
     "end_time": "2025-08-30T11:08:09.568232Z",
     "start_time": "2025-08-30T11:08:09.541757Z"
    }
   },
   "cell_type": "code",
   "source": "df = pd.read_excel(path)",
   "id": "887d177f71dab76a",
   "execution_count": 12,
   "outputs": []
  },
  {
   "metadata": {
    "ExecuteTime": {
     "end_time": "2025-08-30T11:08:10.473547Z",
     "start_time": "2025-08-30T11:08:10.454390Z"
    }
   },
   "cell_type": "code",
   "source": "df",
   "id": "1f1c9ad31a0a077",
   "execution_count": 13,
   "outputs": []
  },
  {
   "metadata": {
    "ExecuteTime": {
     "end_time": "2025-08-30T11:08:27.506668Z",
     "start_time": "2025-08-30T11:08:27.497067Z"
    }
   },
   "cell_type": "code",
   "source": "df['姓名'].str.zfill(5)",
   "id": "beb8b5deea09a85b",
   "execution_count": 15,
   "outputs": []
  },
  {
   "metadata": {},
   "cell_type": "markdown",
   "source": "这个函数默认从左边开始填, 并且只能填 0",
   "id": "30cfda97d83de8cf"
  },
  {
   "metadata": {},
   "cell_type": "markdown",
   "source": "## 3 encode/decode",
   "id": "aad8b24e8bd9f158"
  },
  {
   "metadata": {
    "ExecuteTime": {
     "end_time": "2025-08-30T11:09:11.670525Z",
     "start_time": "2025-08-30T11:09:11.651441Z"
    }
   },
   "cell_type": "code",
   "source": "df",
   "id": "c3749cba52c76269",
   "execution_count": 17,
   "outputs": []
  },
  {
   "metadata": {
    "ExecuteTime": {
     "end_time": "2025-08-30T11:10:16.675805Z",
     "start_time": "2025-08-30T11:10:16.670287Z"
    }
   },
   "cell_type": "code",
   "source": [
    "# df['姓名'].str.encoode('utf-8')\n",
    "# AttributeError: 'StringMethods' object has no attribute 'encoode'"
   ],
   "id": "762f1bb4a247a2b",
   "execution_count": 20,
   "outputs": []
  },
  {
   "metadata": {},
   "cell_type": "markdown",
   "source": "本身放这么个函数也没有必要",
   "id": "194a3dc9d3c7ebdc"
  },
  {
   "metadata": {},
   "cell_type": "markdown",
   "source": [
    "## 4 strip \n",
    "- lstrip\n",
    "- rstrip"
   ],
   "id": "b50def6933699d7f"
  },
  {
   "metadata": {
    "ExecuteTime": {
     "end_time": "2025-08-30T11:11:34.634598Z",
     "start_time": "2025-08-30T11:11:34.627686Z"
    }
   },
   "cell_type": "code",
   "source": "\"  awdawd  awdawd \\n \\n aad \\n \\n  \".strip()",
   "id": "dd898e87ce2dfd3f",
   "execution_count": 22,
   "outputs": []
  },
  {
   "metadata": {},
   "cell_type": "markdown",
   "source": "`strip` 还能传指定删除的字符集",
   "id": "f631abe82e9032a3"
  },
  {
   "metadata": {
    "ExecuteTime": {
     "end_time": "2025-08-30T11:13:35.812042Z",
     "start_time": "2025-08-30T11:13:35.803561Z"
    }
   },
   "cell_type": "code",
   "source": "\"aa bb \\n \\n adawd awd aw dawd x \\nbbbbb\".strip(\"ab \\n\")",
   "id": "7b866b8c666ac77e",
   "execution_count": 25,
   "outputs": []
  },
  {
   "metadata": {},
   "cell_type": "markdown",
   "source": "## 5 get_dummies",
   "id": "f34efe4f819af22d"
  },
  {
   "metadata": {},
   "cell_type": "markdown",
   "source": "作用, 将字符串类似于 `split` 进行分割, 分隔之后的在进行 one-hot encoding",
   "id": "9636b40d0ca406a9"
  },
  {
   "metadata": {
    "ExecuteTime": {
     "end_time": "2025-08-30T11:18:14.278476Z",
     "start_time": "2025-08-30T11:18:14.272910Z"
    }
   },
   "cell_type": "code",
   "source": "path = './Repo/字符串.xlsx'",
   "id": "2a0143264a8c24ab",
   "execution_count": 27,
   "outputs": []
  },
  {
   "metadata": {
    "ExecuteTime": {
     "end_time": "2025-08-30T11:18:29.232444Z",
     "start_time": "2025-08-30T11:18:29.208478Z"
    }
   },
   "cell_type": "code",
   "source": "df = pd.read_excel(path)",
   "id": "6edb623fcb21825e",
   "execution_count": 28,
   "outputs": []
  },
  {
   "metadata": {
    "ExecuteTime": {
     "end_time": "2025-08-30T11:19:03.437867Z",
     "start_time": "2025-08-30T11:19:03.433620Z"
    }
   },
   "cell_type": "code",
   "source": "df = df['里程']",
   "id": "e1df42f2b1a9710c",
   "execution_count": 32,
   "outputs": []
  },
  {
   "metadata": {
    "ExecuteTime": {
     "end_time": "2025-08-30T11:19:05.343945Z",
     "start_time": "2025-08-30T11:19:05.335368Z"
    }
   },
   "cell_type": "code",
   "source": "df",
   "id": "abfbdbc7491db716",
   "execution_count": 33,
   "outputs": []
  },
  {
   "metadata": {
    "ExecuteTime": {
     "end_time": "2025-08-30T11:19:20.577008Z",
     "start_time": "2025-08-30T11:19:20.561765Z"
    }
   },
   "cell_type": "code",
   "source": "df.str.get_dummies('距')",
   "id": "be351defb24af979",
   "execution_count": 34,
   "outputs": []
  },
  {
   "metadata": {},
   "cell_type": "markdown",
   "source": "## 6 translate",
   "id": "f63c922a14235ee7"
  },
  {
   "metadata": {
    "ExecuteTime": {
     "end_time": "2025-08-30T11:20:43.868207Z",
     "start_time": "2025-08-30T11:20:43.844363Z"
    }
   },
   "cell_type": "code",
   "source": [
    "import pandas as pd\n",
    "路径 = path\n",
    "数据 = pd.read_excel(路径)\n",
    "字典 = str.maketrans({'距':'ju','离':'li'})\n",
    "print(数据['里程'].str.translate(字典))"
   ],
   "id": "a57be80103cfd463",
   "execution_count": 36,
   "outputs": []
  },
  {
   "metadata": {},
   "cell_type": "markdown",
   "source": "## 7 find 函数",
   "id": "b604c24677470b9f"
  },
  {
   "metadata": {
    "ExecuteTime": {
     "end_time": "2025-08-30T11:22:33.478203Z",
     "start_time": "2025-08-30T11:22:33.453597Z"
    }
   },
   "cell_type": "code",
   "source": [
    "import pandas as pd\n",
    "数据 = pd.read_excel(path)\n",
    "print(数据[\"日期\"].astype('str').str.find(\"-\"))\n",
    "# 当然可以指定范围,包括起始和结束\n",
    "print(数据[\"日期\"].astype('str').str.find(\"-\", 5))\n",
    "print(数据[\"日期\"].astype('str').str.find(\"我\")) #找不到返回-1"
   ],
   "id": "6ed86747364f03",
   "execution_count": 39,
   "outputs": []
  },
  {
   "metadata": {},
   "cell_type": "markdown",
   "source": "## 8 字母大小写",
   "id": "f7287b8edeb38a03"
  },
  {
   "metadata": {},
   "cell_type": "markdown",
   "source": [
    "- df.str.lower() 所有转小写\n",
    "- df.str.upper() 所有转大写\n",
    "- df.str.title() 所有首字母大写\n",
    "- df.str.capitalize() 第一个字母大写\n",
    "- df.str.swapcase() 大小写交换"
   ],
   "id": "e60e9262ff8ead44"
  },
  {
   "metadata": {},
   "cell_type": "markdown",
   "source": "## 9 判断",
   "id": "22bfb23930a4439b"
  },
  {
   "metadata": {},
   "cell_type": "markdown",
   "source": [
    "- df.str.isalpha() 是否全部是字母\n",
    "- df.str.isnumeric() 是否全部是数字\n",
    "- df.str.isalnum() 是否全部是字母/数字\n",
    "- .....\n",
    "\n",
    "实际全部手写就行了, 记这些唐函数意义不大"
   ],
   "id": "1bdfa350a7a6427b"
  }
 ],
 "metadata": {
  "kernelspec": {
   "display_name": "Python 3",
   "language": "python",
   "name": "python3"
  },
  "language_info": {
   "codemirror_mode": {
    "name": "ipython",
    "version": 2
   },
   "file_extension": ".py",
   "mimetype": "text/x-python",
   "name": "python",
   "nbconvert_exporter": "python",
   "pygments_lexer": "ipython2",
   "version": "2.7.6"
  }
 },
 "nbformat": 4,
 "nbformat_minor": 5
}
