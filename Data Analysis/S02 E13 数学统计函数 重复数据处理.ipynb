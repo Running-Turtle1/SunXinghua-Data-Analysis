{
 "cells": [
  {
   "metadata": {},
   "cell_type": "markdown",
   "source": "## describe 函数",
   "id": "7c336b95b3f73c89"
  },
  {
   "metadata": {},
   "cell_type": "markdown",
   "source": [
    "- df.describe() 产看数据列的汇总统计\n",
    "- df.mean()\n",
    "- df.corr() 返回列与列之间的相关系数\n",
    "- df.count() 返回每一列中的非空值的个数\n",
    "- df.max() df.min() df.median() df.std()"
   ],
   "id": "6aa95ef0d3c54bb3"
  },
  {
   "metadata": {
    "ExecuteTime": {
     "end_time": "2025-08-28T07:47:52.251517Z",
     "start_time": "2025-08-28T07:47:52.245223Z"
    }
   },
   "cell_type": "code",
   "source": "import pandas as pd",
   "id": "fa586809223a724e",
   "execution_count": 2,
   "outputs": []
  },
  {
   "metadata": {
    "ExecuteTime": {
     "end_time": "2025-08-28T07:48:02.512042Z",
     "start_time": "2025-08-28T07:48:02.507044Z"
    }
   },
   "cell_type": "code",
   "source": "path = './Repo/数据统计.xlsx'",
   "id": "bc81e5759fc804bb",
   "execution_count": 3,
   "outputs": []
  },
  {
   "metadata": {
    "ExecuteTime": {
     "end_time": "2025-08-28T07:48:13.736971Z",
     "start_time": "2025-08-28T07:48:13.220870Z"
    }
   },
   "cell_type": "code",
   "source": "df = pd.read_excel(path, index_col = '序号')",
   "id": "8b5cfb4ffbc2a0ea",
   "execution_count": 4,
   "outputs": []
  },
  {
   "metadata": {
    "ExecuteTime": {
     "end_time": "2025-08-28T07:48:13.824077Z",
     "start_time": "2025-08-28T07:48:13.806173Z"
    }
   },
   "cell_type": "code",
   "source": "df",
   "id": "945f94852c4d91ef",
   "execution_count": 5,
   "outputs": []
  },
  {
   "metadata": {
    "ExecuteTime": {
     "end_time": "2025-08-28T07:48:21.809151Z",
     "start_time": "2025-08-28T07:48:21.792273Z"
    }
   },
   "cell_type": "code",
   "source": "df.describe()",
   "id": "5bb6c6a4a09a3248",
   "execution_count": 6,
   "outputs": []
  },
  {
   "metadata": {},
   "cell_type": "markdown",
   "source": "## 重复数据处理",
   "id": "7894f227b9ebdcb4"
  },
  {
   "metadata": {
    "ExecuteTime": {
     "end_time": "2025-08-28T07:49:37.871193Z",
     "start_time": "2025-08-28T07:49:37.850699Z"
    }
   },
   "cell_type": "code",
   "source": [
    "path2 = './Repo/去重.xlsx'\n",
    "df2 = pd.read_excel(path2, index_col = '序号')"
   ],
   "id": "37cf1d22bb468e7",
   "execution_count": 7,
   "outputs": []
  },
  {
   "metadata": {
    "ExecuteTime": {
     "end_time": "2025-08-28T07:52:10.988802Z",
     "start_time": "2025-08-28T07:52:10.982827Z"
    }
   },
   "cell_type": "code",
   "source": "df2['姓名']",
   "id": "2f2b6b6f8707605b",
   "execution_count": 15,
   "outputs": []
  },
  {
   "metadata": {
    "ExecuteTime": {
     "end_time": "2025-08-28T07:52:15.543305Z",
     "start_time": "2025-08-28T07:52:15.533445Z"
    }
   },
   "cell_type": "code",
   "source": "df2['姓名'].unique()",
   "id": "59904c8b7e784b83",
   "execution_count": 16,
   "outputs": []
  },
  {
   "metadata": {
    "ExecuteTime": {
     "end_time": "2025-08-28T07:52:18.321560Z",
     "start_time": "2025-08-28T07:52:18.310089Z"
    }
   },
   "cell_type": "code",
   "source": "df2['姓名'].value_counts()",
   "id": "c9f3a47bc4ddd665",
   "execution_count": 17,
   "outputs": []
  },
  {
   "metadata": {},
   "cell_type": "markdown",
   "source": [
    "keep 表示对于重复值的处理方法\n",
    "\n",
    "- first 保留第一次出现的值\n",
    "- last 保留最后一次出现的值\n",
    "- False 删除所有重复值，留下没有出现过重复的"
   ],
   "id": "c6d963434f52cc5b"
  },
  {
   "metadata": {
    "ExecuteTime": {
     "end_time": "2025-08-28T07:52:22.694715Z",
     "start_time": "2025-08-28T07:52:22.682716Z"
    }
   },
   "cell_type": "code",
   "source": "df2.drop_duplicates(subset = '姓名', keep = 'first')",
   "id": "f56f41a3c98af82f",
   "execution_count": 18,
   "outputs": []
  },
  {
   "metadata": {
    "ExecuteTime": {
     "end_time": "2025-08-28T07:52:25.331498Z",
     "start_time": "2025-08-28T07:52:25.318485Z"
    }
   },
   "cell_type": "code",
   "source": "df2",
   "id": "9325b8cdf97918a7",
   "execution_count": 19,
   "outputs": []
  },
  {
   "metadata": {
    "ExecuteTime": {
     "end_time": "2025-08-28T07:53:03.271249Z",
     "start_time": "2025-08-28T07:53:03.261767Z"
    }
   },
   "cell_type": "code",
   "source": "df2.duplicated(subset = '姓名')",
   "id": "cd5b483236f1309e",
   "execution_count": 20,
   "outputs": []
  },
  {
   "metadata": {
    "ExecuteTime": {
     "end_time": "2025-08-28T07:53:19.598321Z",
     "start_time": "2025-08-28T07:53:19.584341Z"
    }
   },
   "cell_type": "code",
   "source": "df2[df2.duplicated(subset = '姓名')]",
   "id": "30dc828b17f8b7d1",
   "execution_count": 21,
   "outputs": []
  },
  {
   "metadata": {},
   "cell_type": "code",
   "execution_count": null,
   "source": "",
   "id": "36714aa643e5ba9e",
   "outputs": []
  }
 ],
 "metadata": {
  "kernelspec": {
   "display_name": "Python 3",
   "language": "python",
   "name": "python3"
  },
  "language_info": {
   "codemirror_mode": {
    "name": "ipython",
    "version": 2
   },
   "file_extension": ".py",
   "mimetype": "text/x-python",
   "name": "python",
   "nbconvert_exporter": "python",
   "pygments_lexer": "ipython2",
   "version": "2.7.6"
  }
 },
 "nbformat": 4,
 "nbformat_minor": 5
}
