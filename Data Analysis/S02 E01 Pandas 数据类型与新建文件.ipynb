{
 "cells": [
  {
   "cell_type": "code",
   "id": "initial_id",
   "metadata": {
    "collapsed": true,
    "ExecuteTime": {
     "end_time": "2025-08-27T01:53:31.794811Z",
     "start_time": "2025-08-27T01:53:31.789682Z"
    }
   },
   "source": [
    "import xlrd\n",
    "import pandas as pd"
   ],
   "execution_count": 11,
   "outputs": []
  },
  {
   "metadata": {},
   "cell_type": "markdown",
   "source": "## 1 新建空白文件",
   "id": "6df08d4dc2254dfa"
  },
  {
   "metadata": {
    "ExecuteTime": {
     "end_time": "2025-08-27T01:53:31.886222Z",
     "start_time": "2025-08-27T01:53:31.881992Z"
    }
   },
   "cell_type": "code",
   "source": "path = './File/EmptyFile.xlsx'",
   "id": "64b8602f2bee175c",
   "execution_count": 12,
   "outputs": []
  },
  {
   "metadata": {
    "ExecuteTime": {
     "end_time": "2025-08-27T01:53:31.923330Z",
     "start_time": "2025-08-27T01:53:31.895235Z"
    }
   },
   "cell_type": "code",
   "source": [
    "data = pd.DataFrame()\n",
    "data.to_excel(path)"
   ],
   "id": "fd5f310906ea023f",
   "execution_count": 13,
   "outputs": []
  },
  {
   "metadata": {},
   "cell_type": "markdown",
   "source": "## 2 新建文件同时写入数据",
   "id": "7791776c04d880c2"
  },
  {
   "metadata": {
    "ExecuteTime": {
     "end_time": "2025-08-27T01:53:31.932147Z",
     "start_time": "2025-08-27T01:53:31.926878Z"
    }
   },
   "cell_type": "code",
   "source": [
    "data = pd.DataFrame({\n",
    "    'id': [1, 2, 3],\n",
    "    'name': ['Bob', 'Alice', 'John']\n",
    "    }\n",
    ")"
   ],
   "id": "ba80ba560d0035f9",
   "execution_count": 14,
   "outputs": []
  },
  {
   "metadata": {
    "ExecuteTime": {
     "end_time": "2025-08-27T01:53:31.978284Z",
     "start_time": "2025-08-27T01:53:31.956863Z"
    }
   },
   "cell_type": "code",
   "source": [
    "path = './File/File1.xlsx'\n",
    "data.to_excel(path)"
   ],
   "id": "e0b800d8c26ce052",
   "execution_count": 15,
   "outputs": []
  },
  {
   "metadata": {
    "ExecuteTime": {
     "end_time": "2025-08-27T01:53:31.992993Z",
     "start_time": "2025-08-27T01:53:31.981305Z"
    }
   },
   "cell_type": "code",
   "source": "data",
   "id": "a1abc59c60f015ec",
   "execution_count": 16,
   "outputs": []
  },
  {
   "metadata": {},
   "cell_type": "markdown",
   "source": "## 3 将 id 设置为索引",
   "id": "5f7dcee62ff5f0b0"
  },
  {
   "metadata": {
    "ExecuteTime": {
     "end_time": "2025-08-27T01:53:32.025069Z",
     "start_time": "2025-08-27T01:53:31.996006Z"
    }
   },
   "cell_type": "code",
   "source": [
    "data = pd.DataFrame({\n",
    "    'id': [1, 2, 3],\n",
    "    'name': ['wpc', 'Alice', 'John']\n",
    "    }\n",
    ")\n",
    "data = data.set_index('id')\n",
    "path = './File/File2.xlsx'\n",
    "data.to_excel(path)"
   ],
   "id": "229e6f21d690d066",
   "execution_count": 17,
   "outputs": []
  },
  {
   "metadata": {
    "ExecuteTime": {
     "end_time": "2025-08-27T01:53:32.039232Z",
     "start_time": "2025-08-27T01:53:32.028083Z"
    }
   },
   "cell_type": "code",
   "source": "data",
   "id": "d94dcb314afe1ac7",
   "execution_count": 18,
   "outputs": []
  }
 ],
 "metadata": {
  "kernelspec": {
   "display_name": "Python 3",
   "language": "python",
   "name": "python3"
  },
  "language_info": {
   "codemirror_mode": {
    "name": "ipython",
    "version": 2
   },
   "file_extension": ".py",
   "mimetype": "text/x-python",
   "name": "python",
   "nbconvert_exporter": "python",
   "pygments_lexer": "ipython2",
   "version": "2.7.6"
  }
 },
 "nbformat": 4,
 "nbformat_minor": 5
}
