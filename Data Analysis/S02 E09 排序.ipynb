{
 "cells": [
  {
   "cell_type": "code",
   "id": "initial_id",
   "metadata": {
    "collapsed": true,
    "ExecuteTime": {
     "end_time": "2025-08-28T02:11:09.965024Z",
     "start_time": "2025-08-28T02:11:08.805135Z"
    }
   },
   "source": "import pandas as pd",
   "execution_count": 1,
   "outputs": []
  },
  {
   "metadata": {
    "ExecuteTime": {
     "end_time": "2025-08-28T02:11:21.681180Z",
     "start_time": "2025-08-28T02:11:21.674179Z"
    }
   },
   "cell_type": "code",
   "source": "path1 = './Repo/排序.xlsx'",
   "id": "f2107be181d42f8e",
   "execution_count": 2,
   "outputs": []
  },
  {
   "metadata": {
    "ExecuteTime": {
     "end_time": "2025-08-28T02:11:31.911616Z",
     "start_time": "2025-08-28T02:11:31.391505Z"
    }
   },
   "cell_type": "code",
   "source": [
    "df1 = pd.read_excel(path1)\n",
    "df1"
   ],
   "id": "9afab781d4c059e",
   "execution_count": 3,
   "outputs": []
  },
  {
   "metadata": {
    "ExecuteTime": {
     "end_time": "2025-08-28T02:12:14.671576Z",
     "start_time": "2025-08-28T02:12:14.663580Z"
    }
   },
   "cell_type": "code",
   "source": "df1.sort_values(by = '语文', inplace = True, ascending = False)",
   "id": "1c668d137e657759",
   "execution_count": 4,
   "outputs": []
  },
  {
   "metadata": {
    "ExecuteTime": {
     "end_time": "2025-08-28T02:12:15.983071Z",
     "start_time": "2025-08-28T02:12:15.969153Z"
    }
   },
   "cell_type": "code",
   "source": "df1",
   "id": "39616d052151dc58",
   "execution_count": 5,
   "outputs": []
  },
  {
   "metadata": {
    "ExecuteTime": {
     "end_time": "2025-08-28T02:12:44.667793Z",
     "start_time": "2025-08-28T02:12:44.653375Z"
    }
   },
   "cell_type": "code",
   "source": "df1.sort_values(by=['语文','数学','英语'],inplace=True,ascending=[False,True,False])",
   "id": "6bb9d48b1a3effe5",
   "execution_count": 6,
   "outputs": []
  },
  {
   "metadata": {
    "ExecuteTime": {
     "end_time": "2025-08-28T02:12:45.977742Z",
     "start_time": "2025-08-28T02:12:45.963715Z"
    }
   },
   "cell_type": "code",
   "source": "df1",
   "id": "357eda194e5c00d6",
   "execution_count": 7,
   "outputs": []
  },
  {
   "metadata": {
    "ExecuteTime": {
     "end_time": "2025-08-28T02:13:46.612131Z",
     "start_time": "2025-08-28T02:13:46.588099Z"
    }
   },
   "cell_type": "code",
   "source": [
    "df2 = pd.read_excel(path1, index_col = '序号')\n",
    "df2.sort_index(inplace = True)\n",
    "df2"
   ],
   "id": "c35b083c382227da",
   "execution_count": 11,
   "outputs": []
  },
  {
   "metadata": {
    "ExecuteTime": {
     "end_time": "2025-08-28T02:14:49.221467Z",
     "start_time": "2025-08-28T02:14:49.198941Z"
    }
   },
   "cell_type": "code",
   "source": [
    "path2 = './Repo/排序进阶.xlsx'\n",
    "df3 = pd.read_excel(path2)"
   ],
   "id": "33e911e6e2f9f428",
   "execution_count": 12,
   "outputs": []
  },
  {
   "metadata": {
    "ExecuteTime": {
     "end_time": "2025-08-28T02:14:50.771853Z",
     "start_time": "2025-08-28T02:14:50.760223Z"
    }
   },
   "cell_type": "code",
   "source": "df3",
   "id": "2467d78210ac2fc1",
   "execution_count": 13,
   "outputs": []
  },
  {
   "metadata": {
    "ExecuteTime": {
     "end_time": "2025-08-28T02:15:12.676092Z",
     "start_time": "2025-08-28T02:15:12.664078Z"
    }
   },
   "cell_type": "code",
   "source": [
    "df3.sort_values(by = 'a', inplace = True, ascending = False)\n",
    "df3"
   ],
   "id": "576e9e904a72ad2c",
   "execution_count": 14,
   "outputs": []
  },
  {
   "metadata": {
    "ExecuteTime": {
     "end_time": "2025-08-28T02:15:38.784092Z",
     "start_time": "2025-08-28T02:15:38.774095Z"
    }
   },
   "cell_type": "code",
   "source": "df3.sort_values(by = 1, inplace = True, ascending = False, axis = 1)",
   "id": "6ddd8e6806af8929",
   "execution_count": 15,
   "outputs": []
  },
  {
   "metadata": {
    "ExecuteTime": {
     "end_time": "2025-08-28T02:15:40.119214Z",
     "start_time": "2025-08-28T02:15:40.104197Z"
    }
   },
   "cell_type": "code",
   "source": "df3",
   "id": "65142508e18132a2",
   "execution_count": 16,
   "outputs": []
  },
  {
   "metadata": {},
   "cell_type": "code",
   "execution_count": null,
   "source": "",
   "id": "935da3b0c1424603",
   "outputs": []
  }
 ],
 "metadata": {
  "kernelspec": {
   "display_name": "Python 3",
   "language": "python",
   "name": "python3"
  },
  "language_info": {
   "codemirror_mode": {
    "name": "ipython",
    "version": 2
   },
   "file_extension": ".py",
   "mimetype": "text/x-python",
   "name": "python",
   "nbconvert_exporter": "python",
   "pygments_lexer": "ipython2",
   "version": "2.7.6"
  }
 },
 "nbformat": 4,
 "nbformat_minor": 5
}
