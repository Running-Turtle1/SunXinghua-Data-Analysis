{
 "cells": [
  {
   "metadata": {},
   "cell_type": "markdown",
   "source": "# Series",
   "id": "2e499e3d7a6fc3d2"
  },
  {
   "cell_type": "code",
   "id": "initial_id",
   "metadata": {
    "collapsed": true,
    "ExecuteTime": {
     "end_time": "2025-08-27T03:35:03.520921Z",
     "start_time": "2025-08-27T03:35:03.517338Z"
    }
   },
   "source": "import pandas as pd",
   "outputs": [],
   "execution_count": 67
  },
  {
   "metadata": {
    "ExecuteTime": {
     "end_time": "2025-08-27T03:35:03.664253Z",
     "start_time": "2025-08-27T03:35:03.658198Z"
    }
   },
   "cell_type": "code",
   "source": [
    "data = pd.Series([\n",
    "    520, '孙兴华',\n",
    "    1314, '2020-07-30'\n",
    "])"
   ],
   "id": "525b82f106715f09",
   "outputs": [],
   "execution_count": 68
  },
  {
   "metadata": {
    "ExecuteTime": {
     "end_time": "2025-08-27T03:35:03.721220Z",
     "start_time": "2025-08-27T03:35:03.704570Z"
    }
   },
   "cell_type": "code",
   "source": "data",
   "id": "ca15d68b2bf087c3",
   "outputs": [
    {
     "data": {
      "text/plain": [
       "0           520\n",
       "1           孙兴华\n",
       "2          1314\n",
       "3    2020-07-30\n",
       "dtype: object"
      ]
     },
     "execution_count": 69,
     "metadata": {},
     "output_type": "execute_result"
    }
   ],
   "execution_count": 69
  },
  {
   "metadata": {
    "ExecuteTime": {
     "end_time": "2025-08-27T03:35:03.788834Z",
     "start_time": "2025-08-27T03:35:03.783861Z"
    }
   },
   "cell_type": "code",
   "source": "data.index # 返回索引的 (起始值, 终止值, 步长)",
   "id": "40bb86a258e8be63",
   "outputs": [
    {
     "data": {
      "text/plain": [
       "RangeIndex(start=0, stop=4, step=1)"
      ]
     },
     "execution_count": 70,
     "metadata": {},
     "output_type": "execute_result"
    }
   ],
   "execution_count": 70
  },
  {
   "metadata": {
    "ExecuteTime": {
     "end_time": "2025-08-27T03:35:03.803914Z",
     "start_time": "2025-08-27T03:35:03.794415Z"
    }
   },
   "cell_type": "code",
   "source": "data.values # 返回zhi序列",
   "id": "af30088c5f9642d",
   "outputs": [
    {
     "data": {
      "text/plain": [
       "array([520, '孙兴华', 1314, '2020-07-30'], dtype=object)"
      ]
     },
     "execution_count": 71,
     "metadata": {},
     "output_type": "execute_result"
    }
   ],
   "execution_count": 71
  },
  {
   "metadata": {},
   "cell_type": "markdown",
   "source": "## 指定 Series 的索引",
   "id": "c293534c8bc79fcf"
  },
  {
   "metadata": {
    "ExecuteTime": {
     "end_time": "2025-08-27T03:35:03.815862Z",
     "start_time": "2025-08-27T03:35:03.810462Z"
    }
   },
   "cell_type": "code",
   "source": [
    "ds = pd.Series(\n",
    "    [520, '孙兴华', 1314, '2020-07-30'],\n",
    "    index = ['a', 'b', 'c', 'd']\n",
    ")"
   ],
   "id": "bb58e863650bca59",
   "outputs": [],
   "execution_count": 72
  },
  {
   "metadata": {
    "ExecuteTime": {
     "end_time": "2025-08-27T03:35:03.859570Z",
     "start_time": "2025-08-27T03:35:03.854861Z"
    }
   },
   "cell_type": "code",
   "source": "ds",
   "id": "a08a1f76a6354d76",
   "outputs": [
    {
     "data": {
      "text/plain": [
       "a           520\n",
       "b           孙兴华\n",
       "c          1314\n",
       "d    2020-07-30\n",
       "dtype: object"
      ]
     },
     "execution_count": 73,
     "metadata": {},
     "output_type": "execute_result"
    }
   ],
   "execution_count": 73
  },
  {
   "metadata": {},
   "cell_type": "markdown",
   "source": "常用方法: 使用 Series 创建字典",
   "id": "e25bd232632aae50"
  },
  {
   "metadata": {
    "ExecuteTime": {
     "end_time": "2025-08-27T03:35:03.874711Z",
     "start_time": "2025-08-27T03:35:03.862283Z"
    }
   },
   "cell_type": "code",
   "source": [
    "dict = {\n",
    "    '姓名': '魏鹏超',\n",
    "    '性别': 'male',\n",
    "    '年龄': 20,\n",
    "    '地址': '水帘洞'\n",
    "}"
   ],
   "id": "8830251233960df0",
   "outputs": [],
   "execution_count": 74
  },
  {
   "metadata": {
    "ExecuteTime": {
     "end_time": "2025-08-27T03:35:03.886461Z",
     "start_time": "2025-08-27T03:35:03.877225Z"
    }
   },
   "cell_type": "code",
   "source": [
    "ds = pd.Series(dict)\n",
    "ds"
   ],
   "id": "f866b2a5bf6f429e",
   "outputs": [
    {
     "data": {
      "text/plain": [
       "姓名     魏鹏超\n",
       "性别    male\n",
       "年龄      20\n",
       "地址     水帘洞\n",
       "dtype: object"
      ]
     },
     "execution_count": 75,
     "metadata": {},
     "output_type": "execute_result"
    }
   ],
   "execution_count": 75
  },
  {
   "metadata": {
    "ExecuteTime": {
     "end_time": "2025-08-27T03:35:03.919293Z",
     "start_time": "2025-08-27T03:35:03.912537Z"
    }
   },
   "cell_type": "code",
   "source": "ds.index # 返回 key",
   "id": "8c94f73dcefc8399",
   "outputs": [
    {
     "data": {
      "text/plain": [
       "Index(['姓名', '性别', '年龄', '地址'], dtype='object')"
      ]
     },
     "execution_count": 76,
     "metadata": {},
     "output_type": "execute_result"
    }
   ],
   "execution_count": 76
  },
  {
   "metadata": {},
   "cell_type": "markdown",
   "source": "根据标签索引查询数据",
   "id": "9eefe947bb5fe602"
  },
  {
   "metadata": {
    "ExecuteTime": {
     "end_time": "2025-08-27T03:35:03.933340Z",
     "start_time": "2025-08-27T03:35:03.926847Z"
    }
   },
   "cell_type": "code",
   "source": "ds",
   "id": "83e6e5c989a7a003",
   "outputs": [
    {
     "data": {
      "text/plain": [
       "姓名     魏鹏超\n",
       "性别    male\n",
       "年龄      20\n",
       "地址     水帘洞\n",
       "dtype: object"
      ]
     },
     "execution_count": 77,
     "metadata": {},
     "output_type": "execute_result"
    }
   ],
   "execution_count": 77
  },
  {
   "metadata": {
    "ExecuteTime": {
     "end_time": "2025-08-27T03:35:03.945514Z",
     "start_time": "2025-08-27T03:35:03.933340Z"
    }
   },
   "cell_type": "code",
   "source": "ds['姓名']",
   "id": "682582c33bbc45ef",
   "outputs": [
    {
     "data": {
      "text/plain": [
       "'魏鹏超'"
      ]
     },
     "execution_count": 78,
     "metadata": {},
     "output_type": "execute_result"
    }
   ],
   "execution_count": 78
  },
  {
   "metadata": {
    "ExecuteTime": {
     "end_time": "2025-08-27T03:35:03.960273Z",
     "start_time": "2025-08-27T03:35:03.945514Z"
    }
   },
   "cell_type": "code",
   "source": "ds['年龄']",
   "id": "ce99f05417a45cd2",
   "outputs": [
    {
     "data": {
      "text/plain": [
       "20"
      ]
     },
     "execution_count": 79,
     "metadata": {},
     "output_type": "execute_result"
    }
   ],
   "execution_count": 79
  },
  {
   "metadata": {
    "ExecuteTime": {
     "end_time": "2025-08-27T03:35:04.003637Z",
     "start_time": "2025-08-27T03:35:03.985Z"
    }
   },
   "cell_type": "code",
   "source": "ds[['姓名', '年龄']]",
   "id": "217c29e4ce999bc3",
   "outputs": [
    {
     "data": {
      "text/plain": [
       "姓名    魏鹏超\n",
       "年龄     20\n",
       "dtype: object"
      ]
     },
     "execution_count": 80,
     "metadata": {},
     "output_type": "execute_result"
    }
   ],
   "execution_count": 80
  },
  {
   "metadata": {
    "ExecuteTime": {
     "end_time": "2025-08-27T03:35:04.018538Z",
     "start_time": "2025-08-27T03:35:04.004674Z"
    }
   },
   "cell_type": "code",
   "source": "type[ds[['姓名', '年龄']]]",
   "id": "cca7ce51c36df867",
   "outputs": [
    {
     "data": {
      "text/plain": [
       "type[姓名    魏鹏超\n",
       "年龄     20\n",
       "dtype: object]"
      ]
     },
     "execution_count": 81,
     "metadata": {},
     "output_type": "execute_result"
    }
   ],
   "execution_count": 81
  },
  {
   "metadata": {},
   "cell_type": "markdown",
   "source": "键和值存在两个列表中，创建Series",
   "id": "7441dc672782d97f"
  },
  {
   "metadata": {
    "ExecuteTime": {
     "end_time": "2025-08-27T03:35:04.026978Z",
     "start_time": "2025-08-27T03:35:04.018538Z"
    }
   },
   "cell_type": "code",
   "source": [
    "list1 = ['姓名', '性别', '年龄']\n",
    "list2 = ['孙兴华', '男', 20]\n",
    "ds = pd.Series(index = list1, data = list2)"
   ],
   "id": "a0b5bdf1f74e499e",
   "outputs": [],
   "execution_count": 82
  },
  {
   "metadata": {
    "ExecuteTime": {
     "end_time": "2025-08-27T03:35:04.041136Z",
     "start_time": "2025-08-27T03:35:04.032506Z"
    }
   },
   "cell_type": "code",
   "source": "ds",
   "id": "c4f72fc9a206162f",
   "outputs": [
    {
     "data": {
      "text/plain": [
       "姓名    孙兴华\n",
       "性别      男\n",
       "年龄     20\n",
       "dtype: object"
      ]
     },
     "execution_count": 83,
     "metadata": {},
     "output_type": "execute_result"
    }
   ],
   "execution_count": 83
  },
  {
   "metadata": {},
   "cell_type": "markdown",
   "source": "常用方法",
   "id": "60c3fcef341ed511"
  },
  {
   "metadata": {
    "ExecuteTime": {
     "end_time": "2025-08-27T03:35:04.068472Z",
     "start_time": "2025-08-27T03:35:04.043845Z"
    }
   },
   "cell_type": "code",
   "source": "ds = pd.read_excel('./Repo/数据结构.xlsx', header = None, names = ['序号', '姓名', '年龄', '手机', '地址', '入职日期'], index_col = '序号')",
   "id": "349536a4bc859c6c",
   "outputs": [],
   "execution_count": 84
  },
  {
   "metadata": {
    "ExecuteTime": {
     "end_time": "2025-08-27T03:35:04.086227Z",
     "start_time": "2025-08-27T03:35:04.075004Z"
    }
   },
   "cell_type": "code",
   "source": "ds",
   "id": "bbffa932b2fd7368",
   "outputs": [
    {
     "data": {
      "text/plain": [
       "     姓名    年龄            手机     地址       入职日期\n",
       "序号                                           \n",
       "1    杨过  19.0  1.390123e+10  终南山古墓 2000-01-01\n",
       "2   小龙女  25.0  1.380111e+10  终南山古墓 2000-01-02\n",
       "4    黄蓉  35.0  1.360111e+10   湖北襄阳 2000-01-04\n",
       "3    郭靖  40.0  1.370556e+10   湖北襄阳 2000-01-03\n",
       "5   张无忌  18.0  1.350667e+10     明教 2000-01-05\n",
       "6   周芷若  17.0  1.331111e+10     明教 2000-01-06\n",
       "7    赵敏   NaN  1.800000e+10     明教 2000-01-07\n",
       "8    杨过   NaN           NaN    NaN        NaT"
      ],
      "text/html": [
       "<div>\n",
       "<style scoped>\n",
       "    .dataframe tbody tr th:only-of-type {\n",
       "        vertical-align: middle;\n",
       "    }\n",
       "\n",
       "    .dataframe tbody tr th {\n",
       "        vertical-align: top;\n",
       "    }\n",
       "\n",
       "    .dataframe thead th {\n",
       "        text-align: right;\n",
       "    }\n",
       "</style>\n",
       "<table border=\"1\" class=\"dataframe\">\n",
       "  <thead>\n",
       "    <tr style=\"text-align: right;\">\n",
       "      <th></th>\n",
       "      <th>姓名</th>\n",
       "      <th>年龄</th>\n",
       "      <th>手机</th>\n",
       "      <th>地址</th>\n",
       "      <th>入职日期</th>\n",
       "    </tr>\n",
       "    <tr>\n",
       "      <th>序号</th>\n",
       "      <th></th>\n",
       "      <th></th>\n",
       "      <th></th>\n",
       "      <th></th>\n",
       "      <th></th>\n",
       "    </tr>\n",
       "  </thead>\n",
       "  <tbody>\n",
       "    <tr>\n",
       "      <th>1</th>\n",
       "      <td>杨过</td>\n",
       "      <td>19.0</td>\n",
       "      <td>1.390123e+10</td>\n",
       "      <td>终南山古墓</td>\n",
       "      <td>2000-01-01</td>\n",
       "    </tr>\n",
       "    <tr>\n",
       "      <th>2</th>\n",
       "      <td>小龙女</td>\n",
       "      <td>25.0</td>\n",
       "      <td>1.380111e+10</td>\n",
       "      <td>终南山古墓</td>\n",
       "      <td>2000-01-02</td>\n",
       "    </tr>\n",
       "    <tr>\n",
       "      <th>4</th>\n",
       "      <td>黄蓉</td>\n",
       "      <td>35.0</td>\n",
       "      <td>1.360111e+10</td>\n",
       "      <td>湖北襄阳</td>\n",
       "      <td>2000-01-04</td>\n",
       "    </tr>\n",
       "    <tr>\n",
       "      <th>3</th>\n",
       "      <td>郭靖</td>\n",
       "      <td>40.0</td>\n",
       "      <td>1.370556e+10</td>\n",
       "      <td>湖北襄阳</td>\n",
       "      <td>2000-01-03</td>\n",
       "    </tr>\n",
       "    <tr>\n",
       "      <th>5</th>\n",
       "      <td>张无忌</td>\n",
       "      <td>18.0</td>\n",
       "      <td>1.350667e+10</td>\n",
       "      <td>明教</td>\n",
       "      <td>2000-01-05</td>\n",
       "    </tr>\n",
       "    <tr>\n",
       "      <th>6</th>\n",
       "      <td>周芷若</td>\n",
       "      <td>17.0</td>\n",
       "      <td>1.331111e+10</td>\n",
       "      <td>明教</td>\n",
       "      <td>2000-01-06</td>\n",
       "    </tr>\n",
       "    <tr>\n",
       "      <th>7</th>\n",
       "      <td>赵敏</td>\n",
       "      <td>NaN</td>\n",
       "      <td>1.800000e+10</td>\n",
       "      <td>明教</td>\n",
       "      <td>2000-01-07</td>\n",
       "    </tr>\n",
       "    <tr>\n",
       "      <th>8</th>\n",
       "      <td>杨过</td>\n",
       "      <td>NaN</td>\n",
       "      <td>NaN</td>\n",
       "      <td>NaN</td>\n",
       "      <td>NaT</td>\n",
       "    </tr>\n",
       "  </tbody>\n",
       "</table>\n",
       "</div>"
      ]
     },
     "execution_count": 85,
     "metadata": {},
     "output_type": "execute_result"
    }
   ],
   "execution_count": 85
  },
  {
   "metadata": {
    "ExecuteTime": {
     "end_time": "2025-08-27T03:35:04.143757Z",
     "start_time": "2025-08-27T03:35:04.127354Z"
    }
   },
   "cell_type": "code",
   "source": "ds.index",
   "id": "dbb6d1cd8962f76e",
   "outputs": [
    {
     "data": {
      "text/plain": [
       "Index([1, 2, 4, 3, 5, 6, 7, 8], dtype='int64', name='序号')"
      ]
     },
     "execution_count": 86,
     "metadata": {},
     "output_type": "execute_result"
    }
   ],
   "execution_count": 86
  },
  {
   "metadata": {
    "ExecuteTime": {
     "end_time": "2025-08-27T03:35:04.163962Z",
     "start_time": "2025-08-27T03:35:04.143757Z"
    }
   },
   "cell_type": "code",
   "source": "ds.values",
   "id": "955e29d23ad6460c",
   "outputs": [
    {
     "data": {
      "text/plain": [
       "array([['杨过', 19.0, 13901234567.0, '终南山古墓',\n",
       "        Timestamp('2000-01-01 00:00:00')],\n",
       "       ['小龙女', 25.0, 13801111111.0, '终南山古墓',\n",
       "        Timestamp('2000-01-02 00:00:00')],\n",
       "       ['黄蓉', 35.0, 13601111111.0, '湖北襄阳',\n",
       "        Timestamp('2000-01-04 00:00:00')],\n",
       "       ['郭靖', 40.0, 13705555555.0, '湖北襄阳',\n",
       "        Timestamp('2000-01-03 00:00:00')],\n",
       "       ['张无忌', 18.0, 13506666666.0, '明教',\n",
       "        Timestamp('2000-01-05 00:00:00')],\n",
       "       ['周芷若', 17.0, 13311111111.0, '明教',\n",
       "        Timestamp('2000-01-06 00:00:00')],\n",
       "       ['赵敏', nan, 18000000000.0, '明教', Timestamp('2000-01-07 00:00:00')],\n",
       "       ['杨过', nan, nan, nan, NaT]], dtype=object)"
      ]
     },
     "execution_count": 87,
     "metadata": {},
     "output_type": "execute_result"
    }
   ],
   "execution_count": 87
  },
  {
   "metadata": {
    "ExecuteTime": {
     "end_time": "2025-08-27T03:35:04.185102Z",
     "start_time": "2025-08-27T03:35:04.163962Z"
    }
   },
   "cell_type": "code",
   "source": "ds.isnull()",
   "id": "6cc4d9e14ac74156",
   "outputs": [
    {
     "data": {
      "text/plain": [
       "       姓名     年龄     手机     地址   入职日期\n",
       "序号                                   \n",
       "1   False  False  False  False  False\n",
       "2   False  False  False  False  False\n",
       "4   False  False  False  False  False\n",
       "3   False  False  False  False  False\n",
       "5   False  False  False  False  False\n",
       "6   False  False  False  False  False\n",
       "7   False   True  False  False  False\n",
       "8   False   True   True   True   True"
      ],
      "text/html": [
       "<div>\n",
       "<style scoped>\n",
       "    .dataframe tbody tr th:only-of-type {\n",
       "        vertical-align: middle;\n",
       "    }\n",
       "\n",
       "    .dataframe tbody tr th {\n",
       "        vertical-align: top;\n",
       "    }\n",
       "\n",
       "    .dataframe thead th {\n",
       "        text-align: right;\n",
       "    }\n",
       "</style>\n",
       "<table border=\"1\" class=\"dataframe\">\n",
       "  <thead>\n",
       "    <tr style=\"text-align: right;\">\n",
       "      <th></th>\n",
       "      <th>姓名</th>\n",
       "      <th>年龄</th>\n",
       "      <th>手机</th>\n",
       "      <th>地址</th>\n",
       "      <th>入职日期</th>\n",
       "    </tr>\n",
       "    <tr>\n",
       "      <th>序号</th>\n",
       "      <th></th>\n",
       "      <th></th>\n",
       "      <th></th>\n",
       "      <th></th>\n",
       "      <th></th>\n",
       "    </tr>\n",
       "  </thead>\n",
       "  <tbody>\n",
       "    <tr>\n",
       "      <th>1</th>\n",
       "      <td>False</td>\n",
       "      <td>False</td>\n",
       "      <td>False</td>\n",
       "      <td>False</td>\n",
       "      <td>False</td>\n",
       "    </tr>\n",
       "    <tr>\n",
       "      <th>2</th>\n",
       "      <td>False</td>\n",
       "      <td>False</td>\n",
       "      <td>False</td>\n",
       "      <td>False</td>\n",
       "      <td>False</td>\n",
       "    </tr>\n",
       "    <tr>\n",
       "      <th>4</th>\n",
       "      <td>False</td>\n",
       "      <td>False</td>\n",
       "      <td>False</td>\n",
       "      <td>False</td>\n",
       "      <td>False</td>\n",
       "    </tr>\n",
       "    <tr>\n",
       "      <th>3</th>\n",
       "      <td>False</td>\n",
       "      <td>False</td>\n",
       "      <td>False</td>\n",
       "      <td>False</td>\n",
       "      <td>False</td>\n",
       "    </tr>\n",
       "    <tr>\n",
       "      <th>5</th>\n",
       "      <td>False</td>\n",
       "      <td>False</td>\n",
       "      <td>False</td>\n",
       "      <td>False</td>\n",
       "      <td>False</td>\n",
       "    </tr>\n",
       "    <tr>\n",
       "      <th>6</th>\n",
       "      <td>False</td>\n",
       "      <td>False</td>\n",
       "      <td>False</td>\n",
       "      <td>False</td>\n",
       "      <td>False</td>\n",
       "    </tr>\n",
       "    <tr>\n",
       "      <th>7</th>\n",
       "      <td>False</td>\n",
       "      <td>True</td>\n",
       "      <td>False</td>\n",
       "      <td>False</td>\n",
       "      <td>False</td>\n",
       "    </tr>\n",
       "    <tr>\n",
       "      <th>8</th>\n",
       "      <td>False</td>\n",
       "      <td>True</td>\n",
       "      <td>True</td>\n",
       "      <td>True</td>\n",
       "      <td>True</td>\n",
       "    </tr>\n",
       "  </tbody>\n",
       "</table>\n",
       "</div>"
      ]
     },
     "execution_count": 88,
     "metadata": {},
     "output_type": "execute_result"
    }
   ],
   "execution_count": 88
  },
  {
   "metadata": {
    "ExecuteTime": {
     "end_time": "2025-08-27T03:35:04.231553Z",
     "start_time": "2025-08-27T03:35:04.209789Z"
    }
   },
   "cell_type": "code",
   "source": "ds.notnull()",
   "id": "ea0e6473c580cdd7",
   "outputs": [
    {
     "data": {
      "text/plain": [
       "      姓名     年龄     手机     地址   入职日期\n",
       "序号                                  \n",
       "1   True   True   True   True   True\n",
       "2   True   True   True   True   True\n",
       "4   True   True   True   True   True\n",
       "3   True   True   True   True   True\n",
       "5   True   True   True   True   True\n",
       "6   True   True   True   True   True\n",
       "7   True  False   True   True   True\n",
       "8   True  False  False  False  False"
      ],
      "text/html": [
       "<div>\n",
       "<style scoped>\n",
       "    .dataframe tbody tr th:only-of-type {\n",
       "        vertical-align: middle;\n",
       "    }\n",
       "\n",
       "    .dataframe tbody tr th {\n",
       "        vertical-align: top;\n",
       "    }\n",
       "\n",
       "    .dataframe thead th {\n",
       "        text-align: right;\n",
       "    }\n",
       "</style>\n",
       "<table border=\"1\" class=\"dataframe\">\n",
       "  <thead>\n",
       "    <tr style=\"text-align: right;\">\n",
       "      <th></th>\n",
       "      <th>姓名</th>\n",
       "      <th>年龄</th>\n",
       "      <th>手机</th>\n",
       "      <th>地址</th>\n",
       "      <th>入职日期</th>\n",
       "    </tr>\n",
       "    <tr>\n",
       "      <th>序号</th>\n",
       "      <th></th>\n",
       "      <th></th>\n",
       "      <th></th>\n",
       "      <th></th>\n",
       "      <th></th>\n",
       "    </tr>\n",
       "  </thead>\n",
       "  <tbody>\n",
       "    <tr>\n",
       "      <th>1</th>\n",
       "      <td>True</td>\n",
       "      <td>True</td>\n",
       "      <td>True</td>\n",
       "      <td>True</td>\n",
       "      <td>True</td>\n",
       "    </tr>\n",
       "    <tr>\n",
       "      <th>2</th>\n",
       "      <td>True</td>\n",
       "      <td>True</td>\n",
       "      <td>True</td>\n",
       "      <td>True</td>\n",
       "      <td>True</td>\n",
       "    </tr>\n",
       "    <tr>\n",
       "      <th>4</th>\n",
       "      <td>True</td>\n",
       "      <td>True</td>\n",
       "      <td>True</td>\n",
       "      <td>True</td>\n",
       "      <td>True</td>\n",
       "    </tr>\n",
       "    <tr>\n",
       "      <th>3</th>\n",
       "      <td>True</td>\n",
       "      <td>True</td>\n",
       "      <td>True</td>\n",
       "      <td>True</td>\n",
       "      <td>True</td>\n",
       "    </tr>\n",
       "    <tr>\n",
       "      <th>5</th>\n",
       "      <td>True</td>\n",
       "      <td>True</td>\n",
       "      <td>True</td>\n",
       "      <td>True</td>\n",
       "      <td>True</td>\n",
       "    </tr>\n",
       "    <tr>\n",
       "      <th>6</th>\n",
       "      <td>True</td>\n",
       "      <td>True</td>\n",
       "      <td>True</td>\n",
       "      <td>True</td>\n",
       "      <td>True</td>\n",
       "    </tr>\n",
       "    <tr>\n",
       "      <th>7</th>\n",
       "      <td>True</td>\n",
       "      <td>False</td>\n",
       "      <td>True</td>\n",
       "      <td>True</td>\n",
       "      <td>True</td>\n",
       "    </tr>\n",
       "    <tr>\n",
       "      <th>8</th>\n",
       "      <td>True</td>\n",
       "      <td>False</td>\n",
       "      <td>False</td>\n",
       "      <td>False</td>\n",
       "      <td>False</td>\n",
       "    </tr>\n",
       "  </tbody>\n",
       "</table>\n",
       "</div>"
      ]
     },
     "execution_count": 89,
     "metadata": {},
     "output_type": "execute_result"
    }
   ],
   "execution_count": 89
  },
  {
   "metadata": {
    "ExecuteTime": {
     "end_time": "2025-08-27T03:35:04.257504Z",
     "start_time": "2025-08-27T03:35:04.245314Z"
    }
   },
   "cell_type": "code",
   "source": "ds.sort_index()",
   "id": "1d02946ef13d0332",
   "outputs": [
    {
     "data": {
      "text/plain": [
       "     姓名    年龄            手机     地址       入职日期\n",
       "序号                                           \n",
       "1    杨过  19.0  1.390123e+10  终南山古墓 2000-01-01\n",
       "2   小龙女  25.0  1.380111e+10  终南山古墓 2000-01-02\n",
       "3    郭靖  40.0  1.370556e+10   湖北襄阳 2000-01-03\n",
       "4    黄蓉  35.0  1.360111e+10   湖北襄阳 2000-01-04\n",
       "5   张无忌  18.0  1.350667e+10     明教 2000-01-05\n",
       "6   周芷若  17.0  1.331111e+10     明教 2000-01-06\n",
       "7    赵敏   NaN  1.800000e+10     明教 2000-01-07\n",
       "8    杨过   NaN           NaN    NaN        NaT"
      ],
      "text/html": [
       "<div>\n",
       "<style scoped>\n",
       "    .dataframe tbody tr th:only-of-type {\n",
       "        vertical-align: middle;\n",
       "    }\n",
       "\n",
       "    .dataframe tbody tr th {\n",
       "        vertical-align: top;\n",
       "    }\n",
       "\n",
       "    .dataframe thead th {\n",
       "        text-align: right;\n",
       "    }\n",
       "</style>\n",
       "<table border=\"1\" class=\"dataframe\">\n",
       "  <thead>\n",
       "    <tr style=\"text-align: right;\">\n",
       "      <th></th>\n",
       "      <th>姓名</th>\n",
       "      <th>年龄</th>\n",
       "      <th>手机</th>\n",
       "      <th>地址</th>\n",
       "      <th>入职日期</th>\n",
       "    </tr>\n",
       "    <tr>\n",
       "      <th>序号</th>\n",
       "      <th></th>\n",
       "      <th></th>\n",
       "      <th></th>\n",
       "      <th></th>\n",
       "      <th></th>\n",
       "    </tr>\n",
       "  </thead>\n",
       "  <tbody>\n",
       "    <tr>\n",
       "      <th>1</th>\n",
       "      <td>杨过</td>\n",
       "      <td>19.0</td>\n",
       "      <td>1.390123e+10</td>\n",
       "      <td>终南山古墓</td>\n",
       "      <td>2000-01-01</td>\n",
       "    </tr>\n",
       "    <tr>\n",
       "      <th>2</th>\n",
       "      <td>小龙女</td>\n",
       "      <td>25.0</td>\n",
       "      <td>1.380111e+10</td>\n",
       "      <td>终南山古墓</td>\n",
       "      <td>2000-01-02</td>\n",
       "    </tr>\n",
       "    <tr>\n",
       "      <th>3</th>\n",
       "      <td>郭靖</td>\n",
       "      <td>40.0</td>\n",
       "      <td>1.370556e+10</td>\n",
       "      <td>湖北襄阳</td>\n",
       "      <td>2000-01-03</td>\n",
       "    </tr>\n",
       "    <tr>\n",
       "      <th>4</th>\n",
       "      <td>黄蓉</td>\n",
       "      <td>35.0</td>\n",
       "      <td>1.360111e+10</td>\n",
       "      <td>湖北襄阳</td>\n",
       "      <td>2000-01-04</td>\n",
       "    </tr>\n",
       "    <tr>\n",
       "      <th>5</th>\n",
       "      <td>张无忌</td>\n",
       "      <td>18.0</td>\n",
       "      <td>1.350667e+10</td>\n",
       "      <td>明教</td>\n",
       "      <td>2000-01-05</td>\n",
       "    </tr>\n",
       "    <tr>\n",
       "      <th>6</th>\n",
       "      <td>周芷若</td>\n",
       "      <td>17.0</td>\n",
       "      <td>1.331111e+10</td>\n",
       "      <td>明教</td>\n",
       "      <td>2000-01-06</td>\n",
       "    </tr>\n",
       "    <tr>\n",
       "      <th>7</th>\n",
       "      <td>赵敏</td>\n",
       "      <td>NaN</td>\n",
       "      <td>1.800000e+10</td>\n",
       "      <td>明教</td>\n",
       "      <td>2000-01-07</td>\n",
       "    </tr>\n",
       "    <tr>\n",
       "      <th>8</th>\n",
       "      <td>杨过</td>\n",
       "      <td>NaN</td>\n",
       "      <td>NaN</td>\n",
       "      <td>NaN</td>\n",
       "      <td>NaT</td>\n",
       "    </tr>\n",
       "  </tbody>\n",
       "</table>\n",
       "</div>"
      ]
     },
     "execution_count": 90,
     "metadata": {},
     "output_type": "execute_result"
    }
   ],
   "execution_count": 90
  },
  {
   "metadata": {
    "ExecuteTime": {
     "end_time": "2025-08-27T03:35:04.420576Z",
     "start_time": "2025-08-27T03:35:04.404979Z"
    }
   },
   "cell_type": "code",
   "source": "ds.sort_values(by = '年龄') # 值排序",
   "id": "bf9fe291194fad62",
   "outputs": [
    {
     "data": {
      "text/plain": [
       "     姓名    年龄            手机     地址       入职日期\n",
       "序号                                           \n",
       "6   周芷若  17.0  1.331111e+10     明教 2000-01-06\n",
       "5   张无忌  18.0  1.350667e+10     明教 2000-01-05\n",
       "1    杨过  19.0  1.390123e+10  终南山古墓 2000-01-01\n",
       "2   小龙女  25.0  1.380111e+10  终南山古墓 2000-01-02\n",
       "4    黄蓉  35.0  1.360111e+10   湖北襄阳 2000-01-04\n",
       "3    郭靖  40.0  1.370556e+10   湖北襄阳 2000-01-03\n",
       "7    赵敏   NaN  1.800000e+10     明教 2000-01-07\n",
       "8    杨过   NaN           NaN    NaN        NaT"
      ],
      "text/html": [
       "<div>\n",
       "<style scoped>\n",
       "    .dataframe tbody tr th:only-of-type {\n",
       "        vertical-align: middle;\n",
       "    }\n",
       "\n",
       "    .dataframe tbody tr th {\n",
       "        vertical-align: top;\n",
       "    }\n",
       "\n",
       "    .dataframe thead th {\n",
       "        text-align: right;\n",
       "    }\n",
       "</style>\n",
       "<table border=\"1\" class=\"dataframe\">\n",
       "  <thead>\n",
       "    <tr style=\"text-align: right;\">\n",
       "      <th></th>\n",
       "      <th>姓名</th>\n",
       "      <th>年龄</th>\n",
       "      <th>手机</th>\n",
       "      <th>地址</th>\n",
       "      <th>入职日期</th>\n",
       "    </tr>\n",
       "    <tr>\n",
       "      <th>序号</th>\n",
       "      <th></th>\n",
       "      <th></th>\n",
       "      <th></th>\n",
       "      <th></th>\n",
       "      <th></th>\n",
       "    </tr>\n",
       "  </thead>\n",
       "  <tbody>\n",
       "    <tr>\n",
       "      <th>6</th>\n",
       "      <td>周芷若</td>\n",
       "      <td>17.0</td>\n",
       "      <td>1.331111e+10</td>\n",
       "      <td>明教</td>\n",
       "      <td>2000-01-06</td>\n",
       "    </tr>\n",
       "    <tr>\n",
       "      <th>5</th>\n",
       "      <td>张无忌</td>\n",
       "      <td>18.0</td>\n",
       "      <td>1.350667e+10</td>\n",
       "      <td>明教</td>\n",
       "      <td>2000-01-05</td>\n",
       "    </tr>\n",
       "    <tr>\n",
       "      <th>1</th>\n",
       "      <td>杨过</td>\n",
       "      <td>19.0</td>\n",
       "      <td>1.390123e+10</td>\n",
       "      <td>终南山古墓</td>\n",
       "      <td>2000-01-01</td>\n",
       "    </tr>\n",
       "    <tr>\n",
       "      <th>2</th>\n",
       "      <td>小龙女</td>\n",
       "      <td>25.0</td>\n",
       "      <td>1.380111e+10</td>\n",
       "      <td>终南山古墓</td>\n",
       "      <td>2000-01-02</td>\n",
       "    </tr>\n",
       "    <tr>\n",
       "      <th>4</th>\n",
       "      <td>黄蓉</td>\n",
       "      <td>35.0</td>\n",
       "      <td>1.360111e+10</td>\n",
       "      <td>湖北襄阳</td>\n",
       "      <td>2000-01-04</td>\n",
       "    </tr>\n",
       "    <tr>\n",
       "      <th>3</th>\n",
       "      <td>郭靖</td>\n",
       "      <td>40.0</td>\n",
       "      <td>1.370556e+10</td>\n",
       "      <td>湖北襄阳</td>\n",
       "      <td>2000-01-03</td>\n",
       "    </tr>\n",
       "    <tr>\n",
       "      <th>7</th>\n",
       "      <td>赵敏</td>\n",
       "      <td>NaN</td>\n",
       "      <td>1.800000e+10</td>\n",
       "      <td>明教</td>\n",
       "      <td>2000-01-07</td>\n",
       "    </tr>\n",
       "    <tr>\n",
       "      <th>8</th>\n",
       "      <td>杨过</td>\n",
       "      <td>NaN</td>\n",
       "      <td>NaN</td>\n",
       "      <td>NaN</td>\n",
       "      <td>NaT</td>\n",
       "    </tr>\n",
       "  </tbody>\n",
       "</table>\n",
       "</div>"
      ]
     },
     "execution_count": 91,
     "metadata": {},
     "output_type": "execute_result"
    }
   ],
   "execution_count": 91
  },
  {
   "metadata": {
    "ExecuteTime": {
     "end_time": "2025-08-27T03:35:04.480292Z",
     "start_time": "2025-08-27T03:35:04.476329Z"
    }
   },
   "cell_type": "code",
   "source": "",
   "id": "bc12bf9a142deb80",
   "outputs": [],
   "execution_count": 91
  }
 ],
 "metadata": {
  "kernelspec": {
   "display_name": "Python 3",
   "language": "python",
   "name": "python3"
  },
  "language_info": {
   "codemirror_mode": {
    "name": "ipython",
    "version": 2
   },
   "file_extension": ".py",
   "mimetype": "text/x-python",
   "name": "python",
   "nbconvert_exporter": "python",
   "pygments_lexer": "ipython2",
   "version": "2.7.6"
  }
 },
 "nbformat": 4,
 "nbformat_minor": 5
}
