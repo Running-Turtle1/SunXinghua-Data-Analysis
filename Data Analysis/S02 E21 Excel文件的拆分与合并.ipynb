{
 "cells": [
  {
   "metadata": {},
   "cell_type": "markdown",
   "source": "## 1  一个文件夹下多个工作簿的合并【单独Sheet】",
   "id": "221d600bdcbe3f96"
  },
  {
   "metadata": {
    "ExecuteTime": {
     "end_time": "2025-08-30T11:49:16.778447Z",
     "start_time": "2025-08-30T11:49:16.772043Z"
    }
   },
   "cell_type": "code",
   "source": [
    "import pandas as pd\n",
    "import os"
   ],
   "id": "8ae959eda8120f34",
   "outputs": [],
   "execution_count": 24
  },
  {
   "metadata": {
    "ExecuteTime": {
     "end_time": "2025-08-30T11:49:16.852022Z",
     "start_time": "2025-08-30T11:49:16.846213Z"
    }
   },
   "cell_type": "code",
   "source": "path = './Repo/1'",
   "id": "a2541845a718227a",
   "outputs": [],
   "execution_count": 25
  },
  {
   "metadata": {
    "ExecuteTime": {
     "end_time": "2025-08-30T11:49:16.901191Z",
     "start_time": "2025-08-30T11:49:16.893730Z"
    }
   },
   "cell_type": "code",
   "source": "df = pd.DataFrame()",
   "id": "6520464f79328956",
   "outputs": [],
   "execution_count": 26
  },
  {
   "metadata": {
    "ExecuteTime": {
     "end_time": "2025-08-30T11:49:16.949448Z",
     "start_time": "2025-08-30T11:49:16.936462Z"
    }
   },
   "cell_type": "code",
   "source": "df",
   "id": "8bc21d58546cdde8",
   "outputs": [
    {
     "data": {
      "text/plain": [
       "Empty DataFrame\n",
       "Columns: []\n",
       "Index: []"
      ],
      "text/html": [
       "<div>\n",
       "<style scoped>\n",
       "    .dataframe tbody tr th:only-of-type {\n",
       "        vertical-align: middle;\n",
       "    }\n",
       "\n",
       "    .dataframe tbody tr th {\n",
       "        vertical-align: top;\n",
       "    }\n",
       "\n",
       "    .dataframe thead th {\n",
       "        text-align: right;\n",
       "    }\n",
       "</style>\n",
       "<table border=\"1\" class=\"dataframe\">\n",
       "  <thead>\n",
       "    <tr style=\"text-align: right;\">\n",
       "      <th></th>\n",
       "    </tr>\n",
       "  </thead>\n",
       "  <tbody>\n",
       "  </tbody>\n",
       "</table>\n",
       "</div>"
      ]
     },
     "execution_count": 27,
     "metadata": {},
     "output_type": "execute_result"
    }
   ],
   "execution_count": 27
  },
  {
   "metadata": {
    "ExecuteTime": {
     "end_time": "2025-08-30T11:49:16.993711Z",
     "start_time": "2025-08-30T11:49:16.955709Z"
    }
   },
   "cell_type": "code",
   "source": [
    "for filename in os.listdir(path):\n",
    "    t_df = pd.read_excel(os.path.join(path, filename))\n",
    "    df = pd.concat([df, t_df])"
   ],
   "id": "f28ddd00569d77b4",
   "outputs": [],
   "execution_count": 28
  },
  {
   "metadata": {
    "ExecuteTime": {
     "end_time": "2025-08-30T11:49:17.032272Z",
     "start_time": "2025-08-30T11:49:17.017700Z"
    }
   },
   "cell_type": "code",
   "source": "df",
   "id": "6de6135c5d41ba4c",
   "outputs": [
    {
     "data": {
      "text/plain": [
       "          日期   姓名 性别\n",
       "0 2020-05-01   张三  男\n",
       "1 2020-05-02   李四  女\n",
       "2 2020-05-03   王五  男\n",
       "0 2020-05-01   叶问  男\n",
       "1 2020-05-02  李小龙  男\n",
       "2 2020-05-03  孙兴华  男\n",
       "0 2020-05-01  孙悟空  男\n",
       "1 2020-05-02  猪八戒  男\n",
       "2 2020-05-03  沙和尚  男"
      ],
      "text/html": [
       "<div>\n",
       "<style scoped>\n",
       "    .dataframe tbody tr th:only-of-type {\n",
       "        vertical-align: middle;\n",
       "    }\n",
       "\n",
       "    .dataframe tbody tr th {\n",
       "        vertical-align: top;\n",
       "    }\n",
       "\n",
       "    .dataframe thead th {\n",
       "        text-align: right;\n",
       "    }\n",
       "</style>\n",
       "<table border=\"1\" class=\"dataframe\">\n",
       "  <thead>\n",
       "    <tr style=\"text-align: right;\">\n",
       "      <th></th>\n",
       "      <th>日期</th>\n",
       "      <th>姓名</th>\n",
       "      <th>性别</th>\n",
       "    </tr>\n",
       "  </thead>\n",
       "  <tbody>\n",
       "    <tr>\n",
       "      <th>0</th>\n",
       "      <td>2020-05-01</td>\n",
       "      <td>张三</td>\n",
       "      <td>男</td>\n",
       "    </tr>\n",
       "    <tr>\n",
       "      <th>1</th>\n",
       "      <td>2020-05-02</td>\n",
       "      <td>李四</td>\n",
       "      <td>女</td>\n",
       "    </tr>\n",
       "    <tr>\n",
       "      <th>2</th>\n",
       "      <td>2020-05-03</td>\n",
       "      <td>王五</td>\n",
       "      <td>男</td>\n",
       "    </tr>\n",
       "    <tr>\n",
       "      <th>0</th>\n",
       "      <td>2020-05-01</td>\n",
       "      <td>叶问</td>\n",
       "      <td>男</td>\n",
       "    </tr>\n",
       "    <tr>\n",
       "      <th>1</th>\n",
       "      <td>2020-05-02</td>\n",
       "      <td>李小龙</td>\n",
       "      <td>男</td>\n",
       "    </tr>\n",
       "    <tr>\n",
       "      <th>2</th>\n",
       "      <td>2020-05-03</td>\n",
       "      <td>孙兴华</td>\n",
       "      <td>男</td>\n",
       "    </tr>\n",
       "    <tr>\n",
       "      <th>0</th>\n",
       "      <td>2020-05-01</td>\n",
       "      <td>孙悟空</td>\n",
       "      <td>男</td>\n",
       "    </tr>\n",
       "    <tr>\n",
       "      <th>1</th>\n",
       "      <td>2020-05-02</td>\n",
       "      <td>猪八戒</td>\n",
       "      <td>男</td>\n",
       "    </tr>\n",
       "    <tr>\n",
       "      <th>2</th>\n",
       "      <td>2020-05-03</td>\n",
       "      <td>沙和尚</td>\n",
       "      <td>男</td>\n",
       "    </tr>\n",
       "  </tbody>\n",
       "</table>\n",
       "</div>"
      ]
     },
     "execution_count": 29,
     "metadata": {},
     "output_type": "execute_result"
    }
   ],
   "execution_count": 29
  },
  {
   "metadata": {
    "ExecuteTime": {
     "end_time": "2025-08-30T11:49:17.063144Z",
     "start_time": "2025-08-30T11:49:17.057127Z"
    }
   },
   "cell_type": "code",
   "source": "df = df.reset_index(drop = True)",
   "id": "99bc9fcc81db5c98",
   "outputs": [],
   "execution_count": 30
  },
  {
   "metadata": {
    "ExecuteTime": {
     "end_time": "2025-08-30T11:49:17.214544Z",
     "start_time": "2025-08-30T11:49:17.194465Z"
    }
   },
   "cell_type": "code",
   "source": "df",
   "id": "85ee4f17abc6fb24",
   "outputs": [
    {
     "data": {
      "text/plain": [
       "          日期   姓名 性别\n",
       "0 2020-05-01   张三  男\n",
       "1 2020-05-02   李四  女\n",
       "2 2020-05-03   王五  男\n",
       "3 2020-05-01   叶问  男\n",
       "4 2020-05-02  李小龙  男\n",
       "5 2020-05-03  孙兴华  男\n",
       "6 2020-05-01  孙悟空  男\n",
       "7 2020-05-02  猪八戒  男\n",
       "8 2020-05-03  沙和尚  男"
      ],
      "text/html": [
       "<div>\n",
       "<style scoped>\n",
       "    .dataframe tbody tr th:only-of-type {\n",
       "        vertical-align: middle;\n",
       "    }\n",
       "\n",
       "    .dataframe tbody tr th {\n",
       "        vertical-align: top;\n",
       "    }\n",
       "\n",
       "    .dataframe thead th {\n",
       "        text-align: right;\n",
       "    }\n",
       "</style>\n",
       "<table border=\"1\" class=\"dataframe\">\n",
       "  <thead>\n",
       "    <tr style=\"text-align: right;\">\n",
       "      <th></th>\n",
       "      <th>日期</th>\n",
       "      <th>姓名</th>\n",
       "      <th>性别</th>\n",
       "    </tr>\n",
       "  </thead>\n",
       "  <tbody>\n",
       "    <tr>\n",
       "      <th>0</th>\n",
       "      <td>2020-05-01</td>\n",
       "      <td>张三</td>\n",
       "      <td>男</td>\n",
       "    </tr>\n",
       "    <tr>\n",
       "      <th>1</th>\n",
       "      <td>2020-05-02</td>\n",
       "      <td>李四</td>\n",
       "      <td>女</td>\n",
       "    </tr>\n",
       "    <tr>\n",
       "      <th>2</th>\n",
       "      <td>2020-05-03</td>\n",
       "      <td>王五</td>\n",
       "      <td>男</td>\n",
       "    </tr>\n",
       "    <tr>\n",
       "      <th>3</th>\n",
       "      <td>2020-05-01</td>\n",
       "      <td>叶问</td>\n",
       "      <td>男</td>\n",
       "    </tr>\n",
       "    <tr>\n",
       "      <th>4</th>\n",
       "      <td>2020-05-02</td>\n",
       "      <td>李小龙</td>\n",
       "      <td>男</td>\n",
       "    </tr>\n",
       "    <tr>\n",
       "      <th>5</th>\n",
       "      <td>2020-05-03</td>\n",
       "      <td>孙兴华</td>\n",
       "      <td>男</td>\n",
       "    </tr>\n",
       "    <tr>\n",
       "      <th>6</th>\n",
       "      <td>2020-05-01</td>\n",
       "      <td>孙悟空</td>\n",
       "      <td>男</td>\n",
       "    </tr>\n",
       "    <tr>\n",
       "      <th>7</th>\n",
       "      <td>2020-05-02</td>\n",
       "      <td>猪八戒</td>\n",
       "      <td>男</td>\n",
       "    </tr>\n",
       "    <tr>\n",
       "      <th>8</th>\n",
       "      <td>2020-05-03</td>\n",
       "      <td>沙和尚</td>\n",
       "      <td>男</td>\n",
       "    </tr>\n",
       "  </tbody>\n",
       "</table>\n",
       "</div>"
      ]
     },
     "execution_count": 31,
     "metadata": {},
     "output_type": "execute_result"
    }
   ],
   "execution_count": 31
  },
  {
   "metadata": {},
   "cell_type": "markdown",
   "source": "## 2 同一工作簿中多个Sheet合并",
   "id": "bd039a5b0380a2a5"
  },
  {
   "metadata": {
    "ExecuteTime": {
     "end_time": "2025-08-30T11:52:22.619579Z",
     "start_time": "2025-08-30T11:52:22.614997Z"
    }
   },
   "cell_type": "code",
   "source": "path = './Repo/25-3-合并2.xlsx'",
   "id": "ed1d9a778642ea6c",
   "outputs": [],
   "execution_count": 36
  },
  {
   "metadata": {
    "ExecuteTime": {
     "end_time": "2025-08-30T11:52:28.219072Z",
     "start_time": "2025-08-30T11:52:28.212647Z"
    }
   },
   "cell_type": "code",
   "source": "df = pd.DataFrame()",
   "id": "b496138e3e3ee1a9",
   "outputs": [],
   "execution_count": 38
  },
  {
   "metadata": {
    "ExecuteTime": {
     "end_time": "2025-08-30T11:53:13.463459Z",
     "start_time": "2025-08-30T11:53:13.436021Z"
    }
   },
   "cell_type": "code",
   "source": [
    "data = pd.read_excel(path, sheet_name = None)\n",
    "data"
   ],
   "id": "40c2a17199ae29e2",
   "outputs": [
    {
     "data": {
      "text/plain": [
       "{'Sheet3':    序号 姓名   电话\n",
       " 0   1  A  123\n",
       " 1   2  B  456\n",
       " 2   3  C  789,\n",
       " 'Sheet2':    序号 姓名   电话\n",
       " 0   1  D  678\n",
       " 1   2  E  901\n",
       " 2   3  F  991,\n",
       " 'Sheet1':    序号 姓名   电话\n",
       " 0   1  X  555\n",
       " 1   2  Y  666\n",
       " 2   3  Z  777}"
      ]
     },
     "execution_count": 43,
     "metadata": {},
     "output_type": "execute_result"
    }
   ],
   "execution_count": 43
  },
  {
   "metadata": {
    "ExecuteTime": {
     "end_time": "2025-08-30T11:53:35.416026Z",
     "start_time": "2025-08-30T11:53:35.410327Z"
    }
   },
   "cell_type": "code",
   "source": "keys = list(data.keys())",
   "id": "26caee0edc446b8a",
   "outputs": [],
   "execution_count": 44
  },
  {
   "metadata": {
    "ExecuteTime": {
     "end_time": "2025-08-30T11:53:37.831035Z",
     "start_time": "2025-08-30T11:53:37.825793Z"
    }
   },
   "cell_type": "code",
   "source": "keys",
   "id": "2dcdef5da03084ae",
   "outputs": [
    {
     "data": {
      "text/plain": [
       "['Sheet3', 'Sheet2', 'Sheet1']"
      ]
     },
     "execution_count": 45,
     "metadata": {},
     "output_type": "execute_result"
    }
   ],
   "execution_count": 45
  },
  {
   "metadata": {
    "ExecuteTime": {
     "end_time": "2025-08-30T11:54:15.153098Z",
     "start_time": "2025-08-30T11:54:15.141714Z"
    }
   },
   "cell_type": "code",
   "source": [
    "for key in keys:\n",
    "    t_df = data[key]\n",
    "    df = pd.concat([df, t_df])"
   ],
   "id": "6a98e55a8fd92d78",
   "outputs": [],
   "execution_count": 47
  },
  {
   "metadata": {
    "ExecuteTime": {
     "end_time": "2025-08-30T11:54:16.260936Z",
     "start_time": "2025-08-30T11:54:16.251314Z"
    }
   },
   "cell_type": "code",
   "source": "df",
   "id": "53240ced0c011632",
   "outputs": [
    {
     "data": {
      "text/plain": [
       "   序号 姓名   电话\n",
       "0   1  A  123\n",
       "1   2  B  456\n",
       "2   3  C  789\n",
       "0   1  D  678\n",
       "1   2  E  901\n",
       "2   3  F  991\n",
       "0   1  X  555\n",
       "1   2  Y  666\n",
       "2   3  Z  777"
      ],
      "text/html": [
       "<div>\n",
       "<style scoped>\n",
       "    .dataframe tbody tr th:only-of-type {\n",
       "        vertical-align: middle;\n",
       "    }\n",
       "\n",
       "    .dataframe tbody tr th {\n",
       "        vertical-align: top;\n",
       "    }\n",
       "\n",
       "    .dataframe thead th {\n",
       "        text-align: right;\n",
       "    }\n",
       "</style>\n",
       "<table border=\"1\" class=\"dataframe\">\n",
       "  <thead>\n",
       "    <tr style=\"text-align: right;\">\n",
       "      <th></th>\n",
       "      <th>序号</th>\n",
       "      <th>姓名</th>\n",
       "      <th>电话</th>\n",
       "    </tr>\n",
       "  </thead>\n",
       "  <tbody>\n",
       "    <tr>\n",
       "      <th>0</th>\n",
       "      <td>1</td>\n",
       "      <td>A</td>\n",
       "      <td>123</td>\n",
       "    </tr>\n",
       "    <tr>\n",
       "      <th>1</th>\n",
       "      <td>2</td>\n",
       "      <td>B</td>\n",
       "      <td>456</td>\n",
       "    </tr>\n",
       "    <tr>\n",
       "      <th>2</th>\n",
       "      <td>3</td>\n",
       "      <td>C</td>\n",
       "      <td>789</td>\n",
       "    </tr>\n",
       "    <tr>\n",
       "      <th>0</th>\n",
       "      <td>1</td>\n",
       "      <td>D</td>\n",
       "      <td>678</td>\n",
       "    </tr>\n",
       "    <tr>\n",
       "      <th>1</th>\n",
       "      <td>2</td>\n",
       "      <td>E</td>\n",
       "      <td>901</td>\n",
       "    </tr>\n",
       "    <tr>\n",
       "      <th>2</th>\n",
       "      <td>3</td>\n",
       "      <td>F</td>\n",
       "      <td>991</td>\n",
       "    </tr>\n",
       "    <tr>\n",
       "      <th>0</th>\n",
       "      <td>1</td>\n",
       "      <td>X</td>\n",
       "      <td>555</td>\n",
       "    </tr>\n",
       "    <tr>\n",
       "      <th>1</th>\n",
       "      <td>2</td>\n",
       "      <td>Y</td>\n",
       "      <td>666</td>\n",
       "    </tr>\n",
       "    <tr>\n",
       "      <th>2</th>\n",
       "      <td>3</td>\n",
       "      <td>Z</td>\n",
       "      <td>777</td>\n",
       "    </tr>\n",
       "  </tbody>\n",
       "</table>\n",
       "</div>"
      ]
     },
     "execution_count": 48,
     "metadata": {},
     "output_type": "execute_result"
    }
   ],
   "execution_count": 48
  },
  {
   "metadata": {
    "ExecuteTime": {
     "end_time": "2025-08-30T11:55:02.757011Z",
     "start_time": "2025-08-30T11:55:02.744247Z"
    }
   },
   "cell_type": "code",
   "source": [
    "df = df.reset_index(drop = True)\n",
    "df = df.drop(axis = 1, labels = '序号')\n",
    "df"
   ],
   "id": "753007ee4c1744d2",
   "outputs": [
    {
     "data": {
      "text/plain": [
       "  姓名   电话\n",
       "0  A  123\n",
       "1  B  456\n",
       "2  C  789\n",
       "3  D  678\n",
       "4  E  901\n",
       "5  F  991\n",
       "6  X  555\n",
       "7  Y  666\n",
       "8  Z  777"
      ],
      "text/html": [
       "<div>\n",
       "<style scoped>\n",
       "    .dataframe tbody tr th:only-of-type {\n",
       "        vertical-align: middle;\n",
       "    }\n",
       "\n",
       "    .dataframe tbody tr th {\n",
       "        vertical-align: top;\n",
       "    }\n",
       "\n",
       "    .dataframe thead th {\n",
       "        text-align: right;\n",
       "    }\n",
       "</style>\n",
       "<table border=\"1\" class=\"dataframe\">\n",
       "  <thead>\n",
       "    <tr style=\"text-align: right;\">\n",
       "      <th></th>\n",
       "      <th>姓名</th>\n",
       "      <th>电话</th>\n",
       "    </tr>\n",
       "  </thead>\n",
       "  <tbody>\n",
       "    <tr>\n",
       "      <th>0</th>\n",
       "      <td>A</td>\n",
       "      <td>123</td>\n",
       "    </tr>\n",
       "    <tr>\n",
       "      <th>1</th>\n",
       "      <td>B</td>\n",
       "      <td>456</td>\n",
       "    </tr>\n",
       "    <tr>\n",
       "      <th>2</th>\n",
       "      <td>C</td>\n",
       "      <td>789</td>\n",
       "    </tr>\n",
       "    <tr>\n",
       "      <th>3</th>\n",
       "      <td>D</td>\n",
       "      <td>678</td>\n",
       "    </tr>\n",
       "    <tr>\n",
       "      <th>4</th>\n",
       "      <td>E</td>\n",
       "      <td>901</td>\n",
       "    </tr>\n",
       "    <tr>\n",
       "      <th>5</th>\n",
       "      <td>F</td>\n",
       "      <td>991</td>\n",
       "    </tr>\n",
       "    <tr>\n",
       "      <th>6</th>\n",
       "      <td>X</td>\n",
       "      <td>555</td>\n",
       "    </tr>\n",
       "    <tr>\n",
       "      <th>7</th>\n",
       "      <td>Y</td>\n",
       "      <td>666</td>\n",
       "    </tr>\n",
       "    <tr>\n",
       "      <th>8</th>\n",
       "      <td>Z</td>\n",
       "      <td>777</td>\n",
       "    </tr>\n",
       "  </tbody>\n",
       "</table>\n",
       "</div>"
      ]
     },
     "execution_count": 50,
     "metadata": {},
     "output_type": "execute_result"
    }
   ],
   "execution_count": 50
  },
  {
   "metadata": {},
   "cell_type": "markdown",
   "source": [
    "没太有必要学的很仔细，注意区分出：\n",
    "- 工作簿是整个文件\n",
    "- Sheet 是一个工作表"
   ],
   "id": "65c640980e3a5f44"
  }
 ],
 "metadata": {
  "kernelspec": {
   "display_name": "Python 3",
   "language": "python",
   "name": "python3"
  },
  "language_info": {
   "codemirror_mode": {
    "name": "ipython",
    "version": 2
   },
   "file_extension": ".py",
   "mimetype": "text/x-python",
   "name": "python",
   "nbconvert_exporter": "python",
   "pygments_lexer": "ipython2",
   "version": "2.7.6"
  }
 },
 "nbformat": 4,
 "nbformat_minor": 5
}
