{
 "cells": [
  {
   "cell_type": "code",
   "id": "initial_id",
   "metadata": {
    "collapsed": true,
    "ExecuteTime": {
     "end_time": "2025-08-28T02:18:28.053441Z",
     "start_time": "2025-08-28T02:18:26.887868Z"
    }
   },
   "source": "import pandas as pd",
   "execution_count": 1,
   "outputs": []
  },
  {
   "metadata": {
    "ExecuteTime": {
     "end_time": "2025-08-28T02:18:34.015946Z",
     "start_time": "2025-08-28T02:18:34.008948Z"
    }
   },
   "cell_type": "code",
   "source": "path = './Repo/筛选.xlsx'",
   "id": "6ac8cc941e458ff7",
   "execution_count": 2,
   "outputs": []
  },
  {
   "metadata": {
    "ExecuteTime": {
     "end_time": "2025-08-28T02:18:51.144868Z",
     "start_time": "2025-08-28T02:18:50.618673Z"
    }
   },
   "cell_type": "code",
   "source": "df = pd.read_excel(path, index_col = '出生日期')",
   "id": "c82aa6d6ff8a550b",
   "execution_count": 3,
   "outputs": []
  },
  {
   "metadata": {
    "ExecuteTime": {
     "end_time": "2025-08-28T02:18:52.178922Z",
     "start_time": "2025-08-28T02:18:52.159926Z"
    }
   },
   "cell_type": "code",
   "source": "df",
   "id": "bb43687f13ef21dc",
   "execution_count": 4,
   "outputs": []
  },
  {
   "metadata": {
    "ExecuteTime": {
     "end_time": "2025-08-28T02:19:23.805541Z",
     "start_time": "2025-08-28T02:19:23.786335Z"
    }
   },
   "cell_type": "code",
   "source": "df.loc['1983-01-05', '姓名']",
   "id": "d19be4985e9eea1f",
   "execution_count": 5,
   "outputs": []
  },
  {
   "metadata": {
    "ExecuteTime": {
     "end_time": "2025-08-28T02:19:47.710734Z",
     "start_time": "2025-08-28T02:19:47.703119Z"
    }
   },
   "cell_type": "code",
   "source": "df.loc['1987-03-06', '性别']",
   "id": "35955fc065ac7ed9",
   "execution_count": 6,
   "outputs": []
  },
  {
   "metadata": {},
   "cell_type": "markdown",
   "source": "多条件查询",
   "id": "cb2d346f14642ba7"
  },
  {
   "metadata": {
    "ExecuteTime": {
     "end_time": "2025-08-28T02:20:33.916321Z",
     "start_time": "2025-08-28T02:20:33.881779Z"
    }
   },
   "cell_type": "code",
   "source": [
    "path2 = './Repo/筛选.xlsx'\n",
    "df2 = pd.read_excel(path2, index_col = '出生日期')\n",
    "df2"
   ],
   "id": "40e7117f4312c034",
   "execution_count": 7,
   "outputs": []
  },
  {
   "metadata": {
    "ExecuteTime": {
     "end_time": "2025-08-28T02:21:57.749987Z",
     "start_time": "2025-08-28T02:21:57.735334Z"
    }
   },
   "cell_type": "code",
   "source": "df2.loc['1983-10-27', ['语文', '数学', '英语']]",
   "id": "6550291de0a98cad",
   "execution_count": 11,
   "outputs": []
  },
  {
   "metadata": {
    "ExecuteTime": {
     "end_time": "2025-08-28T02:23:43.680959Z",
     "start_time": "2025-08-28T02:23:43.665561Z"
    }
   },
   "cell_type": "code",
   "source": [
    "df2 = df2.sort_index()\n",
    "df2.loc['1983-10-27':'1990-12-31',['语文','数学','英语']]"
   ],
   "id": "f74f93af90dadbf4",
   "execution_count": 16,
   "outputs": []
  },
  {
   "metadata": {
    "ExecuteTime": {
     "end_time": "2025-08-28T02:24:23.095207Z",
     "start_time": "2025-08-28T02:24:23.081791Z"
    }
   },
   "cell_type": "code",
   "source": "df2.loc[(df2['语文'] > 60) & (df2['英语'] < 60), :]",
   "id": "1729703731723e61",
   "execution_count": 17,
   "outputs": []
  },
  {
   "metadata": {},
   "cell_type": "markdown",
   "source": "loc 实现条件判断",
   "id": "a18d95f779a39017"
  },
  {
   "metadata": {
    "ExecuteTime": {
     "end_time": "2025-08-28T02:25:28.852163Z",
     "start_time": "2025-08-28T02:25:28.845998Z"
    }
   },
   "cell_type": "code",
   "source": "path3 = './Repo/条件判断.xlsx'",
   "id": "b2ffe946c4a91df5",
   "execution_count": 20,
   "outputs": []
  },
  {
   "metadata": {
    "ExecuteTime": {
     "end_time": "2025-08-28T02:25:29.033230Z",
     "start_time": "2025-08-28T02:25:28.997012Z"
    }
   },
   "cell_type": "code",
   "source": "df4 = pd.read_excel(path3)",
   "id": "dab040bd9a548cb6",
   "execution_count": 21,
   "outputs": []
  },
  {
   "metadata": {
    "ExecuteTime": {
     "end_time": "2025-08-28T02:25:33.780851Z",
     "start_time": "2025-08-28T02:25:33.767873Z"
    }
   },
   "cell_type": "code",
   "source": "df4",
   "id": "44f7b71f51a064da",
   "execution_count": 22,
   "outputs": []
  },
  {
   "metadata": {
    "ExecuteTime": {
     "end_time": "2025-08-28T02:26:39.350605Z",
     "start_time": "2025-08-28T02:26:39.337754Z"
    }
   },
   "cell_type": "code",
   "source": [
    "df4.loc[df4['性别'] == '男', '称呼'] = '先生'\n",
    "df4.loc[df4['性别'] == '女', '称呼'] = '女士'\n",
    "df4"
   ],
   "id": "97492232f048aed2",
   "execution_count": 24,
   "outputs": []
  },
  {
   "metadata": {},
   "cell_type": "code",
   "execution_count": null,
   "source": "",
   "id": "4b538a1d2509e33d",
   "outputs": []
  }
 ],
 "metadata": {
  "kernelspec": {
   "display_name": "Python 3",
   "language": "python",
   "name": "python3"
  },
  "language_info": {
   "codemirror_mode": {
    "name": "ipython",
    "version": 2
   },
   "file_extension": ".py",
   "mimetype": "text/x-python",
   "name": "python",
   "nbconvert_exporter": "python",
   "pygments_lexer": "ipython2",
   "version": "2.7.6"
  }
 },
 "nbformat": 4,
 "nbformat_minor": 5
}
