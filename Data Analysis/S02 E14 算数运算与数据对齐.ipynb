{
 "cells": [
  {
   "cell_type": "code",
   "id": "initial_id",
   "metadata": {
    "collapsed": true,
    "ExecuteTime": {
     "end_time": "2025-08-28T08:13:42.734055Z",
     "start_time": "2025-08-28T08:13:41.945173Z"
    }
   },
   "source": "import pandas as pd",
   "outputs": [],
   "execution_count": 1
  },
  {
   "metadata": {
    "ExecuteTime": {
     "end_time": "2025-08-28T08:20:11.922390Z",
     "start_time": "2025-08-28T08:20:11.915387Z"
    }
   },
   "cell_type": "code",
   "source": "path = './Repo/计算.xlsx'",
   "id": "92698b1a5bb1ab4c",
   "outputs": [],
   "execution_count": 2
  },
  {
   "metadata": {
    "ExecuteTime": {
     "end_time": "2025-08-28T08:20:21.080153Z",
     "start_time": "2025-08-28T08:20:20.276548Z"
    }
   },
   "cell_type": "code",
   "source": "df = pd.read_excel(path)",
   "id": "bff589f1247ab553",
   "outputs": [],
   "execution_count": 4
  },
  {
   "metadata": {
    "ExecuteTime": {
     "end_time": "2025-08-28T08:20:28.125772Z",
     "start_time": "2025-08-28T08:20:28.105380Z"
    }
   },
   "cell_type": "code",
   "source": "df",
   "id": "570c61092f40264f",
   "outputs": [
    {
     "data": {
      "text/plain": [
       "    1店   2店\n",
       "0  5.0  3.0\n",
       "1  NaN  1.0\n",
       "2  1.0  NaN"
      ],
      "text/html": [
       "<div>\n",
       "<style scoped>\n",
       "    .dataframe tbody tr th:only-of-type {\n",
       "        vertical-align: middle;\n",
       "    }\n",
       "\n",
       "    .dataframe tbody tr th {\n",
       "        vertical-align: top;\n",
       "    }\n",
       "\n",
       "    .dataframe thead th {\n",
       "        text-align: right;\n",
       "    }\n",
       "</style>\n",
       "<table border=\"1\" class=\"dataframe\">\n",
       "  <thead>\n",
       "    <tr style=\"text-align: right;\">\n",
       "      <th></th>\n",
       "      <th>1店</th>\n",
       "      <th>2店</th>\n",
       "    </tr>\n",
       "  </thead>\n",
       "  <tbody>\n",
       "    <tr>\n",
       "      <th>0</th>\n",
       "      <td>5.0</td>\n",
       "      <td>3.0</td>\n",
       "    </tr>\n",
       "    <tr>\n",
       "      <th>1</th>\n",
       "      <td>NaN</td>\n",
       "      <td>1.0</td>\n",
       "    </tr>\n",
       "    <tr>\n",
       "      <th>2</th>\n",
       "      <td>1.0</td>\n",
       "      <td>NaN</td>\n",
       "    </tr>\n",
       "  </tbody>\n",
       "</table>\n",
       "</div>"
      ]
     },
     "execution_count": 5,
     "metadata": {},
     "output_type": "execute_result"
    }
   ],
   "execution_count": 5
  },
  {
   "metadata": {
    "ExecuteTime": {
     "end_time": "2025-08-28T08:20:46.337125Z",
     "start_time": "2025-08-28T08:20:46.326035Z"
    }
   },
   "cell_type": "code",
   "source": "df['1店'] + df['2店']",
   "id": "b4be479e1b184646",
   "outputs": [
    {
     "data": {
      "text/plain": [
       "0    8.0\n",
       "1    NaN\n",
       "2    NaN\n",
       "dtype: float64"
      ]
     },
     "execution_count": 6,
     "metadata": {},
     "output_type": "execute_result"
    }
   ],
   "execution_count": 6
  },
  {
   "metadata": {},
   "cell_type": "markdown",
   "source": "无论加减乘除，结果都是 `空值与数字计算` 等于 `空值`\n",
   "id": "15b3dc080ee20d47"
  },
  {
   "metadata": {},
   "cell_type": "markdown",
   "source": "方法一：将空值填充为0",
   "id": "a0633428b65a8d72"
  },
  {
   "metadata": {
    "ExecuteTime": {
     "end_time": "2025-08-28T08:21:29.792474Z",
     "start_time": "2025-08-28T08:21:29.779994Z"
    }
   },
   "cell_type": "code",
   "source": "df['1店'].fillna(0) + df['2店'].fillna(0)",
   "id": "5dd4625a44b280cf",
   "outputs": [
    {
     "data": {
      "text/plain": [
       "0    8.0\n",
       "1    1.0\n",
       "2    1.0\n",
       "dtype: float64"
      ]
     },
     "execution_count": 7,
     "metadata": {},
     "output_type": "execute_result"
    }
   ],
   "execution_count": 7
  },
  {
   "metadata": {},
   "cell_type": "markdown",
   "source": "方法二：灵活算术法",
   "id": "6af576a02503f97d"
  },
  {
   "metadata": {
    "ExecuteTime": {
     "end_time": "2025-08-28T08:22:14.427002Z",
     "start_time": "2025-08-28T08:22:14.417994Z"
    }
   },
   "cell_type": "code",
   "source": "df['1店'].add(df['2店'], fill_value = 0)",
   "id": "80a92bb834c4b08c",
   "outputs": [
    {
     "data": {
      "text/plain": [
       "0    8.0\n",
       "1    1.0\n",
       "2    1.0\n",
       "dtype: float64"
      ]
     },
     "execution_count": 8,
     "metadata": {},
     "output_type": "execute_result"
    }
   ],
   "execution_count": 8
  },
  {
   "metadata": {
    "ExecuteTime": {
     "end_time": "2025-08-28T08:23:07.681150Z",
     "start_time": "2025-08-28T08:23:07.672883Z"
    }
   },
   "cell_type": "code",
   "source": "result = df['1店'].div(df['2店'], fill_value = 0)",
   "id": "a4da264d33fff882",
   "outputs": [],
   "execution_count": 9
  },
  {
   "metadata": {
    "ExecuteTime": {
     "end_time": "2025-08-28T08:23:09.751346Z",
     "start_time": "2025-08-28T08:23:09.744033Z"
    }
   },
   "cell_type": "code",
   "source": "result",
   "id": "b76e713f52088cb9",
   "outputs": [
    {
     "data": {
      "text/plain": [
       "0    1.666667\n",
       "1    0.000000\n",
       "2         inf\n",
       "dtype: float64"
      ]
     },
     "execution_count": 10,
     "metadata": {},
     "output_type": "execute_result"
    }
   ],
   "execution_count": 10
  },
  {
   "metadata": {},
   "cell_type": "markdown",
   "source": "数据对齐",
   "id": "d8378fa8db5dbf33"
  },
  {
   "metadata": {
    "ExecuteTime": {
     "end_time": "2025-08-28T08:26:48.842167Z",
     "start_time": "2025-08-28T08:26:48.836046Z"
    }
   },
   "cell_type": "code",
   "source": "path = './Repo/对齐.xlsx'",
   "id": "7458a18ec747bb7b",
   "outputs": [],
   "execution_count": 11
  },
  {
   "metadata": {},
   "cell_type": "markdown",
   "source": "sheet_name 指定读取哪个子表",
   "id": "fa631621a298fbb2"
  },
  {
   "metadata": {
    "ExecuteTime": {
     "end_time": "2025-08-28T08:27:11.085972Z",
     "start_time": "2025-08-28T08:27:11.055958Z"
    }
   },
   "cell_type": "code",
   "source": "df1 = pd.read_excel(path, index_col = '序号', sheet_name = 'Sheet1')",
   "id": "e373517d6e69364b",
   "outputs": [],
   "execution_count": 12
  },
  {
   "metadata": {
    "ExecuteTime": {
     "end_time": "2025-08-28T08:27:16.262642Z",
     "start_time": "2025-08-28T08:27:16.242116Z"
    }
   },
   "cell_type": "code",
   "source": "df2 = pd.read_excel(path, index_col = '序号', sheet_name = 'Sheet2')",
   "id": "142db7bc082e5370",
   "outputs": [],
   "execution_count": 13
  },
  {
   "metadata": {
    "ExecuteTime": {
     "end_time": "2025-08-28T08:27:28.029188Z",
     "start_time": "2025-08-28T08:27:28.020185Z"
    }
   },
   "cell_type": "code",
   "source": "df1, df2",
   "id": "3d33b96b75fb65f1",
   "outputs": [
    {
     "data": {
      "text/plain": [
       "(      x    y    z\n",
       " 序号               \n",
       " a   100  101  102\n",
       " b   200  201  202,\n",
       "     y  z  t\n",
       " 序号         \n",
       " c   1  2  3\n",
       " b   2  4  5)"
      ]
     },
     "execution_count": 14,
     "metadata": {},
     "output_type": "execute_result"
    }
   ],
   "execution_count": 14
  },
  {
   "metadata": {
    "ExecuteTime": {
     "end_time": "2025-08-28T08:27:47.674334Z",
     "start_time": "2025-08-28T08:27:47.658178Z"
    }
   },
   "cell_type": "code",
   "source": [
    "res = df1.add(df2, fill_value = 0)\n",
    "res, 666"
   ],
   "id": "8302f9842f2df9a3",
   "outputs": [
    {
     "data": {
      "text/plain": [
       "(      t      x      y      z\n",
       " 序号                          \n",
       " a   NaN  100.0  101.0  102.0\n",
       " b   5.0  200.0  203.0  206.0\n",
       " c   3.0    NaN    1.0    2.0,\n",
       " 666)"
      ]
     },
     "execution_count": 18,
     "metadata": {},
     "output_type": "execute_result"
    }
   ],
   "execution_count": 18
  }
 ],
 "metadata": {
  "kernelspec": {
   "display_name": "Python 3",
   "language": "python",
   "name": "python3"
  },
  "language_info": {
   "codemirror_mode": {
    "name": "ipython",
    "version": 2
   },
   "file_extension": ".py",
   "mimetype": "text/x-python",
   "name": "python",
   "nbconvert_exporter": "python",
   "pygments_lexer": "ipython2",
   "version": "2.7.6"
  }
 },
 "nbformat": 4,
 "nbformat_minor": 5
}
