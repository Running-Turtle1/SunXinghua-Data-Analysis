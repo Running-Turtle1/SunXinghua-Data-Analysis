{
 "cells": [
  {
   "cell_type": "code",
   "id": "initial_id",
   "metadata": {
    "collapsed": true,
    "ExecuteTime": {
     "end_time": "2025-08-24T07:27:31.472432Z",
     "start_time": "2025-08-24T07:27:31.463349Z"
    }
   },
   "source": [
    "import numpy as np\n",
    "a = np.arange(1, 6)\n",
    "b = np.array([1, 2, 3, 4, 5])\n",
    "c = np.array(range(1, 6))\n",
    "a, b, c"
   ],
   "execution_count": 2,
   "outputs": []
  },
  {
   "metadata": {},
   "cell_type": "markdown",
   "source": "`array` 可以把输入数组转换为 ndarray， ndarray 是 Numpy 数组",
   "id": "3b0b8395d0a0b5c4"
  },
  {
   "metadata": {},
   "cell_type": "markdown",
   "source": [
    "**array的属性**\n",
    "\n",
    "- shape: 返回元组表示维度\n",
    "- ndim：返回维度的数目\n",
    "- size：所有元素的数目\n",
    "- dtype：元素的数据类型"
   ],
   "id": "da664fb0ec2f93a6"
  },
  {
   "metadata": {
    "ExecuteTime": {
     "end_time": "2025-08-24T07:28:24.581259Z",
     "start_time": "2025-08-24T07:28:24.571295Z"
    }
   },
   "cell_type": "code",
   "source": "a.dtype, type(a)",
   "id": "4a241d8c8a82381",
   "execution_count": 4,
   "outputs": []
  },
  {
   "metadata": {},
   "cell_type": "markdown",
   "source": "指定数据类型",
   "id": "caa55c247fd85e98"
  },
  {
   "metadata": {
    "ExecuteTime": {
     "end_time": "2025-08-24T07:31:55.161063Z",
     "start_time": "2025-08-24T07:31:55.153922Z"
    }
   },
   "cell_type": "code",
   "source": [
    "a = np.array(range(1, 6), dtype = float)\n",
    "b = np.array(range(1, 6), dtype = 'float32')\n",
    "print(a.dtype)\n",
    "print(b.dtype)"
   ],
   "id": "68cc9d37c11b8567",
   "execution_count": 5,
   "outputs": []
  },
  {
   "metadata": {
    "ExecuteTime": {
     "end_time": "2025-08-24T07:32:38.705206Z",
     "start_time": "2025-08-24T07:32:38.697178Z"
    }
   },
   "cell_type": "code",
   "source": "np.arange(5)",
   "id": "e78658e63ab3cc41",
   "execution_count": 6,
   "outputs": []
  },
  {
   "metadata": {
    "ExecuteTime": {
     "end_time": "2025-08-24T07:32:48.524840Z",
     "start_time": "2025-08-24T07:32:48.518622Z"
    }
   },
   "cell_type": "code",
   "source": "np.arange(1, 10, 2)",
   "id": "ff0c50dffb3c0f2a",
   "execution_count": 7,
   "outputs": []
  },
  {
   "metadata": {},
   "cell_type": "markdown",
   "source": [
    "np.ones(shape,dtype=None,order='C')\n",
    "\n",
    "参数：\n",
    "shape：整数或者整型元组定义返回数组的形状；可以是一个数（创建一维向量），也可以是一个元组（创建多维向量）\n",
    "\n",
    "dtype : 数据类型，可选定义返回数组的类型。\n",
    "\n",
    "order : {‘C’, ‘F’}, 可选规定返回数组元素在内存的存储顺序：C（C语言）-rowmajor；F（Fortran）column-major。"
   ],
   "id": "1d0bceaefd4ebcea"
  },
  {
   "metadata": {
    "ExecuteTime": {
     "end_time": "2025-08-24T07:33:32.323449Z",
     "start_time": "2025-08-24T07:33:32.312249Z"
    }
   },
   "cell_type": "code",
   "source": "np.ones((3, 3))",
   "id": "837a6752d385ea8a",
   "execution_count": 8,
   "outputs": []
  },
  {
   "metadata": {
    "ExecuteTime": {
     "end_time": "2025-08-24T07:34:01.349730Z",
     "start_time": "2025-08-24T07:34:01.341699Z"
    }
   },
   "cell_type": "code",
   "source": "np.ones((3,), dtype = int)",
   "id": "7e337dcc9ba1f4c4",
   "execution_count": 10,
   "outputs": []
  },
  {
   "metadata": {},
   "cell_type": "markdown",
   "source": [
    "np.ones_like(a,dtype=float,order='C',subok=True)\n",
    "\n",
    "返回：与a相同形状和数据类型的数组，并且数组中的值都为1\n",
    "\n",
    "参数：\n",
    "a：用a的形状和数据类型，来定义返回数组的属性\n",
    "dtype ： 数据类型，可选\n",
    "order顺序 ： {'C'，'F'，'A'或'K'}，可选,覆盖结果的内存布局。\n",
    "subok ： bool，可选。True：使用a的内部数据类型，False：使用a数组的数据类型，默认为True"
   ],
   "id": "1fbf49cc1bfa6684"
  },
  {
   "metadata": {
    "ExecuteTime": {
     "end_time": "2025-08-24T07:36:01.746646Z",
     "start_time": "2025-08-24T07:36:01.737436Z"
    }
   },
   "cell_type": "code",
   "source": [
    "x = np.array([[0, 1, 2], [3, 4, 5]])\n",
    "x"
   ],
   "id": "1f7825811f1a7d3e",
   "execution_count": 11,
   "outputs": []
  },
  {
   "metadata": {
    "ExecuteTime": {
     "end_time": "2025-08-24T07:37:51.422609Z",
     "start_time": "2025-08-24T07:37:51.414651Z"
    }
   },
   "cell_type": "code",
   "source": "np.ones_like(x)",
   "id": "8dc56e9afea9b2db",
   "execution_count": 14,
   "outputs": []
  },
  {
   "metadata": {
    "ExecuteTime": {
     "end_time": "2025-08-24T07:38:16.401937Z",
     "start_time": "2025-08-24T07:38:16.391432Z"
    }
   },
   "cell_type": "code",
   "source": [
    "y = np.array([0., 1., 2.])\n",
    "np.ones_like(y)"
   ],
   "id": "155eb4aedefc52e1",
   "execution_count": 15,
   "outputs": []
  },
  {
   "metadata": {},
   "cell_type": "markdown",
   "source": "zeros, zeros_like",
   "id": "6dde0d8e081482a4"
  },
  {
   "metadata": {
    "ExecuteTime": {
     "end_time": "2025-08-24T07:40:18.889838Z",
     "start_time": "2025-08-24T07:40:18.880836Z"
    }
   },
   "cell_type": "code",
   "source": "np.full(shape = (2, 3), fill_value = 23)",
   "id": "e98a67454a4df0d6",
   "execution_count": 16,
   "outputs": []
  }
 ],
 "metadata": {
  "kernelspec": {
   "display_name": "Python 3",
   "language": "python",
   "name": "python3"
  },
  "language_info": {
   "codemirror_mode": {
    "name": "ipython",
    "version": 2
   },
   "file_extension": ".py",
   "mimetype": "text/x-python",
   "name": "python",
   "nbconvert_exporter": "python",
   "pygments_lexer": "ipython2",
   "version": "2.7.6"
  }
 },
 "nbformat": 4,
 "nbformat_minor": 5
}
