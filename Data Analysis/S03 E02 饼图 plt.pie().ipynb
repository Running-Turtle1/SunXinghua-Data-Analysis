{
 "cells": [
  {
   "metadata": {},
   "cell_type": "markdown",
   "source": [
    "```cpp\n",
    "def pie(x, explode=None, labels=None, colors=None, autopct=None,\n",
    "        pctdistance=0.6, shadow=False, labeldistance=1.1, startangle=None,\n",
    "        radius=None, counterclock=True, wedgeprops=None, textprops=None,\n",
    "        center=(0, 0), frame=False, rotatelabels=False, hold=None, data=None)\n",
    "```\n",
    "\n",
    "- x       :(每一块)的比例，如果sum(x) > 1会使用sum(x)归一化；\n",
    "\n",
    "- labels  :(每一块)饼图外侧显示的说明文字；\n",
    "\n",
    "- explode :(每一块)离开中心距离；\n",
    "\n",
    "- startangle :起始绘制角度,默认图是从x轴正方向逆时针画起,如设定=90则从y轴正方向画起；\n",
    "\n",
    "- shadow  :在饼图下面画一个阴影。默认值：False，即不画阴影；\n",
    "\n",
    "- labeldistance :label标记的绘制位置,相对于半径的比例，默认值为1.1, 如<1则绘制在饼图内侧；\n",
    "\n",
    "- autopct :控制饼图内百分比设置,可以使用format字符串或者format function    '%1.1f'指小数点前后位数(没有用空格补齐)；\n",
    "\n",
    "- pctdistance :类似于labeldistance,指定autopct的位置刻度,默认值为0.6；\n",
    "\n",
    "- radius  :控制饼图半径，默认值为1；counterclock ：指定指针方向；布尔值，可选参数，默认为：True，即逆时针。将值改为False即可改为顺时针。wedgeprops ：字典类型，可选参数，默认值：None。参数字典传递给wedge对象用来画一个饼图。例如：wedgeprops={'linewidth':3}设置wedge线宽为3。\n",
    "\n",
    "- textprops ：设置标签（labels）和比例文字的格式；字典类型，可选参数，默认值为：None。传递给text对象的字典参数。\n",
    "- center ：浮点类型的列表，可选参数，默认值：(0,0)。图标中心位置。\n",
    "\n",
    "- frame ：布尔类型，可选参数，默认值：False。如果是true，绘制带有表的轴框架。\n",
    "\n",
    "- rotatelabels ：布尔类型，可选参数，默认为：False。如果为True，旋转每个label到指定的角度。"
   ],
   "id": "8e8476620af6461c"
  },
  {
   "metadata": {
    "ExecuteTime": {
     "end_time": "2025-08-31T02:23:41.895139Z",
     "start_time": "2025-08-31T02:23:41.111013Z"
    }
   },
   "cell_type": "code",
   "source": [
    "import pandas as pd\n",
    "import matplotlib.pyplot as plt"
   ],
   "id": "b849ed0c33d49d32",
   "outputs": [],
   "execution_count": 2
  },
  {
   "metadata": {
    "ExecuteTime": {
     "end_time": "2025-08-31T02:23:48.286806Z",
     "start_time": "2025-08-31T02:23:48.280630Z"
    }
   },
   "cell_type": "code",
   "source": "plt.rcParams['font.sans-serif']=['SimHei']",
   "id": "139cbc508dfe80b4",
   "outputs": [],
   "execution_count": 3
  },
  {
   "metadata": {
    "ExecuteTime": {
     "end_time": "2025-08-31T02:24:12.833689Z",
     "start_time": "2025-08-31T02:24:12.278958Z"
    }
   },
   "cell_type": "code",
   "source": "df = pd.read_excel(r'./repo2/07.饼图.xlsx')",
   "id": "e7800c0ebc8b0968",
   "outputs": [],
   "execution_count": 4
  },
  {
   "metadata": {
    "ExecuteTime": {
     "end_time": "2025-08-31T02:24:17.342985Z",
     "start_time": "2025-08-31T02:24:17.332468Z"
    }
   },
   "cell_type": "code",
   "source": "df,",
   "id": "8fb0ccf4af769c10",
   "outputs": [
    {
     "data": {
      "text/plain": [
       "(   姓名  第一次  第二次\n",
       " 0  张三   33   21\n",
       " 1  李四   28   19\n",
       " 2  王五   39   60,)"
      ]
     },
     "execution_count": 6,
     "metadata": {},
     "output_type": "execute_result"
    }
   ],
   "execution_count": 6
  },
  {
   "metadata": {},
   "cell_type": "markdown",
   "source": [
    "- **autopct**\n",
    "\n",
    "第一个 %：这是格式化字符串的开始符号。\n",
    "\n",
    "f：代表 \"float\"，意思是将数字当作浮点数（也就是小数）来处理。\n",
    "\n",
    ".1：这是最关键的部分，点后面的数字 1 代表小数点后保留 1 位。\n",
    "\n",
    "1：点前面的数字 1 代表这个数字总共至少占有 1 位的宽度。在这个场景下，这个 1 通常没什么实际影响，因为百分比数字宽度肯定会超过1。你主要需要关注的是点后面的数字。\n",
    "\n",
    "第二个 %%：因为 % 是一个特殊字符，如果你想在最终的文本里显示一个百分号 %，你需要写两次，即 %%。"
   ],
   "id": "c21e4860a3153106"
  },
  {
   "metadata": {
    "ExecuteTime": {
     "end_time": "2025-08-31T02:32:30.793903Z",
     "start_time": "2025-08-31T02:32:30.719133Z"
    }
   },
   "cell_type": "code",
   "source": [
    "plt.pie(\n",
    "    x = df.第一次, # 数据\n",
    "    labels = tuple(df.姓名), # 图例\n",
    "    # explode = (0, 0.2, 0), 离心距离\n",
    "    colors = ['r', 'g', 'b'],\n",
    "    # shadow = True, 阴影\n",
    "    autopct='%1.1f%%',\n",
    "    # startangle = 90, # 起始绘制角度\n",
    "    radius = 1.3,\n",
    "    # pctdistance = 0.6 # 百分比离圆心的距离, default = 0.6\n",
    "    # 文字样式\n",
    "    # textprops = {\n",
    "    #     'fontsize': 20,\n",
    "    #     'color': 'black'\n",
    "    # }\n",
    ")\n",
    "plt.show()"
   ],
   "id": "849824fb5b23f235",
   "outputs": [
    {
     "data": {
      "text/plain": [
       "<Figure size 640x480 with 1 Axes>"
      ],
      "image/png": "[encoded data removed]"
     },
     "metadata": {},
     "output_type": "display_data"
    }
   ],
   "execution_count": 30
  },
  {
   "metadata": {},
   "cell_type": "code",
   "outputs": [],
   "execution_count": null,
   "source": "",
   "id": "2053f7baed8a2107"
  }
 ],
 "metadata": {
  "kernelspec": {
   "display_name": "Python 3",
   "language": "python",
   "name": "python3"
  },
  "language_info": {
   "codemirror_mode": {
    "name": "ipython",
    "version": 2
   },
   "file_extension": ".py",
   "mimetype": "text/x-python",
   "name": "python",
   "nbconvert_exporter": "python",
   "pygments_lexer": "ipython2",
   "version": "2.7.6"
  }
 },
 "nbformat": 4,
 "nbformat_minor": 5
}
