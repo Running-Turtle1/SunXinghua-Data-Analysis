{
 "cells": [
  {
   "cell_type": "code",
   "id": "initial_id",
   "metadata": {
    "collapsed": true,
    "ExecuteTime": {
     "end_time": "2025-08-24T13:42:37.871203Z",
     "start_time": "2025-08-24T13:42:36.201544Z"
    }
   },
   "source": "import numpy as np",
   "execution_count": 1,
   "outputs": []
  },
  {
   "metadata": {
    "ExecuteTime": {
     "end_time": "2025-08-24T13:43:29.637600Z",
     "start_time": "2025-08-24T13:43:29.630424Z"
    }
   },
   "cell_type": "code",
   "source": [
    "a = np.array([\n",
    "    [[1, 2], [4, 3], [7, 4]],\n",
    "    [[8, 9], [11,12],[14,15]],\n",
    "    [[10,11],[13,14],[16,17]],\n",
    "    [[19,20],[22,23],[25,26]]\n",
    "])"
   ],
   "id": "70cf032ecd5458a6",
   "execution_count": 2,
   "outputs": []
  },
  {
   "metadata": {
    "ExecuteTime": {
     "end_time": "2025-08-24T13:44:04.181611Z",
     "start_time": "2025-08-24T13:44:04.171572Z"
    }
   },
   "cell_type": "code",
   "source": "a.shape == (4, 3, 2)",
   "id": "b296395e8c2ba857",
   "execution_count": 4,
   "outputs": []
  },
  {
   "metadata": {
    "ExecuteTime": {
     "end_time": "2025-08-24T13:44:36.906347Z",
     "start_time": "2025-08-24T13:44:36.897826Z"
    }
   },
   "cell_type": "code",
   "source": "a[0, 1, 1]",
   "id": "c5ea7de70b488b1f",
   "execution_count": 7,
   "outputs": []
  },
  {
   "metadata": {
    "ExecuteTime": {
     "end_time": "2025-08-24T13:45:20.155914Z",
     "start_time": "2025-08-24T13:45:20.146601Z"
    }
   },
   "cell_type": "code",
   "source": "a[0]",
   "id": "c42969bd011bb0e0",
   "execution_count": 9,
   "outputs": []
  },
  {
   "metadata": {
    "ExecuteTime": {
     "end_time": "2025-08-24T13:45:50.585695Z",
     "start_time": "2025-08-24T13:45:50.576374Z"
    }
   },
   "cell_type": "code",
   "source": "a[3][1][1] == 23",
   "id": "f7553f349c5a6e5d",
   "execution_count": 10,
   "outputs": []
  },
  {
   "metadata": {},
   "cell_type": "markdown",
   "source": "切片",
   "id": "46ede2d915cc4519"
  },
  {
   "metadata": {
    "ExecuteTime": {
     "end_time": "2025-08-24T13:47:35.325004Z",
     "start_time": "2025-08-24T13:47:35.318756Z"
    }
   },
   "cell_type": "code",
   "source": [
    "b = np.array([[1,2,3],[4,5,6],[7,8,9]])\n",
    "b"
   ],
   "id": "1d81f7fc922d4671",
   "execution_count": 12,
   "outputs": []
  },
  {
   "metadata": {
    "ExecuteTime": {
     "end_time": "2025-08-24T13:47:45.624228Z",
     "start_time": "2025-08-24T13:47:45.614781Z"
    }
   },
   "cell_type": "code",
   "source": "b[:2]",
   "id": "e7b87231403af038",
   "execution_count": 13,
   "outputs": []
  },
  {
   "metadata": {
    "ExecuteTime": {
     "end_time": "2025-08-24T13:47:56.989814Z",
     "start_time": "2025-08-24T13:47:56.980305Z"
    }
   },
   "cell_type": "code",
   "source": "b[:2, 1:]",
   "id": "f6932439fdf8fc27",
   "execution_count": 14,
   "outputs": []
  },
  {
   "metadata": {},
   "cell_type": "markdown",
   "source": "2 传入轴怎么理解",
   "id": "7a36d58df6254986"
  },
  {
   "metadata": {
    "ExecuteTime": {
     "end_time": "2025-08-24T13:50:04.951448Z",
     "start_time": "2025-08-24T13:50:04.947284Z"
    }
   },
   "cell_type": "code",
   "source": "c = np.arange(16)",
   "id": "d4f3fee5821edeb",
   "execution_count": 15,
   "outputs": []
  },
  {
   "metadata": {
    "ExecuteTime": {
     "end_time": "2025-08-24T13:50:08.099960Z",
     "start_time": "2025-08-24T13:50:08.089557Z"
    }
   },
   "cell_type": "code",
   "source": "c",
   "id": "f268dab8bd5dca30",
   "execution_count": 16,
   "outputs": []
  },
  {
   "metadata": {},
   "cell_type": "code",
   "execution_count": null,
   "source": "c.reshape(2, 2, 4)",
   "id": "261bc886580005c",
   "outputs": []
  },
  {
   "metadata": {},
   "cell_type": "code",
   "execution_count": null,
   "source": [
    "[\n",
    "    [[0,  1,  2,  3],  [4,  5,  6,  7]],  \n",
    "    [[8,  9, 10, 11], [12, 13, 14, 15]]\n",
    "]"
   ],
   "id": "476928cff8aea603",
   "outputs": []
  },
  {
   "metadata": {
    "ExecuteTime": {
     "end_time": "2025-08-24T13:51:57.333324Z",
     "start_time": "2025-08-24T13:51:57.326773Z"
    }
   },
   "cell_type": "code",
   "source": [
    "np.array(\n",
    "    [\n",
    "    [[0,  1,  2,  3],  [4,  5,  6,  7]],  \n",
    "    [[8,  9, 10, 11], [12, 13, 14, 15]]\n",
    "    ]\n",
    ").shape"
   ],
   "id": "ef35a1101318eb66",
   "execution_count": 17,
   "outputs": []
  },
  {
   "metadata": {
    "ExecuteTime": {
     "end_time": "2025-08-24T13:52:15.243944Z",
     "start_time": "2025-08-24T13:52:15.233256Z"
    }
   },
   "cell_type": "code",
   "source": "c.reshape(2, 2, 4)",
   "id": "f0664c2e79d55ae8",
   "execution_count": 18,
   "outputs": []
  },
  {
   "metadata": {
    "ExecuteTime": {
     "end_time": "2025-08-24T13:53:50.048362Z",
     "start_time": "2025-08-24T13:53:50.038116Z"
    }
   },
   "cell_type": "code",
   "source": [
    "c = c.reshape(2, 2, 4)\n",
    "c"
   ],
   "id": "26d5ee0b8d85ebfb",
   "execution_count": 19,
   "outputs": []
  },
  {
   "metadata": {
    "ExecuteTime": {
     "end_time": "2025-08-24T13:54:15.447538Z",
     "start_time": "2025-08-24T13:54:15.429118Z"
    }
   },
   "cell_type": "code",
   "source": "c.transpose(1, 0, 2)",
   "id": "832e1e7263df29d3",
   "execution_count": 20,
   "outputs": []
  },
  {
   "metadata": {},
   "cell_type": "markdown",
   "source": [
    "(0,0) -> [0, 1, 2, 3]\n",
    "\n",
    "(0,1) -> [ 4,  5,  6,  7]\n",
    "\n",
    "(1,0) -> [8, 9, 10, 11]\n",
    "\n",
    "(1,1) -> [12, 13, 14, 15]"
   ],
   "id": "c33e25c4554fc873"
  },
  {
   "metadata": {
    "ExecuteTime": {
     "end_time": "2025-08-24T13:58:36.465759Z",
     "start_time": "2025-08-24T13:58:36.458987Z"
    }
   },
   "cell_type": "code",
   "source": "c.transpose(1, 0, 2).shape # 交换 (0, 1) (1,0)",
   "id": "18d1e160175a58b2",
   "execution_count": 22,
   "outputs": []
  },
  {
   "metadata": {
    "ExecuteTime": {
     "end_time": "2025-08-24T13:58:43.728401Z",
     "start_time": "2025-08-24T13:58:43.722240Z"
    }
   },
   "cell_type": "code",
   "source": "c.transpose(1, 0, 2)",
   "id": "41159e1ca6cc944c",
   "execution_count": 23,
   "outputs": []
  },
  {
   "metadata": {
    "ExecuteTime": {
     "end_time": "2025-08-24T13:58:50.824637Z",
     "start_time": "2025-08-24T13:58:50.817483Z"
    }
   },
   "cell_type": "code",
   "source": "c.transpose(2, 1, 0)",
   "id": "6f52013f8fead4f3",
   "execution_count": 24,
   "outputs": []
  },
  {
   "metadata": {},
   "cell_type": "markdown",
   "source": "",
   "id": "3f385aa5d2195472"
  },
  {
   "metadata": {},
   "cell_type": "code",
   "execution_count": null,
   "source": "",
   "id": "d63c5133f0b0b3ae",
   "outputs": []
  }
 ],
 "metadata": {
  "kernelspec": {
   "display_name": "Python 3",
   "language": "python",
   "name": "python3"
  },
  "language_info": {
   "codemirror_mode": {
    "name": "ipython",
    "version": 2
   },
   "file_extension": ".py",
   "mimetype": "text/x-python",
   "name": "python",
   "nbconvert_exporter": "python",
   "pygments_lexer": "ipython2",
   "version": "2.7.6"
  }
 },
 "nbformat": 4,
 "nbformat_minor": 5
}
