{
 "cells": [
  {
   "cell_type": "code",
   "id": "initial_id",
   "metadata": {
    "collapsed": true,
    "ExecuteTime": {
     "end_time": "2025-08-28T02:00:28.207299Z",
     "start_time": "2025-08-28T02:00:28.202720Z"
    }
   },
   "source": [
    "import numpy as np\n",
    "import pandas as pd"
   ],
   "execution_count": 14,
   "outputs": []
  },
  {
   "metadata": {
    "ExecuteTime": {
     "end_time": "2025-08-28T02:00:28.323197Z",
     "start_time": "2025-08-28T02:00:28.300678Z"
    }
   },
   "cell_type": "code",
   "source": [
    "path = './Repo/计算列.xlsx'\n",
    "df = pd.read_excel(path, index_col = '序号')\n",
    "df"
   ],
   "id": "f56c36bdfde2f6e9",
   "execution_count": 15,
   "outputs": []
  },
  {
   "metadata": {
    "ExecuteTime": {
     "end_time": "2025-08-28T02:00:28.336720Z",
     "start_time": "2025-08-28T02:00:28.329710Z"
    }
   },
   "cell_type": "code",
   "source": "df['销售金额'] = df['单价'] * df['销售数量']",
   "id": "8a5f33f2fa99c7c3",
   "execution_count": 16,
   "outputs": []
  },
  {
   "metadata": {
    "ExecuteTime": {
     "end_time": "2025-08-28T02:00:28.433278Z",
     "start_time": "2025-08-28T02:00:28.421272Z"
    }
   },
   "cell_type": "code",
   "source": "df",
   "id": "f3bed8c408a365a7",
   "execution_count": 17,
   "outputs": []
  },
  {
   "metadata": {},
   "cell_type": "markdown",
   "source": "apply() 函数",
   "id": "93598581a9eeb1a9"
  },
  {
   "metadata": {
    "ExecuteTime": {
     "end_time": "2025-08-28T02:00:28.496688Z",
     "start_time": "2025-08-28T02:00:28.488655Z"
    }
   },
   "cell_type": "code",
   "source": "df['单价'] = df['单价'].apply(lambda x : x * 2)",
   "id": "7a6fe343e3258c86",
   "execution_count": 18,
   "outputs": []
  },
  {
   "metadata": {
    "ExecuteTime": {
     "end_time": "2025-08-28T02:00:28.713365Z",
     "start_time": "2025-08-28T02:00:28.702959Z"
    }
   },
   "cell_type": "code",
   "source": "df",
   "id": "4c9611a2b4715979",
   "execution_count": 19,
   "outputs": []
  },
  {
   "metadata": {
    "ExecuteTime": {
     "end_time": "2025-08-28T02:00:28.825420Z",
     "start_time": "2025-08-28T02:00:28.798385Z"
    }
   },
   "cell_type": "code",
   "source": [
    "path = './Repo/apply函数.xlsx'\n",
    "df = pd.read_excel(path)\n",
    "df"
   ],
   "id": "ed77ca4ef5158085",
   "execution_count": 20,
   "outputs": []
  },
  {
   "metadata": {
    "ExecuteTime": {
     "end_time": "2025-08-28T02:00:29.078043Z",
     "start_time": "2025-08-28T02:00:29.060926Z"
    }
   },
   "cell_type": "code",
   "source": [
    "df['加分'] = df['民族'].apply(lambda x : 5 if x != '汉' else 0)\n",
    "df['总分'] += df['加分']\n",
    "df"
   ],
   "id": "e65aa9365485cace",
   "execution_count": 21,
   "outputs": []
  },
  {
   "metadata": {
    "ExecuteTime": {
     "end_time": "2025-08-28T02:00:29.169623Z",
     "start_time": "2025-08-28T02:00:29.155633Z"
    }
   },
   "cell_type": "code",
   "source": [
    "df = pd.DataFrame(\n",
    "    [[1, 2, 3], [4, 5, 6], [7, 8, 9]],\n",
    "    columns = ['x', 'y', 'z'],\n",
    "    index = ['a', 'b', 'c']\n",
    ")\n",
    "df"
   ],
   "id": "8709838f91ff2a31",
   "execution_count": 22,
   "outputs": []
  },
  {
   "metadata": {
    "ExecuteTime": {
     "end_time": "2025-08-28T02:00:38.839397Z",
     "start_time": "2025-08-28T02:00:38.834382Z"
    }
   },
   "cell_type": "code",
   "source": [
    "import numpy as np\n",
    "df = df.apply(np.square)"
   ],
   "id": "617bab5a1e19afdf",
   "execution_count": 25,
   "outputs": []
  },
  {
   "metadata": {
    "ExecuteTime": {
     "end_time": "2025-08-28T02:00:39.038765Z",
     "start_time": "2025-08-28T02:00:39.027231Z"
    }
   },
   "cell_type": "code",
   "source": "df",
   "id": "c1bc4b4cadaf636c",
   "execution_count": 26,
   "outputs": []
  },
  {
   "metadata": {},
   "cell_type": "markdown",
   "source": "默认 `axis=0`, 按照行的方向应用 apply, 代表类名",
   "id": "c9116c45a8b33968"
  },
  {
   "metadata": {
    "ExecuteTime": {
     "end_time": "2025-08-28T02:03:15.045489Z",
     "start_time": "2025-08-28T02:03:15.031951Z"
    }
   },
   "cell_type": "code",
   "source": [
    "df2 = df.apply(lambda a : np.square(a) if a.name == 'x' else a)\n",
    "df2"
   ],
   "id": "f9634d015174890c",
   "execution_count": 35,
   "outputs": []
  },
  {
   "metadata": {},
   "cell_type": "markdown",
   "source": "按照列方向, a.name 代表的是行名 (index)/行索引",
   "id": "514e7efb9db4b0a4"
  },
  {
   "metadata": {
    "ExecuteTime": {
     "end_time": "2025-08-28T02:06:16.007040Z",
     "start_time": "2025-08-28T02:06:15.999559Z"
    }
   },
   "cell_type": "code",
   "source": "df3 = df.apply(lambda a : np.square(a) if a.name in ['x', 'y'] else a, axis = 1)",
   "id": "d70ee3ba68909543",
   "execution_count": 36,
   "outputs": []
  },
  {
   "metadata": {
    "ExecuteTime": {
     "end_time": "2025-08-28T02:02:19.123665Z",
     "start_time": "2025-08-28T02:02:19.114664Z"
    }
   },
   "cell_type": "code",
   "source": "df.iloc[0].name",
   "id": "f274a7210e0d837c",
   "execution_count": 33,
   "outputs": []
  },
  {
   "metadata": {
    "ExecuteTime": {
     "end_time": "2025-08-28T02:03:03.435723Z",
     "start_time": "2025-08-28T02:03:03.425708Z"
    }
   },
   "cell_type": "code",
   "source": "df.iloc[0]",
   "id": "908886c2b7d3eea4",
   "execution_count": 34,
   "outputs": []
  },
  {
   "metadata": {
    "ExecuteTime": {
     "end_time": "2025-08-28T02:07:54.546485Z",
     "start_time": "2025-08-28T02:07:54.538500Z"
    }
   },
   "cell_type": "code",
   "source": "path = './Repo/计算日期.xlsx'",
   "id": "9cc9d5f91b0ff12a",
   "execution_count": 37,
   "outputs": []
  },
  {
   "metadata": {
    "ExecuteTime": {
     "end_time": "2025-08-28T02:08:03.357596Z",
     "start_time": "2025-08-28T02:08:03.332586Z"
    }
   },
   "cell_type": "code",
   "source": "df = pd.read_excel(path, index_col = '序号')",
   "id": "9782a4c02fbb35c6",
   "execution_count": 38,
   "outputs": []
  },
  {
   "metadata": {
    "ExecuteTime": {
     "end_time": "2025-08-28T02:08:04.131374Z",
     "start_time": "2025-08-28T02:08:04.117240Z"
    }
   },
   "cell_type": "code",
   "source": "df",
   "id": "75173dde0b61a447",
   "execution_count": 39,
   "outputs": []
  },
  {
   "metadata": {
    "ExecuteTime": {
     "end_time": "2025-08-28T02:08:24.827347Z",
     "start_time": "2025-08-28T02:08:24.807984Z"
    }
   },
   "cell_type": "code",
   "source": [
    "df['间隔'] = df['结束日期'] - df['起始日期']\n",
    "df"
   ],
   "id": "8f327cd7a7f5267a",
   "execution_count": 40,
   "outputs": []
  },
  {
   "metadata": {},
   "cell_type": "code",
   "execution_count": null,
   "source": "",
   "id": "aa83f79c18c31c44",
   "outputs": []
  }
 ],
 "metadata": {
  "kernelspec": {
   "display_name": "Python 3",
   "language": "python",
   "name": "python3"
  },
  "language_info": {
   "codemirror_mode": {
    "name": "ipython",
    "version": 2
   },
   "file_extension": ".py",
   "mimetype": "text/x-python",
   "name": "python",
   "nbconvert_exporter": "python",
   "pygments_lexer": "ipython2",
   "version": "2.7.6"
  }
 },
 "nbformat": 4,
 "nbformat_minor": 5
}
