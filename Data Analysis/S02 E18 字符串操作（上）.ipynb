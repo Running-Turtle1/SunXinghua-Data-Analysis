{
 "cells": [
  {
   "cell_type": "code",
   "id": "initial_id",
   "metadata": {
    "collapsed": true,
    "ExecuteTime": {
     "end_time": "2025-08-30T02:20:17.840569Z",
     "start_time": "2025-08-30T02:20:17.828357Z"
    }
   },
   "source": "import pandas as pd",
   "outputs": [],
   "execution_count": 29
  },
  {
   "metadata": {
    "ExecuteTime": {
     "end_time": "2025-08-30T02:20:17.944184Z",
     "start_time": "2025-08-30T02:20:17.940462Z"
    }
   },
   "cell_type": "code",
   "source": "path = './Repo/字符串.xlsx'",
   "id": "f9bcfbba10235852",
   "outputs": [],
   "execution_count": 30
  },
  {
   "metadata": {
    "ExecuteTime": {
     "end_time": "2025-08-30T02:20:17.970459Z",
     "start_time": "2025-08-30T02:20:17.946206Z"
    }
   },
   "cell_type": "code",
   "source": "df = pd.read_excel(path)",
   "id": "48ed9fa16a81130d",
   "outputs": [],
   "execution_count": 31
  },
  {
   "metadata": {
    "ExecuteTime": {
     "end_time": "2025-08-30T02:20:17.981393Z",
     "start_time": "2025-08-30T02:20:17.970459Z"
    }
   },
   "cell_type": "code",
   "source": "df",
   "id": "5a6169abb22649d2",
   "outputs": [
    {
     "data": {
      "text/plain": [
       "          日期  工号   姓名  年龄  战斗力   温度    状态    里程    特常   地区\n",
       "0 2020-05-01  21  丁智敏  37  200  36℃  满血激活   近距离  指鹿为马   丑国\n",
       "1 2020-05-02  22  李平平  26  250  37℃  零血销毁   远距离  隔空取物   米国\n",
       "2 2020-05-03  23   王松  27  200  38℃  满血激活   近距离  指鹿为马   丑国\n",
       "3 2020-05-04  24  卢海军  34  200  39℃  零血销毁  中远距离  隔空取物   米国\n",
       "4 2020-05-05  25   王刚  38  250  40℃  零血销毁   远距离  指鹿为马   丑国\n",
       "5 2020-05-06  26  NaN  35  200  41℃   NaN   NaN   NaN  NaN"
      ],
      "text/html": [
       "<div>\n",
       "<style scoped>\n",
       "    .dataframe tbody tr th:only-of-type {\n",
       "        vertical-align: middle;\n",
       "    }\n",
       "\n",
       "    .dataframe tbody tr th {\n",
       "        vertical-align: top;\n",
       "    }\n",
       "\n",
       "    .dataframe thead th {\n",
       "        text-align: right;\n",
       "    }\n",
       "</style>\n",
       "<table border=\"1\" class=\"dataframe\">\n",
       "  <thead>\n",
       "    <tr style=\"text-align: right;\">\n",
       "      <th></th>\n",
       "      <th>日期</th>\n",
       "      <th>工号</th>\n",
       "      <th>姓名</th>\n",
       "      <th>年龄</th>\n",
       "      <th>战斗力</th>\n",
       "      <th>温度</th>\n",
       "      <th>状态</th>\n",
       "      <th>里程</th>\n",
       "      <th>特常</th>\n",
       "      <th>地区</th>\n",
       "    </tr>\n",
       "  </thead>\n",
       "  <tbody>\n",
       "    <tr>\n",
       "      <th>0</th>\n",
       "      <td>2020-05-01</td>\n",
       "      <td>21</td>\n",
       "      <td>丁智敏</td>\n",
       "      <td>37</td>\n",
       "      <td>200</td>\n",
       "      <td>36℃</td>\n",
       "      <td>满血激活</td>\n",
       "      <td>近距离</td>\n",
       "      <td>指鹿为马</td>\n",
       "      <td>丑国</td>\n",
       "    </tr>\n",
       "    <tr>\n",
       "      <th>1</th>\n",
       "      <td>2020-05-02</td>\n",
       "      <td>22</td>\n",
       "      <td>李平平</td>\n",
       "      <td>26</td>\n",
       "      <td>250</td>\n",
       "      <td>37℃</td>\n",
       "      <td>零血销毁</td>\n",
       "      <td>远距离</td>\n",
       "      <td>隔空取物</td>\n",
       "      <td>米国</td>\n",
       "    </tr>\n",
       "    <tr>\n",
       "      <th>2</th>\n",
       "      <td>2020-05-03</td>\n",
       "      <td>23</td>\n",
       "      <td>王松</td>\n",
       "      <td>27</td>\n",
       "      <td>200</td>\n",
       "      <td>38℃</td>\n",
       "      <td>满血激活</td>\n",
       "      <td>近距离</td>\n",
       "      <td>指鹿为马</td>\n",
       "      <td>丑国</td>\n",
       "    </tr>\n",
       "    <tr>\n",
       "      <th>3</th>\n",
       "      <td>2020-05-04</td>\n",
       "      <td>24</td>\n",
       "      <td>卢海军</td>\n",
       "      <td>34</td>\n",
       "      <td>200</td>\n",
       "      <td>39℃</td>\n",
       "      <td>零血销毁</td>\n",
       "      <td>中远距离</td>\n",
       "      <td>隔空取物</td>\n",
       "      <td>米国</td>\n",
       "    </tr>\n",
       "    <tr>\n",
       "      <th>4</th>\n",
       "      <td>2020-05-05</td>\n",
       "      <td>25</td>\n",
       "      <td>王刚</td>\n",
       "      <td>38</td>\n",
       "      <td>250</td>\n",
       "      <td>40℃</td>\n",
       "      <td>零血销毁</td>\n",
       "      <td>远距离</td>\n",
       "      <td>指鹿为马</td>\n",
       "      <td>丑国</td>\n",
       "    </tr>\n",
       "    <tr>\n",
       "      <th>5</th>\n",
       "      <td>2020-05-06</td>\n",
       "      <td>26</td>\n",
       "      <td>NaN</td>\n",
       "      <td>35</td>\n",
       "      <td>200</td>\n",
       "      <td>41℃</td>\n",
       "      <td>NaN</td>\n",
       "      <td>NaN</td>\n",
       "      <td>NaN</td>\n",
       "      <td>NaN</td>\n",
       "    </tr>\n",
       "  </tbody>\n",
       "</table>\n",
       "</div>"
      ]
     },
     "execution_count": 32,
     "metadata": {},
     "output_type": "execute_result"
    }
   ],
   "execution_count": 32
  },
  {
   "metadata": {
    "ExecuteTime": {
     "end_time": "2025-08-30T02:20:17.994523Z",
     "start_time": "2025-08-30T02:20:17.984020Z"
    }
   },
   "cell_type": "code",
   "source": "df['姓名'].str.cat()",
   "id": "9097da523eef37be",
   "outputs": [
    {
     "data": {
      "text/plain": [
       "'丁智敏李平平王松卢海军王刚'"
      ]
     },
     "execution_count": 33,
     "metadata": {},
     "output_type": "execute_result"
    }
   ],
   "execution_count": 33
  },
  {
   "metadata": {
    "ExecuteTime": {
     "end_time": "2025-08-30T02:20:18.005410Z",
     "start_time": "2025-08-30T02:20:17.994523Z"
    }
   },
   "cell_type": "code",
   "source": "df['姓名'].str.cat(sep = ' ')",
   "id": "bfbaaabeebc3a1bb",
   "outputs": [
    {
     "data": {
      "text/plain": [
       "'丁智敏 李平平 王松 卢海军 王刚'"
      ]
     },
     "execution_count": 34,
     "metadata": {},
     "output_type": "execute_result"
    }
   ],
   "execution_count": 34
  },
  {
   "metadata": {
    "ExecuteTime": {
     "end_time": "2025-08-30T02:20:18.025986Z",
     "start_time": "2025-08-30T02:20:18.016062Z"
    }
   },
   "cell_type": "code",
   "source": "df['姓名'].str.cat(['变身'] * len(df))",
   "id": "57d8388d70288855",
   "outputs": [
    {
     "data": {
      "text/plain": [
       "0    丁智敏变身\n",
       "1    李平平变身\n",
       "2     王松变身\n",
       "3    卢海军变身\n",
       "4     王刚变身\n",
       "5      NaN\n",
       "Name: 姓名, dtype: object"
      ]
     },
     "execution_count": 35,
     "metadata": {},
     "output_type": "execute_result"
    }
   ],
   "execution_count": 35
  },
  {
   "metadata": {
    "ExecuteTime": {
     "end_time": "2025-08-30T02:20:18.090975Z",
     "start_time": "2025-08-30T02:20:18.078843Z"
    }
   },
   "cell_type": "code",
   "source": "df['姓名'].str.cat(['变身'] * len(df), sep = '^')",
   "id": "7710f76d8a1e1852",
   "outputs": [
    {
     "data": {
      "text/plain": [
       "0    丁智敏^变身\n",
       "1    李平平^变身\n",
       "2     王松^变身\n",
       "3    卢海军^变身\n",
       "4     王刚^变身\n",
       "5       NaN\n",
       "Name: 姓名, dtype: object"
      ]
     },
     "execution_count": 36,
     "metadata": {},
     "output_type": "execute_result"
    }
   ],
   "execution_count": 36
  },
  {
   "metadata": {
    "ExecuteTime": {
     "end_time": "2025-08-30T02:20:18.115475Z",
     "start_time": "2025-08-30T02:20:18.107141Z"
    }
   },
   "cell_type": "code",
   "source": "df['姓名'].str.cat(['变身'] * len(df), sep = '->', na_rep = '2')",
   "id": "32581cfe1b8bb7d4",
   "outputs": [
    {
     "data": {
      "text/plain": [
       "0    丁智敏->变身\n",
       "1    李平平->变身\n",
       "2     王松->变身\n",
       "3    卢海军->变身\n",
       "4     王刚->变身\n",
       "5      2->变身\n",
       "Name: 姓名, dtype: object"
      ]
     },
     "execution_count": 37,
     "metadata": {},
     "output_type": "execute_result"
    }
   ],
   "execution_count": 37
  },
  {
   "metadata": {
    "ExecuteTime": {
     "end_time": "2025-08-30T02:20:18.209196Z",
     "start_time": "2025-08-30T02:20:18.195719Z"
    }
   },
   "cell_type": "code",
   "source": "df",
   "id": "fd03638d278ad0fa",
   "outputs": [
    {
     "data": {
      "text/plain": [
       "          日期  工号   姓名  年龄  战斗力   温度    状态    里程    特常   地区\n",
       "0 2020-05-01  21  丁智敏  37  200  36℃  满血激活   近距离  指鹿为马   丑国\n",
       "1 2020-05-02  22  李平平  26  250  37℃  零血销毁   远距离  隔空取物   米国\n",
       "2 2020-05-03  23   王松  27  200  38℃  满血激活   近距离  指鹿为马   丑国\n",
       "3 2020-05-04  24  卢海军  34  200  39℃  零血销毁  中远距离  隔空取物   米国\n",
       "4 2020-05-05  25   王刚  38  250  40℃  零血销毁   远距离  指鹿为马   丑国\n",
       "5 2020-05-06  26  NaN  35  200  41℃   NaN   NaN   NaN  NaN"
      ],
      "text/html": [
       "<div>\n",
       "<style scoped>\n",
       "    .dataframe tbody tr th:only-of-type {\n",
       "        vertical-align: middle;\n",
       "    }\n",
       "\n",
       "    .dataframe tbody tr th {\n",
       "        vertical-align: top;\n",
       "    }\n",
       "\n",
       "    .dataframe thead th {\n",
       "        text-align: right;\n",
       "    }\n",
       "</style>\n",
       "<table border=\"1\" class=\"dataframe\">\n",
       "  <thead>\n",
       "    <tr style=\"text-align: right;\">\n",
       "      <th></th>\n",
       "      <th>日期</th>\n",
       "      <th>工号</th>\n",
       "      <th>姓名</th>\n",
       "      <th>年龄</th>\n",
       "      <th>战斗力</th>\n",
       "      <th>温度</th>\n",
       "      <th>状态</th>\n",
       "      <th>里程</th>\n",
       "      <th>特常</th>\n",
       "      <th>地区</th>\n",
       "    </tr>\n",
       "  </thead>\n",
       "  <tbody>\n",
       "    <tr>\n",
       "      <th>0</th>\n",
       "      <td>2020-05-01</td>\n",
       "      <td>21</td>\n",
       "      <td>丁智敏</td>\n",
       "      <td>37</td>\n",
       "      <td>200</td>\n",
       "      <td>36℃</td>\n",
       "      <td>满血激活</td>\n",
       "      <td>近距离</td>\n",
       "      <td>指鹿为马</td>\n",
       "      <td>丑国</td>\n",
       "    </tr>\n",
       "    <tr>\n",
       "      <th>1</th>\n",
       "      <td>2020-05-02</td>\n",
       "      <td>22</td>\n",
       "      <td>李平平</td>\n",
       "      <td>26</td>\n",
       "      <td>250</td>\n",
       "      <td>37℃</td>\n",
       "      <td>零血销毁</td>\n",
       "      <td>远距离</td>\n",
       "      <td>隔空取物</td>\n",
       "      <td>米国</td>\n",
       "    </tr>\n",
       "    <tr>\n",
       "      <th>2</th>\n",
       "      <td>2020-05-03</td>\n",
       "      <td>23</td>\n",
       "      <td>王松</td>\n",
       "      <td>27</td>\n",
       "      <td>200</td>\n",
       "      <td>38℃</td>\n",
       "      <td>满血激活</td>\n",
       "      <td>近距离</td>\n",
       "      <td>指鹿为马</td>\n",
       "      <td>丑国</td>\n",
       "    </tr>\n",
       "    <tr>\n",
       "      <th>3</th>\n",
       "      <td>2020-05-04</td>\n",
       "      <td>24</td>\n",
       "      <td>卢海军</td>\n",
       "      <td>34</td>\n",
       "      <td>200</td>\n",
       "      <td>39℃</td>\n",
       "      <td>零血销毁</td>\n",
       "      <td>中远距离</td>\n",
       "      <td>隔空取物</td>\n",
       "      <td>米国</td>\n",
       "    </tr>\n",
       "    <tr>\n",
       "      <th>4</th>\n",
       "      <td>2020-05-05</td>\n",
       "      <td>25</td>\n",
       "      <td>王刚</td>\n",
       "      <td>38</td>\n",
       "      <td>250</td>\n",
       "      <td>40℃</td>\n",
       "      <td>零血销毁</td>\n",
       "      <td>远距离</td>\n",
       "      <td>指鹿为马</td>\n",
       "      <td>丑国</td>\n",
       "    </tr>\n",
       "    <tr>\n",
       "      <th>5</th>\n",
       "      <td>2020-05-06</td>\n",
       "      <td>26</td>\n",
       "      <td>NaN</td>\n",
       "      <td>35</td>\n",
       "      <td>200</td>\n",
       "      <td>41℃</td>\n",
       "      <td>NaN</td>\n",
       "      <td>NaN</td>\n",
       "      <td>NaN</td>\n",
       "      <td>NaN</td>\n",
       "    </tr>\n",
       "  </tbody>\n",
       "</table>\n",
       "</div>"
      ]
     },
     "execution_count": 38,
     "metadata": {},
     "output_type": "execute_result"
    }
   ],
   "execution_count": 38
  },
  {
   "metadata": {
    "ExecuteTime": {
     "end_time": "2025-08-30T02:20:18.308660Z",
     "start_time": "2025-08-30T02:20:18.299540Z"
    }
   },
   "cell_type": "code",
   "source": "df['合并'] = df['姓名'] + df['年龄'].astype(str) + df['里程']",
   "id": "e2b77aa83325083",
   "outputs": [],
   "execution_count": 39
  },
  {
   "metadata": {
    "ExecuteTime": {
     "end_time": "2025-08-30T02:20:18.528542Z",
     "start_time": "2025-08-30T02:20:18.505139Z"
    }
   },
   "cell_type": "code",
   "source": "df",
   "id": "d9afaae77f96608",
   "outputs": [
    {
     "data": {
      "text/plain": [
       "          日期  工号   姓名  年龄  战斗力   温度    状态    里程    特常   地区         合并\n",
       "0 2020-05-01  21  丁智敏  37  200  36℃  满血激活   近距离  指鹿为马   丑国   丁智敏37近距离\n",
       "1 2020-05-02  22  李平平  26  250  37℃  零血销毁   远距离  隔空取物   米国   李平平26远距离\n",
       "2 2020-05-03  23   王松  27  200  38℃  满血激活   近距离  指鹿为马   丑国    王松27近距离\n",
       "3 2020-05-04  24  卢海军  34  200  39℃  零血销毁  中远距离  隔空取物   米国  卢海军34中远距离\n",
       "4 2020-05-05  25   王刚  38  250  40℃  零血销毁   远距离  指鹿为马   丑国    王刚38远距离\n",
       "5 2020-05-06  26  NaN  35  200  41℃   NaN   NaN   NaN  NaN        NaN"
      ],
      "text/html": [
       "<div>\n",
       "<style scoped>\n",
       "    .dataframe tbody tr th:only-of-type {\n",
       "        vertical-align: middle;\n",
       "    }\n",
       "\n",
       "    .dataframe tbody tr th {\n",
       "        vertical-align: top;\n",
       "    }\n",
       "\n",
       "    .dataframe thead th {\n",
       "        text-align: right;\n",
       "    }\n",
       "</style>\n",
       "<table border=\"1\" class=\"dataframe\">\n",
       "  <thead>\n",
       "    <tr style=\"text-align: right;\">\n",
       "      <th></th>\n",
       "      <th>日期</th>\n",
       "      <th>工号</th>\n",
       "      <th>姓名</th>\n",
       "      <th>年龄</th>\n",
       "      <th>战斗力</th>\n",
       "      <th>温度</th>\n",
       "      <th>状态</th>\n",
       "      <th>里程</th>\n",
       "      <th>特常</th>\n",
       "      <th>地区</th>\n",
       "      <th>合并</th>\n",
       "    </tr>\n",
       "  </thead>\n",
       "  <tbody>\n",
       "    <tr>\n",
       "      <th>0</th>\n",
       "      <td>2020-05-01</td>\n",
       "      <td>21</td>\n",
       "      <td>丁智敏</td>\n",
       "      <td>37</td>\n",
       "      <td>200</td>\n",
       "      <td>36℃</td>\n",
       "      <td>满血激活</td>\n",
       "      <td>近距离</td>\n",
       "      <td>指鹿为马</td>\n",
       "      <td>丑国</td>\n",
       "      <td>丁智敏37近距离</td>\n",
       "    </tr>\n",
       "    <tr>\n",
       "      <th>1</th>\n",
       "      <td>2020-05-02</td>\n",
       "      <td>22</td>\n",
       "      <td>李平平</td>\n",
       "      <td>26</td>\n",
       "      <td>250</td>\n",
       "      <td>37℃</td>\n",
       "      <td>零血销毁</td>\n",
       "      <td>远距离</td>\n",
       "      <td>隔空取物</td>\n",
       "      <td>米国</td>\n",
       "      <td>李平平26远距离</td>\n",
       "    </tr>\n",
       "    <tr>\n",
       "      <th>2</th>\n",
       "      <td>2020-05-03</td>\n",
       "      <td>23</td>\n",
       "      <td>王松</td>\n",
       "      <td>27</td>\n",
       "      <td>200</td>\n",
       "      <td>38℃</td>\n",
       "      <td>满血激活</td>\n",
       "      <td>近距离</td>\n",
       "      <td>指鹿为马</td>\n",
       "      <td>丑国</td>\n",
       "      <td>王松27近距离</td>\n",
       "    </tr>\n",
       "    <tr>\n",
       "      <th>3</th>\n",
       "      <td>2020-05-04</td>\n",
       "      <td>24</td>\n",
       "      <td>卢海军</td>\n",
       "      <td>34</td>\n",
       "      <td>200</td>\n",
       "      <td>39℃</td>\n",
       "      <td>零血销毁</td>\n",
       "      <td>中远距离</td>\n",
       "      <td>隔空取物</td>\n",
       "      <td>米国</td>\n",
       "      <td>卢海军34中远距离</td>\n",
       "    </tr>\n",
       "    <tr>\n",
       "      <th>4</th>\n",
       "      <td>2020-05-05</td>\n",
       "      <td>25</td>\n",
       "      <td>王刚</td>\n",
       "      <td>38</td>\n",
       "      <td>250</td>\n",
       "      <td>40℃</td>\n",
       "      <td>零血销毁</td>\n",
       "      <td>远距离</td>\n",
       "      <td>指鹿为马</td>\n",
       "      <td>丑国</td>\n",
       "      <td>王刚38远距离</td>\n",
       "    </tr>\n",
       "    <tr>\n",
       "      <th>5</th>\n",
       "      <td>2020-05-06</td>\n",
       "      <td>26</td>\n",
       "      <td>NaN</td>\n",
       "      <td>35</td>\n",
       "      <td>200</td>\n",
       "      <td>41℃</td>\n",
       "      <td>NaN</td>\n",
       "      <td>NaN</td>\n",
       "      <td>NaN</td>\n",
       "      <td>NaN</td>\n",
       "      <td>NaN</td>\n",
       "    </tr>\n",
       "  </tbody>\n",
       "</table>\n",
       "</div>"
      ]
     },
     "execution_count": 40,
     "metadata": {},
     "output_type": "execute_result"
    }
   ],
   "execution_count": 40
  },
  {
   "metadata": {
    "ExecuteTime": {
     "end_time": "2025-08-30T02:20:18.570511Z",
     "start_time": "2025-08-30T02:20:18.548693Z"
    }
   },
   "cell_type": "code",
   "source": [
    "df['合并2'] = df['姓名'].str.cat(df['年龄'].astype(str), sep = ' ').str.cat(df['里程'], sep = ' ')\n",
    "df"
   ],
   "id": "505f93a185d23437",
   "outputs": [
    {
     "data": {
      "text/plain": [
       "          日期  工号   姓名  年龄  战斗力   温度    状态    里程    特常   地区         合并  \\\n",
       "0 2020-05-01  21  丁智敏  37  200  36℃  满血激活   近距离  指鹿为马   丑国   丁智敏37近距离   \n",
       "1 2020-05-02  22  李平平  26  250  37℃  零血销毁   远距离  隔空取物   米国   李平平26远距离   \n",
       "2 2020-05-03  23   王松  27  200  38℃  满血激活   近距离  指鹿为马   丑国    王松27近距离   \n",
       "3 2020-05-04  24  卢海军  34  200  39℃  零血销毁  中远距离  隔空取物   米国  卢海军34中远距离   \n",
       "4 2020-05-05  25   王刚  38  250  40℃  零血销毁   远距离  指鹿为马   丑国    王刚38远距离   \n",
       "5 2020-05-06  26  NaN  35  200  41℃   NaN   NaN   NaN  NaN        NaN   \n",
       "\n",
       "           合并2  \n",
       "0   丁智敏 37 近距离  \n",
       "1   李平平 26 远距离  \n",
       "2    王松 27 近距离  \n",
       "3  卢海军 34 中远距离  \n",
       "4    王刚 38 远距离  \n",
       "5          NaN  "
      ],
      "text/html": [
       "<div>\n",
       "<style scoped>\n",
       "    .dataframe tbody tr th:only-of-type {\n",
       "        vertical-align: middle;\n",
       "    }\n",
       "\n",
       "    .dataframe tbody tr th {\n",
       "        vertical-align: top;\n",
       "    }\n",
       "\n",
       "    .dataframe thead th {\n",
       "        text-align: right;\n",
       "    }\n",
       "</style>\n",
       "<table border=\"1\" class=\"dataframe\">\n",
       "  <thead>\n",
       "    <tr style=\"text-align: right;\">\n",
       "      <th></th>\n",
       "      <th>日期</th>\n",
       "      <th>工号</th>\n",
       "      <th>姓名</th>\n",
       "      <th>年龄</th>\n",
       "      <th>战斗力</th>\n",
       "      <th>温度</th>\n",
       "      <th>状态</th>\n",
       "      <th>里程</th>\n",
       "      <th>特常</th>\n",
       "      <th>地区</th>\n",
       "      <th>合并</th>\n",
       "      <th>合并2</th>\n",
       "    </tr>\n",
       "  </thead>\n",
       "  <tbody>\n",
       "    <tr>\n",
       "      <th>0</th>\n",
       "      <td>2020-05-01</td>\n",
       "      <td>21</td>\n",
       "      <td>丁智敏</td>\n",
       "      <td>37</td>\n",
       "      <td>200</td>\n",
       "      <td>36℃</td>\n",
       "      <td>满血激活</td>\n",
       "      <td>近距离</td>\n",
       "      <td>指鹿为马</td>\n",
       "      <td>丑国</td>\n",
       "      <td>丁智敏37近距离</td>\n",
       "      <td>丁智敏 37 近距离</td>\n",
       "    </tr>\n",
       "    <tr>\n",
       "      <th>1</th>\n",
       "      <td>2020-05-02</td>\n",
       "      <td>22</td>\n",
       "      <td>李平平</td>\n",
       "      <td>26</td>\n",
       "      <td>250</td>\n",
       "      <td>37℃</td>\n",
       "      <td>零血销毁</td>\n",
       "      <td>远距离</td>\n",
       "      <td>隔空取物</td>\n",
       "      <td>米国</td>\n",
       "      <td>李平平26远距离</td>\n",
       "      <td>李平平 26 远距离</td>\n",
       "    </tr>\n",
       "    <tr>\n",
       "      <th>2</th>\n",
       "      <td>2020-05-03</td>\n",
       "      <td>23</td>\n",
       "      <td>王松</td>\n",
       "      <td>27</td>\n",
       "      <td>200</td>\n",
       "      <td>38℃</td>\n",
       "      <td>满血激活</td>\n",
       "      <td>近距离</td>\n",
       "      <td>指鹿为马</td>\n",
       "      <td>丑国</td>\n",
       "      <td>王松27近距离</td>\n",
       "      <td>王松 27 近距离</td>\n",
       "    </tr>\n",
       "    <tr>\n",
       "      <th>3</th>\n",
       "      <td>2020-05-04</td>\n",
       "      <td>24</td>\n",
       "      <td>卢海军</td>\n",
       "      <td>34</td>\n",
       "      <td>200</td>\n",
       "      <td>39℃</td>\n",
       "      <td>零血销毁</td>\n",
       "      <td>中远距离</td>\n",
       "      <td>隔空取物</td>\n",
       "      <td>米国</td>\n",
       "      <td>卢海军34中远距离</td>\n",
       "      <td>卢海军 34 中远距离</td>\n",
       "    </tr>\n",
       "    <tr>\n",
       "      <th>4</th>\n",
       "      <td>2020-05-05</td>\n",
       "      <td>25</td>\n",
       "      <td>王刚</td>\n",
       "      <td>38</td>\n",
       "      <td>250</td>\n",
       "      <td>40℃</td>\n",
       "      <td>零血销毁</td>\n",
       "      <td>远距离</td>\n",
       "      <td>指鹿为马</td>\n",
       "      <td>丑国</td>\n",
       "      <td>王刚38远距离</td>\n",
       "      <td>王刚 38 远距离</td>\n",
       "    </tr>\n",
       "    <tr>\n",
       "      <th>5</th>\n",
       "      <td>2020-05-06</td>\n",
       "      <td>26</td>\n",
       "      <td>NaN</td>\n",
       "      <td>35</td>\n",
       "      <td>200</td>\n",
       "      <td>41℃</td>\n",
       "      <td>NaN</td>\n",
       "      <td>NaN</td>\n",
       "      <td>NaN</td>\n",
       "      <td>NaN</td>\n",
       "      <td>NaN</td>\n",
       "      <td>NaN</td>\n",
       "    </tr>\n",
       "  </tbody>\n",
       "</table>\n",
       "</div>"
      ]
     },
     "execution_count": 41,
     "metadata": {},
     "output_type": "execute_result"
    }
   ],
   "execution_count": 41
  },
  {
   "metadata": {},
   "cell_type": "markdown",
   "source": [
    "split / rsplit\n",
    "\n",
    "- rsplit 是从右往左分割"
   ],
   "id": "fcbb58630c90de8c"
  },
  {
   "metadata": {
    "ExecuteTime": {
     "end_time": "2025-08-30T02:21:25.468405Z",
     "start_time": "2025-08-30T02:21:25.429109Z"
    }
   },
   "cell_type": "code",
   "source": [
    "df = pd.read_excel(path)\n",
    "df"
   ],
   "id": "12bf3caad5f401e3",
   "outputs": [
    {
     "data": {
      "text/plain": [
       "          日期  工号   姓名  年龄  战斗力   温度    状态    里程    特常   地区\n",
       "0 2020-05-01  21  丁智敏  37  200  36℃  满血激活   近距离  指鹿为马   丑国\n",
       "1 2020-05-02  22  李平平  26  250  37℃  零血销毁   远距离  隔空取物   米国\n",
       "2 2020-05-03  23   王松  27  200  38℃  满血激活   近距离  指鹿为马   丑国\n",
       "3 2020-05-04  24  卢海军  34  200  39℃  零血销毁  中远距离  隔空取物   米国\n",
       "4 2020-05-05  25   王刚  38  250  40℃  零血销毁   远距离  指鹿为马   丑国\n",
       "5 2020-05-06  26  NaN  35  200  41℃   NaN   NaN   NaN  NaN"
      ],
      "text/html": [
       "<div>\n",
       "<style scoped>\n",
       "    .dataframe tbody tr th:only-of-type {\n",
       "        vertical-align: middle;\n",
       "    }\n",
       "\n",
       "    .dataframe tbody tr th {\n",
       "        vertical-align: top;\n",
       "    }\n",
       "\n",
       "    .dataframe thead th {\n",
       "        text-align: right;\n",
       "    }\n",
       "</style>\n",
       "<table border=\"1\" class=\"dataframe\">\n",
       "  <thead>\n",
       "    <tr style=\"text-align: right;\">\n",
       "      <th></th>\n",
       "      <th>日期</th>\n",
       "      <th>工号</th>\n",
       "      <th>姓名</th>\n",
       "      <th>年龄</th>\n",
       "      <th>战斗力</th>\n",
       "      <th>温度</th>\n",
       "      <th>状态</th>\n",
       "      <th>里程</th>\n",
       "      <th>特常</th>\n",
       "      <th>地区</th>\n",
       "    </tr>\n",
       "  </thead>\n",
       "  <tbody>\n",
       "    <tr>\n",
       "      <th>0</th>\n",
       "      <td>2020-05-01</td>\n",
       "      <td>21</td>\n",
       "      <td>丁智敏</td>\n",
       "      <td>37</td>\n",
       "      <td>200</td>\n",
       "      <td>36℃</td>\n",
       "      <td>满血激活</td>\n",
       "      <td>近距离</td>\n",
       "      <td>指鹿为马</td>\n",
       "      <td>丑国</td>\n",
       "    </tr>\n",
       "    <tr>\n",
       "      <th>1</th>\n",
       "      <td>2020-05-02</td>\n",
       "      <td>22</td>\n",
       "      <td>李平平</td>\n",
       "      <td>26</td>\n",
       "      <td>250</td>\n",
       "      <td>37℃</td>\n",
       "      <td>零血销毁</td>\n",
       "      <td>远距离</td>\n",
       "      <td>隔空取物</td>\n",
       "      <td>米国</td>\n",
       "    </tr>\n",
       "    <tr>\n",
       "      <th>2</th>\n",
       "      <td>2020-05-03</td>\n",
       "      <td>23</td>\n",
       "      <td>王松</td>\n",
       "      <td>27</td>\n",
       "      <td>200</td>\n",
       "      <td>38℃</td>\n",
       "      <td>满血激活</td>\n",
       "      <td>近距离</td>\n",
       "      <td>指鹿为马</td>\n",
       "      <td>丑国</td>\n",
       "    </tr>\n",
       "    <tr>\n",
       "      <th>3</th>\n",
       "      <td>2020-05-04</td>\n",
       "      <td>24</td>\n",
       "      <td>卢海军</td>\n",
       "      <td>34</td>\n",
       "      <td>200</td>\n",
       "      <td>39℃</td>\n",
       "      <td>零血销毁</td>\n",
       "      <td>中远距离</td>\n",
       "      <td>隔空取物</td>\n",
       "      <td>米国</td>\n",
       "    </tr>\n",
       "    <tr>\n",
       "      <th>4</th>\n",
       "      <td>2020-05-05</td>\n",
       "      <td>25</td>\n",
       "      <td>王刚</td>\n",
       "      <td>38</td>\n",
       "      <td>250</td>\n",
       "      <td>40℃</td>\n",
       "      <td>零血销毁</td>\n",
       "      <td>远距离</td>\n",
       "      <td>指鹿为马</td>\n",
       "      <td>丑国</td>\n",
       "    </tr>\n",
       "    <tr>\n",
       "      <th>5</th>\n",
       "      <td>2020-05-06</td>\n",
       "      <td>26</td>\n",
       "      <td>NaN</td>\n",
       "      <td>35</td>\n",
       "      <td>200</td>\n",
       "      <td>41℃</td>\n",
       "      <td>NaN</td>\n",
       "      <td>NaN</td>\n",
       "      <td>NaN</td>\n",
       "      <td>NaN</td>\n",
       "    </tr>\n",
       "  </tbody>\n",
       "</table>\n",
       "</div>"
      ]
     },
     "execution_count": 42,
     "metadata": {},
     "output_type": "execute_result"
    }
   ],
   "execution_count": 42
  },
  {
   "metadata": {
    "ExecuteTime": {
     "end_time": "2025-08-30T02:22:00.712787Z",
     "start_time": "2025-08-30T02:22:00.697151Z"
    }
   },
   "cell_type": "code",
   "source": "df['状态'].str.split()",
   "id": "759f33618da63256",
   "outputs": [
    {
     "data": {
      "text/plain": [
       "0    [满血激活]\n",
       "1    [零血销毁]\n",
       "2    [满血激活]\n",
       "3    [零血销毁]\n",
       "4    [零血销毁]\n",
       "5       NaN\n",
       "Name: 状态, dtype: object"
      ]
     },
     "execution_count": 44,
     "metadata": {},
     "output_type": "execute_result"
    }
   ],
   "execution_count": 44
  },
  {
   "metadata": {
    "ExecuteTime": {
     "end_time": "2025-08-30T02:22:20.371518Z",
     "start_time": "2025-08-30T02:22:20.357886Z"
    }
   },
   "cell_type": "code",
   "source": "df['状态'].str.split('血')",
   "id": "ecaa10cd64324034",
   "outputs": [
    {
     "data": {
      "text/plain": [
       "0    [满, 激活]\n",
       "1    [零, 销毁]\n",
       "2    [满, 激活]\n",
       "3    [零, 销毁]\n",
       "4    [零, 销毁]\n",
       "5        NaN\n",
       "Name: 状态, dtype: object"
      ]
     },
     "execution_count": 45,
     "metadata": {},
     "output_type": "execute_result"
    }
   ],
   "execution_count": 45
  },
  {
   "metadata": {},
   "cell_type": "markdown",
   "source": "指定 expand = True 会将列表打开, 变为 Dataframe",
   "id": "c4801e2f3bf0e5ea"
  },
  {
   "metadata": {
    "ExecuteTime": {
     "end_time": "2025-08-30T02:23:16.687754Z",
     "start_time": "2025-08-30T02:23:16.670216Z"
    }
   },
   "cell_type": "code",
   "source": "df['状态'].str.split('血', expand=True)",
   "id": "c50bfb25c7bb39af",
   "outputs": [
    {
     "data": {
      "text/plain": [
       "     0    1\n",
       "0    满   激活\n",
       "1    零   销毁\n",
       "2    满   激活\n",
       "3    零   销毁\n",
       "4    零   销毁\n",
       "5  NaN  NaN"
      ],
      "text/html": [
       "<div>\n",
       "<style scoped>\n",
       "    .dataframe tbody tr th:only-of-type {\n",
       "        vertical-align: middle;\n",
       "    }\n",
       "\n",
       "    .dataframe tbody tr th {\n",
       "        vertical-align: top;\n",
       "    }\n",
       "\n",
       "    .dataframe thead th {\n",
       "        text-align: right;\n",
       "    }\n",
       "</style>\n",
       "<table border=\"1\" class=\"dataframe\">\n",
       "  <thead>\n",
       "    <tr style=\"text-align: right;\">\n",
       "      <th></th>\n",
       "      <th>0</th>\n",
       "      <th>1</th>\n",
       "    </tr>\n",
       "  </thead>\n",
       "  <tbody>\n",
       "    <tr>\n",
       "      <th>0</th>\n",
       "      <td>满</td>\n",
       "      <td>激活</td>\n",
       "    </tr>\n",
       "    <tr>\n",
       "      <th>1</th>\n",
       "      <td>零</td>\n",
       "      <td>销毁</td>\n",
       "    </tr>\n",
       "    <tr>\n",
       "      <th>2</th>\n",
       "      <td>满</td>\n",
       "      <td>激活</td>\n",
       "    </tr>\n",
       "    <tr>\n",
       "      <th>3</th>\n",
       "      <td>零</td>\n",
       "      <td>销毁</td>\n",
       "    </tr>\n",
       "    <tr>\n",
       "      <th>4</th>\n",
       "      <td>零</td>\n",
       "      <td>销毁</td>\n",
       "    </tr>\n",
       "    <tr>\n",
       "      <th>5</th>\n",
       "      <td>NaN</td>\n",
       "      <td>NaN</td>\n",
       "    </tr>\n",
       "  </tbody>\n",
       "</table>\n",
       "</div>"
      ]
     },
     "execution_count": 47,
     "metadata": {},
     "output_type": "execute_result"
    }
   ],
   "execution_count": 47
  },
  {
   "metadata": {},
   "cell_type": "markdown",
   "source": [
    "partition / rpartition\n",
    "\n",
    "与 split 相比, 会把分隔符也塞到列表 "
   ],
   "id": "5bf53b8bedae766d"
  },
  {
   "metadata": {
    "ExecuteTime": {
     "end_time": "2025-08-30T02:24:02.953991Z",
     "start_time": "2025-08-30T02:24:02.930033Z"
    }
   },
   "cell_type": "code",
   "source": "df",
   "id": "65407a3862cdafbe",
   "outputs": [
    {
     "data": {
      "text/plain": [
       "          日期  工号   姓名  年龄  战斗力   温度    状态    里程    特常   地区\n",
       "0 2020-05-01  21  丁智敏  37  200  36℃  满血激活   近距离  指鹿为马   丑国\n",
       "1 2020-05-02  22  李平平  26  250  37℃  零血销毁   远距离  隔空取物   米国\n",
       "2 2020-05-03  23   王松  27  200  38℃  满血激活   近距离  指鹿为马   丑国\n",
       "3 2020-05-04  24  卢海军  34  200  39℃  零血销毁  中远距离  隔空取物   米国\n",
       "4 2020-05-05  25   王刚  38  250  40℃  零血销毁   远距离  指鹿为马   丑国\n",
       "5 2020-05-06  26  NaN  35  200  41℃   NaN   NaN   NaN  NaN"
      ],
      "text/html": [
       "<div>\n",
       "<style scoped>\n",
       "    .dataframe tbody tr th:only-of-type {\n",
       "        vertical-align: middle;\n",
       "    }\n",
       "\n",
       "    .dataframe tbody tr th {\n",
       "        vertical-align: top;\n",
       "    }\n",
       "\n",
       "    .dataframe thead th {\n",
       "        text-align: right;\n",
       "    }\n",
       "</style>\n",
       "<table border=\"1\" class=\"dataframe\">\n",
       "  <thead>\n",
       "    <tr style=\"text-align: right;\">\n",
       "      <th></th>\n",
       "      <th>日期</th>\n",
       "      <th>工号</th>\n",
       "      <th>姓名</th>\n",
       "      <th>年龄</th>\n",
       "      <th>战斗力</th>\n",
       "      <th>温度</th>\n",
       "      <th>状态</th>\n",
       "      <th>里程</th>\n",
       "      <th>特常</th>\n",
       "      <th>地区</th>\n",
       "    </tr>\n",
       "  </thead>\n",
       "  <tbody>\n",
       "    <tr>\n",
       "      <th>0</th>\n",
       "      <td>2020-05-01</td>\n",
       "      <td>21</td>\n",
       "      <td>丁智敏</td>\n",
       "      <td>37</td>\n",
       "      <td>200</td>\n",
       "      <td>36℃</td>\n",
       "      <td>满血激活</td>\n",
       "      <td>近距离</td>\n",
       "      <td>指鹿为马</td>\n",
       "      <td>丑国</td>\n",
       "    </tr>\n",
       "    <tr>\n",
       "      <th>1</th>\n",
       "      <td>2020-05-02</td>\n",
       "      <td>22</td>\n",
       "      <td>李平平</td>\n",
       "      <td>26</td>\n",
       "      <td>250</td>\n",
       "      <td>37℃</td>\n",
       "      <td>零血销毁</td>\n",
       "      <td>远距离</td>\n",
       "      <td>隔空取物</td>\n",
       "      <td>米国</td>\n",
       "    </tr>\n",
       "    <tr>\n",
       "      <th>2</th>\n",
       "      <td>2020-05-03</td>\n",
       "      <td>23</td>\n",
       "      <td>王松</td>\n",
       "      <td>27</td>\n",
       "      <td>200</td>\n",
       "      <td>38℃</td>\n",
       "      <td>满血激活</td>\n",
       "      <td>近距离</td>\n",
       "      <td>指鹿为马</td>\n",
       "      <td>丑国</td>\n",
       "    </tr>\n",
       "    <tr>\n",
       "      <th>3</th>\n",
       "      <td>2020-05-04</td>\n",
       "      <td>24</td>\n",
       "      <td>卢海军</td>\n",
       "      <td>34</td>\n",
       "      <td>200</td>\n",
       "      <td>39℃</td>\n",
       "      <td>零血销毁</td>\n",
       "      <td>中远距离</td>\n",
       "      <td>隔空取物</td>\n",
       "      <td>米国</td>\n",
       "    </tr>\n",
       "    <tr>\n",
       "      <th>4</th>\n",
       "      <td>2020-05-05</td>\n",
       "      <td>25</td>\n",
       "      <td>王刚</td>\n",
       "      <td>38</td>\n",
       "      <td>250</td>\n",
       "      <td>40℃</td>\n",
       "      <td>零血销毁</td>\n",
       "      <td>远距离</td>\n",
       "      <td>指鹿为马</td>\n",
       "      <td>丑国</td>\n",
       "    </tr>\n",
       "    <tr>\n",
       "      <th>5</th>\n",
       "      <td>2020-05-06</td>\n",
       "      <td>26</td>\n",
       "      <td>NaN</td>\n",
       "      <td>35</td>\n",
       "      <td>200</td>\n",
       "      <td>41℃</td>\n",
       "      <td>NaN</td>\n",
       "      <td>NaN</td>\n",
       "      <td>NaN</td>\n",
       "      <td>NaN</td>\n",
       "    </tr>\n",
       "  </tbody>\n",
       "</table>\n",
       "</div>"
      ]
     },
     "execution_count": 48,
     "metadata": {},
     "output_type": "execute_result"
    }
   ],
   "execution_count": 48
  },
  {
   "metadata": {
    "ExecuteTime": {
     "end_time": "2025-08-30T02:24:33.266526Z",
     "start_time": "2025-08-30T02:24:33.255553Z"
    }
   },
   "cell_type": "code",
   "source": "df['状态'].str.partition('血')",
   "id": "2169dc039c19584",
   "outputs": [
    {
     "data": {
      "text/plain": [
       "     0    1    2\n",
       "0    满    血   激活\n",
       "1    零    血   销毁\n",
       "2    满    血   激活\n",
       "3    零    血   销毁\n",
       "4    零    血   销毁\n",
       "5  NaN  NaN  NaN"
      ],
      "text/html": [
       "<div>\n",
       "<style scoped>\n",
       "    .dataframe tbody tr th:only-of-type {\n",
       "        vertical-align: middle;\n",
       "    }\n",
       "\n",
       "    .dataframe tbody tr th {\n",
       "        vertical-align: top;\n",
       "    }\n",
       "\n",
       "    .dataframe thead th {\n",
       "        text-align: right;\n",
       "    }\n",
       "</style>\n",
       "<table border=\"1\" class=\"dataframe\">\n",
       "  <thead>\n",
       "    <tr style=\"text-align: right;\">\n",
       "      <th></th>\n",
       "      <th>0</th>\n",
       "      <th>1</th>\n",
       "      <th>2</th>\n",
       "    </tr>\n",
       "  </thead>\n",
       "  <tbody>\n",
       "    <tr>\n",
       "      <th>0</th>\n",
       "      <td>满</td>\n",
       "      <td>血</td>\n",
       "      <td>激活</td>\n",
       "    </tr>\n",
       "    <tr>\n",
       "      <th>1</th>\n",
       "      <td>零</td>\n",
       "      <td>血</td>\n",
       "      <td>销毁</td>\n",
       "    </tr>\n",
       "    <tr>\n",
       "      <th>2</th>\n",
       "      <td>满</td>\n",
       "      <td>血</td>\n",
       "      <td>激活</td>\n",
       "    </tr>\n",
       "    <tr>\n",
       "      <th>3</th>\n",
       "      <td>零</td>\n",
       "      <td>血</td>\n",
       "      <td>销毁</td>\n",
       "    </tr>\n",
       "    <tr>\n",
       "      <th>4</th>\n",
       "      <td>零</td>\n",
       "      <td>血</td>\n",
       "      <td>销毁</td>\n",
       "    </tr>\n",
       "    <tr>\n",
       "      <th>5</th>\n",
       "      <td>NaN</td>\n",
       "      <td>NaN</td>\n",
       "      <td>NaN</td>\n",
       "    </tr>\n",
       "  </tbody>\n",
       "</table>\n",
       "</div>"
      ]
     },
     "execution_count": 50,
     "metadata": {},
     "output_type": "execute_result"
    }
   ],
   "execution_count": 50
  },
  {
   "metadata": {},
   "cell_type": "markdown",
   "source": "还要注意, 即使有多个分隔符, `partition` 也只会按照第一个分隔符分割",
   "id": "3eb3cdad7f7534ec"
  },
  {
   "metadata": {
    "ExecuteTime": {
     "end_time": "2025-08-30T02:25:45.750685Z",
     "start_time": "2025-08-30T02:25:45.742878Z"
    }
   },
   "cell_type": "code",
   "source": "'BbBbB'.partition('b')",
   "id": "b88c2e87d5200507",
   "outputs": [
    {
     "data": {
      "text/plain": [
       "('B', 'b', 'BbB')"
      ]
     },
     "execution_count": 53,
     "metadata": {},
     "output_type": "execute_result"
    }
   ],
   "execution_count": 53
  },
  {
   "metadata": {},
   "cell_type": "markdown",
   "source": "## 4 Get\n",
   "id": "357f0788bfde8baa"
  },
  {
   "metadata": {
    "ExecuteTime": {
     "end_time": "2025-08-30T02:31:37.683545Z",
     "start_time": "2025-08-30T02:31:37.664759Z"
    }
   },
   "cell_type": "code",
   "source": "df",
   "id": "c161d3faa84a03e8",
   "outputs": [
    {
     "data": {
      "text/plain": [
       "          日期  工号   姓名  年龄  战斗力   温度    状态    里程    特常   地区\n",
       "0 2020-05-01  21  丁智敏  37  200  36℃  满血激活   近距离  指鹿为马   丑国\n",
       "1 2020-05-02  22  李平平  26  250  37℃  零血销毁   远距离  隔空取物   米国\n",
       "2 2020-05-03  23   王松  27  200  38℃  满血激活   近距离  指鹿为马   丑国\n",
       "3 2020-05-04  24  卢海军  34  200  39℃  零血销毁  中远距离  隔空取物   米国\n",
       "4 2020-05-05  25   王刚  38  250  40℃  零血销毁   远距离  指鹿为马   丑国\n",
       "5 2020-05-06  26  NaN  35  200  41℃   NaN   NaN   NaN  NaN"
      ],
      "text/html": [
       "<div>\n",
       "<style scoped>\n",
       "    .dataframe tbody tr th:only-of-type {\n",
       "        vertical-align: middle;\n",
       "    }\n",
       "\n",
       "    .dataframe tbody tr th {\n",
       "        vertical-align: top;\n",
       "    }\n",
       "\n",
       "    .dataframe thead th {\n",
       "        text-align: right;\n",
       "    }\n",
       "</style>\n",
       "<table border=\"1\" class=\"dataframe\">\n",
       "  <thead>\n",
       "    <tr style=\"text-align: right;\">\n",
       "      <th></th>\n",
       "      <th>日期</th>\n",
       "      <th>工号</th>\n",
       "      <th>姓名</th>\n",
       "      <th>年龄</th>\n",
       "      <th>战斗力</th>\n",
       "      <th>温度</th>\n",
       "      <th>状态</th>\n",
       "      <th>里程</th>\n",
       "      <th>特常</th>\n",
       "      <th>地区</th>\n",
       "    </tr>\n",
       "  </thead>\n",
       "  <tbody>\n",
       "    <tr>\n",
       "      <th>0</th>\n",
       "      <td>2020-05-01</td>\n",
       "      <td>21</td>\n",
       "      <td>丁智敏</td>\n",
       "      <td>37</td>\n",
       "      <td>200</td>\n",
       "      <td>36℃</td>\n",
       "      <td>满血激活</td>\n",
       "      <td>近距离</td>\n",
       "      <td>指鹿为马</td>\n",
       "      <td>丑国</td>\n",
       "    </tr>\n",
       "    <tr>\n",
       "      <th>1</th>\n",
       "      <td>2020-05-02</td>\n",
       "      <td>22</td>\n",
       "      <td>李平平</td>\n",
       "      <td>26</td>\n",
       "      <td>250</td>\n",
       "      <td>37℃</td>\n",
       "      <td>零血销毁</td>\n",
       "      <td>远距离</td>\n",
       "      <td>隔空取物</td>\n",
       "      <td>米国</td>\n",
       "    </tr>\n",
       "    <tr>\n",
       "      <th>2</th>\n",
       "      <td>2020-05-03</td>\n",
       "      <td>23</td>\n",
       "      <td>王松</td>\n",
       "      <td>27</td>\n",
       "      <td>200</td>\n",
       "      <td>38℃</td>\n",
       "      <td>满血激活</td>\n",
       "      <td>近距离</td>\n",
       "      <td>指鹿为马</td>\n",
       "      <td>丑国</td>\n",
       "    </tr>\n",
       "    <tr>\n",
       "      <th>3</th>\n",
       "      <td>2020-05-04</td>\n",
       "      <td>24</td>\n",
       "      <td>卢海军</td>\n",
       "      <td>34</td>\n",
       "      <td>200</td>\n",
       "      <td>39℃</td>\n",
       "      <td>零血销毁</td>\n",
       "      <td>中远距离</td>\n",
       "      <td>隔空取物</td>\n",
       "      <td>米国</td>\n",
       "    </tr>\n",
       "    <tr>\n",
       "      <th>4</th>\n",
       "      <td>2020-05-05</td>\n",
       "      <td>25</td>\n",
       "      <td>王刚</td>\n",
       "      <td>38</td>\n",
       "      <td>250</td>\n",
       "      <td>40℃</td>\n",
       "      <td>零血销毁</td>\n",
       "      <td>远距离</td>\n",
       "      <td>指鹿为马</td>\n",
       "      <td>丑国</td>\n",
       "    </tr>\n",
       "    <tr>\n",
       "      <th>5</th>\n",
       "      <td>2020-05-06</td>\n",
       "      <td>26</td>\n",
       "      <td>NaN</td>\n",
       "      <td>35</td>\n",
       "      <td>200</td>\n",
       "      <td>41℃</td>\n",
       "      <td>NaN</td>\n",
       "      <td>NaN</td>\n",
       "      <td>NaN</td>\n",
       "      <td>NaN</td>\n",
       "    </tr>\n",
       "  </tbody>\n",
       "</table>\n",
       "</div>"
      ]
     },
     "execution_count": 54,
     "metadata": {},
     "output_type": "execute_result"
    }
   ],
   "execution_count": 54
  },
  {
   "metadata": {},
   "cell_type": "markdown",
   "source": "感觉这玩意没用",
   "id": "898eb220fa07974d"
  },
  {
   "metadata": {
    "ExecuteTime": {
     "end_time": "2025-08-30T02:32:20.548788Z",
     "start_time": "2025-08-30T02:32:20.539346Z"
    }
   },
   "cell_type": "code",
   "source": "df['状态'].get(0), df['状态'].get(1), df['状态'].get(2), df['状态'].get(-1)",
   "id": "ecbc6d3514dbb172",
   "outputs": [
    {
     "data": {
      "text/plain": [
       "('满血激活', '零血销毁', '满血激活', None)"
      ]
     },
     "execution_count": 57,
     "metadata": {},
     "output_type": "execute_result"
    }
   ],
   "execution_count": 57
  },
  {
   "metadata": {},
   "cell_type": "markdown",
   "source": "integer position 索引",
   "id": "6e44a13d0f71747"
  },
  {
   "metadata": {
    "ExecuteTime": {
     "end_time": "2025-08-30T02:35:16.559516Z",
     "start_time": "2025-08-30T02:35:16.545478Z"
    }
   },
   "cell_type": "code",
   "source": "df.iloc[0, 6], df.iloc[1, 6], df.iloc[2, 6],  df.iloc[-1, 6], ",
   "id": "ebfac65fd46c9d42",
   "outputs": [
    {
     "data": {
      "text/plain": [
       "('满血激活', '零血销毁', '满血激活', nan)"
      ]
     },
     "execution_count": 64,
     "metadata": {},
     "output_type": "execute_result"
    }
   ],
   "execution_count": 64
  },
  {
   "metadata": {},
   "cell_type": "markdown",
   "source": "loc 标签索引",
   "id": "a2e63fac85620076"
  },
  {
   "metadata": {
    "ExecuteTime": {
     "end_time": "2025-08-30T02:36:16.328264Z",
     "start_time": "2025-08-30T02:36:16.318261Z"
    }
   },
   "cell_type": "code",
   "source": "df.loc[0, '状态'], df.loc[1, '状态'], df.loc[2, '状态'], df.loc[len(df) - 1, '状态']",
   "id": "8752f8817964fcb2",
   "outputs": [
    {
     "data": {
      "text/plain": [
       "('满血激活', '零血销毁', '满血激活', nan)"
      ]
     },
     "execution_count": 67,
     "metadata": {},
     "output_type": "execute_result"
    }
   ],
   "execution_count": 67
  },
  {
   "metadata": {},
   "cell_type": "markdown",
   "source": "## 5 silce 获取指定范围",
   "id": "e3b02402681bf931"
  },
  {
   "metadata": {},
   "cell_type": "markdown",
   "source": "获取前 [l, r) 个字符",
   "id": "4e72998ced56b52d"
  },
  {
   "metadata": {
    "ExecuteTime": {
     "end_time": "2025-08-30T02:42:33.641483Z",
     "start_time": "2025-08-30T02:42:33.629524Z"
    }
   },
   "cell_type": "code",
   "source": "df['状态'].str.slice(0, 2)",
   "id": "bfc5aafd311df09c",
   "outputs": [
    {
     "data": {
      "text/plain": [
       "0     满血\n",
       "1     零血\n",
       "2     满血\n",
       "3     零血\n",
       "4     零血\n",
       "5    NaN\n",
       "Name: 状态, dtype: object"
      ]
     },
     "execution_count": 70,
     "metadata": {},
     "output_type": "execute_result"
    }
   ],
   "execution_count": 70
  },
  {
   "metadata": {
    "ExecuteTime": {
     "end_time": "2025-08-30T02:43:13.783775Z",
     "start_time": "2025-08-30T02:43:13.776600Z"
    }
   },
   "cell_type": "code",
   "source": "df['状态'].str.slice(0, 5, 2)",
   "id": "df89224483cdec43",
   "outputs": [
    {
     "data": {
      "text/plain": [
       "0     满激\n",
       "1     零销\n",
       "2     满激\n",
       "3     零销\n",
       "4     零销\n",
       "5    NaN\n",
       "Name: 状态, dtype: object"
      ]
     },
     "execution_count": 72,
     "metadata": {},
     "output_type": "execute_result"
    }
   ],
   "execution_count": 72
  },
  {
   "metadata": {
    "ExecuteTime": {
     "end_time": "2025-08-30T02:43:29.055200Z",
     "start_time": "2025-08-30T02:43:29.043558Z"
    }
   },
   "cell_type": "code",
   "source": "df",
   "id": "61df3e23ddbac28b",
   "outputs": [
    {
     "data": {
      "text/plain": [
       "          日期  工号   姓名  年龄  战斗力   温度    状态    里程    特常   地区\n",
       "0 2020-05-01  21  丁智敏  37  200  36℃  满血激活   近距离  指鹿为马   丑国\n",
       "1 2020-05-02  22  李平平  26  250  37℃  零血销毁   远距离  隔空取物   米国\n",
       "2 2020-05-03  23   王松  27  200  38℃  满血激活   近距离  指鹿为马   丑国\n",
       "3 2020-05-04  24  卢海军  34  200  39℃  零血销毁  中远距离  隔空取物   米国\n",
       "4 2020-05-05  25   王刚  38  250  40℃  零血销毁   远距离  指鹿为马   丑国\n",
       "5 2020-05-06  26  NaN  35  200  41℃   NaN   NaN   NaN  NaN"
      ],
      "text/html": [
       "<div>\n",
       "<style scoped>\n",
       "    .dataframe tbody tr th:only-of-type {\n",
       "        vertical-align: middle;\n",
       "    }\n",
       "\n",
       "    .dataframe tbody tr th {\n",
       "        vertical-align: top;\n",
       "    }\n",
       "\n",
       "    .dataframe thead th {\n",
       "        text-align: right;\n",
       "    }\n",
       "</style>\n",
       "<table border=\"1\" class=\"dataframe\">\n",
       "  <thead>\n",
       "    <tr style=\"text-align: right;\">\n",
       "      <th></th>\n",
       "      <th>日期</th>\n",
       "      <th>工号</th>\n",
       "      <th>姓名</th>\n",
       "      <th>年龄</th>\n",
       "      <th>战斗力</th>\n",
       "      <th>温度</th>\n",
       "      <th>状态</th>\n",
       "      <th>里程</th>\n",
       "      <th>特常</th>\n",
       "      <th>地区</th>\n",
       "    </tr>\n",
       "  </thead>\n",
       "  <tbody>\n",
       "    <tr>\n",
       "      <th>0</th>\n",
       "      <td>2020-05-01</td>\n",
       "      <td>21</td>\n",
       "      <td>丁智敏</td>\n",
       "      <td>37</td>\n",
       "      <td>200</td>\n",
       "      <td>36℃</td>\n",
       "      <td>满血激活</td>\n",
       "      <td>近距离</td>\n",
       "      <td>指鹿为马</td>\n",
       "      <td>丑国</td>\n",
       "    </tr>\n",
       "    <tr>\n",
       "      <th>1</th>\n",
       "      <td>2020-05-02</td>\n",
       "      <td>22</td>\n",
       "      <td>李平平</td>\n",
       "      <td>26</td>\n",
       "      <td>250</td>\n",
       "      <td>37℃</td>\n",
       "      <td>零血销毁</td>\n",
       "      <td>远距离</td>\n",
       "      <td>隔空取物</td>\n",
       "      <td>米国</td>\n",
       "    </tr>\n",
       "    <tr>\n",
       "      <th>2</th>\n",
       "      <td>2020-05-03</td>\n",
       "      <td>23</td>\n",
       "      <td>王松</td>\n",
       "      <td>27</td>\n",
       "      <td>200</td>\n",
       "      <td>38℃</td>\n",
       "      <td>满血激活</td>\n",
       "      <td>近距离</td>\n",
       "      <td>指鹿为马</td>\n",
       "      <td>丑国</td>\n",
       "    </tr>\n",
       "    <tr>\n",
       "      <th>3</th>\n",
       "      <td>2020-05-04</td>\n",
       "      <td>24</td>\n",
       "      <td>卢海军</td>\n",
       "      <td>34</td>\n",
       "      <td>200</td>\n",
       "      <td>39℃</td>\n",
       "      <td>零血销毁</td>\n",
       "      <td>中远距离</td>\n",
       "      <td>隔空取物</td>\n",
       "      <td>米国</td>\n",
       "    </tr>\n",
       "    <tr>\n",
       "      <th>4</th>\n",
       "      <td>2020-05-05</td>\n",
       "      <td>25</td>\n",
       "      <td>王刚</td>\n",
       "      <td>38</td>\n",
       "      <td>250</td>\n",
       "      <td>40℃</td>\n",
       "      <td>零血销毁</td>\n",
       "      <td>远距离</td>\n",
       "      <td>指鹿为马</td>\n",
       "      <td>丑国</td>\n",
       "    </tr>\n",
       "    <tr>\n",
       "      <th>5</th>\n",
       "      <td>2020-05-06</td>\n",
       "      <td>26</td>\n",
       "      <td>NaN</td>\n",
       "      <td>35</td>\n",
       "      <td>200</td>\n",
       "      <td>41℃</td>\n",
       "      <td>NaN</td>\n",
       "      <td>NaN</td>\n",
       "      <td>NaN</td>\n",
       "      <td>NaN</td>\n",
       "    </tr>\n",
       "  </tbody>\n",
       "</table>\n",
       "</div>"
      ]
     },
     "execution_count": 73,
     "metadata": {},
     "output_type": "execute_result"
    }
   ],
   "execution_count": 73
  },
  {
   "metadata": {
    "ExecuteTime": {
     "end_time": "2025-08-30T02:43:59.475964Z",
     "start_time": "2025-08-30T02:43:59.454980Z"
    }
   },
   "cell_type": "code",
   "source": "df['状态'] = df['状态'].str.slice_replace(1, 3, '孙兴华是文盲')",
   "id": "9478819b6848e459",
   "outputs": [],
   "execution_count": 75
  },
  {
   "metadata": {
    "ExecuteTime": {
     "end_time": "2025-08-30T02:44:01.425235Z",
     "start_time": "2025-08-30T02:44:01.403211Z"
    }
   },
   "cell_type": "code",
   "source": "df",
   "id": "59fc972ce460fba5",
   "outputs": [
    {
     "data": {
      "text/plain": [
       "          日期  工号   姓名  年龄  战斗力   温度        状态    里程    特常   地区\n",
       "0 2020-05-01  21  丁智敏  37  200  36℃  满孙兴华是文盲活   近距离  指鹿为马   丑国\n",
       "1 2020-05-02  22  李平平  26  250  37℃  零孙兴华是文盲毁   远距离  隔空取物   米国\n",
       "2 2020-05-03  23   王松  27  200  38℃  满孙兴华是文盲活   近距离  指鹿为马   丑国\n",
       "3 2020-05-04  24  卢海军  34  200  39℃  零孙兴华是文盲毁  中远距离  隔空取物   米国\n",
       "4 2020-05-05  25   王刚  38  250  40℃  零孙兴华是文盲毁   远距离  指鹿为马   丑国\n",
       "5 2020-05-06  26  NaN  35  200  41℃       NaN   NaN   NaN  NaN"
      ],
      "text/html": [
       "<div>\n",
       "<style scoped>\n",
       "    .dataframe tbody tr th:only-of-type {\n",
       "        vertical-align: middle;\n",
       "    }\n",
       "\n",
       "    .dataframe tbody tr th {\n",
       "        vertical-align: top;\n",
       "    }\n",
       "\n",
       "    .dataframe thead th {\n",
       "        text-align: right;\n",
       "    }\n",
       "</style>\n",
       "<table border=\"1\" class=\"dataframe\">\n",
       "  <thead>\n",
       "    <tr style=\"text-align: right;\">\n",
       "      <th></th>\n",
       "      <th>日期</th>\n",
       "      <th>工号</th>\n",
       "      <th>姓名</th>\n",
       "      <th>年龄</th>\n",
       "      <th>战斗力</th>\n",
       "      <th>温度</th>\n",
       "      <th>状态</th>\n",
       "      <th>里程</th>\n",
       "      <th>特常</th>\n",
       "      <th>地区</th>\n",
       "    </tr>\n",
       "  </thead>\n",
       "  <tbody>\n",
       "    <tr>\n",
       "      <th>0</th>\n",
       "      <td>2020-05-01</td>\n",
       "      <td>21</td>\n",
       "      <td>丁智敏</td>\n",
       "      <td>37</td>\n",
       "      <td>200</td>\n",
       "      <td>36℃</td>\n",
       "      <td>满孙兴华是文盲活</td>\n",
       "      <td>近距离</td>\n",
       "      <td>指鹿为马</td>\n",
       "      <td>丑国</td>\n",
       "    </tr>\n",
       "    <tr>\n",
       "      <th>1</th>\n",
       "      <td>2020-05-02</td>\n",
       "      <td>22</td>\n",
       "      <td>李平平</td>\n",
       "      <td>26</td>\n",
       "      <td>250</td>\n",
       "      <td>37℃</td>\n",
       "      <td>零孙兴华是文盲毁</td>\n",
       "      <td>远距离</td>\n",
       "      <td>隔空取物</td>\n",
       "      <td>米国</td>\n",
       "    </tr>\n",
       "    <tr>\n",
       "      <th>2</th>\n",
       "      <td>2020-05-03</td>\n",
       "      <td>23</td>\n",
       "      <td>王松</td>\n",
       "      <td>27</td>\n",
       "      <td>200</td>\n",
       "      <td>38℃</td>\n",
       "      <td>满孙兴华是文盲活</td>\n",
       "      <td>近距离</td>\n",
       "      <td>指鹿为马</td>\n",
       "      <td>丑国</td>\n",
       "    </tr>\n",
       "    <tr>\n",
       "      <th>3</th>\n",
       "      <td>2020-05-04</td>\n",
       "      <td>24</td>\n",
       "      <td>卢海军</td>\n",
       "      <td>34</td>\n",
       "      <td>200</td>\n",
       "      <td>39℃</td>\n",
       "      <td>零孙兴华是文盲毁</td>\n",
       "      <td>中远距离</td>\n",
       "      <td>隔空取物</td>\n",
       "      <td>米国</td>\n",
       "    </tr>\n",
       "    <tr>\n",
       "      <th>4</th>\n",
       "      <td>2020-05-05</td>\n",
       "      <td>25</td>\n",
       "      <td>王刚</td>\n",
       "      <td>38</td>\n",
       "      <td>250</td>\n",
       "      <td>40℃</td>\n",
       "      <td>零孙兴华是文盲毁</td>\n",
       "      <td>远距离</td>\n",
       "      <td>指鹿为马</td>\n",
       "      <td>丑国</td>\n",
       "    </tr>\n",
       "    <tr>\n",
       "      <th>5</th>\n",
       "      <td>2020-05-06</td>\n",
       "      <td>26</td>\n",
       "      <td>NaN</td>\n",
       "      <td>35</td>\n",
       "      <td>200</td>\n",
       "      <td>41℃</td>\n",
       "      <td>NaN</td>\n",
       "      <td>NaN</td>\n",
       "      <td>NaN</td>\n",
       "      <td>NaN</td>\n",
       "    </tr>\n",
       "  </tbody>\n",
       "</table>\n",
       "</div>"
      ]
     },
     "execution_count": 76,
     "metadata": {},
     "output_type": "execute_result"
    }
   ],
   "execution_count": 76
  },
  {
   "metadata": {
    "ExecuteTime": {
     "end_time": "2025-08-30T02:44:24.299206Z",
     "start_time": "2025-08-30T02:44:24.278186Z"
    }
   },
   "cell_type": "code",
   "source": "df = pd.read_excel(path)",
   "id": "458e7c383af7fa13",
   "outputs": [],
   "execution_count": 77
  },
  {
   "metadata": {
    "ExecuteTime": {
     "end_time": "2025-08-30T02:44:25.222454Z",
     "start_time": "2025-08-30T02:44:25.201450Z"
    }
   },
   "cell_type": "code",
   "source": "df",
   "id": "c113a2b627697976",
   "outputs": [
    {
     "data": {
      "text/plain": [
       "          日期  工号   姓名  年龄  战斗力   温度    状态    里程    特常   地区\n",
       "0 2020-05-01  21  丁智敏  37  200  36℃  满血激活   近距离  指鹿为马   丑国\n",
       "1 2020-05-02  22  李平平  26  250  37℃  零血销毁   远距离  隔空取物   米国\n",
       "2 2020-05-03  23   王松  27  200  38℃  满血激活   近距离  指鹿为马   丑国\n",
       "3 2020-05-04  24  卢海军  34  200  39℃  零血销毁  中远距离  隔空取物   米国\n",
       "4 2020-05-05  25   王刚  38  250  40℃  零血销毁   远距离  指鹿为马   丑国\n",
       "5 2020-05-06  26  NaN  35  200  41℃   NaN   NaN   NaN  NaN"
      ],
      "text/html": [
       "<div>\n",
       "<style scoped>\n",
       "    .dataframe tbody tr th:only-of-type {\n",
       "        vertical-align: middle;\n",
       "    }\n",
       "\n",
       "    .dataframe tbody tr th {\n",
       "        vertical-align: top;\n",
       "    }\n",
       "\n",
       "    .dataframe thead th {\n",
       "        text-align: right;\n",
       "    }\n",
       "</style>\n",
       "<table border=\"1\" class=\"dataframe\">\n",
       "  <thead>\n",
       "    <tr style=\"text-align: right;\">\n",
       "      <th></th>\n",
       "      <th>日期</th>\n",
       "      <th>工号</th>\n",
       "      <th>姓名</th>\n",
       "      <th>年龄</th>\n",
       "      <th>战斗力</th>\n",
       "      <th>温度</th>\n",
       "      <th>状态</th>\n",
       "      <th>里程</th>\n",
       "      <th>特常</th>\n",
       "      <th>地区</th>\n",
       "    </tr>\n",
       "  </thead>\n",
       "  <tbody>\n",
       "    <tr>\n",
       "      <th>0</th>\n",
       "      <td>2020-05-01</td>\n",
       "      <td>21</td>\n",
       "      <td>丁智敏</td>\n",
       "      <td>37</td>\n",
       "      <td>200</td>\n",
       "      <td>36℃</td>\n",
       "      <td>满血激活</td>\n",
       "      <td>近距离</td>\n",
       "      <td>指鹿为马</td>\n",
       "      <td>丑国</td>\n",
       "    </tr>\n",
       "    <tr>\n",
       "      <th>1</th>\n",
       "      <td>2020-05-02</td>\n",
       "      <td>22</td>\n",
       "      <td>李平平</td>\n",
       "      <td>26</td>\n",
       "      <td>250</td>\n",
       "      <td>37℃</td>\n",
       "      <td>零血销毁</td>\n",
       "      <td>远距离</td>\n",
       "      <td>隔空取物</td>\n",
       "      <td>米国</td>\n",
       "    </tr>\n",
       "    <tr>\n",
       "      <th>2</th>\n",
       "      <td>2020-05-03</td>\n",
       "      <td>23</td>\n",
       "      <td>王松</td>\n",
       "      <td>27</td>\n",
       "      <td>200</td>\n",
       "      <td>38℃</td>\n",
       "      <td>满血激活</td>\n",
       "      <td>近距离</td>\n",
       "      <td>指鹿为马</td>\n",
       "      <td>丑国</td>\n",
       "    </tr>\n",
       "    <tr>\n",
       "      <th>3</th>\n",
       "      <td>2020-05-04</td>\n",
       "      <td>24</td>\n",
       "      <td>卢海军</td>\n",
       "      <td>34</td>\n",
       "      <td>200</td>\n",
       "      <td>39℃</td>\n",
       "      <td>零血销毁</td>\n",
       "      <td>中远距离</td>\n",
       "      <td>隔空取物</td>\n",
       "      <td>米国</td>\n",
       "    </tr>\n",
       "    <tr>\n",
       "      <th>4</th>\n",
       "      <td>2020-05-05</td>\n",
       "      <td>25</td>\n",
       "      <td>王刚</td>\n",
       "      <td>38</td>\n",
       "      <td>250</td>\n",
       "      <td>40℃</td>\n",
       "      <td>零血销毁</td>\n",
       "      <td>远距离</td>\n",
       "      <td>指鹿为马</td>\n",
       "      <td>丑国</td>\n",
       "    </tr>\n",
       "    <tr>\n",
       "      <th>5</th>\n",
       "      <td>2020-05-06</td>\n",
       "      <td>26</td>\n",
       "      <td>NaN</td>\n",
       "      <td>35</td>\n",
       "      <td>200</td>\n",
       "      <td>41℃</td>\n",
       "      <td>NaN</td>\n",
       "      <td>NaN</td>\n",
       "      <td>NaN</td>\n",
       "      <td>NaN</td>\n",
       "    </tr>\n",
       "  </tbody>\n",
       "</table>\n",
       "</div>"
      ]
     },
     "execution_count": 78,
     "metadata": {},
     "output_type": "execute_result"
    }
   ],
   "execution_count": 78
  },
  {
   "metadata": {
    "ExecuteTime": {
     "end_time": "2025-08-30T02:45:27.193103Z",
     "start_time": "2025-08-30T02:45:27.185180Z"
    }
   },
   "cell_type": "code",
   "source": "' '.join(['a', 'b', 'c', 'd', 'e'])",
   "id": "c3aa784c6c908c08",
   "outputs": [
    {
     "data": {
      "text/plain": [
       "'a b c d e'"
      ]
     },
     "execution_count": 80,
     "metadata": {},
     "output_type": "execute_result"
    }
   ],
   "execution_count": 80
  },
  {
   "metadata": {
    "ExecuteTime": {
     "end_time": "2025-08-30T02:46:12.878516Z",
     "start_time": "2025-08-30T02:46:12.862699Z"
    }
   },
   "cell_type": "code",
   "source": "df['状态'] = (df['状态'].str.join('a'))",
   "id": "7849304ace0609d0",
   "outputs": [],
   "execution_count": 83
  },
  {
   "metadata": {
    "ExecuteTime": {
     "end_time": "2025-08-30T02:46:14.416633Z",
     "start_time": "2025-08-30T02:46:14.403746Z"
    }
   },
   "cell_type": "code",
   "source": "df",
   "id": "39b37dbb4e7adc5c",
   "outputs": [
    {
     "data": {
      "text/plain": [
       "          日期  工号   姓名  年龄  战斗力   温度       状态    里程    特常   地区\n",
       "0 2020-05-01  21  丁智敏  37  200  36℃  满a血a激a活   近距离  指鹿为马   丑国\n",
       "1 2020-05-02  22  李平平  26  250  37℃  零a血a销a毁   远距离  隔空取物   米国\n",
       "2 2020-05-03  23   王松  27  200  38℃  满a血a激a活   近距离  指鹿为马   丑国\n",
       "3 2020-05-04  24  卢海军  34  200  39℃  零a血a销a毁  中远距离  隔空取物   米国\n",
       "4 2020-05-05  25   王刚  38  250  40℃  零a血a销a毁   远距离  指鹿为马   丑国\n",
       "5 2020-05-06  26  NaN  35  200  41℃      NaN   NaN   NaN  NaN"
      ],
      "text/html": [
       "<div>\n",
       "<style scoped>\n",
       "    .dataframe tbody tr th:only-of-type {\n",
       "        vertical-align: middle;\n",
       "    }\n",
       "\n",
       "    .dataframe tbody tr th {\n",
       "        vertical-align: top;\n",
       "    }\n",
       "\n",
       "    .dataframe thead th {\n",
       "        text-align: right;\n",
       "    }\n",
       "</style>\n",
       "<table border=\"1\" class=\"dataframe\">\n",
       "  <thead>\n",
       "    <tr style=\"text-align: right;\">\n",
       "      <th></th>\n",
       "      <th>日期</th>\n",
       "      <th>工号</th>\n",
       "      <th>姓名</th>\n",
       "      <th>年龄</th>\n",
       "      <th>战斗力</th>\n",
       "      <th>温度</th>\n",
       "      <th>状态</th>\n",
       "      <th>里程</th>\n",
       "      <th>特常</th>\n",
       "      <th>地区</th>\n",
       "    </tr>\n",
       "  </thead>\n",
       "  <tbody>\n",
       "    <tr>\n",
       "      <th>0</th>\n",
       "      <td>2020-05-01</td>\n",
       "      <td>21</td>\n",
       "      <td>丁智敏</td>\n",
       "      <td>37</td>\n",
       "      <td>200</td>\n",
       "      <td>36℃</td>\n",
       "      <td>满a血a激a活</td>\n",
       "      <td>近距离</td>\n",
       "      <td>指鹿为马</td>\n",
       "      <td>丑国</td>\n",
       "    </tr>\n",
       "    <tr>\n",
       "      <th>1</th>\n",
       "      <td>2020-05-02</td>\n",
       "      <td>22</td>\n",
       "      <td>李平平</td>\n",
       "      <td>26</td>\n",
       "      <td>250</td>\n",
       "      <td>37℃</td>\n",
       "      <td>零a血a销a毁</td>\n",
       "      <td>远距离</td>\n",
       "      <td>隔空取物</td>\n",
       "      <td>米国</td>\n",
       "    </tr>\n",
       "    <tr>\n",
       "      <th>2</th>\n",
       "      <td>2020-05-03</td>\n",
       "      <td>23</td>\n",
       "      <td>王松</td>\n",
       "      <td>27</td>\n",
       "      <td>200</td>\n",
       "      <td>38℃</td>\n",
       "      <td>满a血a激a活</td>\n",
       "      <td>近距离</td>\n",
       "      <td>指鹿为马</td>\n",
       "      <td>丑国</td>\n",
       "    </tr>\n",
       "    <tr>\n",
       "      <th>3</th>\n",
       "      <td>2020-05-04</td>\n",
       "      <td>24</td>\n",
       "      <td>卢海军</td>\n",
       "      <td>34</td>\n",
       "      <td>200</td>\n",
       "      <td>39℃</td>\n",
       "      <td>零a血a销a毁</td>\n",
       "      <td>中远距离</td>\n",
       "      <td>隔空取物</td>\n",
       "      <td>米国</td>\n",
       "    </tr>\n",
       "    <tr>\n",
       "      <th>4</th>\n",
       "      <td>2020-05-05</td>\n",
       "      <td>25</td>\n",
       "      <td>王刚</td>\n",
       "      <td>38</td>\n",
       "      <td>250</td>\n",
       "      <td>40℃</td>\n",
       "      <td>零a血a销a毁</td>\n",
       "      <td>远距离</td>\n",
       "      <td>指鹿为马</td>\n",
       "      <td>丑国</td>\n",
       "    </tr>\n",
       "    <tr>\n",
       "      <th>5</th>\n",
       "      <td>2020-05-06</td>\n",
       "      <td>26</td>\n",
       "      <td>NaN</td>\n",
       "      <td>35</td>\n",
       "      <td>200</td>\n",
       "      <td>41℃</td>\n",
       "      <td>NaN</td>\n",
       "      <td>NaN</td>\n",
       "      <td>NaN</td>\n",
       "      <td>NaN</td>\n",
       "    </tr>\n",
       "  </tbody>\n",
       "</table>\n",
       "</div>"
      ]
     },
     "execution_count": 84,
     "metadata": {},
     "output_type": "execute_result"
    }
   ],
   "execution_count": 84
  },
  {
   "metadata": {},
   "cell_type": "markdown",
   "source": [
    "注意上面两个 join 的作用是不同的\n",
    "\n",
    "- Python: 'sep_char'.join(list)\n",
    "- Series: Series.str.join('sep_char')"
   ],
   "id": "e8a0b736b9c7ea94"
  },
  {
   "metadata": {},
   "cell_type": "markdown",
   "source": "## 8 contains",
   "id": "69bd956d1e2674ed"
  },
  {
   "metadata": {
    "ExecuteTime": {
     "end_time": "2025-08-30T02:50:12.587316Z",
     "start_time": "2025-08-30T02:50:12.578235Z"
    }
   },
   "cell_type": "code",
   "source": "df['状态'].str.contains('血', na = False)",
   "id": "4f64ef16a8fcd3",
   "outputs": [
    {
     "data": {
      "text/plain": [
       "0     True\n",
       "1     True\n",
       "2     True\n",
       "3     True\n",
       "4     True\n",
       "5    False\n",
       "Name: 状态, dtype: bool"
      ]
     },
     "execution_count": 87,
     "metadata": {},
     "output_type": "execute_result"
    }
   ],
   "execution_count": 87
  },
  {
   "metadata": {
    "ExecuteTime": {
     "end_time": "2025-08-30T02:50:22.540149Z",
     "start_time": "2025-08-30T02:50:22.525055Z"
    }
   },
   "cell_type": "code",
   "source": "df['状态'].str.contains('血', na = '空值')",
   "id": "896f4b66140ba1ac",
   "outputs": [
    {
     "data": {
      "text/plain": [
       "0    True\n",
       "1    True\n",
       "2    True\n",
       "3    True\n",
       "4    True\n",
       "5      空值\n",
       "Name: 状态, dtype: object"
      ]
     },
     "execution_count": 88,
     "metadata": {},
     "output_type": "execute_result"
    }
   ],
   "execution_count": 88
  },
  {
   "metadata": {},
   "cell_type": "markdown",
   "source": "## 8 startswith",
   "id": "ea8579e22767da0c"
  },
  {
   "metadata": {},
   "cell_type": "markdown",
   "source": "## 9 endswith",
   "id": "47ef141edc4190f8"
  },
  {
   "metadata": {},
   "cell_type": "markdown",
   "source": "## 10 repeat",
   "id": "53930299d0c21ee1"
  },
  {
   "metadata": {
    "ExecuteTime": {
     "end_time": "2025-08-30T02:51:38.337116Z",
     "start_time": "2025-08-30T02:51:38.324610Z"
    }
   },
   "cell_type": "code",
   "source": "df['姓名'] = df['姓名'].str.repeat(3)",
   "id": "c841e5057aa7668e",
   "outputs": [],
   "execution_count": 90
  },
  {
   "metadata": {
    "ExecuteTime": {
     "end_time": "2025-08-30T02:51:39.596770Z",
     "start_time": "2025-08-30T02:51:39.577381Z"
    }
   },
   "cell_type": "code",
   "source": "df",
   "id": "d1ca35babf73561f",
   "outputs": [
    {
     "data": {
      "text/plain": [
       "          日期  工号         姓名  年龄  战斗力   温度       状态    里程    特常   地区\n",
       "0 2020-05-01  21  丁智敏丁智敏丁智敏  37  200  36℃  满a血a激a活   近距离  指鹿为马   丑国\n",
       "1 2020-05-02  22  李平平李平平李平平  26  250  37℃  零a血a销a毁   远距离  隔空取物   米国\n",
       "2 2020-05-03  23     王松王松王松  27  200  38℃  满a血a激a活   近距离  指鹿为马   丑国\n",
       "3 2020-05-04  24  卢海军卢海军卢海军  34  200  39℃  零a血a销a毁  中远距离  隔空取物   米国\n",
       "4 2020-05-05  25     王刚王刚王刚  38  250  40℃  零a血a销a毁   远距离  指鹿为马   丑国\n",
       "5 2020-05-06  26        NaN  35  200  41℃      NaN   NaN   NaN  NaN"
      ],
      "text/html": [
       "<div>\n",
       "<style scoped>\n",
       "    .dataframe tbody tr th:only-of-type {\n",
       "        vertical-align: middle;\n",
       "    }\n",
       "\n",
       "    .dataframe tbody tr th {\n",
       "        vertical-align: top;\n",
       "    }\n",
       "\n",
       "    .dataframe thead th {\n",
       "        text-align: right;\n",
       "    }\n",
       "</style>\n",
       "<table border=\"1\" class=\"dataframe\">\n",
       "  <thead>\n",
       "    <tr style=\"text-align: right;\">\n",
       "      <th></th>\n",
       "      <th>日期</th>\n",
       "      <th>工号</th>\n",
       "      <th>姓名</th>\n",
       "      <th>年龄</th>\n",
       "      <th>战斗力</th>\n",
       "      <th>温度</th>\n",
       "      <th>状态</th>\n",
       "      <th>里程</th>\n",
       "      <th>特常</th>\n",
       "      <th>地区</th>\n",
       "    </tr>\n",
       "  </thead>\n",
       "  <tbody>\n",
       "    <tr>\n",
       "      <th>0</th>\n",
       "      <td>2020-05-01</td>\n",
       "      <td>21</td>\n",
       "      <td>丁智敏丁智敏丁智敏</td>\n",
       "      <td>37</td>\n",
       "      <td>200</td>\n",
       "      <td>36℃</td>\n",
       "      <td>满a血a激a活</td>\n",
       "      <td>近距离</td>\n",
       "      <td>指鹿为马</td>\n",
       "      <td>丑国</td>\n",
       "    </tr>\n",
       "    <tr>\n",
       "      <th>1</th>\n",
       "      <td>2020-05-02</td>\n",
       "      <td>22</td>\n",
       "      <td>李平平李平平李平平</td>\n",
       "      <td>26</td>\n",
       "      <td>250</td>\n",
       "      <td>37℃</td>\n",
       "      <td>零a血a销a毁</td>\n",
       "      <td>远距离</td>\n",
       "      <td>隔空取物</td>\n",
       "      <td>米国</td>\n",
       "    </tr>\n",
       "    <tr>\n",
       "      <th>2</th>\n",
       "      <td>2020-05-03</td>\n",
       "      <td>23</td>\n",
       "      <td>王松王松王松</td>\n",
       "      <td>27</td>\n",
       "      <td>200</td>\n",
       "      <td>38℃</td>\n",
       "      <td>满a血a激a活</td>\n",
       "      <td>近距离</td>\n",
       "      <td>指鹿为马</td>\n",
       "      <td>丑国</td>\n",
       "    </tr>\n",
       "    <tr>\n",
       "      <th>3</th>\n",
       "      <td>2020-05-04</td>\n",
       "      <td>24</td>\n",
       "      <td>卢海军卢海军卢海军</td>\n",
       "      <td>34</td>\n",
       "      <td>200</td>\n",
       "      <td>39℃</td>\n",
       "      <td>零a血a销a毁</td>\n",
       "      <td>中远距离</td>\n",
       "      <td>隔空取物</td>\n",
       "      <td>米国</td>\n",
       "    </tr>\n",
       "    <tr>\n",
       "      <th>4</th>\n",
       "      <td>2020-05-05</td>\n",
       "      <td>25</td>\n",
       "      <td>王刚王刚王刚</td>\n",
       "      <td>38</td>\n",
       "      <td>250</td>\n",
       "      <td>40℃</td>\n",
       "      <td>零a血a销a毁</td>\n",
       "      <td>远距离</td>\n",
       "      <td>指鹿为马</td>\n",
       "      <td>丑国</td>\n",
       "    </tr>\n",
       "    <tr>\n",
       "      <th>5</th>\n",
       "      <td>2020-05-06</td>\n",
       "      <td>26</td>\n",
       "      <td>NaN</td>\n",
       "      <td>35</td>\n",
       "      <td>200</td>\n",
       "      <td>41℃</td>\n",
       "      <td>NaN</td>\n",
       "      <td>NaN</td>\n",
       "      <td>NaN</td>\n",
       "      <td>NaN</td>\n",
       "    </tr>\n",
       "  </tbody>\n",
       "</table>\n",
       "</div>"
      ]
     },
     "execution_count": 91,
     "metadata": {},
     "output_type": "execute_result"
    }
   ],
   "execution_count": 91
  },
  {
   "metadata": {},
   "cell_type": "markdown",
   "source": "没必要记",
   "id": "11c7bdbbf8e4bb13"
  },
  {
   "metadata": {
    "ExecuteTime": {
     "end_time": "2025-08-30T02:52:17.043888Z",
     "start_time": "2025-08-30T02:52:17.027145Z"
    }
   },
   "cell_type": "code",
   "source": "df['姓名'] = df['姓名'].str[0:3]",
   "id": "428438f6bc7f9b3c",
   "outputs": [],
   "execution_count": 93
  },
  {
   "metadata": {
    "ExecuteTime": {
     "end_time": "2025-08-30T02:52:18.116017Z",
     "start_time": "2025-08-30T02:52:18.099169Z"
    }
   },
   "cell_type": "code",
   "source": "df",
   "id": "8bf2358367498bd",
   "outputs": [
    {
     "data": {
      "text/plain": [
       "          日期  工号   姓名  年龄  战斗力   温度       状态    里程    特常   地区\n",
       "0 2020-05-01  21  丁智敏  37  200  36℃  满a血a激a活   近距离  指鹿为马   丑国\n",
       "1 2020-05-02  22  李平平  26  250  37℃  零a血a销a毁   远距离  隔空取物   米国\n",
       "2 2020-05-03  23  王松王  27  200  38℃  满a血a激a活   近距离  指鹿为马   丑国\n",
       "3 2020-05-04  24  卢海军  34  200  39℃  零a血a销a毁  中远距离  隔空取物   米国\n",
       "4 2020-05-05  25  王刚王  38  250  40℃  零a血a销a毁   远距离  指鹿为马   丑国\n",
       "5 2020-05-06  26  NaN  35  200  41℃      NaN   NaN   NaN  NaN"
      ],
      "text/html": [
       "<div>\n",
       "<style scoped>\n",
       "    .dataframe tbody tr th:only-of-type {\n",
       "        vertical-align: middle;\n",
       "    }\n",
       "\n",
       "    .dataframe tbody tr th {\n",
       "        vertical-align: top;\n",
       "    }\n",
       "\n",
       "    .dataframe thead th {\n",
       "        text-align: right;\n",
       "    }\n",
       "</style>\n",
       "<table border=\"1\" class=\"dataframe\">\n",
       "  <thead>\n",
       "    <tr style=\"text-align: right;\">\n",
       "      <th></th>\n",
       "      <th>日期</th>\n",
       "      <th>工号</th>\n",
       "      <th>姓名</th>\n",
       "      <th>年龄</th>\n",
       "      <th>战斗力</th>\n",
       "      <th>温度</th>\n",
       "      <th>状态</th>\n",
       "      <th>里程</th>\n",
       "      <th>特常</th>\n",
       "      <th>地区</th>\n",
       "    </tr>\n",
       "  </thead>\n",
       "  <tbody>\n",
       "    <tr>\n",
       "      <th>0</th>\n",
       "      <td>2020-05-01</td>\n",
       "      <td>21</td>\n",
       "      <td>丁智敏</td>\n",
       "      <td>37</td>\n",
       "      <td>200</td>\n",
       "      <td>36℃</td>\n",
       "      <td>满a血a激a活</td>\n",
       "      <td>近距离</td>\n",
       "      <td>指鹿为马</td>\n",
       "      <td>丑国</td>\n",
       "    </tr>\n",
       "    <tr>\n",
       "      <th>1</th>\n",
       "      <td>2020-05-02</td>\n",
       "      <td>22</td>\n",
       "      <td>李平平</td>\n",
       "      <td>26</td>\n",
       "      <td>250</td>\n",
       "      <td>37℃</td>\n",
       "      <td>零a血a销a毁</td>\n",
       "      <td>远距离</td>\n",
       "      <td>隔空取物</td>\n",
       "      <td>米国</td>\n",
       "    </tr>\n",
       "    <tr>\n",
       "      <th>2</th>\n",
       "      <td>2020-05-03</td>\n",
       "      <td>23</td>\n",
       "      <td>王松王</td>\n",
       "      <td>27</td>\n",
       "      <td>200</td>\n",
       "      <td>38℃</td>\n",
       "      <td>满a血a激a活</td>\n",
       "      <td>近距离</td>\n",
       "      <td>指鹿为马</td>\n",
       "      <td>丑国</td>\n",
       "    </tr>\n",
       "    <tr>\n",
       "      <th>3</th>\n",
       "      <td>2020-05-04</td>\n",
       "      <td>24</td>\n",
       "      <td>卢海军</td>\n",
       "      <td>34</td>\n",
       "      <td>200</td>\n",
       "      <td>39℃</td>\n",
       "      <td>零a血a销a毁</td>\n",
       "      <td>中远距离</td>\n",
       "      <td>隔空取物</td>\n",
       "      <td>米国</td>\n",
       "    </tr>\n",
       "    <tr>\n",
       "      <th>4</th>\n",
       "      <td>2020-05-05</td>\n",
       "      <td>25</td>\n",
       "      <td>王刚王</td>\n",
       "      <td>38</td>\n",
       "      <td>250</td>\n",
       "      <td>40℃</td>\n",
       "      <td>零a血a销a毁</td>\n",
       "      <td>远距离</td>\n",
       "      <td>指鹿为马</td>\n",
       "      <td>丑国</td>\n",
       "    </tr>\n",
       "    <tr>\n",
       "      <th>5</th>\n",
       "      <td>2020-05-06</td>\n",
       "      <td>26</td>\n",
       "      <td>NaN</td>\n",
       "      <td>35</td>\n",
       "      <td>200</td>\n",
       "      <td>41℃</td>\n",
       "      <td>NaN</td>\n",
       "      <td>NaN</td>\n",
       "      <td>NaN</td>\n",
       "      <td>NaN</td>\n",
       "    </tr>\n",
       "  </tbody>\n",
       "</table>\n",
       "</div>"
      ]
     },
     "execution_count": 94,
     "metadata": {},
     "output_type": "execute_result"
    }
   ],
   "execution_count": 94
  },
  {
   "metadata": {
    "ExecuteTime": {
     "end_time": "2025-08-30T02:54:00.945190Z",
     "start_time": "2025-08-30T02:54:00.937554Z"
    }
   },
   "cell_type": "code",
   "source": "df['姓名'] = df['姓名'] * 3",
   "id": "66218d2119ad3ac3",
   "outputs": [],
   "execution_count": 98
  },
  {
   "metadata": {
    "ExecuteTime": {
     "end_time": "2025-08-30T02:54:02.972494Z",
     "start_time": "2025-08-30T02:54:02.958571Z"
    }
   },
   "cell_type": "code",
   "source": "df",
   "id": "981981062060848e",
   "outputs": [
    {
     "data": {
      "text/plain": [
       "          日期  工号         姓名  年龄  战斗力   温度       状态    里程    特常   地区\n",
       "0 2020-05-01  21  丁智敏丁智敏丁智敏  37  200  36℃  满a血a激a活   近距离  指鹿为马   丑国\n",
       "1 2020-05-02  22  李平平李平平李平平  26  250  37℃  零a血a销a毁   远距离  隔空取物   米国\n",
       "2 2020-05-03  23  王松王王松王王松王  27  200  38℃  满a血a激a活   近距离  指鹿为马   丑国\n",
       "3 2020-05-04  24  卢海军卢海军卢海军  34  200  39℃  零a血a销a毁  中远距离  隔空取物   米国\n",
       "4 2020-05-05  25  王刚王王刚王王刚王  38  250  40℃  零a血a销a毁   远距离  指鹿为马   丑国\n",
       "5 2020-05-06  26        NaN  35  200  41℃      NaN   NaN   NaN  NaN"
      ],
      "text/html": [
       "<div>\n",
       "<style scoped>\n",
       "    .dataframe tbody tr th:only-of-type {\n",
       "        vertical-align: middle;\n",
       "    }\n",
       "\n",
       "    .dataframe tbody tr th {\n",
       "        vertical-align: top;\n",
       "    }\n",
       "\n",
       "    .dataframe thead th {\n",
       "        text-align: right;\n",
       "    }\n",
       "</style>\n",
       "<table border=\"1\" class=\"dataframe\">\n",
       "  <thead>\n",
       "    <tr style=\"text-align: right;\">\n",
       "      <th></th>\n",
       "      <th>日期</th>\n",
       "      <th>工号</th>\n",
       "      <th>姓名</th>\n",
       "      <th>年龄</th>\n",
       "      <th>战斗力</th>\n",
       "      <th>温度</th>\n",
       "      <th>状态</th>\n",
       "      <th>里程</th>\n",
       "      <th>特常</th>\n",
       "      <th>地区</th>\n",
       "    </tr>\n",
       "  </thead>\n",
       "  <tbody>\n",
       "    <tr>\n",
       "      <th>0</th>\n",
       "      <td>2020-05-01</td>\n",
       "      <td>21</td>\n",
       "      <td>丁智敏丁智敏丁智敏</td>\n",
       "      <td>37</td>\n",
       "      <td>200</td>\n",
       "      <td>36℃</td>\n",
       "      <td>满a血a激a活</td>\n",
       "      <td>近距离</td>\n",
       "      <td>指鹿为马</td>\n",
       "      <td>丑国</td>\n",
       "    </tr>\n",
       "    <tr>\n",
       "      <th>1</th>\n",
       "      <td>2020-05-02</td>\n",
       "      <td>22</td>\n",
       "      <td>李平平李平平李平平</td>\n",
       "      <td>26</td>\n",
       "      <td>250</td>\n",
       "      <td>37℃</td>\n",
       "      <td>零a血a销a毁</td>\n",
       "      <td>远距离</td>\n",
       "      <td>隔空取物</td>\n",
       "      <td>米国</td>\n",
       "    </tr>\n",
       "    <tr>\n",
       "      <th>2</th>\n",
       "      <td>2020-05-03</td>\n",
       "      <td>23</td>\n",
       "      <td>王松王王松王王松王</td>\n",
       "      <td>27</td>\n",
       "      <td>200</td>\n",
       "      <td>38℃</td>\n",
       "      <td>满a血a激a活</td>\n",
       "      <td>近距离</td>\n",
       "      <td>指鹿为马</td>\n",
       "      <td>丑国</td>\n",
       "    </tr>\n",
       "    <tr>\n",
       "      <th>3</th>\n",
       "      <td>2020-05-04</td>\n",
       "      <td>24</td>\n",
       "      <td>卢海军卢海军卢海军</td>\n",
       "      <td>34</td>\n",
       "      <td>200</td>\n",
       "      <td>39℃</td>\n",
       "      <td>零a血a销a毁</td>\n",
       "      <td>中远距离</td>\n",
       "      <td>隔空取物</td>\n",
       "      <td>米国</td>\n",
       "    </tr>\n",
       "    <tr>\n",
       "      <th>4</th>\n",
       "      <td>2020-05-05</td>\n",
       "      <td>25</td>\n",
       "      <td>王刚王王刚王王刚王</td>\n",
       "      <td>38</td>\n",
       "      <td>250</td>\n",
       "      <td>40℃</td>\n",
       "      <td>零a血a销a毁</td>\n",
       "      <td>远距离</td>\n",
       "      <td>指鹿为马</td>\n",
       "      <td>丑国</td>\n",
       "    </tr>\n",
       "    <tr>\n",
       "      <th>5</th>\n",
       "      <td>2020-05-06</td>\n",
       "      <td>26</td>\n",
       "      <td>NaN</td>\n",
       "      <td>35</td>\n",
       "      <td>200</td>\n",
       "      <td>41℃</td>\n",
       "      <td>NaN</td>\n",
       "      <td>NaN</td>\n",
       "      <td>NaN</td>\n",
       "      <td>NaN</td>\n",
       "    </tr>\n",
       "  </tbody>\n",
       "</table>\n",
       "</div>"
      ]
     },
     "execution_count": 99,
     "metadata": {},
     "output_type": "execute_result"
    }
   ],
   "execution_count": 99
  },
  {
   "metadata": {},
   "cell_type": "code",
   "outputs": [],
   "execution_count": null,
   "source": "",
   "id": "5c1e814a55bd479a"
  }
 ],
 "metadata": {
  "kernelspec": {
   "display_name": "Python 3",
   "language": "python",
   "name": "python3"
  },
  "language_info": {
   "codemirror_mode": {
    "name": "ipython",
    "version": 2
   },
   "file_extension": ".py",
   "mimetype": "text/x-python",
   "name": "python",
   "nbconvert_exporter": "python",
   "pygments_lexer": "ipython2",
   "version": "2.7.6"
  }
 },
 "nbformat": 4,
 "nbformat_minor": 5
}
