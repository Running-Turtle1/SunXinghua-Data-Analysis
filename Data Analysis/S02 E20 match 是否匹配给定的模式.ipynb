{
 "cells": [
  {
   "metadata": {},
   "cell_type": "markdown",
   "source": "## 1 match",
   "id": "61010aa805ab205"
  },
  {
   "cell_type": "code",
   "id": "initial_id",
   "metadata": {
    "collapsed": true,
    "ExecuteTime": {
     "end_time": "2025-08-30T11:40:56.109412Z",
     "start_time": "2025-08-30T11:40:56.102861Z"
    }
   },
   "source": "import pandas as pd",
   "outputs": [],
   "execution_count": 41
  },
  {
   "metadata": {
    "ExecuteTime": {
     "end_time": "2025-08-30T11:40:56.307291Z",
     "start_time": "2025-08-30T11:40:56.300246Z"
    }
   },
   "cell_type": "code",
   "source": "path = './Repo/字符串.xlsx'",
   "id": "6f9eddf3dd563312",
   "outputs": [],
   "execution_count": 42
  },
  {
   "metadata": {
    "ExecuteTime": {
     "end_time": "2025-08-30T11:40:56.367025Z",
     "start_time": "2025-08-30T11:40:56.346633Z"
    }
   },
   "cell_type": "code",
   "source": "df = pd.read_excel(path)",
   "id": "e53f481db76d83fb",
   "outputs": [],
   "execution_count": 43
  },
  {
   "metadata": {
    "ExecuteTime": {
     "end_time": "2025-08-30T11:40:56.399415Z",
     "start_time": "2025-08-30T11:40:56.392882Z"
    }
   },
   "cell_type": "code",
   "source": "df = df['状态']",
   "id": "f7ee52a58332074a",
   "outputs": [],
   "execution_count": 44
  },
  {
   "metadata": {
    "ExecuteTime": {
     "end_time": "2025-08-30T11:40:56.432141Z",
     "start_time": "2025-08-30T11:40:56.424529Z"
    }
   },
   "cell_type": "code",
   "source": "df",
   "id": "59e32004c5e0579d",
   "outputs": [
    {
     "data": {
      "text/plain": [
       "0    满血激活\n",
       "1    零血销毁\n",
       "2    满血激活\n",
       "3    零血销毁\n",
       "4    零血销毁\n",
       "5     NaN\n",
       "Name: 状态, dtype: object"
      ]
     },
     "execution_count": 45,
     "metadata": {},
     "output_type": "execute_result"
    }
   ],
   "execution_count": 45
  },
  {
   "metadata": {},
   "cell_type": "markdown",
   "source": [
    "- `.` 代表元字符\n",
    "- `{x}` 表示匹配 `x` 次"
   ],
   "id": "5938cbf1d17bb61f"
  },
  {
   "metadata": {
    "ExecuteTime": {
     "end_time": "2025-08-30T11:40:56.511535Z",
     "start_time": "2025-08-30T11:40:56.500934Z"
    }
   },
   "cell_type": "code",
   "source": "df.str.match(\".{2}激\")",
   "id": "2f4f3aa59c222d20",
   "outputs": [
    {
     "data": {
      "text/plain": [
       "0     True\n",
       "1    False\n",
       "2     True\n",
       "3    False\n",
       "4    False\n",
       "5      NaN\n",
       "Name: 状态, dtype: object"
      ]
     },
     "execution_count": 46,
     "metadata": {},
     "output_type": "execute_result"
    }
   ],
   "execution_count": 46
  },
  {
   "metadata": {},
   "cell_type": "markdown",
   "source": "## 2 extract",
   "id": "24dd0f9a299bf94c"
  },
  {
   "metadata": {
    "ExecuteTime": {
     "end_time": "2025-08-30T11:40:56.544220Z",
     "start_time": "2025-08-30T11:40:56.521303Z"
    }
   },
   "cell_type": "code",
   "source": "df = pd.read_excel(path)['日期']",
   "id": "afc1d668d7bb8601",
   "outputs": [],
   "execution_count": 47
  },
  {
   "metadata": {
    "ExecuteTime": {
     "end_time": "2025-08-30T11:40:56.558952Z",
     "start_time": "2025-08-30T11:40:56.549539Z"
    }
   },
   "cell_type": "code",
   "source": "df",
   "id": "9c620a24e882419d",
   "outputs": [
    {
     "data": {
      "text/plain": [
       "0   2020-05-01\n",
       "1   2020-05-02\n",
       "2   2020-05-03\n",
       "3   2020-05-04\n",
       "4   2020-05-05\n",
       "5   2020-05-06\n",
       "Name: 日期, dtype: datetime64[ns]"
      ]
     },
     "execution_count": 48,
     "metadata": {},
     "output_type": "execute_result"
    }
   ],
   "execution_count": 48
  },
  {
   "metadata": {},
   "cell_type": "markdown",
   "source": [
    "- \\d 表示匹配一个数组\n",
    "- 加上 () 表示这个东西会被捕获为 df 的一个 column"
   ],
   "id": "8b77f0eccecb0688"
  },
  {
   "metadata": {
    "ExecuteTime": {
     "end_time": "2025-08-30T11:40:56.621613Z",
     "start_time": "2025-08-30T11:40:56.609948Z"
    }
   },
   "cell_type": "code",
   "source": "df.astype(str).str.extract('\\d{4}-(\\d{2})-(\\d{2})')",
   "id": "42ddb6ff1c693927",
   "outputs": [
    {
     "name": "stderr",
     "output_type": "stream",
     "text": [
      "<>:1: SyntaxWarning: invalid escape sequence '\\d'\n",
      "<>:1: SyntaxWarning: invalid escape sequence '\\d'\n",
      "C:\\Users\\95432\\AppData\\Local\\Temp\\ipykernel_11728\\3534649454.py:1: SyntaxWarning: invalid escape sequence '\\d'\n",
      "  df.astype(str).str.extract('\\d{4}-(\\d{2})-(\\d{2})')\n"
     ]
    },
    {
     "data": {
      "text/plain": [
       "    0   1\n",
       "0  05  01\n",
       "1  05  02\n",
       "2  05  03\n",
       "3  05  04\n",
       "4  05  05\n",
       "5  05  06"
      ],
      "text/html": [
       "<div>\n",
       "<style scoped>\n",
       "    .dataframe tbody tr th:only-of-type {\n",
       "        vertical-align: middle;\n",
       "    }\n",
       "\n",
       "    .dataframe tbody tr th {\n",
       "        vertical-align: top;\n",
       "    }\n",
       "\n",
       "    .dataframe thead th {\n",
       "        text-align: right;\n",
       "    }\n",
       "</style>\n",
       "<table border=\"1\" class=\"dataframe\">\n",
       "  <thead>\n",
       "    <tr style=\"text-align: right;\">\n",
       "      <th></th>\n",
       "      <th>0</th>\n",
       "      <th>1</th>\n",
       "    </tr>\n",
       "  </thead>\n",
       "  <tbody>\n",
       "    <tr>\n",
       "      <th>0</th>\n",
       "      <td>05</td>\n",
       "      <td>01</td>\n",
       "    </tr>\n",
       "    <tr>\n",
       "      <th>1</th>\n",
       "      <td>05</td>\n",
       "      <td>02</td>\n",
       "    </tr>\n",
       "    <tr>\n",
       "      <th>2</th>\n",
       "      <td>05</td>\n",
       "      <td>03</td>\n",
       "    </tr>\n",
       "    <tr>\n",
       "      <th>3</th>\n",
       "      <td>05</td>\n",
       "      <td>04</td>\n",
       "    </tr>\n",
       "    <tr>\n",
       "      <th>4</th>\n",
       "      <td>05</td>\n",
       "      <td>05</td>\n",
       "    </tr>\n",
       "    <tr>\n",
       "      <th>5</th>\n",
       "      <td>05</td>\n",
       "      <td>06</td>\n",
       "    </tr>\n",
       "  </tbody>\n",
       "</table>\n",
       "</div>"
      ]
     },
     "execution_count": 49,
     "metadata": {},
     "output_type": "execute_result"
    }
   ],
   "execution_count": 49
  },
  {
   "metadata": {
    "ExecuteTime": {
     "end_time": "2025-08-30T11:40:56.664167Z",
     "start_time": "2025-08-30T11:40:56.658814Z"
    }
   },
   "cell_type": "code",
   "source": "df = df.astype('str').str.replace(r\"(\\d+)-(\\d+)-(\\d+)\", r\"\\3/\\2/\\1\", regex = True)",
   "id": "9c87c1aeb45c2c1f",
   "outputs": [],
   "execution_count": 50
  },
  {
   "metadata": {
    "ExecuteTime": {
     "end_time": "2025-08-30T11:40:56.772224Z",
     "start_time": "2025-08-30T11:40:56.761037Z"
    }
   },
   "cell_type": "code",
   "source": "df",
   "id": "a1f9ac58cfc7c5bc",
   "outputs": [
    {
     "data": {
      "text/plain": [
       "0    01/05/2020\n",
       "1    02/05/2020\n",
       "2    03/05/2020\n",
       "3    04/05/2020\n",
       "4    05/05/2020\n",
       "5    06/05/2020\n",
       "Name: 日期, dtype: object"
      ]
     },
     "execution_count": 51,
     "metadata": {},
     "output_type": "execute_result"
    }
   ],
   "execution_count": 51
  }
 ],
 "metadata": {
  "kernelspec": {
   "display_name": "Python 3",
   "language": "python",
   "name": "python3"
  },
  "language_info": {
   "codemirror_mode": {
    "name": "ipython",
    "version": 2
   },
   "file_extension": ".py",
   "mimetype": "text/x-python",
   "name": "python",
   "nbconvert_exporter": "python",
   "pygments_lexer": "ipython2",
   "version": "2.7.6"
  }
 },
 "nbformat": 4,
 "nbformat_minor": 5
}
