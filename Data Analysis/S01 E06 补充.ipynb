{
 "cells": [
  {
   "metadata": {},
   "cell_type": "markdown",
   "source": "Numpy 的 Transpose",
   "id": "4672c80b19d1ba5a"
  },
  {
   "metadata": {
    "ExecuteTime": {
     "end_time": "2025-08-24T14:07:47.063855Z",
     "start_time": "2025-08-24T14:07:46.949160Z"
    }
   },
   "cell_type": "code",
   "source": "import numpy as np",
   "id": "8fc96231e4b67aab",
   "execution_count": 1,
   "outputs": []
  },
  {
   "metadata": {
    "ExecuteTime": {
     "end_time": "2025-08-24T14:08:06.725779Z",
     "start_time": "2025-08-24T14:08:06.710857Z"
    }
   },
   "cell_type": "code",
   "source": [
    "a = np.arange(16).reshape(2, 2, 4)\n",
    "a"
   ],
   "id": "600ef0511372600a",
   "execution_count": 2,
   "outputs": []
  },
  {
   "metadata": {
    "ExecuteTime": {
     "end_time": "2025-08-24T14:08:35.795610Z",
     "start_time": "2025-08-24T14:08:35.777607Z"
    }
   },
   "cell_type": "code",
   "source": "a.transpose(0, 1, 2)",
   "id": "5a2dff9dc8ae6f6",
   "execution_count": 3,
   "outputs": []
  },
  {
   "metadata": {
    "ExecuteTime": {
     "end_time": "2025-08-24T14:08:41.542198Z",
     "start_time": "2025-08-24T14:08:41.535135Z"
    }
   },
   "cell_type": "code",
   "source": "a.transpose(0, 2, 1)",
   "id": "8ddb2ddf864f94be",
   "execution_count": 4,
   "outputs": []
  },
  {
   "metadata": {
    "ExecuteTime": {
     "end_time": "2025-08-24T14:08:51.250379Z",
     "start_time": "2025-08-24T14:08:51.231267Z"
    }
   },
   "cell_type": "code",
   "source": "a.transpose(1, 0, 2)",
   "id": "30ee3a1fc13d9c60",
   "execution_count": 5,
   "outputs": []
  },
  {
   "metadata": {
    "ExecuteTime": {
     "end_time": "2025-08-24T14:08:55.049939Z",
     "start_time": "2025-08-24T14:08:55.044318Z"
    }
   },
   "cell_type": "code",
   "source": "a.transpose(1, 2, 0)",
   "id": "fdd894c99f839e6b",
   "execution_count": 6,
   "outputs": []
  },
  {
   "metadata": {
    "ExecuteTime": {
     "end_time": "2025-08-24T14:08:58.906264Z",
     "start_time": "2025-08-24T14:08:58.895971Z"
    }
   },
   "cell_type": "code",
   "source": "a.transpose(2, 0, 1)",
   "id": "913e69aa6986df42",
   "execution_count": 7,
   "outputs": []
  },
  {
   "metadata": {},
   "cell_type": "markdown",
   "source": [
    "0 -> 2\n",
    "\n",
    "1 -> 1\n",
    "\n",
    "2 -> 0\n",
    "\n",
    "(i, j, k) -> (k, j, i)"
   ],
   "id": "4bce271166b13f3c"
  },
  {
   "metadata": {
    "ExecuteTime": {
     "end_time": "2025-08-24T14:12:58.605611Z",
     "start_time": "2025-08-24T14:12:58.593657Z"
    }
   },
   "cell_type": "code",
   "source": [
    "for i in range(2):\n",
    "    for j in range(2):\n",
    "        for k in range(4):\n",
    "            print(f'({i},{j},{k}):{a[i][j][k]} to ({k},{j},{i})')"
   ],
   "id": "6d59ee9425fb0c4f",
   "execution_count": 15,
   "outputs": []
  },
  {
   "metadata": {
    "ExecuteTime": {
     "end_time": "2025-08-24T14:09:11.987190Z",
     "start_time": "2025-08-24T14:09:11.978890Z"
    }
   },
   "cell_type": "code",
   "source": "a.transpose(2, 1, 0)",
   "id": "b5a9fe5718ccd0",
   "execution_count": 9,
   "outputs": []
  },
  {
   "metadata": {
    "ExecuteTime": {
     "end_time": "2025-08-24T14:27:32.398905Z",
     "start_time": "2025-08-24T14:27:32.392789Z"
    }
   },
   "cell_type": "code",
   "source": [
    "a = np.arange(24).reshape(2, 2, 6)\n",
    "a"
   ],
   "id": "d68c74a553464346",
   "execution_count": 18,
   "outputs": []
  },
  {
   "metadata": {
    "ExecuteTime": {
     "end_time": "2025-08-24T14:27:45.347742Z",
     "start_time": "2025-08-24T14:27:45.340444Z"
    }
   },
   "cell_type": "code",
   "source": "a.transpose(2, 1, 0) == a.swapaxes(0, 2)",
   "id": "27f842a6757a6f16",
   "execution_count": 19,
   "outputs": []
  },
  {
   "metadata": {},
   "cell_type": "code",
   "execution_count": null,
   "source": "",
   "id": "b6908e090300c17b",
   "outputs": []
  }
 ],
 "metadata": {
  "kernelspec": {
   "display_name": "Python 3",
   "language": "python",
   "name": "python3"
  },
  "language_info": {
   "codemirror_mode": {
    "name": "ipython",
    "version": 2
   },
   "file_extension": ".py",
   "mimetype": "text/x-python",
   "name": "python",
   "nbconvert_exporter": "python",
   "pygments_lexer": "ipython2",
   "version": "2.7.6"
  }
 },
 "nbformat": 4,
 "nbformat_minor": 5
}
