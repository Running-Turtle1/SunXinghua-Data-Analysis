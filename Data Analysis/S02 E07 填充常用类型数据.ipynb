{
 "cells": [
  {
   "cell_type": "code",
   "id": "initial_id",
   "metadata": {
    "collapsed": true,
    "ExecuteTime": {
     "end_time": "2025-08-28T01:23:11.685860Z",
     "start_time": "2025-08-28T01:23:11.678227Z"
    }
   },
   "source": [
    "import os\n",
    "import pandas as pd\n",
    "import datetime"
   ],
   "execution_count": 77,
   "outputs": []
  },
  {
   "metadata": {
    "ExecuteTime": {
     "end_time": "2025-08-28T01:23:11.770714Z",
     "start_time": "2025-08-28T01:23:11.766397Z"
    }
   },
   "cell_type": "code",
   "source": "repo = './Repo'",
   "id": "5cde44a3d7deaf77",
   "execution_count": 78,
   "outputs": []
  },
  {
   "metadata": {
    "ExecuteTime": {
     "end_time": "2025-08-28T01:23:11.785763Z",
     "start_time": "2025-08-28T01:23:11.772220Z"
    }
   },
   "cell_type": "code",
   "source": "path = os.path.join(repo, '自动填充.xlsx')",
   "id": "61d9b8a78f05ed60",
   "execution_count": 79,
   "outputs": []
  },
  {
   "metadata": {
    "ExecuteTime": {
     "end_time": "2025-08-28T01:23:11.804775Z",
     "start_time": "2025-08-28T01:23:11.787954Z"
    }
   },
   "cell_type": "code",
   "source": "df = pd.read_excel(path, skiprows = 8, usecols = 'F:I', dtype = {'序号': str, '姓名': str, '性别': str, '日期': str})",
   "id": "de987e6b7603fcfd",
   "execution_count": 80,
   "outputs": []
  },
  {
   "metadata": {
    "ExecuteTime": {
     "end_time": "2025-08-28T01:23:11.813681Z",
     "start_time": "2025-08-28T01:23:11.804775Z"
    }
   },
   "cell_type": "code",
   "source": "df",
   "id": "5879405f7abe9dbb",
   "execution_count": 81,
   "outputs": []
  },
  {
   "metadata": {
    "ExecuteTime": {
     "end_time": "2025-08-28T01:23:11.822930Z",
     "start_time": "2025-08-28T01:23:11.814225Z"
    }
   },
   "cell_type": "code",
   "source": [
    "startDate = datetime.date(2025, 1, 1)\n",
    "startDate"
   ],
   "id": "76817aa301ac3f0f",
   "execution_count": 82,
   "outputs": []
  },
  {
   "metadata": {
    "ExecuteTime": {
     "end_time": "2025-08-28T01:23:11.856108Z",
     "start_time": "2025-08-28T01:23:11.849194Z"
    }
   },
   "cell_type": "code",
   "source": [
    "for i in df.index:\n",
    "    df['序号'].at[i] = i\n",
    "    df['性别'].at[i] = '男' if i % 2 == 0 else '女'\n",
    "    df['日期'].at[i] = startDate + datetime.timedelta(days = i)"
   ],
   "id": "c9bb0eb3455d8819",
   "execution_count": 83,
   "outputs": []
  },
  {
   "metadata": {
    "ExecuteTime": {
     "end_time": "2025-08-28T01:23:11.875705Z",
     "start_time": "2025-08-28T01:23:11.856108Z"
    }
   },
   "cell_type": "code",
   "source": "df",
   "id": "3d0d06cb8fe40ae3",
   "execution_count": 84,
   "outputs": []
  },
  {
   "metadata": {
    "ExecuteTime": {
     "end_time": "2025-08-28T01:23:11.886708Z",
     "start_time": "2025-08-28T01:23:11.875705Z"
    }
   },
   "cell_type": "code",
   "source": "df.set_index('序号', inplace = True)",
   "id": "27eb21f7649eae5c",
   "execution_count": 85,
   "outputs": []
  },
  {
   "metadata": {
    "ExecuteTime": {
     "end_time": "2025-08-28T01:23:37.930281Z",
     "start_time": "2025-08-28T01:23:37.918626Z"
    }
   },
   "cell_type": "code",
   "source": [
    "savepath = os.path.join(repo, '读取文件-填充版.csv')\n",
    "df.to_csv(savepath)"
   ],
   "id": "c157689591cea4e8",
   "execution_count": 87,
   "outputs": []
  },
  {
   "metadata": {
    "ExecuteTime": {
     "end_time": "2025-08-28T01:23:11.977768Z",
     "start_time": "2025-08-28T01:23:11.960912Z"
    }
   },
   "cell_type": "code",
   "source": "",
   "id": "19989e27583b02a8",
   "execution_count": 86,
   "outputs": []
  }
 ],
 "metadata": {
  "kernelspec": {
   "display_name": "Python 3",
   "language": "python",
   "name": "python3"
  },
  "language_info": {
   "codemirror_mode": {
    "name": "ipython",
    "version": 2
   },
   "file_extension": ".py",
   "mimetype": "text/x-python",
   "name": "python",
   "nbconvert_exporter": "python",
   "pygments_lexer": "ipython2",
   "version": "2.7.6"
  }
 },
 "nbformat": 4,
 "nbformat_minor": 5
}
