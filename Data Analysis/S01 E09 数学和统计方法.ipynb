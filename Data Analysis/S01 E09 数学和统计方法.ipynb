{
 "cells": [
  {
   "metadata": {},
   "cell_type": "markdown",
   "source": "## 1 一维数组函数",
   "id": "469756b0658b5033"
  },
  {
   "cell_type": "code",
   "id": "initial_id",
   "metadata": {
    "collapsed": true,
    "ExecuteTime": {
     "end_time": "2025-08-26T12:54:09.973423Z",
     "start_time": "2025-08-26T12:54:09.069856Z"
    }
   },
   "source": "import numpy as np",
   "execution_count": 1,
   "outputs": []
  },
  {
   "metadata": {
    "ExecuteTime": {
     "end_time": "2025-08-26T12:56:17.649373Z",
     "start_time": "2025-08-26T12:56:17.645098Z"
    }
   },
   "cell_type": "code",
   "source": "a = np.array([1, 2, 3, 4, 3, 5, 3, 6])",
   "id": "4f7e3def5b58f863",
   "execution_count": 2,
   "outputs": []
  },
  {
   "metadata": {
    "ExecuteTime": {
     "end_time": "2025-08-26T12:56:19.996607Z",
     "start_time": "2025-08-26T12:56:19.988136Z"
    }
   },
   "cell_type": "code",
   "source": "a",
   "id": "37e7d80228ef3009",
   "execution_count": 3,
   "outputs": []
  },
  {
   "metadata": {
    "ExecuteTime": {
     "end_time": "2025-08-26T12:56:24.537465Z",
     "start_time": "2025-08-26T12:56:24.529474Z"
    }
   },
   "cell_type": "code",
   "source": "np.sum(a) # 总和",
   "id": "39b225692d89325a",
   "execution_count": 4,
   "outputs": []
  },
  {
   "metadata": {
    "ExecuteTime": {
     "end_time": "2025-08-26T12:56:43.755533Z",
     "start_time": "2025-08-26T12:56:43.746874Z"
    }
   },
   "cell_type": "code",
   "source": "np.prod(a) # 乘积",
   "id": "468eaa75120c51f8",
   "execution_count": 5,
   "outputs": []
  },
  {
   "metadata": {
    "ExecuteTime": {
     "end_time": "2025-08-26T12:56:54.850048Z",
     "start_time": "2025-08-26T12:56:54.831376Z"
    }
   },
   "cell_type": "code",
   "source": "np.max(a), np.min(a)",
   "id": "6edea67bc0893169",
   "execution_count": 7,
   "outputs": []
  },
  {
   "metadata": {
    "ExecuteTime": {
     "end_time": "2025-08-26T12:57:08.520795Z",
     "start_time": "2025-08-26T12:57:08.503665Z"
    }
   },
   "cell_type": "code",
   "source": "np.argmax(a), np.argmin(a)",
   "id": "45d8e4bf333e901",
   "execution_count": 8,
   "outputs": []
  },
  {
   "metadata": {
    "ExecuteTime": {
     "end_time": "2025-08-26T12:57:19.950372Z",
     "start_time": "2025-08-26T12:57:19.941430Z"
    }
   },
   "cell_type": "code",
   "source": "np.mean(a) # 平均数",
   "id": "cafb6010f2b7818d",
   "execution_count": 9,
   "outputs": []
  },
  {
   "metadata": {
    "ExecuteTime": {
     "end_time": "2025-08-26T12:57:27.820494Z",
     "start_time": "2025-08-26T12:57:27.811274Z"
    }
   },
   "cell_type": "code",
   "source": "np.median(a) # 中位数",
   "id": "554244c8fbe2e6d1",
   "execution_count": 10,
   "outputs": []
  },
  {
   "metadata": {
    "ExecuteTime": {
     "end_time": "2025-08-26T13:03:13.512912Z",
     "start_time": "2025-08-26T13:03:13.501116Z"
    }
   },
   "cell_type": "code",
   "source": "np.average(a) # 加权平均, 默认按照 1",
   "id": "ded7bd3a37ade689",
   "execution_count": 14,
   "outputs": []
  },
  {
   "metadata": {
    "ExecuteTime": {
     "end_time": "2025-08-26T13:03:39.992208Z",
     "start_time": "2025-08-26T13:03:39.984735Z"
    }
   },
   "cell_type": "code",
   "source": "b = np.array([1, 1, 1, 1, 1, 1, 1, 2])",
   "id": "325236beb745bb45",
   "execution_count": 15,
   "outputs": []
  },
  {
   "metadata": {
    "ExecuteTime": {
     "end_time": "2025-08-26T13:04:00.642386Z",
     "start_time": "2025-08-26T13:04:00.634941Z"
    }
   },
   "cell_type": "code",
   "source": "np.dot(a, b) / np.sum(b)",
   "id": "e6c5411d0f3d9697",
   "execution_count": 16,
   "outputs": []
  },
  {
   "metadata": {
    "ExecuteTime": {
     "end_time": "2025-08-26T13:05:36.693906Z",
     "start_time": "2025-08-26T13:05:36.685758Z"
    }
   },
   "cell_type": "code",
   "source": "np.average(a, weights = b)",
   "id": "609550f916c118de",
   "execution_count": 18,
   "outputs": []
  },
  {
   "metadata": {},
   "cell_type": "markdown",
   "source": "array([1, 2, 3, 4, 3, 5, 3, 6])",
   "id": "b7911bd940f80499"
  },
  {
   "metadata": {
    "ExecuteTime": {
     "end_time": "2025-08-26T12:58:21.054108Z",
     "start_time": "2025-08-26T12:58:21.043559Z"
    }
   },
   "cell_type": "code",
   "source": "np.bincount(a) # 统计从 0 到 mx 每个数的出现次数",
   "id": "f53e56b44e18b5e0",
   "execution_count": 13,
   "outputs": []
  },
  {
   "metadata": {},
   "cell_type": "markdown",
   "source": "众数需要手动实现",
   "id": "ff9913d897a01092"
  },
  {
   "metadata": {
    "ExecuteTime": {
     "end_time": "2025-08-26T13:07:25.187596Z",
     "start_time": "2025-08-26T13:07:25.177605Z"
    }
   },
   "cell_type": "code",
   "source": [
    "a[0] = 1000000000\n",
    "a"
   ],
   "id": "7f49d389b12c9f93",
   "execution_count": 28,
   "outputs": []
  },
  {
   "metadata": {
    "ExecuteTime": {
     "end_time": "2025-08-26T13:07:26.117072Z",
     "start_time": "2025-08-26T13:07:26.046864Z"
    }
   },
   "cell_type": "code",
   "source": [
    "counts = np.bincount(a) # 这个代码库太啥b了, 数组长度 = 元素最大值, 而不是跟元素长度有关\n",
    "counts"
   ],
   "id": "863c9090ff23bb3a",
   "execution_count": 29,
   "outputs": []
  },
  {
   "metadata": {
    "ExecuteTime": {
     "end_time": "2025-08-26T13:07:34.861867Z",
     "start_time": "2025-08-26T13:07:28.447640Z"
    }
   },
   "cell_type": "code",
   "source": "np.argmax(counts)",
   "id": "db80f501b1475737",
   "execution_count": 30,
   "outputs": []
  },
  {
   "metadata": {
    "ExecuteTime": {
     "end_time": "2025-08-26T13:07:41.004717Z",
     "start_time": "2025-08-26T13:07:34.861867Z"
    }
   },
   "cell_type": "code",
   "source": "np.argmax(np.bincount(a)) # 求 众数",
   "id": "3c78f1ea84ff7850",
   "execution_count": 31,
   "outputs": []
  },
  {
   "metadata": {},
   "cell_type": "markdown",
   "source": "补充",
   "id": "de46ddee96ee9d2e"
  },
  {
   "metadata": {
    "ExecuteTime": {
     "end_time": "2025-08-26T13:09:49.822291Z",
     "start_time": "2025-08-26T13:09:49.815949Z"
    }
   },
   "cell_type": "code",
   "source": "t = np.array([1, 2, 3])",
   "id": "a68a00c3014d3893",
   "execution_count": 32,
   "outputs": []
  },
  {
   "metadata": {
    "ExecuteTime": {
     "end_time": "2025-08-26T13:09:57.030735Z",
     "start_time": "2025-08-26T13:09:57.021500Z"
    }
   },
   "cell_type": "code",
   "source": "np.cumsum(t)",
   "id": "eadba4814b4f5489",
   "execution_count": 33,
   "outputs": []
  },
  {
   "metadata": {
    "ExecuteTime": {
     "end_time": "2025-08-26T13:10:03.141591Z",
     "start_time": "2025-08-26T13:10:03.133735Z"
    }
   },
   "cell_type": "code",
   "source": "np.cumprod(t)",
   "id": "a47da3dac5795197",
   "execution_count": 34,
   "outputs": []
  },
  {
   "metadata": {},
   "cell_type": "markdown",
   "source": "## 二维数组函数",
   "id": "25bfbd9934c9a909"
  },
  {
   "metadata": {
    "ExecuteTime": {
     "end_time": "2025-08-26T13:10:31.275125Z",
     "start_time": "2025-08-26T13:10:31.270326Z"
    }
   },
   "cell_type": "code",
   "source": [
    "a = np.array([\n",
    "    [1, 3, 6],\n",
    "    [9, 2, 3],\n",
    "    [2, 3, 3]\n",
    "])"
   ],
   "id": "82c220aff71dac75",
   "execution_count": 37,
   "outputs": []
  },
  {
   "metadata": {
    "ExecuteTime": {
     "end_time": "2025-08-26T13:10:31.342727Z",
     "start_time": "2025-08-26T13:10:31.336166Z"
    }
   },
   "cell_type": "code",
   "source": "a",
   "id": "109a294f81a97b18",
   "execution_count": 38,
   "outputs": []
  },
  {
   "metadata": {
    "ExecuteTime": {
     "end_time": "2025-08-26T13:10:43.778755Z",
     "start_time": "2025-08-26T13:10:43.764651Z"
    }
   },
   "cell_type": "code",
   "source": "np.sum(a), np.prod(a)",
   "id": "b16fe7fb0106df91",
   "execution_count": 39,
   "outputs": []
  },
  {
   "metadata": {
    "ExecuteTime": {
     "end_time": "2025-08-26T13:10:51.481815Z",
     "start_time": "2025-08-26T13:10:51.470661Z"
    }
   },
   "cell_type": "code",
   "source": "np.cumsum(a) # 返回一维数组",
   "id": "43932c8369a3aeac",
   "execution_count": 40,
   "outputs": []
  },
  {
   "metadata": {
    "ExecuteTime": {
     "end_time": "2025-08-26T13:11:00.300697Z",
     "start_time": "2025-08-26T13:11:00.293824Z"
    }
   },
   "cell_type": "code",
   "source": "np.cumprod(a) # 返回一维数组",
   "id": "3fdcb1e824477d73",
   "execution_count": 41,
   "outputs": []
  },
  {
   "metadata": {
    "ExecuteTime": {
     "end_time": "2025-08-26T13:11:25.530327Z",
     "start_time": "2025-08-26T13:11:25.524528Z"
    }
   },
   "cell_type": "code",
   "source": "np.max(a), np.min(a)",
   "id": "129d6de562d0e2e0",
   "execution_count": 42,
   "outputs": []
  },
  {
   "metadata": {
    "ExecuteTime": {
     "end_time": "2025-08-26T13:11:31.566614Z",
     "start_time": "2025-08-26T13:11:31.556070Z"
    }
   },
   "cell_type": "code",
   "source": "np.argmax(a), np.argmin(a)",
   "id": "dae4bc2ccfbbed7c",
   "execution_count": 43,
   "outputs": []
  },
  {
   "metadata": {
    "ExecuteTime": {
     "end_time": "2025-08-26T13:11:58.712273Z",
     "start_time": "2025-08-26T13:11:58.703808Z"
    }
   },
   "cell_type": "code",
   "source": "np.mean(a)",
   "id": "3da8e1c59cca1713",
   "execution_count": 44,
   "outputs": []
  },
  {
   "metadata": {
    "ExecuteTime": {
     "end_time": "2025-08-26T13:12:06.627023Z",
     "start_time": "2025-08-26T13:12:06.619347Z"
    }
   },
   "cell_type": "code",
   "source": "np.median(a)",
   "id": "e500bb65d8489c7b",
   "execution_count": 45,
   "outputs": []
  },
  {
   "metadata": {
    "ExecuteTime": {
     "end_time": "2025-08-26T13:12:13.477711Z",
     "start_time": "2025-08-26T13:12:13.472199Z"
    }
   },
   "cell_type": "code",
   "source": "np.average(a)",
   "id": "d63aacdf40c111a1",
   "execution_count": 46,
   "outputs": []
  },
  {
   "metadata": {},
   "cell_type": "markdown",
   "source": [
    "补充 \n",
    "\n",
    "数组的众数不建议在 Numpy 里面做, 在 Pandas 里面更简单"
   ],
   "id": "9d2551154813eaff"
  },
  {
   "metadata": {
    "ExecuteTime": {
     "end_time": "2025-08-26T13:13:05.011674Z",
     "start_time": "2025-08-26T13:13:05.008291Z"
    }
   },
   "cell_type": "code",
   "source": "import pandas as pd",
   "id": "1da88804e43b1ead",
   "execution_count": 47,
   "outputs": []
  },
  {
   "metadata": {
    "ExecuteTime": {
     "end_time": "2025-08-26T13:13:15.224736Z",
     "start_time": "2025-08-26T13:13:15.212631Z"
    }
   },
   "cell_type": "code",
   "source": "nums = np.random.randint(1, 10, size = 20)",
   "id": "5b251b99294a68de",
   "execution_count": 48,
   "outputs": []
  },
  {
   "metadata": {
    "ExecuteTime": {
     "end_time": "2025-08-26T13:13:22.848819Z",
     "start_time": "2025-08-26T13:13:22.843228Z"
    }
   },
   "cell_type": "code",
   "source": "ser = pd.Series(nums)",
   "id": "a4426da5a6b79eaa",
   "execution_count": 49,
   "outputs": []
  },
  {
   "metadata": {
    "ExecuteTime": {
     "end_time": "2025-08-26T13:13:25.507420Z",
     "start_time": "2025-08-26T13:13:25.498271Z"
    }
   },
   "cell_type": "code",
   "source": "ser",
   "id": "ef590a780620d892",
   "execution_count": 51,
   "outputs": []
  },
  {
   "metadata": {
    "ExecuteTime": {
     "end_time": "2025-08-26T13:13:56.699463Z",
     "start_time": "2025-08-26T13:13:56.684251Z"
    }
   },
   "cell_type": "code",
   "source": "ser.mode() # pandas.Series.mode() 方法返回一个新的 Series 对象，该对象包含了原 Series 中的众数（即出现频率最高的数值）。",
   "id": "c89bb868e1210d0e",
   "execution_count": 52,
   "outputs": []
  },
  {
   "metadata": {},
   "cell_type": "markdown",
   "source": "## 3 axis 的用处",
   "id": "ec47b5dc882946c7"
  },
  {
   "metadata": {
    "ExecuteTime": {
     "end_time": "2025-08-26T13:17:29.552134Z",
     "start_time": "2025-08-26T13:17:29.545726Z"
    }
   },
   "cell_type": "code",
   "source": [
    "import numpy as np\n",
    "a = np.array([[1,3,6],[9,3,2],[1,4,3]])\n",
    "print(f'数组:\\n{a}')\n",
    "print('-'*30)\n",
    "print(np.sum(a,axis=0))  # 每行中的每个对应元素相加，返回一维数组\n",
    "print('-'*30)\n",
    "print(np.sum(a,axis=1))  # 每列中的每个元素相加，返回一维数组\n",
    "\n"
   ],
   "id": "58d6c86976f66cd1",
   "execution_count": 53,
   "outputs": []
  },
  {
   "metadata": {},
   "cell_type": "markdown",
   "source": [
    "- axis = 0 表示按照行的方向求和\n",
    "- axis = 1 表示按照列的方向求和"
   ],
   "id": "9c4a37df795f759f"
  },
  {
   "metadata": {},
   "cell_type": "markdown",
   "source": "对数据进行标准化",
   "id": "cfedaa1b8f60318a"
  },
  {
   "metadata": {
    "ExecuteTime": {
     "end_time": "2025-08-26T13:19:37.085411Z",
     "start_time": "2025-08-26T13:19:37.081569Z"
    }
   },
   "cell_type": "code",
   "source": "a =  (a - np.mean(a, axis = 0)) / np.std(a, axis = 0)",
   "id": "125d78a40d5e2874",
   "execution_count": 54,
   "outputs": []
  },
  {
   "metadata": {
    "ExecuteTime": {
     "end_time": "2025-08-26T13:19:38.601683Z",
     "start_time": "2025-08-26T13:19:38.596218Z"
    }
   },
   "cell_type": "code",
   "source": "a",
   "id": "276e6a46ee8be53e",
   "execution_count": 55,
   "outputs": []
  },
  {
   "metadata": {},
   "cell_type": "markdown",
   "source": "补充",
   "id": "d4b53e50a4806e53"
  },
  {
   "metadata": {},
   "cell_type": "markdown",
   "source": [
    "- std, var 标准差和方差\n",
    "- percentile 0-100百分位数\n",
    "- quantile 0-1分位数"
   ],
   "id": "2c943afbdda37a30"
  },
  {
   "metadata": {
    "ExecuteTime": {
     "end_time": "2025-08-26T13:20:56.628223Z",
     "start_time": "2025-08-26T13:20:56.621376Z"
    }
   },
   "cell_type": "code",
   "source": "a = np.array([1, 2, 2, 3, 3, 3])",
   "id": "2061aecc5297a3d3",
   "execution_count": 57,
   "outputs": []
  },
  {
   "metadata": {
    "ExecuteTime": {
     "end_time": "2025-08-26T13:20:57.353201Z",
     "start_time": "2025-08-26T13:20:57.343257Z"
    }
   },
   "cell_type": "code",
   "source": "a",
   "id": "49a9fd213015bec2",
   "execution_count": 58,
   "outputs": []
  },
  {
   "metadata": {},
   "cell_type": "markdown",
   "source": "我考了 90 分，我的成绩是第 80 个百分位数，这意味着有 80% 的人得分比我低",
   "id": "fd2b4471ffca76b8"
  },
  {
   "metadata": {
    "ExecuteTime": {
     "end_time": "2025-08-26T13:28:53.274980Z",
     "start_time": "2025-08-26T13:28:53.257278Z"
    }
   },
   "cell_type": "code",
   "source": "np.percentile(a, 50) # 希望有 50% 比我低 ",
   "id": "a6048a7985231065",
   "execution_count": 66,
   "outputs": []
  },
  {
   "metadata": {},
   "cell_type": "markdown",
   "source": "np.percentile(a, x) # 0 <= x <= 100",
   "id": "37e7ac50e3666b68"
  },
  {
   "metadata": {
    "ExecuteTime": {
     "end_time": "2025-08-26T13:29:00.329630Z",
     "start_time": "2025-08-26T13:29:00.323098Z"
    }
   },
   "cell_type": "code",
   "source": "np.percentile(a, 40) ",
   "id": "7e2bcf4c7b904d7c",
   "execution_count": 68,
   "outputs": []
  },
  {
   "metadata": {
    "ExecuteTime": {
     "end_time": "2025-08-26T13:29:28.184353Z",
     "start_time": "2025-08-26T13:29:28.179003Z"
    }
   },
   "cell_type": "code",
   "source": "np.percentile(a, 29) ",
   "id": "2cd370c6a6fcb833",
   "execution_count": 71,
   "outputs": []
  },
  {
   "metadata": {
    "ExecuteTime": {
     "end_time": "2025-08-26T13:30:16.210087Z",
     "start_time": "2025-08-26T13:30:16.203194Z"
    }
   },
   "cell_type": "code",
   "source": "np.percentile(a, 10) ",
   "id": "361f85ea9449319b",
   "execution_count": 74,
   "outputs": []
  },
  {
   "metadata": {},
   "cell_type": "markdown",
   "source": [
    "5 * (0.11) = 0.55\n",
    "\n",
    "[1, 2, 2, 3, 3, 3]"
   ],
   "id": "a53e268c9eeda008"
  },
  {
   "metadata": {
    "ExecuteTime": {
     "end_time": "2025-08-26T13:32:07.788971Z",
     "start_time": "2025-08-26T13:32:07.775951Z"
    }
   },
   "cell_type": "code",
   "source": "np.percentile(a, 11) ",
   "id": "fb698f835f18a13f",
   "execution_count": 76,
   "outputs": []
  },
  {
   "metadata": {
    "ExecuteTime": {
     "end_time": "2025-08-26T13:32:15.382487Z",
     "start_time": "2025-08-26T13:32:15.372407Z"
    }
   },
   "cell_type": "code",
   "source": "np.quantile(a, 11 / 100.0) ",
   "id": "1cd4631bf3b80c4d",
   "execution_count": 77,
   "outputs": []
  },
  {
   "metadata": {},
   "cell_type": "markdown",
   "source": "np.percentile(a, x) 和 np.quantile(a, x / 100.0) 会返回完全相同的结果。",
   "id": "78fc0c6a4a0f5a33"
  }
 ],
 "metadata": {
  "kernelspec": {
   "display_name": "Python 3",
   "language": "python",
   "name": "python3"
  },
  "language_info": {
   "codemirror_mode": {
    "name": "ipython",
    "version": 2
   },
   "file_extension": ".py",
   "mimetype": "text/x-python",
   "name": "python",
   "nbconvert_exporter": "python",
   "pygments_lexer": "ipython2",
   "version": "2.7.6"
  }
 },
 "nbformat": 4,
 "nbformat_minor": 5
}
