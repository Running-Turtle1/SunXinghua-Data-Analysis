{
 "cells": [
  {
   "cell_type": "code",
   "id": "initial_id",
   "metadata": {
    "collapsed": true,
    "ExecuteTime": {
     "end_time": "2025-08-25T10:11:58.347674Z",
     "start_time": "2025-08-25T10:11:58.341674Z"
    }
   },
   "source": [
    "import numpy as np\n",
    "import random"
   ],
   "execution_count": 25,
   "outputs": []
  },
  {
   "metadata": {},
   "cell_type": "markdown",
   "source": "换一个电脑或主板结果就变了, 貌似与 `机器码` 有关",
   "id": "f9af43207995060"
  },
  {
   "metadata": {
    "ExecuteTime": {
     "end_time": "2025-08-25T10:11:58.447827Z",
     "start_time": "2025-08-25T10:11:58.442375Z"
    }
   },
   "cell_type": "code",
   "source": "random.seed(100)",
   "id": "b424f7680589efcc",
   "execution_count": 26,
   "outputs": []
  },
  {
   "metadata": {
    "ExecuteTime": {
     "end_time": "2025-08-25T10:11:58.473837Z",
     "start_time": "2025-08-25T10:11:58.464892Z"
    }
   },
   "cell_type": "code",
   "source": "random.random()",
   "id": "24127ae4cdbad42d",
   "execution_count": 27,
   "outputs": []
  },
  {
   "metadata": {
    "ExecuteTime": {
     "end_time": "2025-08-25T10:11:58.488924Z",
     "start_time": "2025-08-25T10:11:58.477851Z"
    }
   },
   "cell_type": "code",
   "source": "random.random()",
   "id": "a7d6038c913336e8",
   "execution_count": 28,
   "outputs": []
  },
  {
   "metadata": {
    "ExecuteTime": {
     "end_time": "2025-08-25T10:11:58.543237Z",
     "start_time": "2025-08-25T10:11:58.534167Z"
    }
   },
   "cell_type": "code",
   "source": "random.random()",
   "id": "dc45badd7fa37852",
   "execution_count": 29,
   "outputs": []
  },
  {
   "metadata": {
    "ExecuteTime": {
     "end_time": "2025-08-25T10:11:58.570862Z",
     "start_time": "2025-08-25T10:11:58.561849Z"
    }
   },
   "cell_type": "code",
   "source": [
    "a = np.random.rand(3)\n",
    "a"
   ],
   "id": "5a72a7fd6f03b587",
   "execution_count": 30,
   "outputs": []
  },
  {
   "metadata": {
    "ExecuteTime": {
     "end_time": "2025-08-25T10:12:10.970880Z",
     "start_time": "2025-08-25T10:12:10.962807Z"
    }
   },
   "cell_type": "code",
   "source": [
    "b = np.random.rand(2, 3)\n",
    "b"
   ],
   "id": "1c25f8f0cfc46f85",
   "execution_count": 31,
   "outputs": []
  },
  {
   "metadata": {
    "ExecuteTime": {
     "end_time": "2025-08-25T10:12:22.049974Z",
     "start_time": "2025-08-25T10:12:22.040850Z"
    }
   },
   "cell_type": "code",
   "source": [
    "c = np.random.rand(2, 3, 4)\n",
    "c"
   ],
   "id": "305b2e89b29789e5",
   "execution_count": 33,
   "outputs": []
  },
  {
   "metadata": {
    "ExecuteTime": {
     "end_time": "2025-08-25T10:13:24.740554Z",
     "start_time": "2025-08-25T10:13:22.401512Z"
    }
   },
   "cell_type": "code",
   "source": "import matplotlib.pyplot as plt",
   "id": "7da23361ed4741b3",
   "execution_count": 34,
   "outputs": []
  },
  {
   "metadata": {
    "ExecuteTime": {
     "end_time": "2025-08-25T10:13:37.229632Z",
     "start_time": "2025-08-25T10:13:37.223203Z"
    }
   },
   "cell_type": "code",
   "source": "x = np.linspace(-10, 10, 100)",
   "id": "57227092b3bdacc0",
   "execution_count": 35,
   "outputs": []
  },
  {
   "metadata": {
    "ExecuteTime": {
     "end_time": "2025-08-25T10:13:40.772639Z",
     "start_time": "2025-08-25T10:13:40.764643Z"
    }
   },
   "cell_type": "code",
   "source": "y = np.sin(x)",
   "id": "def3ff44cf6a9eee",
   "execution_count": 36,
   "outputs": []
  },
  {
   "metadata": {
    "ExecuteTime": {
     "end_time": "2025-08-25T10:13:49.688935Z",
     "start_time": "2025-08-25T10:13:49.294483Z"
    }
   },
   "cell_type": "code",
   "source": "plt.plot(x, y)",
   "id": "3a6376652fb355d8",
   "execution_count": 37,
   "outputs": []
  },
  {
   "metadata": {},
   "cell_type": "markdown",
   "source": "加入噪声",
   "id": "f2172d0b38008045"
  },
  {
   "metadata": {
    "ExecuteTime": {
     "end_time": "2025-08-25T10:14:22.166347Z",
     "start_time": "2025-08-25T10:14:22.160186Z"
    }
   },
   "cell_type": "code",
   "source": "y += np.random.rand(len(x))",
   "id": "b0e476e6ecc260b6",
   "execution_count": 38,
   "outputs": []
  },
  {
   "metadata": {
    "ExecuteTime": {
     "end_time": "2025-08-25T10:14:25.886101Z",
     "start_time": "2025-08-25T10:14:25.696015Z"
    }
   },
   "cell_type": "code",
   "source": "plt.plot(x, y)",
   "id": "941cbb762564af2b",
   "execution_count": 39,
   "outputs": []
  },
  {
   "metadata": {},
   "cell_type": "markdown",
   "source": "4.3 randn 返回标准正态分布随机数（浮点数）平均数0，方差1 【了解】\n",
   "id": "70298f891dc7e025"
  },
  {
   "metadata": {
    "ExecuteTime": {
     "end_time": "2025-08-25T10:15:36.836903Z",
     "start_time": "2025-08-25T10:15:36.826707Z"
    }
   },
   "cell_type": "code",
   "source": [
    "a = np.random.randn(2, 3, 4)\n",
    "a"
   ],
   "id": "858e33d85b2837f3",
   "execution_count": 41,
   "outputs": []
  },
  {
   "metadata": {
    "ExecuteTime": {
     "end_time": "2025-08-25T10:15:45.063508Z",
     "start_time": "2025-08-25T10:15:45.057385Z"
    }
   },
   "cell_type": "code",
   "source": "b = np.random.randn(2, 3)",
   "id": "aa9cd609bf5b21eb",
   "execution_count": 42,
   "outputs": []
  },
  {
   "metadata": {
    "ExecuteTime": {
     "end_time": "2025-08-25T10:15:47.360207Z",
     "start_time": "2025-08-25T10:15:47.351153Z"
    }
   },
   "cell_type": "code",
   "source": "b",
   "id": "87c200c1df2f70a8",
   "execution_count": 43,
   "outputs": []
  },
  {
   "metadata": {
    "ExecuteTime": {
     "end_time": "2025-08-25T10:15:56.882095Z",
     "start_time": "2025-08-25T10:15:56.875549Z"
    }
   },
   "cell_type": "code",
   "source": "a = np.random.rand(3)",
   "id": "e0d49e289d3ea557",
   "execution_count": 44,
   "outputs": []
  },
  {
   "metadata": {
    "ExecuteTime": {
     "end_time": "2025-08-25T10:15:58.292425Z",
     "start_time": "2025-08-25T10:15:58.282976Z"
    }
   },
   "cell_type": "code",
   "source": "a",
   "id": "bf382573cde5d2d1",
   "execution_count": 45,
   "outputs": []
  },
  {
   "metadata": {},
   "cell_type": "raw",
   "source": "4.4 randint 随机整数\n",
   "id": "22006e2868605796"
  },
  {
   "metadata": {
    "ExecuteTime": {
     "end_time": "2025-08-25T10:16:18.316618Z",
     "start_time": "2025-08-25T10:16:18.304572Z"
    }
   },
   "cell_type": "code",
   "source": [
    "a = np.random.randint(3)  \n",
    "print(f'随机0至3之间的整数是：{a}')\n",
    "b = np.random.randint(1,10)  \n",
    "print(f'随机1至10之间的整数是：{b}')   \n",
    "c = np.random.randint(1,10,size=(5,))\n",
    "print(f'随机1至10之间取5个元素组成一维数组{c}')\n",
    "d = np.random.randint(1,20,size=(3,4))\n",
    "print(f'随机1至20之间取12个元素组成二维数组：\\n{d}')\n",
    "e = np.random.randint(1,20,size=(2,3,4))\n",
    "print(f'随机1至20之间取24个元素组成三维数组：\\n{e}')\n"
   ],
   "id": "5b11497411e0b6ad",
   "execution_count": 46,
   "outputs": []
  },
  {
   "metadata": {},
   "cell_type": "markdown",
   "source": " choice 从一维数组中生成随机数",
   "id": "cf9ab5c85ac8b912"
  },
  {
   "metadata": {
    "ExecuteTime": {
     "end_time": "2025-08-25T10:18:43.713580Z",
     "start_time": "2025-08-25T10:18:43.699619Z"
    }
   },
   "cell_type": "code",
   "source": [
    "import numpy as np\n",
    "# 第一参数是一个1维数组，如果只有一个数字那就看成range(5)\n",
    "# 第二参数是维度和元素个数，一个数字是1维，数字是几就是几个元素\n",
    "a = np.random.choice(5,3)\n",
    "print(f'从range(5)中拿随机数，生成只有3个元素的一维数组是：{a}')\n",
    "\n",
    "import numpy as np\n",
    "b = np.random.choice(5,(2,3))\n",
    "print(f'从range(5)中拿随机数，生成2行3列的数组是：\\n{b}')\n",
    "\n",
    "import numpy as np\n",
    "c = np.random.choice([1,2,9,4,8,6,7,5],3)\n",
    "print(f'从[1,2,9,4,8,6,7,5]数组中拿随机数，3个元素：{c}')\n",
    "\n",
    "import numpy as np\n",
    "d = np.random.choice([1,2,9,4,8,6,7,5],(2,3))\n",
    "print(f'从[1,2,9,4,8,6,7,5]数组中拿随机数，生成2行3列的数组是：\\n{d}')"
   ],
   "id": "1f1f4f63c761a4e5",
   "execution_count": 47,
   "outputs": []
  },
  {
   "metadata": {},
   "cell_type": "markdown",
   "source": "shuffle(数组)把一个数进行随机排列",
   "id": "696dfae2c63dc0b9"
  },
  {
   "metadata": {
    "ExecuteTime": {
     "end_time": "2025-08-25T10:19:24.712377Z",
     "start_time": "2025-08-25T10:19:24.696025Z"
    }
   },
   "cell_type": "code",
   "source": [
    "一维数组 = np.arange(10)\n",
    "print(f'没有随机排列前的一维数组{一维数组}')\n",
    "np.random.shuffle(一维数组)\n",
    "print(f'随机排列后的一维数组{一维数组}')\n",
    "\n",
    "import numpy as np\n",
    "二维数组 = np.arange(20).reshape(4,5)\n",
    "print(f'没有随机排列前的二维数组\\n{二维数组}\\n')\n",
    "np.random.shuffle(二维数组)\n",
    "print(f'随机排列后的二维数组\\n{二维数组}')\n"
   ],
   "id": "51ff3068a275a1b2",
   "execution_count": 48,
   "outputs": []
  },
  {
   "metadata": {},
   "cell_type": "markdown",
   "source": [
    "注意：多维数组随机排列只按行随机，列是不变的\n",
    "(唐)"
   ],
   "id": "e70c5f0e8ad8587a"
  },
  {
   "metadata": {
    "ExecuteTime": {
     "end_time": "2025-08-25T10:21:00.595310Z",
     "start_time": "2025-08-25T10:21:00.587212Z"
    }
   },
   "cell_type": "code",
   "source": [
    "a = np.random.randint(1, 10, size = (4, 3))\n",
    "a"
   ],
   "id": "284bebb27db63584",
   "execution_count": 52,
   "outputs": []
  },
  {
   "metadata": {
    "ExecuteTime": {
     "end_time": "2025-08-25T10:21:01.063121Z",
     "start_time": "2025-08-25T10:21:01.057539Z"
    }
   },
   "cell_type": "code",
   "source": "np.random.shuffle(a)",
   "id": "f9187ca69512bc36",
   "execution_count": 53,
   "outputs": []
  },
  {
   "metadata": {
    "ExecuteTime": {
     "end_time": "2025-08-25T10:21:01.331352Z",
     "start_time": "2025-08-25T10:21:01.323037Z"
    }
   },
   "cell_type": "code",
   "source": "a",
   "id": "96560c8a2017069d",
   "execution_count": 54,
   "outputs": []
  },
  {
   "metadata": {},
   "cell_type": "markdown",
   "source": "只 shuffle 了行",
   "id": "a3c2730d9469daee"
  },
  {
   "metadata": {},
   "cell_type": "markdown",
   "source": [
    "关于 `permutation` 跟 `shuffle` 的区别\n",
    "\n",
    "- numpy.permutation(x): 返回一个打乱后的数组\n",
    "\n",
    "- numpy.shuffle(x): 原地操作"
   ],
   "id": "8f8e72c8ca5fc222"
  },
  {
   "metadata": {
    "ExecuteTime": {
     "end_time": "2025-08-25T11:36:25.993127Z",
     "start_time": "2025-08-25T11:36:25.982698Z"
    }
   },
   "cell_type": "code",
   "source": [
    "a = np.arange(10)\n",
    "a"
   ],
   "id": "aff89485fd780688",
   "execution_count": 58,
   "outputs": []
  },
  {
   "metadata": {
    "ExecuteTime": {
     "end_time": "2025-08-25T11:36:27.920354Z",
     "start_time": "2025-08-25T11:36:27.907123Z"
    }
   },
   "cell_type": "code",
   "source": "np.random.permutation(a)",
   "id": "98eeba767b0f0d7c",
   "execution_count": 59,
   "outputs": []
  },
  {
   "metadata": {
    "ExecuteTime": {
     "end_time": "2025-08-25T11:36:30.350725Z",
     "start_time": "2025-08-25T11:36:30.343751Z"
    }
   },
   "cell_type": "code",
   "source": "a",
   "id": "1c72ff8fa3cf9ddf",
   "execution_count": 60,
   "outputs": []
  },
  {
   "metadata": {
    "ExecuteTime": {
     "end_time": "2025-08-25T11:36:36.897654Z",
     "start_time": "2025-08-25T11:36:36.890686Z"
    }
   },
   "cell_type": "code",
   "source": "np.random.shuffle(a)",
   "id": "1811949350e4e173",
   "execution_count": 61,
   "outputs": []
  },
  {
   "metadata": {
    "ExecuteTime": {
     "end_time": "2025-08-25T11:36:37.727065Z",
     "start_time": "2025-08-25T11:36:37.717600Z"
    }
   },
   "cell_type": "code",
   "source": "a",
   "id": "827f0168bdc9564b",
   "execution_count": 62,
   "outputs": []
  },
  {
   "metadata": {
    "ExecuteTime": {
     "end_time": "2025-08-25T11:36:39.340072Z",
     "start_time": "2025-08-25T11:36:39.330064Z"
    }
   },
   "cell_type": "code",
   "source": "a",
   "id": "f10312297586dd25",
   "execution_count": 63,
   "outputs": []
  },
  {
   "metadata": {},
   "cell_type": "markdown",
   "source": "normal 生成正态分布",
   "id": "d3ac33ca076696dc"
  },
  {
   "metadata": {},
   "cell_type": "markdown",
   "source": [
    "np.random(mean, std, len(array))\n",
    "\n",
    "文档中是 location 和 scale -> standard deviation"
   ],
   "id": "608e825422ad7e19"
  },
  {
   "metadata": {
    "ExecuteTime": {
     "end_time": "2025-08-25T11:37:57.331856Z",
     "start_time": "2025-08-25T11:37:57.324433Z"
    }
   },
   "cell_type": "code",
   "source": "a = np.random.normal(1, 10, 10)",
   "id": "6c423d4b37bb6227",
   "execution_count": 64,
   "outputs": []
  },
  {
   "metadata": {
    "ExecuteTime": {
     "end_time": "2025-08-25T11:37:58.543723Z",
     "start_time": "2025-08-25T11:37:58.536724Z"
    }
   },
   "cell_type": "code",
   "source": "a",
   "id": "a6b91dcd8274ffd",
   "execution_count": 65,
   "outputs": []
  },
  {
   "metadata": {},
   "cell_type": "markdown",
   "source": "均匀分布",
   "id": "5134ccfdadd26b2a"
  },
  {
   "metadata": {},
   "cell_type": "markdown",
   "source": "![](https://bkimg.cdn.bcebos.com/pic/42a98226cffc1e171832dd0d4190f603738de979?x-bce-process=image/format,f_auto/quality,Q_70/resize,m_lfit,limit_1,w_536)",
   "id": "55529eb9c55b45c"
  },
  {
   "metadata": {
    "ExecuteTime": {
     "end_time": "2025-08-25T11:42:28.754983Z",
     "start_time": "2025-08-25T11:42:28.740088Z"
    }
   },
   "cell_type": "code",
   "source": "np.random.uniform(1, 10, (2, 3)) # 1-10 之间生成",
   "id": "f2f8b3045fc44d76",
   "execution_count": 67,
   "outputs": []
  },
  {
   "metadata": {},
   "cell_type": "code",
   "execution_count": null,
   "source": "",
   "id": "b34220013a7da88",
   "outputs": []
  }
 ],
 "metadata": {
  "kernelspec": {
   "display_name": "Python 3",
   "language": "python",
   "name": "python3"
  },
  "language_info": {
   "codemirror_mode": {
    "name": "ipython",
    "version": 2
   },
   "file_extension": ".py",
   "mimetype": "text/x-python",
   "name": "python",
   "nbconvert_exporter": "python",
   "pygments_lexer": "ipython2",
   "version": "2.7.6"
  }
 },
 "nbformat": 4,
 "nbformat_minor": 5
}
