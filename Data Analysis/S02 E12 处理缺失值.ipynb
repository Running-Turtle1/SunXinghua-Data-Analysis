{
 "cells": [
  {
   "metadata": {},
   "cell_type": "markdown",
   "source": "数据删除 drop 函数",
   "id": "920fd1a9b7978126"
  },
  {
   "metadata": {
    "ExecuteTime": {
     "end_time": "2025-08-28T07:33:11.303643Z",
     "start_time": "2025-08-28T07:33:11.284469Z"
    }
   },
   "cell_type": "code",
   "source": [
    "import pandas as pd\n",
    "path = './Repo/删除.xlsx'\n",
    "df = pd.read_excel(path, index_col = '序号')"
   ],
   "id": "2c36202834510bd1",
   "execution_count": 7,
   "outputs": []
  },
  {
   "metadata": {
    "ExecuteTime": {
     "end_time": "2025-08-28T07:33:11.330204Z",
     "start_time": "2025-08-28T07:33:11.316009Z"
    }
   },
   "cell_type": "code",
   "source": "df",
   "id": "bc9263bef54c353f",
   "execution_count": 8,
   "outputs": []
  },
  {
   "metadata": {
    "ExecuteTime": {
     "end_time": "2025-08-28T07:33:11.380618Z",
     "start_time": "2025-08-28T07:33:11.375223Z"
    }
   },
   "cell_type": "code",
   "source": "df.drop(2, inplace = True)",
   "id": "c1816e2c47474600",
   "execution_count": 9,
   "outputs": []
  },
  {
   "metadata": {
    "ExecuteTime": {
     "end_time": "2025-08-28T07:33:11.420984Z",
     "start_time": "2025-08-28T07:33:11.407443Z"
    }
   },
   "cell_type": "code",
   "source": "df",
   "id": "a3af97c54ca475f",
   "execution_count": 10,
   "outputs": []
  },
  {
   "metadata": {
    "ExecuteTime": {
     "end_time": "2025-08-28T07:33:32.453751Z",
     "start_time": "2025-08-28T07:33:32.444739Z"
    }
   },
   "cell_type": "code",
   "source": "df.drop('语文', axis = 1, inplace = True)",
   "id": "50153386a6b086ef",
   "execution_count": 11,
   "outputs": []
  },
  {
   "metadata": {
    "ExecuteTime": {
     "end_time": "2025-08-28T07:33:33.839265Z",
     "start_time": "2025-08-28T07:33:33.830249Z"
    }
   },
   "cell_type": "code",
   "source": "df",
   "id": "f10170fa83e574c9",
   "execution_count": 12,
   "outputs": []
  },
  {
   "metadata": {
    "ExecuteTime": {
     "end_time": "2025-08-28T07:34:23.457273Z",
     "start_time": "2025-08-28T07:34:23.450279Z"
    }
   },
   "cell_type": "code",
   "source": "df['新增'] = None",
   "id": "4f97f0d4868bce41",
   "execution_count": 14,
   "outputs": []
  },
  {
   "metadata": {
    "ExecuteTime": {
     "end_time": "2025-08-28T07:34:25.189335Z",
     "start_time": "2025-08-28T07:34:25.174336Z"
    }
   },
   "cell_type": "code",
   "source": "df",
   "id": "c1eedce95cd0b95f",
   "execution_count": 15,
   "outputs": []
  },
  {
   "metadata": {
    "ExecuteTime": {
     "end_time": "2025-08-28T07:34:31.006691Z",
     "start_time": "2025-08-28T07:34:30.988236Z"
    }
   },
   "cell_type": "code",
   "source": "df.isnull()",
   "id": "11c68e530ae73a6c",
   "execution_count": 16,
   "outputs": []
  },
  {
   "metadata": {},
   "cell_type": "markdown",
   "source": "去掉含有缺失值的行与列",
   "id": "bb2567d76b91b04"
  },
  {
   "metadata": {
    "ExecuteTime": {
     "end_time": "2025-08-28T07:36:33.968946Z",
     "start_time": "2025-08-28T07:36:33.965623Z"
    }
   },
   "cell_type": "code",
   "source": "path = './Repo/删除.xlsx'",
   "id": "53790f07daf43e5e",
   "execution_count": 17,
   "outputs": []
  },
  {
   "metadata": {
    "ExecuteTime": {
     "end_time": "2025-08-28T07:36:47.357240Z",
     "start_time": "2025-08-28T07:36:47.337984Z"
    }
   },
   "cell_type": "code",
   "source": "df = pd.read_excel(path, index_col = '序号')",
   "id": "738ca7acdbc6c141",
   "execution_count": 18,
   "outputs": []
  },
  {
   "metadata": {
    "ExecuteTime": {
     "end_time": "2025-08-28T07:36:48.649962Z",
     "start_time": "2025-08-28T07:36:48.631447Z"
    }
   },
   "cell_type": "code",
   "source": "df",
   "id": "67dd805b85813f81",
   "execution_count": 19,
   "outputs": []
  },
  {
   "metadata": {
    "ExecuteTime": {
     "end_time": "2025-08-28T07:36:55.448152Z",
     "start_time": "2025-08-28T07:36:55.429772Z"
    }
   },
   "cell_type": "code",
   "source": "df.dropna()",
   "id": "ebda32e472a9842e",
   "execution_count": 20,
   "outputs": []
  },
  {
   "metadata": {
    "ExecuteTime": {
     "end_time": "2025-08-28T07:37:02.212073Z",
     "start_time": "2025-08-28T07:37:02.201587Z"
    }
   },
   "cell_type": "code",
   "source": "df.dropna(axis = 1)",
   "id": "6a182b013845d0ee",
   "execution_count": 21,
   "outputs": []
  },
  {
   "metadata": {
    "ExecuteTime": {
     "end_time": "2025-08-28T07:37:16.119176Z",
     "start_time": "2025-08-28T07:37:16.105734Z"
    }
   },
   "cell_type": "code",
   "source": "df.dropna(how = 'all')",
   "id": "64585577f6ce20a3",
   "execution_count": 22,
   "outputs": []
  },
  {
   "metadata": {
    "ExecuteTime": {
     "end_time": "2025-08-28T07:37:24.248157Z",
     "start_time": "2025-08-28T07:37:24.231665Z"
    }
   },
   "cell_type": "code",
   "source": "df.dropna(thresh = 2)",
   "id": "dbf833eb7cb0a8d7",
   "execution_count": 23,
   "outputs": []
  },
  {
   "metadata": {
    "ExecuteTime": {
     "end_time": "2025-08-28T07:37:43.654216Z",
     "start_time": "2025-08-28T07:37:43.637219Z"
    }
   },
   "cell_type": "code",
   "source": "df.dropna(subset = ['语文', '数学'])",
   "id": "6d0a736db416c4b5",
   "execution_count": 25,
   "outputs": []
  },
  {
   "metadata": {},
   "cell_type": "markdown",
   "source": "缺失值填充",
   "id": "da2028a0acd2672f"
  },
  {
   "metadata": {
    "ExecuteTime": {
     "end_time": "2025-08-28T07:38:28.907347Z",
     "start_time": "2025-08-28T07:38:28.888477Z"
    }
   },
   "cell_type": "code",
   "source": "df2= pd.read_excel(path, index_col = '序号')",
   "id": "8382a155d7b09834",
   "execution_count": 26,
   "outputs": []
  },
  {
   "metadata": {
    "ExecuteTime": {
     "end_time": "2025-08-28T07:38:30.083228Z",
     "start_time": "2025-08-28T07:38:30.071658Z"
    }
   },
   "cell_type": "code",
   "source": "df2",
   "id": "7b9f879800b23d25",
   "execution_count": 27,
   "outputs": []
  },
  {
   "metadata": {
    "ExecuteTime": {
     "end_time": "2025-08-28T07:38:36.477451Z",
     "start_time": "2025-08-28T07:38:36.461534Z"
    }
   },
   "cell_type": "code",
   "source": "df2.fillna(0)",
   "id": "a740b290ec0fbc38",
   "execution_count": 28,
   "outputs": []
  },
  {
   "metadata": {},
   "cell_type": "markdown",
   "source": "print(数据.fillna({'语文':0.1,'数学':0.2,'英语':0.3})) #",
   "id": "8c75f4595dfbd7c6"
  },
  {
   "metadata": {
    "ExecuteTime": {
     "end_time": "2025-08-28T07:39:09.615520Z",
     "start_time": "2025-08-28T07:39:09.596860Z"
    }
   },
   "cell_type": "code",
   "source": [
    "df.fillna({\n",
    "    '语文': 0.1, \n",
    "    '数学': 0.2, \n",
    "    '英语': 0.3\n",
    "})"
   ],
   "id": "b3e6040978be75d0",
   "execution_count": 29,
   "outputs": []
  },
  {
   "metadata": {},
   "cell_type": "markdown",
   "source": [
    "填充方式\n",
    "\n",
    "example: method = 'backfill'\n",
    "\n",
    "- ffill 用前面的值填充\n",
    "- bfill 用后面的值填充\n",
    "- pad 向后填充\n",
    "- backfill 向前填充\n",
    "\n",
    "limit = x, 只替换前 `x` 个空值"
   ],
   "id": "f13432eae93da02d"
  },
  {
   "metadata": {},
   "cell_type": "code",
   "execution_count": null,
   "source": "",
   "id": "2d301416207a8737",
   "outputs": []
  }
 ],
 "metadata": {
  "kernelspec": {
   "display_name": "Python 3",
   "language": "python",
   "name": "python3"
  },
  "language_info": {
   "codemirror_mode": {
    "name": "ipython",
    "version": 2
   },
   "file_extension": ".py",
   "mimetype": "text/x-python",
   "name": "python",
   "nbconvert_exporter": "python",
   "pygments_lexer": "ipython2",
   "version": "2.7.6"
  }
 },
 "nbformat": 4,
 "nbformat_minor": 5
}
