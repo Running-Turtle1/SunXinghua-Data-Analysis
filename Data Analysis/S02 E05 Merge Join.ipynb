{
 "cells": [
  {
   "metadata": {},
   "cell_type": "markdown",
   "source": "默认内连接",
   "id": "70f554993bf7e264"
  },
  {
   "cell_type": "code",
   "id": "initial_id",
   "metadata": {
    "collapsed": true,
    "ExecuteTime": {
     "end_time": "2025-08-27T10:31:08.661486Z",
     "start_time": "2025-08-27T10:31:08.648352Z"
    }
   },
   "source": [
    "import numpy as np\n",
    "import pandas as pd\n",
    "数据1= pd.DataFrame({'姓名':['叶问','李小龙','孙兴华','李小龙','叶问','叶问'],'出手次数1':np.arange(6)})\n",
    "数据2 = pd.DataFrame({'姓名':['黄飞鸿','孙兴华','李小龙'],'出手次数2':[1,2,3]})\n",
    "数据3 = pd.merge(数据1,数据2)\n",
    "print(数据3)"
   ],
   "execution_count": 28,
   "outputs": []
  },
  {
   "metadata": {
    "ExecuteTime": {
     "end_time": "2025-08-27T10:31:08.693715Z",
     "start_time": "2025-08-27T10:31:08.675458Z"
    }
   },
   "cell_type": "code",
   "source": "数据1",
   "id": "5d5d03835205463b",
   "execution_count": 29,
   "outputs": []
  },
  {
   "metadata": {
    "ExecuteTime": {
     "end_time": "2025-08-27T10:31:08.737343Z",
     "start_time": "2025-08-27T10:31:08.730893Z"
    }
   },
   "cell_type": "code",
   "source": "数据2",
   "id": "a95a65b962fae716",
   "execution_count": 30,
   "outputs": []
  },
  {
   "metadata": {},
   "cell_type": "markdown",
   "source": "左连接",
   "id": "75290c0afa98f517"
  },
  {
   "metadata": {
    "ExecuteTime": {
     "end_time": "2025-08-27T10:31:08.750403Z",
     "start_time": "2025-08-27T10:31:08.739091Z"
    }
   },
   "cell_type": "code",
   "source": "data4 = pd.merge(数据1, 数据2, how = 'left')",
   "id": "d7f80c47cacbf9be",
   "execution_count": 31,
   "outputs": []
  },
  {
   "metadata": {
    "ExecuteTime": {
     "end_time": "2025-08-27T10:31:08.764510Z",
     "start_time": "2025-08-27T10:31:08.750403Z"
    }
   },
   "cell_type": "code",
   "source": "data4",
   "id": "a1e8eea899edf164",
   "execution_count": 32,
   "outputs": []
  },
  {
   "metadata": {
    "ExecuteTime": {
     "end_time": "2025-08-27T10:31:08.778898Z",
     "start_time": "2025-08-27T10:31:08.764510Z"
    }
   },
   "cell_type": "code",
   "source": [
    "data5 = pd.merge(数据1, 数据2, how = 'right')\n",
    "data5"
   ],
   "id": "57c698a1eb24efe",
   "execution_count": 33,
   "outputs": []
  },
  {
   "metadata": {
    "ExecuteTime": {
     "end_time": "2025-08-27T10:32:39.434685Z",
     "start_time": "2025-08-27T10:32:39.415642Z"
    }
   },
   "cell_type": "code",
   "source": [
    "data6 = pd.merge(数据1, 数据2, on = '姓名', how = 'outer')\n",
    "data6"
   ],
   "id": "8eebe8d52d286a70",
   "execution_count": 36,
   "outputs": []
  },
  {
   "metadata": {
    "ExecuteTime": {
     "end_time": "2025-08-27T10:32:40.878710Z",
     "start_time": "2025-08-27T10:32:40.872289Z"
    }
   },
   "cell_type": "code",
   "source": "print(data6)",
   "id": "146565dacf7aaaec",
   "execution_count": 37,
   "outputs": []
  },
  {
   "metadata": {},
   "cell_type": "markdown",
   "source": "MultipleKey Merge",
   "id": "64ed6f49039d861c"
  },
  {
   "metadata": {
    "ExecuteTime": {
     "end_time": "2025-08-27T10:33:39.111470Z",
     "start_time": "2025-08-27T10:33:39.084375Z"
    }
   },
   "cell_type": "code",
   "source": [
    "import pandas as pd\n",
    "数据1 = pd.DataFrame({'姓名': ['张三', '张三', '王五'],'班级': ['1班', '2班', '1班'],'分数': [10,20,30]})\n",
    "print(数据1)\n",
    "数据2 = pd.DataFrame({'姓名': ['张三', '张三', '王五','王五'],'班级': ['1班', '1班', '1班','2班'],'分数': [40,50,60,70]})\n",
    "print(数据2)\n",
    "数据3= pd.merge(数据1,数据2,on=['姓名','班级'])     # 内连接（交集）的结果\n",
    "print(数据3)\n",
    "数据4= pd.merge(数据1,数据2,on=['姓名','班级'],how='outer')   # 外连接（并集）的结果\n",
    "print(数据4)"
   ],
   "id": "f81a8557bc9cec60",
   "execution_count": 38,
   "outputs": []
  },
  {
   "metadata": {
    "ExecuteTime": {
     "end_time": "2025-08-27T13:43:47.517070Z",
     "start_time": "2025-08-27T13:43:47.505035Z"
    }
   },
   "cell_type": "code",
   "source": [
    "数据1 = pd.DataFrame({'姓名': ['张三','李四','王五','张三','李四'],'次数':range(5)})\n",
    "数据2 = pd.DataFrame({'数据': [10, 20]}, index=['张三','李四'])\n",
    "数据3=pd.merge(数据1,数据2,left_on='姓名',right_index=True)\n",
    "print(数据3)"
   ],
   "id": "ff26c526b0036ef3",
   "execution_count": 42,
   "outputs": []
  },
  {
   "metadata": {
    "ExecuteTime": {
     "end_time": "2025-08-27T13:44:22.398149Z",
     "start_time": "2025-08-27T13:44:22.381523Z"
    }
   },
   "cell_type": "code",
   "source": [
    "d4 = pd.merge(数据1, 数据2, left_on = '姓名', right_index = True, how = 'outer')\n",
    "d4"
   ],
   "id": "a8a4c362f0079e1f",
   "execution_count": 43,
   "outputs": []
  },
  {
   "metadata": {},
   "cell_type": "markdown",
   "source": "suffix 后缀参数",
   "id": "49900b9399ff9f51"
  },
  {
   "metadata": {
    "ExecuteTime": {
     "end_time": "2025-08-27T13:47:15.275755Z",
     "start_time": "2025-08-27T13:47:15.263693Z"
    }
   },
   "cell_type": "code",
   "source": [
    "left = pd.DataFrame(\n",
    "    {\n",
    "        'k': ['K0', 'K1', 'K2'],\n",
    "        'v': [1, 2, 3]\n",
    "    }\n",
    ")\n",
    "left"
   ],
   "id": "5d4e81ac4f202d2e",
   "execution_count": 47,
   "outputs": []
  },
  {
   "metadata": {
    "ExecuteTime": {
     "end_time": "2025-08-27T13:47:51.478607Z",
     "start_time": "2025-08-27T13:47:51.465114Z"
    }
   },
   "cell_type": "code",
   "source": [
    "right = pd.DataFrame(\n",
    "    {\n",
    "        'k': ['K0', 'K0', 'K3'],\n",
    "        'v': [4, 5, 6]\n",
    "    }    \n",
    ")\n",
    "right"
   ],
   "id": "1f6e6c4204a01d4f",
   "execution_count": 48,
   "outputs": []
  },
  {
   "metadata": {
    "ExecuteTime": {
     "end_time": "2025-08-27T13:48:04.800301Z",
     "start_time": "2025-08-27T13:48:04.790712Z"
    }
   },
   "cell_type": "code",
   "source": "result = pd.merge(left, right, on='k')",
   "id": "f45f88807818980e",
   "execution_count": 49,
   "outputs": []
  },
  {
   "metadata": {
    "ExecuteTime": {
     "end_time": "2025-08-27T13:48:07.057533Z",
     "start_time": "2025-08-27T13:48:07.045802Z"
    }
   },
   "cell_type": "code",
   "source": "result",
   "id": "3060763f31cf2a1a",
   "execution_count": 50,
   "outputs": []
  },
  {
   "metadata": {
    "ExecuteTime": {
     "end_time": "2025-08-27T13:48:23.505881Z",
     "start_time": "2025-08-27T13:48:23.496009Z"
    }
   },
   "cell_type": "code",
   "source": [
    "result = pd.merge(left, right, on='k', suffixes=['_l', '_r']) # 好像这玩意没有必要, 已经被库函数自动优化同名的情况了\n",
    "result"
   ],
   "id": "a1c6662ea648bcf0",
   "execution_count": 52,
   "outputs": []
  },
  {
   "metadata": {},
   "cell_type": "code",
   "execution_count": null,
   "source": "",
   "id": "2ee5231a35f848e8",
   "outputs": []
  }
 ],
 "metadata": {
  "kernelspec": {
   "display_name": "Python 3",
   "language": "python",
   "name": "python3"
  },
  "language_info": {
   "codemirror_mode": {
    "name": "ipython",
    "version": 2
   },
   "file_extension": ".py",
   "mimetype": "text/x-python",
   "name": "python",
   "nbconvert_exporter": "python",
   "pygments_lexer": "ipython2",
   "version": "2.7.6"
  }
 },
 "nbformat": 4,
 "nbformat_minor": 5
}
