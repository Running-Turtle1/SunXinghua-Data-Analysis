{
 "cells": [
  {
   "cell_type": "code",
   "id": "initial_id",
   "metadata": {
    "collapsed": true,
    "ExecuteTime": {
     "end_time": "2025-08-28T00:40:32.665685Z",
     "start_time": "2025-08-28T00:40:32.391473Z"
    }
   },
   "source": "import numpy as np",
   "execution_count": 1,
   "outputs": []
  },
  {
   "metadata": {
    "ExecuteTime": {
     "end_time": "2025-08-28T00:40:50.238650Z",
     "start_time": "2025-08-28T00:40:50.232649Z"
    }
   },
   "cell_type": "code",
   "source": "arr = np.arange(9).reshape(3, 3)",
   "id": "1b9d1db79787f64b",
   "execution_count": 4,
   "outputs": []
  },
  {
   "metadata": {
    "ExecuteTime": {
     "end_time": "2025-08-28T00:40:51.040040Z",
     "start_time": "2025-08-28T00:40:51.028116Z"
    }
   },
   "cell_type": "code",
   "source": "arr",
   "id": "cd59ed7aebe38fb8",
   "execution_count": 5,
   "outputs": []
  },
  {
   "metadata": {
    "ExecuteTime": {
     "end_time": "2025-08-28T00:40:55.425274Z",
     "start_time": "2025-08-28T00:40:55.419270Z"
    }
   },
   "cell_type": "code",
   "source": "arr1 = np.concatenate([arr, arr], axis = 1)",
   "id": "3f7a7918ab40de40",
   "execution_count": 6,
   "outputs": []
  },
  {
   "metadata": {
    "ExecuteTime": {
     "end_time": "2025-08-28T00:40:57.714161Z",
     "start_time": "2025-08-28T00:40:57.705163Z"
    }
   },
   "cell_type": "code",
   "source": "arr1",
   "id": "239985c93826c75e",
   "execution_count": 7,
   "outputs": []
  },
  {
   "metadata": {
    "ExecuteTime": {
     "end_time": "2025-08-28T00:41:16.908223Z",
     "start_time": "2025-08-28T00:41:16.901866Z"
    }
   },
   "cell_type": "code",
   "source": "arr2 = np.concatenate([arr, arr], axis = 0)",
   "id": "f39e0a0954cd9bd4",
   "execution_count": 8,
   "outputs": []
  },
  {
   "metadata": {
    "ExecuteTime": {
     "end_time": "2025-08-28T00:41:19.620566Z",
     "start_time": "2025-08-28T00:41:19.612053Z"
    }
   },
   "cell_type": "code",
   "source": "arr2",
   "id": "ce617000dc123236",
   "execution_count": 9,
   "outputs": []
  },
  {
   "metadata": {},
   "cell_type": "markdown",
   "source": [
    "concat(pbjs, axis = 0, join = 'outer', join_axes = None, ignore_index = False, keys = None, levels = None, names = None, verify_interity = False, sort = None, copy = True)\n",
    "\n",
    "- objs 合并的对象集合, Series / DF\n",
    "- axis 合并方法 0 表示行合并 1 表示列合并\n",
    "- join 默认 outer 并集, 还有 inner 交集\n",
    "- join_axes 按哪些对象索引保存\n",
    "- 是否忽略原index\n",
    "- keys 为原式 DF 加一个建"
   ],
   "id": "864de140b202b7e2"
  },
  {
   "metadata": {},
   "cell_type": "markdown",
   "source": "在 Pandas 使用 Concat ",
   "id": "4aedd0c5a7bbe3f8"
  },
  {
   "metadata": {
    "ExecuteTime": {
     "end_time": "2025-08-28T01:01:34.945890Z",
     "start_time": "2025-08-28T01:01:34.940380Z"
    }
   },
   "cell_type": "code",
   "source": "import pandas as pd",
   "id": "b80d284745c252e7",
   "execution_count": 10,
   "outputs": []
  },
  {
   "metadata": {
    "ExecuteTime": {
     "end_time": "2025-08-28T01:01:51.292976Z",
     "start_time": "2025-08-28T01:01:51.284510Z"
    }
   },
   "cell_type": "code",
   "source": [
    "d1 = pd.Series(\n",
    "    [0, 1, 2],\n",
    "    index = ['A', 'B', 'C']\n",
    ")"
   ],
   "id": "f191abb002282bca",
   "execution_count": 11,
   "outputs": []
  },
  {
   "metadata": {
    "ExecuteTime": {
     "end_time": "2025-08-28T01:02:06.063845Z",
     "start_time": "2025-08-28T01:02:06.057442Z"
    }
   },
   "cell_type": "code",
   "source": [
    "d2 = pd.Series(\n",
    "    [3, 4],\n",
    "    index = ['D', 'E']\n",
    ")"
   ],
   "id": "38e0e0d894a0c8ce",
   "execution_count": 12,
   "outputs": []
  },
  {
   "metadata": {
    "ExecuteTime": {
     "end_time": "2025-08-28T01:02:16.610218Z",
     "start_time": "2025-08-28T01:02:16.601118Z"
    }
   },
   "cell_type": "code",
   "source": [
    "d3 = pd.concat([d1, d2])\n",
    "d3"
   ],
   "id": "d286fcb9272405d6",
   "execution_count": 13,
   "outputs": []
  },
  {
   "metadata": {
    "ExecuteTime": {
     "end_time": "2025-08-28T01:02:30.381714Z",
     "start_time": "2025-08-28T01:02:30.373441Z"
    }
   },
   "cell_type": "code",
   "source": "d4 = pd.concat([d1, d2], axis = 1)",
   "id": "ee90053b8e417d5c",
   "execution_count": 14,
   "outputs": []
  },
  {
   "metadata": {
    "ExecuteTime": {
     "end_time": "2025-08-28T01:02:32.979849Z",
     "start_time": "2025-08-28T01:02:32.966184Z"
    }
   },
   "cell_type": "code",
   "source": "d4",
   "id": "82ff7c7c83e5e9ab",
   "execution_count": 15,
   "outputs": []
  },
  {
   "metadata": {},
   "cell_type": "markdown",
   "source": "",
   "id": "7fdac27197a76077"
  }
 ],
 "metadata": {
  "kernelspec": {
   "display_name": "Python 3",
   "language": "python",
   "name": "python3"
  },
  "language_info": {
   "codemirror_mode": {
    "name": "ipython",
    "version": 2
   },
   "file_extension": ".py",
   "mimetype": "text/x-python",
   "name": "python",
   "nbconvert_exporter": "python",
   "pygments_lexer": "ipython2",
   "version": "2.7.6"
  }
 },
 "nbformat": 4,
 "nbformat_minor": 5
}
