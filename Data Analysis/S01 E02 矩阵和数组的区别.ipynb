{
 "cells": [
  {
   "cell_type": "code",
   "id": "initial_id",
   "metadata": {
    "collapsed": true,
    "ExecuteTime": {
     "end_time": "2025-08-24T07:14:05.009102Z",
     "start_time": "2025-08-24T07:14:03.932553Z"
    }
   },
   "source": [
    "import numpy as np\n",
    "def arrayAdd(n):\n",
    "    a = np.arange(1, n + 1) ** 3\n",
    "    b = np.arange(1, n + 1) ** 2\n",
    "    return a + b\n",
    "arrayAdd(3)"
   ],
   "execution_count": 1,
   "outputs": []
  },
  {
   "metadata": {
    "ExecuteTime": {
     "end_time": "2025-08-24T07:14:55.632237Z",
     "start_time": "2025-08-24T07:14:55.623278Z"
    }
   },
   "cell_type": "code",
   "source": [
    "a = np.array([1, 2, 3, 4])\n",
    "b = np.array([2, 3, 4, 5])\n",
    "print(a * b)\n",
    "print(sum(a * b))"
   ],
   "id": "87d7b6150d1103f5",
   "execution_count": 3,
   "outputs": []
  },
  {
   "metadata": {
    "ExecuteTime": {
     "end_time": "2025-08-24T07:21:14.909561Z",
     "start_time": "2025-08-24T07:21:12.794616Z"
    }
   },
   "cell_type": "code",
   "source": [
    "arr = np.random.rand(2, 3)\n",
    "# np.random.randn() 这个满足高斯分布\n",
    "print(arr)\n",
    "print(np.std(arr))\n",
    "print(np.std(np.random.randn(20000, 3000)))\n",
    "# 当数据量比较小的是够, randn 会不那么高斯分布"
   ],
   "id": "318531f0935e4145",
   "execution_count": 17,
   "outputs": []
  },
  {
   "metadata": {
    "ExecuteTime": {
     "end_time": "2025-08-24T07:21:17.204324Z",
     "start_time": "2025-08-24T07:21:17.198405Z"
    }
   },
   "cell_type": "code",
   "source": [
    "b = np.dot(arr.T, arr)\n",
    "b"
   ],
   "id": "71c58e476e0a53c5",
   "execution_count": 18,
   "outputs": []
  },
  {
   "metadata": {
    "ExecuteTime": {
     "end_time": "2025-08-24T07:23:00.215587Z",
     "start_time": "2025-08-24T07:23:00.206116Z"
    }
   },
   "cell_type": "code",
   "source": [
    "# 把数组转成矩阵\n",
    "marix_b = np.mat(arr) # mat 是 matrix 的缩写\n",
    "c = marix_b.T * marix_b # 矩阵直接想成\n",
    "c"
   ],
   "id": "1cb1873c296b52cb",
   "execution_count": 23,
   "outputs": []
  },
  {
   "metadata": {},
   "cell_type": "code",
   "execution_count": null,
   "source": "",
   "id": "24466645e4fb13cc",
   "outputs": []
  }
 ],
 "metadata": {
  "kernelspec": {
   "display_name": "Python 3",
   "language": "python",
   "name": "python3"
  },
  "language_info": {
   "codemirror_mode": {
    "name": "ipython",
    "version": 2
   },
   "file_extension": ".py",
   "mimetype": "text/x-python",
   "name": "python",
   "nbconvert_exporter": "python",
   "pygments_lexer": "ipython2",
   "version": "2.7.6"
  }
 },
 "nbformat": 4,
 "nbformat_minor": 5
}
