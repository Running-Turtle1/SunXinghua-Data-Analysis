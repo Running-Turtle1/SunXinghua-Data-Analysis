{
 "cells": [
  {
   "metadata": {},
   "cell_type": "markdown",
   "source": "cut / qcut",
   "id": "afb920cb198e8fad"
  },
  {
   "metadata": {},
   "cell_type": "markdown",
   "source": "1 指定分界点分箱",
   "id": "c7cece6b2d73fa6f"
  },
  {
   "metadata": {
    "ExecuteTime": {
     "end_time": "2025-08-30T01:48:03.495336Z",
     "start_time": "2025-08-30T01:48:02.697275Z"
    }
   },
   "cell_type": "code",
   "source": "import pandas as pd",
   "id": "e2636d483d2af8c2",
   "outputs": [],
   "execution_count": 1
  },
  {
   "metadata": {
    "ExecuteTime": {
     "end_time": "2025-08-30T01:48:35.557835Z",
     "start_time": "2025-08-30T01:48:35.551814Z"
    }
   },
   "cell_type": "code",
   "source": [
    "years = [1992, 1983, 1922, 1932, 1973]\n",
    "boxes = [1900, 1950, 2000]"
   ],
   "id": "b2cae5bbd28704e6",
   "outputs": [],
   "execution_count": 2
  },
  {
   "metadata": {
    "ExecuteTime": {
     "end_time": "2025-08-30T01:48:44.616352Z",
     "start_time": "2025-08-30T01:48:44.584044Z"
    }
   },
   "cell_type": "code",
   "source": "res = pd.cut(years, boxes)",
   "id": "128f25c4779bd96e",
   "outputs": [],
   "execution_count": 3
  },
  {
   "metadata": {
    "ExecuteTime": {
     "end_time": "2025-08-30T01:48:47.010960Z",
     "start_time": "2025-08-30T01:48:46.994595Z"
    }
   },
   "cell_type": "code",
   "source": "res",
   "id": "aa729c412de4c4b6",
   "outputs": [
    {
     "data": {
      "text/plain": [
       "[(1950, 2000], (1950, 2000], (1900, 1950], (1900, 1950], (1950, 2000]]\n",
       "Categories (2, interval[int64, right]): [(1900, 1950] < (1950, 2000]]"
      ]
     },
     "execution_count": 4,
     "metadata": {},
     "output_type": "execute_result"
    }
   ],
   "execution_count": 4
  },
  {
   "metadata": {
    "ExecuteTime": {
     "end_time": "2025-08-30T01:48:53.074686Z",
     "start_time": "2025-08-30T01:48:53.056036Z"
    }
   },
   "cell_type": "code",
   "source": "res.value_counts()",
   "id": "68f9b3786b8c3a30",
   "outputs": [
    {
     "data": {
      "text/plain": [
       "(1900, 1950]    2\n",
       "(1950, 2000]    3\n",
       "Name: count, dtype: int64"
      ]
     },
     "execution_count": 5,
     "metadata": {},
     "output_type": "execute_result"
    }
   ],
   "execution_count": 5
  },
  {
   "metadata": {},
   "cell_type": "markdown",
   "source": "labels = False 不指定箱名, 用整数替代",
   "id": "894fbba1085225e8"
  },
  {
   "metadata": {
    "ExecuteTime": {
     "end_time": "2025-08-30T01:49:40.808886Z",
     "start_time": "2025-08-30T01:49:40.792738Z"
    }
   },
   "cell_type": "code",
   "source": [
    "res2 = pd.cut(years, boxes, labels = False)\n",
    "res2"
   ],
   "id": "cd57953df989be2",
   "outputs": [
    {
     "data": {
      "text/plain": [
       "array([1, 1, 0, 0, 1], dtype=int64)"
      ]
     },
     "execution_count": 6,
     "metadata": {},
     "output_type": "execute_result"
    }
   ],
   "execution_count": 6
  },
  {
   "metadata": {
    "ExecuteTime": {
     "end_time": "2025-08-30T01:50:06.035248Z",
     "start_time": "2025-08-30T01:50:06.025632Z"
    }
   },
   "cell_type": "code",
   "source": "pd.value_counts(res2)",
   "id": "26fa8892c9536237",
   "outputs": [
    {
     "name": "stderr",
     "output_type": "stream",
     "text": [
      "C:\\Users\\95432\\AppData\\Local\\Temp\\ipykernel_11304\\3875522302.py:1: FutureWarning: pandas.value_counts is deprecated and will be removed in a future version. Use pd.Series(obj).value_counts() instead.\n",
      "  pd.value_counts(res2)\n"
     ]
    },
    {
     "data": {
      "text/plain": [
       "1    3\n",
       "0    2\n",
       "Name: count, dtype: int64"
      ]
     },
     "execution_count": 8,
     "metadata": {},
     "output_type": "execute_result"
    }
   ],
   "execution_count": 8
  },
  {
   "metadata": {
    "ExecuteTime": {
     "end_time": "2025-08-30T01:50:36.889800Z",
     "start_time": "2025-08-30T01:50:36.866536Z"
    }
   },
   "cell_type": "code",
   "source": [
    "box_names = ['50年代前', '50年代后']\n",
    "res3 = pd.cut(years, boxes, labels = box_names)\n",
    "res3"
   ],
   "id": "d62907849a4ddcf6",
   "outputs": [
    {
     "data": {
      "text/plain": [
       "['50年代后', '50年代后', '50年代前', '50年代前', '50年代后']\n",
       "Categories (2, object): ['50年代前' < '50年代后']"
      ]
     },
     "execution_count": 9,
     "metadata": {},
     "output_type": "execute_result"
    }
   ],
   "execution_count": 9
  },
  {
   "metadata": {
    "ExecuteTime": {
     "end_time": "2025-08-30T01:50:42.514740Z",
     "start_time": "2025-08-30T01:50:42.507608Z"
    }
   },
   "cell_type": "code",
   "source": "res3.value_counts()",
   "id": "69ee1349dc6092f2",
   "outputs": [
    {
     "data": {
      "text/plain": [
       "50年代前    2\n",
       "50年代后    3\n",
       "Name: count, dtype: int64"
      ]
     },
     "execution_count": 10,
     "metadata": {},
     "output_type": "execute_result"
    }
   ],
   "execution_count": 10
  },
  {
   "metadata": {},
   "cell_type": "markdown",
   "source": "等频分箱",
   "id": "82479969346ba6e0"
  },
  {
   "metadata": {
    "ExecuteTime": {
     "end_time": "2025-08-30T02:04:41.855345Z",
     "start_time": "2025-08-30T02:04:41.845368Z"
    }
   },
   "cell_type": "code",
   "source": "years = [1992, 1983, 1922, 1932, 1973, 1999, 1993, 1995, 2025]",
   "id": "4ba7055ee773061b",
   "outputs": [],
   "execution_count": 13
  },
  {
   "metadata": {
    "ExecuteTime": {
     "end_time": "2025-08-30T02:04:42.025127Z",
     "start_time": "2025-08-30T02:04:42.015750Z"
    }
   },
   "cell_type": "code",
   "source": "len(years)",
   "id": "1cc028f7587e1659",
   "outputs": [
    {
     "data": {
      "text/plain": [
       "9"
      ]
     },
     "execution_count": 14,
     "metadata": {},
     "output_type": "execute_result"
    }
   ],
   "execution_count": 14
  },
  {
   "metadata": {
    "ExecuteTime": {
     "end_time": "2025-08-30T02:04:56.780628Z",
     "start_time": "2025-08-30T02:04:56.767162Z"
    }
   },
   "cell_type": "code",
   "source": "res = pd.qcut(years, q = 4)",
   "id": "277f01b042ae566a",
   "outputs": [],
   "execution_count": 15
  },
  {
   "metadata": {
    "ExecuteTime": {
     "end_time": "2025-08-30T02:04:58.118728Z",
     "start_time": "2025-08-30T02:04:58.107498Z"
    }
   },
   "cell_type": "code",
   "source": "res",
   "id": "6a15032e7cdfaa56",
   "outputs": [
    {
     "data": {
      "text/plain": [
       "[(1973.0, 1992.0], (1973.0, 1992.0], (1921.999, 1973.0], (1921.999, 1973.0], (1921.999, 1973.0], (1995.0, 2025.0], (1992.0, 1995.0], (1992.0, 1995.0], (1995.0, 2025.0]]\n",
       "Categories (4, interval[float64, right]): [(1921.999, 1973.0] < (1973.0, 1992.0] < (1992.0, 1995.0] < (1995.0, 2025.0]]"
      ]
     },
     "execution_count": 16,
     "metadata": {},
     "output_type": "execute_result"
    }
   ],
   "execution_count": 16
  },
  {
   "metadata": {
    "ExecuteTime": {
     "end_time": "2025-08-30T02:05:09.836565Z",
     "start_time": "2025-08-30T02:05:09.824766Z"
    }
   },
   "cell_type": "code",
   "source": "res.value_counts()",
   "id": "bbf983d5f8f8a241",
   "outputs": [
    {
     "data": {
      "text/plain": [
       "(1921.999, 1973.0]    3\n",
       "(1973.0, 1992.0]      2\n",
       "(1992.0, 1995.0]      2\n",
       "(1995.0, 2025.0]      2\n",
       "Name: count, dtype: int64"
      ]
     },
     "execution_count": 17,
     "metadata": {},
     "output_type": "execute_result"
    }
   ],
   "execution_count": 17
  },
  {
   "metadata": {
    "ExecuteTime": {
     "end_time": "2025-08-30T02:05:45.998659Z",
     "start_time": "2025-08-30T02:05:45.987151Z"
    }
   },
   "cell_type": "code",
   "source": "years = [1992, 1983, 1922, 1932, 1973, 1999, 1993, 1995, 2025]",
   "id": "3b1f08debbf1e2f8",
   "outputs": [],
   "execution_count": 18
  },
  {
   "metadata": {
    "ExecuteTime": {
     "end_time": "2025-08-30T02:05:58.701713Z",
     "start_time": "2025-08-30T02:05:58.688678Z"
    }
   },
   "cell_type": "code",
   "source": "pd.qcut(years, q = 2).value_counts()",
   "id": "4adc9825f516224e",
   "outputs": [
    {
     "data": {
      "text/plain": [
       "(1921.999, 1992.0]    5\n",
       "(1992.0, 2025.0]      4\n",
       "Name: count, dtype: int64"
      ]
     },
     "execution_count": 19,
     "metadata": {},
     "output_type": "execute_result"
    }
   ],
   "execution_count": 19
  },
  {
   "metadata": {},
   "cell_type": "code",
   "outputs": [],
   "execution_count": null,
   "source": "",
   "id": "3146fb61b6c183e5"
  }
 ],
 "metadata": {
  "kernelspec": {
   "display_name": "Python 3",
   "language": "python",
   "name": "python3"
  },
  "language_info": {
   "codemirror_mode": {
    "name": "ipython",
    "version": 2
   },
   "file_extension": ".py",
   "mimetype": "text/x-python",
   "name": "python",
   "nbconvert_exporter": "python",
   "pygments_lexer": "ipython2",
   "version": "2.7.6"
  }
 },
 "nbformat": 4,
 "nbformat_minor": 5
}
