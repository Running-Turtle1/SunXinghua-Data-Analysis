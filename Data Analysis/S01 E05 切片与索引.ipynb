{
 "cells": [
  {
   "cell_type": "code",
   "id": "initial_id",
   "metadata": {
    "collapsed": true,
    "ExecuteTime": {
     "end_time": "2025-08-24T08:40:39.503023Z",
     "start_time": "2025-08-24T08:40:39.494986Z"
    }
   },
   "source": [
    "import numpy as np\n",
    "a = np.arange(1, 4)\n",
    "a"
   ],
   "execution_count": 56,
   "outputs": []
  },
  {
   "metadata": {
    "ExecuteTime": {
     "end_time": "2025-08-24T08:40:39.728281Z",
     "start_time": "2025-08-24T08:40:39.721089Z"
    }
   },
   "cell_type": "code",
   "source": "a",
   "id": "2e63393cf7207382",
   "execution_count": 57,
   "outputs": []
  },
  {
   "metadata": {
    "ExecuteTime": {
     "end_time": "2025-08-24T08:40:39.806729Z",
     "start_time": "2025-08-24T08:40:39.796810Z"
    }
   },
   "cell_type": "code",
   "source": "a[0]",
   "id": "9e00ac6df71b0fa",
   "execution_count": 58,
   "outputs": []
  },
  {
   "metadata": {
    "ExecuteTime": {
     "end_time": "2025-08-24T08:40:39.884792Z",
     "start_time": "2025-08-24T08:40:39.878275Z"
    }
   },
   "cell_type": "code",
   "source": "a[1]",
   "id": "3fb119b54d024888",
   "execution_count": 59,
   "outputs": []
  },
  {
   "metadata": {
    "ExecuteTime": {
     "end_time": "2025-08-24T08:40:39.931812Z",
     "start_time": "2025-08-24T08:40:39.923801Z"
    }
   },
   "cell_type": "code",
   "source": "a[0:2]",
   "id": "46bcac588eee6414",
   "execution_count": 60,
   "outputs": []
  },
  {
   "metadata": {
    "ExecuteTime": {
     "end_time": "2025-08-24T08:40:39.994299Z",
     "start_time": "2025-08-24T08:40:39.985424Z"
    }
   },
   "cell_type": "code",
   "source": [
    "b = np.arange(1, 21).reshape(4, 5)\n",
    "b"
   ],
   "id": "24c3aef252cf2402",
   "execution_count": 61,
   "outputs": []
  },
  {
   "metadata": {
    "ExecuteTime": {
     "end_time": "2025-08-24T08:40:40.026310Z",
     "start_time": "2025-08-24T08:40:40.015313Z"
    }
   },
   "cell_type": "code",
   "source": "[b[i, i] for i in range(0, 4)]",
   "id": "f5cca16e42eb4c86",
   "execution_count": 62,
   "outputs": []
  },
  {
   "metadata": {
    "ExecuteTime": {
     "end_time": "2025-08-24T08:40:40.077748Z",
     "start_time": "2025-08-24T08:40:40.070354Z"
    }
   },
   "cell_type": "code",
   "source": "b[1]",
   "id": "d5837263dc7ef8bd",
   "execution_count": 63,
   "outputs": []
  },
  {
   "metadata": {
    "ExecuteTime": {
     "end_time": "2025-08-24T08:40:40.106761Z",
     "start_time": "2025-08-24T08:40:40.098758Z"
    }
   },
   "cell_type": "code",
   "source": "b[0:2, 2:4]",
   "id": "6a3bf57707d9d28f",
   "execution_count": 64,
   "outputs": []
  },
  {
   "metadata": {
    "ExecuteTime": {
     "end_time": "2025-08-24T08:40:40.130543Z",
     "start_time": "2025-08-24T08:40:40.123166Z"
    }
   },
   "cell_type": "code",
   "source": "b[:, 2]",
   "id": "6024367ff8945dbf",
   "execution_count": 65,
   "outputs": []
  },
  {
   "metadata": {
    "ExecuteTime": {
     "end_time": "2025-08-24T08:40:40.196446Z",
     "start_time": "2025-08-24T08:40:40.188758Z"
    }
   },
   "cell_type": "code",
   "source": "b[0:-1]",
   "id": "f7b42baa6cb17d92",
   "execution_count": 66,
   "outputs": []
  },
  {
   "metadata": {},
   "cell_type": "markdown",
   "source": "Numpy 的切片直接修改数组\n",
   "id": "9445accb6611cae2"
  },
  {
   "metadata": {
    "ExecuteTime": {
     "end_time": "2025-08-24T08:40:40.210359Z",
     "start_time": "2025-08-24T08:40:40.204469Z"
    }
   },
   "cell_type": "code",
   "source": "b",
   "id": "b564eaa6a1649a3",
   "execution_count": 67,
   "outputs": []
  },
  {
   "metadata": {
    "ExecuteTime": {
     "end_time": "2025-08-24T08:40:40.257Z",
     "start_time": "2025-08-24T08:40:40.249385Z"
    }
   },
   "cell_type": "code",
   "source": [
    "b[1:3, 1:4] = 666\n",
    "b"
   ],
   "id": "60587f8fb6d2cd92",
   "execution_count": 68,
   "outputs": []
  },
  {
   "metadata": {},
   "cell_type": "markdown",
   "source": "布尔索引",
   "id": "fa65f86949bbbd60"
  },
  {
   "metadata": {
    "ExecuteTime": {
     "end_time": "2025-08-24T08:40:48.749638Z",
     "start_time": "2025-08-24T08:40:48.739628Z"
    }
   },
   "cell_type": "code",
   "source": [
    "c = np.arange(1, 21).reshape(4, 5)\n",
    "c"
   ],
   "id": "fad796a1e5ef7a59",
   "execution_count": 74,
   "outputs": []
  },
  {
   "metadata": {
    "ExecuteTime": {
     "end_time": "2025-08-24T08:40:56.983412Z",
     "start_time": "2025-08-24T08:40:56.975336Z"
    }
   },
   "cell_type": "code",
   "source": "c >= 10",
   "id": "ea1e6bf0feaee50",
   "execution_count": 75,
   "outputs": []
  },
  {
   "metadata": {
    "ExecuteTime": {
     "end_time": "2025-08-24T08:40:57.886264Z",
     "start_time": "2025-08-24T08:40:57.880245Z"
    }
   },
   "cell_type": "code",
   "source": "c[c >= 10] # 转为一维数组",
   "id": "d8b4bc936d246154",
   "execution_count": 76,
   "outputs": []
  },
  {
   "metadata": {
    "ExecuteTime": {
     "end_time": "2025-08-24T08:40:59.129632Z",
     "start_time": "2025-08-24T08:40:59.121652Z"
    }
   },
   "cell_type": "code",
   "source": "c",
   "id": "2c354e4ae0d6b0a",
   "execution_count": 77,
   "outputs": []
  },
  {
   "metadata": {},
   "cell_type": "markdown",
   "source": "把第3列大于5的行筛选出来并重新赋值为520",
   "id": "8976a77abebfa2dc"
  },
  {
   "metadata": {
    "ExecuteTime": {
     "end_time": "2025-08-24T08:41:01.085291Z",
     "start_time": "2025-08-24T08:41:01.076441Z"
    }
   },
   "cell_type": "code",
   "source": [
    "c[c[:, 3] > 5] = 520\n",
    "c"
   ],
   "id": "e375dbc2ea83ab22",
   "execution_count": 78,
   "outputs": []
  },
  {
   "metadata": {
    "ExecuteTime": {
     "end_time": "2025-08-24T08:41:23.188933Z",
     "start_time": "2025-08-24T08:41:23.179926Z"
    }
   },
   "cell_type": "code",
   "source": [
    "c = np.arange(1, 21).reshape(4, 5)\n",
    "c[:, 3] > 5"
   ],
   "id": "a1f185cafd1d61b",
   "execution_count": 79,
   "outputs": []
  },
  {
   "metadata": {
    "ExecuteTime": {
     "end_time": "2025-08-24T08:45:31.319343Z",
     "start_time": "2025-08-24T08:45:31.310232Z"
    }
   },
   "cell_type": "code",
   "source": [
    "c = c.flatten()\n",
    "c"
   ],
   "id": "817aa37b8242b572",
   "execution_count": 88,
   "outputs": []
  },
  {
   "metadata": {
    "ExecuteTime": {
     "end_time": "2025-08-24T08:45:32.231578Z",
     "start_time": "2025-08-24T08:45:32.222482Z"
    }
   },
   "cell_type": "code",
   "source": "c % 2 == 0",
   "id": "d143db7b032926de",
   "execution_count": 89,
   "outputs": []
  },
  {
   "metadata": {
    "ExecuteTime": {
     "end_time": "2025-08-24T08:45:32.915303Z",
     "start_time": "2025-08-24T08:45:32.905615Z"
    }
   },
   "cell_type": "code",
   "source": "c < 7",
   "id": "2c93d7a2473beb26",
   "execution_count": 90,
   "outputs": []
  },
  {
   "metadata": {
    "ExecuteTime": {
     "end_time": "2025-08-24T08:46:54.434942Z",
     "start_time": "2025-08-24T08:46:54.420671Z"
    }
   },
   "cell_type": "code",
   "source": "(c % 2 == 0) | (c < 7)",
   "id": "d785e73c3ed340e4",
   "execution_count": 93,
   "outputs": []
  },
  {
   "metadata": {
    "ExecuteTime": {
     "end_time": "2025-08-24T08:46:59.010460Z",
     "start_time": "2025-08-24T08:46:59.003706Z"
    }
   },
   "cell_type": "code",
   "source": "c[(c % 2 == 0) | (c < 7)]",
   "id": "1681a57894a6dbbe",
   "execution_count": 94,
   "outputs": []
  },
  {
   "metadata": {
    "ExecuteTime": {
     "end_time": "2025-08-24T08:47:16.660634Z",
     "start_time": "2025-08-24T08:47:16.655021Z"
    }
   },
   "cell_type": "code",
   "source": [
    "c = np.arange(1, 21).reshape(4, 5)\n",
    "c"
   ],
   "id": "d41d7afa5f7e28ab",
   "execution_count": 96,
   "outputs": []
  },
  {
   "metadata": {
    "ExecuteTime": {
     "end_time": "2025-08-24T08:47:17.875870Z",
     "start_time": "2025-08-24T08:47:17.862289Z"
    }
   },
   "cell_type": "code",
   "source": "c[(c % 2 == 0) | (c < 7)]",
   "id": "d4c41b2af6b0851a",
   "execution_count": 97,
   "outputs": []
  },
  {
   "metadata": {},
   "cell_type": "markdown",
   "source": "神奇索引：数组当索引",
   "id": "2914ff492b537dae"
  },
  {
   "metadata": {
    "ExecuteTime": {
     "end_time": "2025-08-24T08:52:39.667836Z",
     "start_time": "2025-08-24T08:52:39.654324Z"
    }
   },
   "cell_type": "code",
   "source": [
    "a = np.arange(36).reshape(9, 4)\n",
    "a"
   ],
   "id": "d9942df479403b69",
   "execution_count": 98,
   "outputs": []
  },
  {
   "metadata": {
    "ExecuteTime": {
     "end_time": "2025-08-24T08:52:51.480362Z",
     "start_time": "2025-08-24T08:52:51.465539Z"
    }
   },
   "cell_type": "code",
   "source": "print(a[[2, 4, 3]])",
   "id": "5da5f6a9f22e38a3",
   "execution_count": 99,
   "outputs": []
  },
  {
   "metadata": {
    "ExecuteTime": {
     "end_time": "2025-08-24T08:53:52.015186Z",
     "start_time": "2025-08-24T08:53:52.007161Z"
    }
   },
   "cell_type": "code",
   "source": "print(a[[2, 4, 6], [0, 3, 1]])",
   "id": "d23206611bd9d4aa",
   "execution_count": 101,
   "outputs": []
  },
  {
   "metadata": {
    "ExecuteTime": {
     "end_time": "2025-08-24T08:54:07.887008Z",
     "start_time": "2025-08-24T08:54:07.877208Z"
    }
   },
   "cell_type": "code",
   "source": "a[2][0], a[4][3], a[6, 1]",
   "id": "a1d0c34588b41e3e",
   "execution_count": 103,
   "outputs": []
  },
  {
   "metadata": {
    "ExecuteTime": {
     "end_time": "2025-08-24T08:54:34.939475Z",
     "start_time": "2025-08-24T08:54:34.934166Z"
    }
   },
   "cell_type": "code",
   "source": "a[:, [1,2,3]] # 取 1 2 3 列",
   "id": "97fae61fd1d72f53",
   "execution_count": 104,
   "outputs": []
  },
  {
   "metadata": {
    "ExecuteTime": {
     "end_time": "2025-08-24T08:55:04.210312Z",
     "start_time": "2025-08-24T08:55:04.186773Z"
    }
   },
   "cell_type": "code",
   "source": [
    "d = np.arange(10)\n",
    "d"
   ],
   "id": "eafe08a60556c452",
   "execution_count": 105,
   "outputs": []
  },
  {
   "metadata": {
    "ExecuteTime": {
     "end_time": "2025-08-24T08:56:18.791447Z",
     "start_time": "2025-08-24T08:56:18.776954Z"
    }
   },
   "cell_type": "code",
   "source": "d[[[0, 2], [1, 3]]] # 传索引列表的列表创造二维数组",
   "id": "e78d1a2ae529f3c1",
   "execution_count": 108,
   "outputs": []
  },
  {
   "metadata": {
    "ExecuteTime": {
     "end_time": "2025-08-24T08:57:01.020520Z",
     "start_time": "2025-08-24T08:57:01.001646Z"
    }
   },
   "cell_type": "code",
   "source": [
    "numbers = np.random.randint(1,100,10)\n",
    "numbers"
   ],
   "id": "b3d683c1d68a5f74",
   "execution_count": 111,
   "outputs": []
  },
  {
   "metadata": {
    "ExecuteTime": {
     "end_time": "2025-08-24T09:01:18.006528Z",
     "start_time": "2025-08-24T09:01:18.001263Z"
    }
   },
   "cell_type": "code",
   "source": [
    "numbers = np.array(sorted(numbers))\n",
    "numbers"
   ],
   "id": "2123dee35b4c5b4",
   "execution_count": 127,
   "outputs": []
  },
  {
   "metadata": {
    "ExecuteTime": {
     "end_time": "2025-08-24T09:01:49.049558Z",
     "start_time": "2025-08-24T09:01:49.043726Z"
    }
   },
   "cell_type": "code",
   "source": [
    "indices = range(9 - 5 + 1, 9 + 1)\n",
    "indices"
   ],
   "id": "f92409b3ca37484b",
   "execution_count": 130,
   "outputs": []
  },
  {
   "metadata": {
    "ExecuteTime": {
     "end_time": "2025-08-24T09:01:50.105020Z",
     "start_time": "2025-08-24T09:01:50.098950Z"
    }
   },
   "cell_type": "code",
   "source": "numbers[indices]",
   "id": "de7459d055c5ace7",
   "execution_count": 131,
   "outputs": []
  },
  {
   "metadata": {},
   "cell_type": "markdown",
   "source": "更好地写法",
   "id": "3ab088315f585d6a"
  },
  {
   "metadata": {
    "ExecuteTime": {
     "end_time": "2025-08-24T09:02:46.888669Z",
     "start_time": "2025-08-24T09:02:46.878069Z"
    }
   },
   "cell_type": "code",
   "source": [
    "numbers = np.random.randint(1, 100, 10)\n",
    "numbers"
   ],
   "id": "e1079968f368ee56",
   "execution_count": 133,
   "outputs": []
  },
  {
   "metadata": {
    "ExecuteTime": {
     "end_time": "2025-08-24T09:02:48.388332Z",
     "start_time": "2025-08-24T09:02:48.376844Z"
    }
   },
   "cell_type": "code",
   "source": "numbers[numbers.argsort()[-3:]]",
   "id": "d9d5b85a585d7b4f",
   "execution_count": 134,
   "outputs": []
  }
 ],
 "metadata": {
  "kernelspec": {
   "display_name": "Python 3",
   "language": "python",
   "name": "python3"
  },
  "language_info": {
   "codemirror_mode": {
    "name": "ipython",
    "version": 2
   },
   "file_extension": ".py",
   "mimetype": "text/x-python",
   "name": "python",
   "nbconvert_exporter": "python",
   "pygments_lexer": "ipython2",
   "version": "2.7.6"
  }
 },
 "nbformat": 4,
 "nbformat_minor": 5
}
