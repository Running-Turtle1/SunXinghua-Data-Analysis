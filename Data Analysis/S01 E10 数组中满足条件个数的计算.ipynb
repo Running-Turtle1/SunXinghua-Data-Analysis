{
 "cells": [
  {
   "metadata": {},
   "cell_type": "markdown",
   "source": "## 1 将条件逻辑作为数组操作",
   "id": "14543a1a0a2ff8ff"
  },
  {
   "metadata": {
    "ExecuteTime": {
     "end_time": "2025-08-27T01:04:23.701139Z",
     "start_time": "2025-08-27T01:04:23.697138Z"
    }
   },
   "cell_type": "code",
   "source": "import numpy as np",
   "id": "539192004b6a974",
   "execution_count": 44,
   "outputs": []
  },
  {
   "metadata": {
    "ExecuteTime": {
     "end_time": "2025-08-27T01:04:24.013105Z",
     "start_time": "2025-08-27T01:04:24.009836Z"
    }
   },
   "cell_type": "code",
   "source": [
    "a = np.array([\n",
    "    [1, 3, 6],\n",
    "    [9, 3, 2],\n",
    "    [1, 4, 3]\n",
    "])"
   ],
   "id": "e45c4e5a579931e4",
   "execution_count": 45,
   "outputs": []
  },
  {
   "metadata": {
    "ExecuteTime": {
     "end_time": "2025-08-27T01:04:24.035017Z",
     "start_time": "2025-08-27T01:04:24.030304Z"
    }
   },
   "cell_type": "code",
   "source": "a",
   "id": "4c044c46410f9c31",
   "execution_count": 46,
   "outputs": []
  },
  {
   "metadata": {
    "ExecuteTime": {
     "end_time": "2025-08-27T01:04:24.065533Z",
     "start_time": "2025-08-27T01:04:24.060529Z"
    }
   },
   "cell_type": "code",
   "source": "a > 3",
   "id": "8d1fc6a9a1862f41",
   "execution_count": 47,
   "outputs": []
  },
  {
   "metadata": {
    "ExecuteTime": {
     "end_time": "2025-08-27T01:04:24.096724Z",
     "start_time": "2025-08-27T01:04:24.091595Z"
    }
   },
   "cell_type": "code",
   "source": "np.where(a == 3, 114514, 0)",
   "id": "5379742b6bda8be8",
   "execution_count": 48,
   "outputs": []
  },
  {
   "metadata": {
    "ExecuteTime": {
     "end_time": "2025-08-27T01:04:24.144447Z",
     "start_time": "2025-08-27T01:04:24.139052Z"
    }
   },
   "cell_type": "code",
   "source": "a # 上一个 where 操作不是原地的",
   "id": "bf32becfc73dade1",
   "execution_count": 49,
   "outputs": []
  },
  {
   "metadata": {},
   "cell_type": "markdown",
   "source": "## 2 布尔值数组方法  any和all",
   "id": "3e421bb1cff4661f"
  },
  {
   "metadata": {
    "ExecuteTime": {
     "end_time": "2025-08-27T01:04:24.179853Z",
     "start_time": "2025-08-27T01:04:24.173251Z"
    }
   },
   "cell_type": "code",
   "source": "(a > 3).sum() # 大于 3 的数的个数",
   "id": "72a25a74aa86612e",
   "execution_count": 50,
   "outputs": []
  },
  {
   "metadata": {
    "ExecuteTime": {
     "end_time": "2025-08-27T01:04:24.218632Z",
     "start_time": "2025-08-27T01:04:24.214332Z"
    }
   },
   "cell_type": "code",
   "source": [
    "f = np.array([\n",
    "    False, False, True, False\n",
    "])"
   ],
   "id": "93d3ab8bd760333f",
   "execution_count": 51,
   "outputs": []
  },
  {
   "metadata": {
    "ExecuteTime": {
     "end_time": "2025-08-27T01:04:24.253259Z",
     "start_time": "2025-08-27T01:04:24.247089Z"
    }
   },
   "cell_type": "code",
   "source": "f",
   "id": "49527486af1f2a6a",
   "execution_count": 52,
   "outputs": []
  },
  {
   "metadata": {
    "ExecuteTime": {
     "end_time": "2025-08-27T01:04:24.277912Z",
     "start_time": "2025-08-27T01:04:24.271476Z"
    }
   },
   "cell_type": "code",
   "source": "f.any()",
   "id": "5b664834cb6d1801",
   "execution_count": 53,
   "outputs": []
  },
  {
   "metadata": {
    "ExecuteTime": {
     "end_time": "2025-08-27T01:04:24.306096Z",
     "start_time": "2025-08-27T01:04:24.297764Z"
    }
   },
   "cell_type": "code",
   "source": "f.all()",
   "id": "910a327c9e37eebf",
   "execution_count": 54,
   "outputs": []
  },
  {
   "metadata": {
    "ExecuteTime": {
     "end_time": "2025-08-27T01:04:24.346518Z",
     "start_time": "2025-08-27T01:04:24.340819Z"
    }
   },
   "cell_type": "code",
   "source": "np.array([True, True]).all()",
   "id": "1bbf107715b6a6f6",
   "execution_count": 55,
   "outputs": []
  },
  {
   "metadata": {},
   "cell_type": "markdown",
   "source": "## 3 按值大小排序 sort",
   "id": "b43b77cbe66334a5"
  },
  {
   "metadata": {},
   "cell_type": "markdown",
   "source": [
    "ndarray.sort(axis=-1, kind='quicksort', order=None)\n",
    "\n",
    "或者：ndarray.sort(axis=-1, kind='quicksort', order=None)\n"
   ],
   "id": "60401b8a9c445b6d"
  },
  {
   "metadata": {},
   "cell_type": "markdown",
   "source": [
    "- axis 排序沿数组的(轴)方向,0表示按行,1表示按列,None表示展开来排序,默认值为-1,表示沿最后的轴排序\n",
    "- kind 排序的算法,提供了快排'quicksort'、混排'mergesor'、堆排'heapsort'默认为'quicksort\n",
    "- order 排序的字段名,可指定字段排序,默认为None"
   ],
   "id": "15926a03a26fe3d1"
  },
  {
   "metadata": {
    "ExecuteTime": {
     "end_time": "2025-08-27T01:04:24.375037Z",
     "start_time": "2025-08-27T01:04:24.369468Z"
    }
   },
   "cell_type": "code",
   "source": "a = np.array([3, 6, 7, 9, 1, 8, 5, 4])",
   "id": "5f83aaa1f9744bd4",
   "execution_count": 56,
   "outputs": []
  },
  {
   "metadata": {
    "ExecuteTime": {
     "end_time": "2025-08-27T01:04:24.410630Z",
     "start_time": "2025-08-27T01:04:24.407184Z"
    }
   },
   "cell_type": "code",
   "source": "a.sort()",
   "id": "9f06445f769db178",
   "execution_count": 57,
   "outputs": []
  },
  {
   "metadata": {
    "ExecuteTime": {
     "end_time": "2025-08-27T01:04:24.436612Z",
     "start_time": "2025-08-27T01:04:24.418988Z"
    }
   },
   "cell_type": "code",
   "source": "a",
   "id": "f05ddfdd94161669",
   "execution_count": 58,
   "outputs": []
  },
  {
   "metadata": {},
   "cell_type": "markdown",
   "source": "二维数组排序",
   "id": "923f8b0d4e53cc11"
  },
  {
   "metadata": {
    "ExecuteTime": {
     "end_time": "2025-08-27T01:04:24.451518Z",
     "start_time": "2025-08-27T01:04:24.444469Z"
    }
   },
   "cell_type": "code",
   "source": [
    "b = np.array([\n",
    "    [0, 12, 48],\n",
    "    [4, 18, 14],\n",
    "    [7, 1, 99]\n",
    "])\n",
    "b"
   ],
   "id": "48c225495c5d9db9",
   "execution_count": 59,
   "outputs": []
  },
  {
   "metadata": {
    "ExecuteTime": {
     "end_time": "2025-08-27T01:04:24.480025Z",
     "start_time": "2025-08-27T01:04:24.475680Z"
    }
   },
   "cell_type": "code",
   "source": "np.sort(b) # 默认按照最后一个轴排列, 这里是列排列",
   "id": "227a45804c04d853",
   "execution_count": 60,
   "outputs": []
  },
  {
   "metadata": {
    "ExecuteTime": {
     "end_time": "2025-08-27T01:04:24.500143Z",
     "start_time": "2025-08-27T01:04:24.493554Z"
    }
   },
   "cell_type": "code",
   "source": "a",
   "id": "f204e9ba8c0afeef",
   "execution_count": 61,
   "outputs": []
  },
  {
   "metadata": {},
   "cell_type": "markdown",
   "source": "拓展: 按照字段名排序",
   "id": "b76c0e16af6d9dc3"
  },
  {
   "metadata": {
    "ExecuteTime": {
     "end_time": "2025-08-27T01:04:24.538825Z",
     "start_time": "2025-08-27T01:04:24.532448Z"
    }
   },
   "cell_type": "code",
   "source": [
    "dt = np.dtype(\n",
    "    [\n",
    "        ('name', 'S10'),\n",
    "        ('age', int)\n",
    "    ]\n",
    ")\n",
    "# 10: This number indicates the maximum length of the string, in bytes."
   ],
   "id": "61376a3d330c16ce",
   "execution_count": 62,
   "outputs": []
  },
  {
   "metadata": {
    "ExecuteTime": {
     "end_time": "2025-08-27T01:04:24.564185Z",
     "start_time": "2025-08-27T01:04:24.555903Z"
    }
   },
   "cell_type": "code",
   "source": [
    "a = np.array([\n",
    "    (\"Mike\", 21),\n",
    "    (\"Nancy\", 25),\n",
    "    (\"Bob\", 17),\n",
    "    (\"jane\", 27)\n",
    "], dtype = dt)"
   ],
   "id": "7eb9ecf497491ad4",
   "execution_count": 63,
   "outputs": []
  },
  {
   "metadata": {
    "ExecuteTime": {
     "end_time": "2025-08-27T01:04:24.597073Z",
     "start_time": "2025-08-27T01:04:24.592212Z"
    }
   },
   "cell_type": "code",
   "source": "np.sort(a, order = 'name')",
   "id": "351d8de20965d667",
   "execution_count": 64,
   "outputs": []
  },
  {
   "metadata": {
    "ExecuteTime": {
     "end_time": "2025-08-27T01:04:24.616538Z",
     "start_time": "2025-08-27T01:04:24.610498Z"
    }
   },
   "cell_type": "code",
   "source": "np.sort(a, order = 'age')",
   "id": "a75ed7c553659603",
   "execution_count": 65,
   "outputs": []
  },
  {
   "metadata": {},
   "cell_type": "markdown",
   "source": "## 3 从大到小的索引",
   "id": "fc70fc711bc2f91d"
  },
  {
   "metadata": {},
   "cell_type": "markdown",
   "source": "返回排序后的下标 `argsort`",
   "id": "43afe0e645dd03c7"
  },
  {
   "metadata": {
    "ExecuteTime": {
     "end_time": "2025-08-27T01:04:24.644223Z",
     "start_time": "2025-08-27T01:04:24.632542Z"
    }
   },
   "cell_type": "code",
   "source": "x = np.array([59, 29, 39])",
   "id": "b6fba71885c87ada",
   "execution_count": 66,
   "outputs": []
  },
  {
   "metadata": {
    "ExecuteTime": {
     "end_time": "2025-08-27T01:04:24.672762Z",
     "start_time": "2025-08-27T01:04:24.667659Z"
    }
   },
   "cell_type": "code",
   "source": "np.argsort(x)",
   "id": "7fda137e4d59b810",
   "execution_count": 67,
   "outputs": []
  },
  {
   "metadata": {
    "ExecuteTime": {
     "end_time": "2025-08-27T01:04:24.695813Z",
     "start_time": "2025-08-27T01:04:24.690941Z"
    }
   },
   "cell_type": "code",
   "source": "np.argsort(-x)",
   "id": "2179471c00488235",
   "execution_count": 68,
   "outputs": []
  },
  {
   "metadata": {},
   "cell_type": "markdown",
   "source": "用排序结果重构数组",
   "id": "99f3e2cc8d38727c"
  },
  {
   "metadata": {
    "ExecuteTime": {
     "end_time": "2025-08-27T01:04:24.736091Z",
     "start_time": "2025-08-27T01:04:24.730161Z"
    }
   },
   "cell_type": "code",
   "source": "x[np.argsort(x)]",
   "id": "bf83c2e45ff56bb0",
   "execution_count": 69,
   "outputs": []
  },
  {
   "metadata": {},
   "cell_type": "markdown",
   "source": "二维数组",
   "id": "472b78f426b68f69"
  },
  {
   "metadata": {
    "ExecuteTime": {
     "end_time": "2025-08-27T01:04:24.750312Z",
     "start_time": "2025-08-27T01:04:24.746270Z"
    }
   },
   "cell_type": "code",
   "source": [
    "x = np.array([\n",
    "    [0, 12, 48],\n",
    "    [4, 18, 14],\n",
    "    [7, 1, 99]\n",
    "])"
   ],
   "id": "d30b50f049d47216",
   "execution_count": 70,
   "outputs": []
  },
  {
   "metadata": {
    "ExecuteTime": {
     "end_time": "2025-08-27T01:04:24.765191Z",
     "start_time": "2025-08-27T01:04:24.756332Z"
    }
   },
   "cell_type": "code",
   "source": "x",
   "id": "8744b1da765b6817",
   "execution_count": 71,
   "outputs": []
  },
  {
   "metadata": {
    "ExecuteTime": {
     "end_time": "2025-08-27T01:04:24.792120Z",
     "start_time": "2025-08-27T01:04:24.785248Z"
    }
   },
   "cell_type": "code",
   "source": "np.argsort(x)",
   "id": "3f43e30a7fadb8da",
   "execution_count": 72,
   "outputs": []
  },
  {
   "metadata": {
    "ExecuteTime": {
     "end_time": "2025-08-27T01:04:24.840875Z",
     "start_time": "2025-08-27T01:04:24.833871Z"
    }
   },
   "cell_type": "code",
   "source": [
    "np.array(\n",
    "    [np.take(x[i], x[i].argsort()) for i in range(len(x))]\n",
    ")"
   ],
   "id": "613c9947e247d59d",
   "execution_count": 73,
   "outputs": []
  },
  {
   "metadata": {},
   "cell_type": "markdown",
   "source": "上面的代码没必要用 take, 对于这种增加记忆量的代码, 给到拉",
   "id": "fb83915474ab2668"
  },
  {
   "metadata": {
    "ExecuteTime": {
     "end_time": "2025-08-27T01:04:24.870120Z",
     "start_time": "2025-08-27T01:04:24.861669Z"
    }
   },
   "cell_type": "code",
   "source": "x",
   "id": "b79d6cedc6ea47ee",
   "execution_count": 74,
   "outputs": []
  },
  {
   "metadata": {
    "ExecuteTime": {
     "end_time": "2025-08-27T01:04:24.914986Z",
     "start_time": "2025-08-27T01:04:24.909455Z"
    }
   },
   "cell_type": "code",
   "source": [
    "np.array(\n",
    "    [x[i][x[i].argsort()] for i in range(len(x))]\n",
    ")"
   ],
   "id": "3f82caebb44a0346",
   "execution_count": 75,
   "outputs": []
  },
  {
   "metadata": {},
   "cell_type": "markdown",
   "source": "lexsort",
   "id": "e0158c6de5434204"
  },
  {
   "metadata": {},
   "cell_type": "markdown",
   "source": "按照最后一行的权值排序, 如果有相同的元素, 就用上一行对应列的位置来排序",
   "id": "88a8971761c7b1de"
  },
  {
   "metadata": {
    "ExecuteTime": {
     "end_time": "2025-08-27T01:04:24.929746Z",
     "start_time": "2025-08-27T01:04:24.924413Z"
    }
   },
   "cell_type": "code",
   "source": [
    "x = np.array([\n",
    "    [0, 12, 48],\n",
    "    [4, 18, 14],\n",
    "    [7, 1, 99]\n",
    "])\n",
    "x"
   ],
   "id": "d7a560f226edaa97",
   "execution_count": 76,
   "outputs": []
  },
  {
   "metadata": {
    "ExecuteTime": {
     "end_time": "2025-08-27T01:04:24.946225Z",
     "start_time": "2025-08-27T01:04:24.939893Z"
    }
   },
   "cell_type": "code",
   "source": "np.lexsort(x)",
   "id": "203416fb100b3c46",
   "execution_count": 77,
   "outputs": []
  },
  {
   "metadata": {
    "ExecuteTime": {
     "end_time": "2025-08-27T01:04:24.990663Z",
     "start_time": "2025-08-27T01:04:24.973633Z"
    }
   },
   "cell_type": "code",
   "source": "x[:, np.lexsort(x)]",
   "id": "e5910c8d055b39cc",
   "execution_count": 78,
   "outputs": []
  },
  {
   "metadata": {
    "ExecuteTime": {
     "end_time": "2025-08-27T01:04:25.003945Z",
     "start_time": "2025-08-27T01:04:24.993551Z"
    }
   },
   "cell_type": "code",
   "source": [
    "y = np.array([\n",
    "    [1, 2, 3, 5],\n",
    "    [5, 4, 6, 8],\n",
    "    [10, 10, 9, 8]\n",
    "])"
   ],
   "id": "e22cdea9d7643933",
   "execution_count": 79,
   "outputs": []
  },
  {
   "metadata": {
    "ExecuteTime": {
     "end_time": "2025-08-27T01:04:25.020842Z",
     "start_time": "2025-08-27T01:04:25.015824Z"
    }
   },
   "cell_type": "code",
   "source": "np.lexsort(y) # [3, 2, 1, 0]",
   "id": "19fa210809ff92af",
   "execution_count": 80,
   "outputs": []
  },
  {
   "metadata": {},
   "cell_type": "markdown",
   "source": "下面的写法是把 (b, a) 组合, 先根据 a 排序, 遇到相同的在根据 b 排序",
   "id": "19fccf1bbf95be47"
  },
  {
   "metadata": {
    "ExecuteTime": {
     "end_time": "2025-08-27T01:07:34.303855Z",
     "start_time": "2025-08-27T01:07:34.287669Z"
    }
   },
   "cell_type": "code",
   "source": [
    "a = np.array([1, 2, 3, 4, 4])\n",
    "b = np.array([99, 88, 77, 11, -1])"
   ],
   "id": "5cbacf6fc7c2f9b6",
   "execution_count": 86,
   "outputs": []
  },
  {
   "metadata": {
    "ExecuteTime": {
     "end_time": "2025-08-27T01:07:35.428570Z",
     "start_time": "2025-08-27T01:07:35.422508Z"
    }
   },
   "cell_type": "code",
   "source": "np.lexsort((b, a))",
   "id": "95a57427927dc14a",
   "execution_count": 87,
   "outputs": []
  },
  {
   "metadata": {
    "ExecuteTime": {
     "end_time": "2025-08-27T01:08:53.846955Z",
     "start_time": "2025-08-27T01:08:53.841437Z"
    }
   },
   "cell_type": "code",
   "source": "ind = np.lexsort((b, a))",
   "id": "fcd68eba064ef897",
   "execution_count": 89,
   "outputs": []
  },
  {
   "metadata": {
    "ExecuteTime": {
     "end_time": "2025-08-27T01:09:02.342645Z",
     "start_time": "2025-08-27T01:09:02.336298Z"
    }
   },
   "cell_type": "code",
   "source": "list(zip(a[ind], b[ind]))",
   "id": "bd3cd2cf22a44b64",
   "execution_count": 90,
   "outputs": []
  },
  {
   "metadata": {
    "ExecuteTime": {
     "end_time": "2025-08-27T01:09:41.367475Z",
     "start_time": "2025-08-27T01:09:41.355199Z"
    }
   },
   "cell_type": "code",
   "source": [
    "x = np.array([\n",
    "    [0, 12, 48],\n",
    "    [4, 18, 14],\n",
    "    [7, 1, 99]\n",
    "])"
   ],
   "id": "b777745955f84370",
   "execution_count": 91,
   "outputs": []
  },
  {
   "metadata": {
    "ExecuteTime": {
     "end_time": "2025-08-27T01:09:42.129390Z",
     "start_time": "2025-08-27T01:09:42.122309Z"
    }
   },
   "cell_type": "code",
   "source": "x",
   "id": "3afa0cdd1ba62f50",
   "execution_count": 92,
   "outputs": []
  },
  {
   "metadata": {
    "ExecuteTime": {
     "end_time": "2025-08-27T01:10:23.071907Z",
     "start_time": "2025-08-27T01:10:23.054129Z"
    }
   },
   "cell_type": "code",
   "source": "x[:, np.lexsort(x.T)] # 根据列排序",
   "id": "e508768456161499",
   "execution_count": 94,
   "outputs": []
  },
  {
   "metadata": {},
   "cell_type": "markdown",
   "source": "## unique 和 in1d",
   "id": "a6d1809bdac50c17"
  },
  {
   "metadata": {
    "ExecuteTime": {
     "end_time": "2025-08-27T01:11:45.629634Z",
     "start_time": "2025-08-27T01:11:45.616752Z"
    }
   },
   "cell_type": "code",
   "source": [
    "姓名 = np.array(['孙悟空','猪八戒','孙悟空','沙和尚','孙悟空','唐僧'])\n",
    "print(np.unique(姓名))"
   ],
   "id": "559ff8867c15f84c",
   "execution_count": 95,
   "outputs": []
  },
  {
   "metadata": {
    "ExecuteTime": {
     "end_time": "2025-08-27T01:11:46.563904Z",
     "start_time": "2025-08-27T01:11:46.554919Z"
    }
   },
   "cell_type": "code",
   "source": [
    "数组 = np.array([1,3,1,3,5,3,1,3,7,3,5,6])\n",
    "print(np.unique(数组))"
   ],
   "id": "fb687d7b858ed94f",
   "execution_count": 96,
   "outputs": []
  },
  {
   "metadata": {},
   "cell_type": "markdown",
   "source": "检查一个数组中的值是否在另外一个数组中，并返回一个布尔数组：",
   "id": "51b93bce83f20c40"
  },
  {
   "metadata": {
    "ExecuteTime": {
     "end_time": "2025-08-27T01:12:12.848154Z",
     "start_time": "2025-08-27T01:12:12.840154Z"
    }
   },
   "cell_type": "code",
   "source": [
    "a = np.array([6,0,0,3,2,5,6])\n",
    "print(np.in1d(a,[2,3,6]))"
   ],
   "id": "954e221cf93606b2",
   "execution_count": 97,
   "outputs": []
  },
  {
   "metadata": {},
   "cell_type": "markdown",
   "source": [
    "集合操作\n",
    "\n",
    "- unique(x) 去重 + 排序\n",
    "- intersect1d(x, y) 计算交集 + 排序\n",
    "- union1d(x, y) 计算并集 + 排序\n",
    "- in1d(x, y) x 的元素是否在 y 中, 返回 bool 数组\n",
    "- setdiff1d(x, y) x - y 差集\n",
    "- setxor1d(x, y) 异或集, 在 x 或者在 y, 但是不属于 x、y 的交集"
   ],
   "id": "43c304f533235e6"
  },
  {
   "metadata": {},
   "cell_type": "markdown",
   "source": "## 深拷贝与浅拷贝",
   "id": "900bcf1a4b4f5d5d"
  },
  {
   "metadata": {},
   "cell_type": "markdown",
   "source": "浅拷贝",
   "id": "b96e00fbd09b5166"
  },
  {
   "metadata": {},
   "cell_type": "markdown",
   "source": [
    "a=b  不能这样赋值，因为a和b相互影响，在内存里a变了b也会发生变化 \n",
    "\n",
    "a=b[:] 视图操作，一种切片，会创建新的对象a，但是a的数据完全由b保管，他们两个的数据变化是一致的"
   ],
   "id": "a8fa84839e12c618"
  },
  {
   "metadata": {},
   "cell_type": "markdown",
   "source": "深拷贝",
   "id": "92652367748db4ba"
  },
  {
   "metadata": {},
   "cell_type": "markdown",
   "source": "a=b.copy() 复制，a和b互不影响，相当于是重新开辟了一个空间保存b的值，然后让a指向b.copy()",
   "id": "51845c7a9632b81b"
  }
 ],
 "metadata": {
  "kernelspec": {
   "display_name": "Python 3",
   "language": "python",
   "name": "python3"
  },
  "language_info": {
   "codemirror_mode": {
    "name": "ipython",
    "version": 2
   },
   "file_extension": ".py",
   "mimetype": "text/x-python",
   "name": "python",
   "nbconvert_exporter": "python",
   "pygments_lexer": "ipython2",
   "version": "2.7.6"
  }
 },
 "nbformat": 4,
 "nbformat_minor": 5
}
