{
 "cells": [
  {
   "cell_type": "code",
   "id": "initial_id",
   "metadata": {
    "collapsed": true,
    "ExecuteTime": {
     "end_time": "2025-08-27T10:00:47.302471Z",
     "start_time": "2025-08-27T10:00:47.296475Z"
    }
   },
   "source": "import pandas as pd",
   "execution_count": 63,
   "outputs": []
  },
  {
   "metadata": {
    "ExecuteTime": {
     "end_time": "2025-08-27T10:00:47.602737Z",
     "start_time": "2025-08-27T10:00:47.590408Z"
    }
   },
   "cell_type": "code",
   "source": [
    "df = pd.DataFrame(\n",
    "    [[1, 2, 3], [4, 5, 6], [7, 8, 9]], # 注意还是按照列\n",
    "    columns = ['a', 'b', 'c']\n",
    ")\n",
    "df"
   ],
   "id": "29c7b8b2fec51dbe",
   "execution_count": 64,
   "outputs": []
  },
  {
   "metadata": {
    "ExecuteTime": {
     "end_time": "2025-08-27T10:00:47.676516Z",
     "start_time": "2025-08-27T10:00:47.668291Z"
    }
   },
   "cell_type": "code",
   "source": "df['a'][0], df['a'][1], df['a'][2]",
   "id": "3993c150cc50ce0d",
   "execution_count": 65,
   "outputs": []
  },
  {
   "metadata": {
    "ExecuteTime": {
     "end_time": "2025-08-27T10:00:47.785830Z",
     "start_time": "2025-08-27T10:00:47.775821Z"
    }
   },
   "cell_type": "code",
   "source": "df.loc[0]",
   "id": "5af7f8b102037e92",
   "execution_count": 66,
   "outputs": []
  },
  {
   "metadata": {
    "ExecuteTime": {
     "end_time": "2025-08-27T10:00:47.876413Z",
     "start_time": "2025-08-27T10:00:47.868055Z"
    }
   },
   "cell_type": "code",
   "source": "df.loc[1]",
   "id": "b3f858bd3e38ac24",
   "execution_count": 67,
   "outputs": []
  },
  {
   "metadata": {
    "ExecuteTime": {
     "end_time": "2025-08-27T10:00:48.056837Z",
     "start_time": "2025-08-27T10:00:48.048871Z"
    }
   },
   "cell_type": "code",
   "source": "df.iloc[0]['a']",
   "id": "b421e1e359b681e5",
   "execution_count": 68,
   "outputs": []
  },
  {
   "metadata": {
    "ExecuteTime": {
     "end_time": "2025-08-27T10:00:48.106559Z",
     "start_time": "2025-08-27T10:00:48.093922Z"
    }
   },
   "cell_type": "code",
   "source": "df[['a', 'b']]",
   "id": "169dd5ada6743ac7",
   "execution_count": 69,
   "outputs": []
  },
  {
   "metadata": {},
   "cell_type": "markdown",
   "source": "3.2.1 DataFrame 整个表格\n",
   "id": "82837ba4186b0738"
  },
  {
   "metadata": {
    "ExecuteTime": {
     "end_time": "2025-08-27T10:00:48.184387Z",
     "start_time": "2025-08-27T10:00:48.177999Z"
    }
   },
   "cell_type": "code",
   "source": [
    "dict = {\n",
    "    '姓名': ['wpc', 'queen', 'god'],\n",
    "    '年龄': [22, 20, 12312312],\n",
    "    '技能': ['coding', 'power', 'god_mode']\n",
    "}"
   ],
   "id": "ca47fcea541a6dba",
   "execution_count": 70,
   "outputs": []
  },
  {
   "metadata": {
    "ExecuteTime": {
     "end_time": "2025-08-27T10:00:48.231048Z",
     "start_time": "2025-08-27T10:00:48.222255Z"
    }
   },
   "cell_type": "code",
   "source": "dict",
   "id": "b84b819480c3d77a",
   "execution_count": 71,
   "outputs": []
  },
  {
   "metadata": {
    "ExecuteTime": {
     "end_time": "2025-08-27T10:00:48.294445Z",
     "start_time": "2025-08-27T10:00:48.283203Z"
    }
   },
   "cell_type": "code",
   "source": [
    "df = pd.DataFrame(dict)\n",
    "df"
   ],
   "id": "166652854e05ec50",
   "execution_count": 72,
   "outputs": []
  },
  {
   "metadata": {
    "ExecuteTime": {
     "end_time": "2025-08-27T10:00:48.371154Z",
     "start_time": "2025-08-27T10:00:48.359832Z"
    }
   },
   "cell_type": "code",
   "source": "df.dtypes",
   "id": "e0cb830843cc75e",
   "execution_count": 73,
   "outputs": []
  },
  {
   "metadata": {
    "ExecuteTime": {
     "end_time": "2025-08-27T10:00:48.572917Z",
     "start_time": "2025-08-27T10:00:48.564608Z"
    }
   },
   "cell_type": "code",
   "source": "df.columns",
   "id": "ba2df42b0dfe7e82",
   "execution_count": 74,
   "outputs": []
  },
  {
   "metadata": {
    "ExecuteTime": {
     "end_time": "2025-08-27T10:00:48.679517Z",
     "start_time": "2025-08-27T10:00:48.671605Z"
    }
   },
   "cell_type": "code",
   "source": "df.index",
   "id": "71858ad877a4655c",
   "execution_count": 75,
   "outputs": []
  },
  {
   "metadata": {},
   "cell_type": "markdown",
   "source": "从DataFrame中查询出Series",
   "id": "4965cb7b4b839428"
  },
  {
   "metadata": {
    "ExecuteTime": {
     "end_time": "2025-08-27T10:00:48.866140Z",
     "start_time": "2025-08-27T10:00:48.856140Z"
    }
   },
   "cell_type": "code",
   "source": "df['姓名']",
   "id": "4451457a8f0529e",
   "execution_count": 76,
   "outputs": []
  },
  {
   "metadata": {
    "ExecuteTime": {
     "end_time": "2025-08-27T10:00:48.945140Z",
     "start_time": "2025-08-27T10:00:48.900953Z"
    }
   },
   "cell_type": "code",
   "source": "type(df['姓名'])",
   "id": "6949cff468a1812c",
   "execution_count": 77,
   "outputs": []
  },
  {
   "metadata": {
    "ExecuteTime": {
     "end_time": "2025-08-27T10:00:48.965272Z",
     "start_time": "2025-08-27T10:00:48.955154Z"
    }
   },
   "cell_type": "code",
   "source": "df.loc[1]",
   "id": "52e144bb9bdfc4f",
   "execution_count": 78,
   "outputs": []
  },
  {
   "metadata": {
    "ExecuteTime": {
     "end_time": "2025-08-27T10:00:49.061234Z",
     "start_time": "2025-08-27T10:00:48.993385Z"
    }
   },
   "cell_type": "code",
   "source": "df.loc[1:]",
   "id": "f41980ffaa3ef1e2",
   "execution_count": 79,
   "outputs": []
  },
  {
   "metadata": {
    "ExecuteTime": {
     "end_time": "2025-08-27T10:00:49.157787Z",
     "start_time": "2025-08-27T10:00:49.080782Z"
    }
   },
   "cell_type": "code",
   "source": [
    "d1 = pd.Series(['叶问', '李小龙', '孙兴华'], index = [1, 2, 3], name = '姓名')\n",
    "d2 = pd.Series(['男', '男', '男'], index = [1, 2, 3], name = '性别')\n",
    "d3 = pd.Series([127, 80, 20], index = [1, 2, 3], name = '年龄')"
   ],
   "id": "518b76dbb2abf8a4",
   "execution_count": 80,
   "outputs": []
  },
  {
   "metadata": {
    "ExecuteTime": {
     "end_time": "2025-08-27T10:01:08.552615Z",
     "start_time": "2025-08-27T10:01:08.545263Z"
    }
   },
   "cell_type": "code",
   "source": [
    "df = pd.DataFrame({\n",
    "    d1.name: d1.values,\n",
    "    d2.name: d2.values,\n",
    "    d3.name: d3.values\n",
    "})"
   ],
   "id": "129493457405c2f5",
   "execution_count": 87,
   "outputs": []
  },
  {
   "metadata": {
    "ExecuteTime": {
     "end_time": "2025-08-27T10:01:12.022176Z",
     "start_time": "2025-08-27T10:01:12.008729Z"
    }
   },
   "cell_type": "code",
   "source": "df",
   "id": "b3ae0cece5e7768d",
   "execution_count": 88,
   "outputs": []
  },
  {
   "metadata": {
    "ExecuteTime": {
     "end_time": "2025-08-27T10:00:49.387924Z",
     "start_time": "2025-08-27T10:00:49.317513Z"
    }
   },
   "cell_type": "code",
   "source": "d1.name, type(d1.name)",
   "id": "fbca0d7d278bff30",
   "execution_count": 83,
   "outputs": []
  },
  {
   "metadata": {
    "ExecuteTime": {
     "end_time": "2025-08-27T10:02:18.336737Z",
     "start_time": "2025-08-27T10:02:18.314739Z"
    }
   },
   "cell_type": "code",
   "source": [
    "df2 = pd.DataFrame([d1, d2, d3])\n",
    "df2.T"
   ],
   "id": "d2d1fc4c6fa9dea0",
   "execution_count": 92,
   "outputs": []
  },
  {
   "metadata": {},
   "cell_type": "markdown",
   "source": "常用方法",
   "id": "817107080f6532d"
  },
  {
   "metadata": {
    "ExecuteTime": {
     "end_time": "2025-08-27T10:03:04.570592Z",
     "start_time": "2025-08-27T10:03:04.557755Z"
    }
   },
   "cell_type": "code",
   "source": "df.head(2)",
   "id": "aa8bcc111c9797c6",
   "execution_count": 95,
   "outputs": []
  },
  {
   "metadata": {
    "ExecuteTime": {
     "end_time": "2025-08-27T10:03:10.697475Z",
     "start_time": "2025-08-27T10:03:10.687149Z"
    }
   },
   "cell_type": "code",
   "source": "df.tail(1)",
   "id": "9f1028ceb98bb843",
   "execution_count": 96,
   "outputs": []
  },
  {
   "metadata": {
    "ExecuteTime": {
     "end_time": "2025-08-27T10:03:15.111365Z",
     "start_time": "2025-08-27T10:03:15.102370Z"
    }
   },
   "cell_type": "code",
   "source": "df.values",
   "id": "98b152059bfe4a98",
   "execution_count": 97,
   "outputs": []
  },
  {
   "metadata": {
    "ExecuteTime": {
     "end_time": "2025-08-27T10:03:20.265589Z",
     "start_time": "2025-08-27T10:03:20.258159Z"
    }
   },
   "cell_type": "code",
   "source": "df.shape",
   "id": "99c6e19746f87e44",
   "execution_count": 98,
   "outputs": []
  },
  {
   "metadata": {
    "ExecuteTime": {
     "end_time": "2025-08-27T10:03:29.902029Z",
     "start_time": "2025-08-27T10:03:29.890790Z"
    }
   },
   "cell_type": "code",
   "source": "df.fillna(0)",
   "id": "e8fbc125c306d1ae",
   "execution_count": 99,
   "outputs": []
  },
  {
   "metadata": {
    "ExecuteTime": {
     "end_time": "2025-08-27T10:03:44.205692Z",
     "start_time": "2025-08-27T10:03:44.192231Z"
    }
   },
   "cell_type": "code",
   "source": "df.replace(1, -1) # 将 1 替换为 -1",
   "id": "def3ac0ef617550f",
   "execution_count": 100,
   "outputs": []
  },
  {
   "metadata": {
    "ExecuteTime": {
     "end_time": "2025-08-27T10:03:58.567859Z",
     "start_time": "2025-08-27T10:03:58.556855Z"
    }
   },
   "cell_type": "code",
   "source": "df.isnull(), df.notnull()",
   "id": "2e0cd6a7db0c9e02",
   "execution_count": 101,
   "outputs": []
  },
  {
   "metadata": {
    "ExecuteTime": {
     "end_time": "2025-08-27T10:04:10.640115Z",
     "start_time": "2025-08-27T10:04:10.628117Z"
    }
   },
   "cell_type": "code",
   "source": "df.dropna()",
   "id": "c133d989572a7848",
   "execution_count": 103,
   "outputs": []
  },
  {
   "metadata": {
    "ExecuteTime": {
     "end_time": "2025-08-27T10:04:43.832203Z",
     "start_time": "2025-08-27T10:04:43.817588Z"
    }
   },
   "cell_type": "code",
   "source": "df.nunique()",
   "id": "c82e395fcdcd4eeb",
   "execution_count": 105,
   "outputs": []
  },
  {
   "metadata": {
    "ExecuteTime": {
     "end_time": "2025-08-27T10:05:53.228277Z",
     "start_time": "2025-08-27T10:05:53.213030Z"
    }
   },
   "cell_type": "code",
   "source": "df.reset_index()",
   "id": "6dd0aa9627429585",
   "execution_count": 106,
   "outputs": []
  },
  {
   "metadata": {
    "ExecuteTime": {
     "end_time": "2025-08-27T10:06:05.036041Z",
     "start_time": "2025-08-27T10:06:05.027964Z"
    }
   },
   "cell_type": "code",
   "source": "df.columns, df.index",
   "id": "7a51fb7cb33793f",
   "execution_count": 107,
   "outputs": []
  },
  {
   "metadata": {
    "ExecuteTime": {
     "end_time": "2025-08-27T10:06:10.451546Z",
     "start_time": "2025-08-27T10:06:10.436542Z"
    }
   },
   "cell_type": "code",
   "source": "df.sort_index()",
   "id": "ffd408e0183af102",
   "execution_count": 108,
   "outputs": []
  },
  {
   "metadata": {
    "ExecuteTime": {
     "end_time": "2025-08-27T10:06:18.517671Z",
     "start_time": "2025-08-27T10:06:18.507185Z"
    }
   },
   "cell_type": "code",
   "source": "df.sort_values('性别')",
   "id": "22a1de1e9553d71d",
   "execution_count": 110,
   "outputs": []
  },
  {
   "metadata": {
    "ExecuteTime": {
     "end_time": "2025-08-27T10:06:39.347211Z",
     "start_time": "2025-08-27T10:06:38.967427Z"
    }
   },
   "cell_type": "code",
   "source": [
    "ndf = pd.merge(df, df2)\n",
    "ndf"
   ],
   "id": "3c365ee2def3a2aa",
   "execution_count": 111,
   "outputs": []
  },
  {
   "metadata": {
    "ExecuteTime": {
     "end_time": "2025-08-27T10:06:52.469358Z",
     "start_time": "2025-08-27T10:06:52.449358Z"
    }
   },
   "cell_type": "code",
   "source": [
    "ndf = pd.merge([df, df2])\n",
    "ndf"
   ],
   "id": "f932cc257c947dc2",
   "execution_count": 113,
   "outputs": []
  },
  {
   "metadata": {
    "ExecuteTime": {
     "end_time": "2025-08-27T10:07:33.710521Z",
     "start_time": "2025-08-27T10:07:33.268632Z"
    }
   },
   "cell_type": "code",
   "source": [
    "path = './Repo/读取文件.xlsx'\n",
    "df = pd.read_excel(path,header=None,names=['序号','姓名','年龄','手机','地址','入职日期'],index_col='序号')\n",
    "print(df.reset_index(drop=True)) # 索引被直接删除\n",
    "print(df.reset_index(drop=False)) # 索引列会被还原为普通列 "
   ],
   "id": "b855177a96cbd22b",
   "execution_count": 114,
   "outputs": []
  }
 ],
 "metadata": {
  "kernelspec": {
   "display_name": "Python 3",
   "language": "python",
   "name": "python3"
  },
  "language_info": {
   "codemirror_mode": {
    "name": "ipython",
    "version": 2
   },
   "file_extension": ".py",
   "mimetype": "text/x-python",
   "name": "python",
   "nbconvert_exporter": "python",
   "pygments_lexer": "ipython2",
   "version": "2.7.6"
  }
 },
 "nbformat": 4,
 "nbformat_minor": 5
}
