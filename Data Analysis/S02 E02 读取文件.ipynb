{
 "cells": [
  {
   "metadata": {},
   "cell_type": "markdown",
   "source": [
    "`read_csv` 默认逗号分隔\n",
    "\n",
    "`read_table` 默认\\t分隔"
   ],
   "id": "9d3e567deda22bf3"
  },
  {
   "metadata": {},
   "cell_type": "markdown",
   "source": [
    "如果分隔符不止一种, 使用正则表达式 sep = '\\s+'\n",
    "\n",
    "`\\s` 表示匹配空白字符（空格、换行、制表）\n",
    "\n",
    "`+` 表示匹配 >= 1 次"
   ],
   "id": "c5b2986d6b40191"
  },
  {
   "metadata": {
    "ExecuteTime": {
     "end_time": "2025-08-27T02:10:25.270993Z",
     "start_time": "2025-08-27T02:10:25.263066Z"
    }
   },
   "cell_type": "code",
   "source": "path = './Repo'",
   "id": "2a1217106115f916",
   "execution_count": 21,
   "outputs": []
  },
  {
   "metadata": {
    "ExecuteTime": {
     "end_time": "2025-08-27T02:10:25.402582Z",
     "start_time": "2025-08-27T02:10:25.395343Z"
    }
   },
   "cell_type": "code",
   "source": [
    "import os\n",
    "path1 = os.path.join(path, '读取文件.txt')"
   ],
   "id": "8a7e677d508a233c",
   "execution_count": 22,
   "outputs": []
  },
  {
   "metadata": {
    "ExecuteTime": {
     "end_time": "2025-08-27T02:10:25.504119Z",
     "start_time": "2025-08-27T02:10:25.498123Z"
    }
   },
   "cell_type": "code",
   "source": "import pandas as pd",
   "id": "dd75b21c7ecd58e9",
   "execution_count": 23,
   "outputs": []
  },
  {
   "metadata": {
    "ExecuteTime": {
     "end_time": "2025-08-27T02:10:25.617895Z",
     "start_time": "2025-08-27T02:10:25.591504Z"
    }
   },
   "cell_type": "code",
   "source": "pd.read_table(path1, sep = ',')",
   "id": "1c2b6e685bb6811c",
   "execution_count": 24,
   "outputs": []
  },
  {
   "metadata": {
    "ExecuteTime": {
     "end_time": "2025-08-27T02:10:25.689385Z",
     "start_time": "2025-08-27T02:10:25.648508Z"
    }
   },
   "cell_type": "code",
   "source": [
    "path2 = os.path.join(path, '读取文件.xlsx')\n",
    "d = pd.read_excel(path2)\n",
    "d"
   ],
   "id": "fda2f48dc722477c",
   "execution_count": 25,
   "outputs": []
  },
  {
   "metadata": {
    "ExecuteTime": {
     "end_time": "2025-08-27T02:10:25.737604Z",
     "start_time": "2025-08-27T02:10:25.714401Z"
    }
   },
   "cell_type": "code",
   "source": "d.head()",
   "id": "6b82209629e83dce",
   "execution_count": 26,
   "outputs": []
  },
  {
   "metadata": {
    "ExecuteTime": {
     "end_time": "2025-08-27T02:10:25.921763Z",
     "start_time": "2025-08-27T02:10:25.913243Z"
    }
   },
   "cell_type": "code",
   "source": "d.shape",
   "id": "711dc7c3b943b99a",
   "execution_count": 27,
   "outputs": []
  },
  {
   "metadata": {
    "ExecuteTime": {
     "end_time": "2025-08-27T02:10:26.107891Z",
     "start_time": "2025-08-27T02:10:26.097677Z"
    }
   },
   "cell_type": "code",
   "source": "d.columns",
   "id": "c0b3fe4f9d2ec969",
   "execution_count": 28,
   "outputs": []
  },
  {
   "metadata": {
    "ExecuteTime": {
     "end_time": "2025-08-27T02:10:26.325847Z",
     "start_time": "2025-08-27T02:10:26.315222Z"
    }
   },
   "cell_type": "code",
   "source": "d.index",
   "id": "221ed412e7b615df",
   "execution_count": 29,
   "outputs": []
  },
  {
   "metadata": {
    "ExecuteTime": {
     "end_time": "2025-08-27T02:10:26.418579Z",
     "start_time": "2025-08-27T02:10:26.408101Z"
    }
   },
   "cell_type": "code",
   "source": "d.dtypes",
   "id": "8c307ed73e2d92cb",
   "execution_count": 30,
   "outputs": []
  },
  {
   "metadata": {
    "ExecuteTime": {
     "end_time": "2025-08-27T02:10:26.644255Z",
     "start_time": "2025-08-27T02:10:26.609356Z"
    }
   },
   "cell_type": "code",
   "source": [
    "d2 = pd.read_excel(path2, header = None, names = ['性别', '姓名', '年龄', '手机', '地址', '入职日期'])\n",
    "d2"
   ],
   "id": "c095f3a8fbebc67",
   "execution_count": 31,
   "outputs": []
  },
  {
   "metadata": {
    "ExecuteTime": {
     "end_time": "2025-08-27T02:10:50.100350Z",
     "start_time": "2025-08-27T02:10:50.074435Z"
    }
   },
   "cell_type": "code",
   "source": [
    "d3 = pd.read_excel(path2, header = None, names = ['性别', '姓名', '年龄', '手机', '地址', '入职日期'], index_col = '入职日期')\n",
    "d3"
   ],
   "id": "204ed4b498167ef3",
   "execution_count": 32,
   "outputs": []
  },
  {
   "metadata": {},
   "cell_type": "markdown",
   "source": "跳过一些行读取",
   "id": "b56d264d30f42b33"
  },
  {
   "metadata": {
    "ExecuteTime": {
     "end_time": "2025-08-27T02:12:24.204703Z",
     "start_time": "2025-08-27T02:12:24.170975Z"
    }
   },
   "cell_type": "code",
   "source": [
    "d4 = pd.read_excel(path2, header = None, names = ['性别', '姓名', '年龄', '手机', '地址', '入职日期'], skiprows = [2, 3])\n",
    "d4"
   ],
   "id": "d871bf907b60a074",
   "execution_count": 33,
   "outputs": []
  },
  {
   "metadata": {},
   "cell_type": "markdown",
   "source": [
    "decoding 可以指定编码\n",
    "\n",
    "- unf-8\n",
    "- ANSI\n",
    "- GBK"
   ],
   "id": "ef2bd5327c4955f1"
  },
  {
   "metadata": {},
   "cell_type": "markdown",
   "source": "指定读几行",
   "id": "cf1128437b1b2b3d"
  },
  {
   "metadata": {
    "ExecuteTime": {
     "end_time": "2025-08-27T02:14:50.830365Z",
     "start_time": "2025-08-27T02:14:50.804746Z"
    }
   },
   "cell_type": "code",
   "source": [
    "d5 = pd.read_excel(path2, header = None, names = ['性别', '姓名', '年龄', '手机', '地址', '入职日期'], nrows = 2)\n",
    "d5"
   ],
   "id": "2ba3d0aa9a3ef65",
   "execution_count": 34,
   "outputs": []
  },
  {
   "metadata": {},
   "cell_type": "markdown",
   "source": "txt 转 csv",
   "id": "a887be01c01420d3"
  },
  {
   "metadata": {
    "ExecuteTime": {
     "end_time": "2025-08-27T02:18:41.381397Z",
     "start_time": "2025-08-27T02:18:41.364440Z"
    }
   },
   "cell_type": "code",
   "source": [
    "data = pd.read_table(path1, sep = ',')\n",
    "data.to_csv(os.path.join('./File/txt_to_csv.csv'))\n",
    "data"
   ],
   "id": "6fbaddd411dc527d",
   "execution_count": 40,
   "outputs": []
  },
  {
   "metadata": {},
   "cell_type": "markdown",
   "source": "## 2 读取 mysql 数据库",
   "id": "c08a5a0220b6fa24"
  },
  {
   "metadata": {
    "ExecuteTime": {
     "end_time": "2025-08-27T02:46:40.404435Z",
     "start_time": "2025-08-27T02:46:40.021724Z"
    }
   },
   "cell_type": "code",
   "source": "import pymysql",
   "id": "8dfefafc4f3785d8",
   "execution_count": 42,
   "outputs": []
  },
  {
   "metadata": {
    "ExecuteTime": {
     "end_time": "2025-08-27T02:48:11.276145Z",
     "start_time": "2025-08-27T02:48:11.259795Z"
    }
   },
   "cell_type": "code",
   "source": [
    "connection = pymysql.connect(\n",
    "    host = 'localhost',\n",
    "    user = 'root',\n",
    "    passwd = 'root',\n",
    "    database = 'club'\n",
    ")"
   ],
   "id": "12590032dcd75b41",
   "execution_count": 43,
   "outputs": []
  },
  {
   "metadata": {},
   "cell_type": "markdown",
   "source": [
    "报警告是因为：\n",
    "\n",
    "问题所在：你可能正在使用一个底层的数据库驱动（比如 pymysql, psycopg2 等）直接创建的连接对象，然后把它传给了 pd.read_sql。\n",
    "\n",
    "风险：Pandas 团队没有对所有这些五花八门的底层连接对象进行过充分测试。直接使用它们可能会导致一些意想不到的问题，比如性能不佳、数据类型处理错误或在某些情况下直接报错。\n",
    "\n",
    "官方推荐的解决方案：使用 SQLAlchemy 库来创建数据库连接。SQLAlchemy 就像一个“万能转换插头”，它可以稳定、标准地连接各种不同的数据库（MySQL, PostgreSQL, Oracle, SQL Server等），然后为 Pandas 提供一个标准化的接口。Pandas 对这个接口做了充分的测试和优化。"
   ],
   "id": "37833824d83e5931"
  },
  {
   "metadata": {
    "ExecuteTime": {
     "end_time": "2025-08-27T02:48:53.328091Z",
     "start_time": "2025-08-27T02:48:52.858542Z"
    }
   },
   "cell_type": "code",
   "source": [
    "data = pd.read_sql(\n",
    "    \"select * from tbl_activity\",\n",
    "    con = connection\n",
    ")"
   ],
   "id": "5a879dc55f6fafc2",
   "execution_count": 44,
   "outputs": []
  },
  {
   "metadata": {
    "ExecuteTime": {
     "end_time": "2025-08-27T02:49:07.011284Z",
     "start_time": "2025-08-27T02:49:06.988141Z"
    }
   },
   "cell_type": "code",
   "source": "data",
   "id": "66351517c573f9fe",
   "execution_count": 45,
   "outputs": []
  },
  {
   "metadata": {},
   "cell_type": "markdown",
   "source": "## 3 读取与修改 Excel 文件",
   "id": "35f70490921d6418"
  },
  {
   "metadata": {
    "ExecuteTime": {
     "end_time": "2025-08-27T02:54:43.958839Z",
     "start_time": "2025-08-27T02:54:43.927626Z"
    }
   },
   "cell_type": "code",
   "source": [
    "path5 = os.path.join(path, '读取文件.xlsx')\n",
    "data = pd.read_excel(\n",
    "    path5,\n",
    "    header = None,\n",
    "    names = ['序号', '姓名', '年龄', '手机', '地址', '入职日期'],\n",
    "    index_col = '序号'\n",
    ")\n",
    "data"
   ],
   "id": "937555d3764a19a1",
   "execution_count": 47,
   "outputs": []
  },
  {
   "metadata": {},
   "cell_type": "code",
   "execution_count": null,
   "source": "",
   "id": "64265575f67939b5",
   "outputs": []
  }
 ],
 "metadata": {
  "kernelspec": {
   "display_name": "Python 3",
   "language": "python",
   "name": "python3"
  },
  "language_info": {
   "codemirror_mode": {
    "name": "ipython",
    "version": 2
   },
   "file_extension": ".py",
   "mimetype": "text/x-python",
   "name": "python",
   "nbconvert_exporter": "python",
   "pygments_lexer": "ipython2",
   "version": "2.7.6"
  }
 },
 "nbformat": 4,
 "nbformat_minor": 5
}
