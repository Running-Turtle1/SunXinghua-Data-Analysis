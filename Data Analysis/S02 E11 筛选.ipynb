{
 "cells": [
  {
   "cell_type": "code",
   "id": "initial_id",
   "metadata": {
    "collapsed": true,
    "ExecuteTime": {
     "end_time": "2025-08-28T07:14:06.740033Z",
     "start_time": "2025-08-28T07:14:06.733624Z"
    }
   },
   "source": "import pandas as pd",
   "execution_count": 26,
   "outputs": []
  },
  {
   "metadata": {
    "ExecuteTime": {
     "end_time": "2025-08-28T07:14:06.897530Z",
     "start_time": "2025-08-28T07:14:06.891978Z"
    }
   },
   "cell_type": "code",
   "source": "path = './Repo/筛选.xlsx'",
   "id": "4dc12418d88ed604",
   "execution_count": 27,
   "outputs": []
  },
  {
   "metadata": {
    "ExecuteTime": {
     "end_time": "2025-08-28T07:14:06.929362Z",
     "start_time": "2025-08-28T07:14:06.910115Z"
    }
   },
   "cell_type": "code",
   "source": "df = pd.read_excel(path, index_col = '序号', sheet_name = 'Sheet1')",
   "id": "c487a512ee4b39de",
   "execution_count": 28,
   "outputs": []
  },
  {
   "metadata": {
    "ExecuteTime": {
     "end_time": "2025-08-28T07:14:06.944123Z",
     "start_time": "2025-08-28T07:14:06.932374Z"
    }
   },
   "cell_type": "code",
   "source": "df",
   "id": "5e62cd8f34c3fe33",
   "execution_count": 29,
   "outputs": []
  },
  {
   "metadata": {
    "ExecuteTime": {
     "end_time": "2025-08-28T07:14:06.957224Z",
     "start_time": "2025-08-28T07:14:06.945675Z"
    }
   },
   "cell_type": "code",
   "source": "df2 = df.loc[2:4]",
   "id": "dfd71c131bd26a27",
   "execution_count": 30,
   "outputs": []
  },
  {
   "metadata": {
    "ExecuteTime": {
     "end_time": "2025-08-28T07:14:06.992450Z",
     "start_time": "2025-08-28T07:14:06.982305Z"
    }
   },
   "cell_type": "code",
   "source": "df2",
   "id": "d40507b13c0d077c",
   "execution_count": 31,
   "outputs": []
  },
  {
   "metadata": {
    "ExecuteTime": {
     "end_time": "2025-08-28T07:14:07.011920Z",
     "start_time": "2025-08-28T07:14:06.994461Z"
    }
   },
   "cell_type": "code",
   "source": [
    "condition = df['性别'] == '男'\n",
    "df[condition]"
   ],
   "id": "f2c2444cc806b54c",
   "execution_count": 32,
   "outputs": []
  },
  {
   "metadata": {
    "ExecuteTime": {
     "end_time": "2025-08-28T07:14:07.023609Z",
     "start_time": "2025-08-28T07:14:07.014932Z"
    }
   },
   "cell_type": "code",
   "source": "condition2 = \"性别 == '男' and 总分 >= 150\" ",
   "id": "31b8399af3f732e9",
   "execution_count": 33,
   "outputs": []
  },
  {
   "metadata": {},
   "cell_type": "markdown",
   "source": "query 可以接受查询字符串",
   "id": "2371d3ba3b67fe92"
  },
  {
   "metadata": {
    "ExecuteTime": {
     "end_time": "2025-08-28T07:14:07.177760Z",
     "start_time": "2025-08-28T07:14:07.160747Z"
    }
   },
   "cell_type": "code",
   "source": "df.query(condition2)",
   "id": "15bf5680b016db4",
   "execution_count": 34,
   "outputs": []
  },
  {
   "metadata": {
    "ExecuteTime": {
     "end_time": "2025-08-28T07:14:07.345426Z",
     "start_time": "2025-08-28T07:14:07.327548Z"
    }
   },
   "cell_type": "code",
   "source": [
    "condition3 = \"姓名 in ['王松', '王刚']\"\n",
    "df.query(condition3)"
   ],
   "id": "d55a7aed792cca55",
   "execution_count": 35,
   "outputs": []
  },
  {
   "metadata": {
    "ExecuteTime": {
     "end_time": "2025-08-28T07:14:07.657949Z",
     "start_time": "2025-08-28T07:14:07.644053Z"
    }
   },
   "cell_type": "code",
   "source": [
    "condition4 = df['姓名'].str.startswith('王')\n",
    "df[condition4]"
   ],
   "id": "5b91b410ab55d22f",
   "execution_count": 36,
   "outputs": []
  },
  {
   "metadata": {
    "ExecuteTime": {
     "end_time": "2025-08-28T07:14:07.806116Z",
     "start_time": "2025-08-28T07:14:07.788958Z"
    }
   },
   "cell_type": "code",
   "source": [
    "condition5 = df['地址'].str.contains('信阳')\n",
    "df[condition5]"
   ],
   "id": "7de99043e39789ff",
   "execution_count": 37,
   "outputs": []
  },
  {
   "metadata": {},
   "cell_type": "markdown",
   "source": "`case = False` 的意思是不区分大小写",
   "id": "47bc6ecc860ac141"
  },
  {
   "metadata": {
    "ExecuteTime": {
     "end_time": "2025-08-28T07:14:08.124468Z",
     "start_time": "2025-08-28T07:14:08.107930Z"
    }
   },
   "cell_type": "code",
   "source": [
    "condition6 = df['地址'].str.contains('[a-c]座', case = False)\n",
    "condition7 = df['地址'].str.contains('[a-cA-C]座') \n",
    "df[condition6]"
   ],
   "id": "a0120e15c2100d41",
   "execution_count": 38,
   "outputs": []
  },
  {
   "metadata": {
    "ExecuteTime": {
     "end_time": "2025-08-28T07:14:08.279824Z",
     "start_time": "2025-08-28T07:14:08.259701Z"
    }
   },
   "cell_type": "code",
   "source": [
    "condition8 = \"60 <= 语文 <= 100 and 性别 == '女'\"\n",
    "df.query(condition8)"
   ],
   "id": "46617d4779bdcd62",
   "execution_count": 39,
   "outputs": []
  },
  {
   "metadata": {},
   "cell_type": "markdown",
   "source": "## 筛选日期",
   "id": "a80af928a03d803f"
  },
  {
   "metadata": {
    "ExecuteTime": {
     "end_time": "2025-08-28T07:14:08.659182Z",
     "start_time": "2025-08-28T07:14:08.625454Z"
    }
   },
   "cell_type": "code",
   "source": [
    "df3 = pd.read_excel(path, index_col = '出生日期', parse_dates = ['出生日期'])\n",
    "df3"
   ],
   "id": "d23b0aa7efa379aa",
   "execution_count": 40,
   "outputs": []
  },
  {
   "metadata": {
    "ExecuteTime": {
     "end_time": "2025-08-28T07:14:08.800464Z",
     "start_time": "2025-08-28T07:14:08.790969Z"
    }
   },
   "cell_type": "code",
   "source": "df3.loc['1989-07-08']",
   "id": "ca3d87405e66a0d9",
   "execution_count": 41,
   "outputs": []
  },
  {
   "metadata": {
    "ExecuteTime": {
     "end_time": "2025-08-28T07:14:09.113929Z",
     "start_time": "2025-08-28T07:14:09.099521Z"
    }
   },
   "cell_type": "code",
   "source": [
    "df4 = df3.sort_values(by = '出生日期', axis = 0)\n",
    "df4"
   ],
   "id": "e8cde89be980350d",
   "execution_count": 42,
   "outputs": []
  },
  {
   "metadata": {},
   "cell_type": "markdown",
   "source": "获取 `1985` 年以后的信息",
   "id": "bafce2ee5ff1db2c"
  },
  {
   "metadata": {
    "ExecuteTime": {
     "end_time": "2025-08-28T07:14:09.314488Z",
     "start_time": "2025-08-28T07:14:09.298482Z"
    }
   },
   "cell_type": "code",
   "source": "df4.truncate(before = '1985')",
   "id": "9b3dff028a36da3",
   "execution_count": 43,
   "outputs": []
  },
  {
   "metadata": {},
   "cell_type": "markdown",
   "source": "获取 `1990` 年之前的信息",
   "id": "c228acdb1fecb06d"
  },
  {
   "metadata": {
    "ExecuteTime": {
     "end_time": "2025-08-28T07:14:09.463221Z",
     "start_time": "2025-08-28T07:14:09.450151Z"
    }
   },
   "cell_type": "code",
   "source": "df4.truncate(after = '1990')",
   "id": "6083fafd7f890140",
   "execution_count": 44,
   "outputs": []
  },
  {
   "metadata": {},
   "cell_type": "markdown",
   "source": "before 是左截断, after 是右截断",
   "id": "baf56abbf876a3ea"
  },
  {
   "metadata": {},
   "cell_type": "code",
   "execution_count": null,
   "source": "",
   "id": "a77bfddf51e6103b",
   "outputs": []
  }
 ],
 "metadata": {
  "kernelspec": {
   "display_name": "Python 3",
   "language": "python",
   "name": "python3"
  },
  "language_info": {
   "codemirror_mode": {
    "name": "ipython",
    "version": 2
   },
   "file_extension": ".py",
   "mimetype": "text/x-python",
   "name": "python",
   "nbconvert_exporter": "python",
   "pygments_lexer": "ipython2",
   "version": "2.7.6"
  }
 },
 "nbformat": 4,
 "nbformat_minor": 5
}
