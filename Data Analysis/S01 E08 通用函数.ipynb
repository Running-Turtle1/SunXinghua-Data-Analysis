{
 "cells": [
  {
   "cell_type": "code",
   "id": "initial_id",
   "metadata": {
    "collapsed": true,
    "ExecuteTime": {
     "end_time": "2025-08-25T11:45:30.792299Z",
     "start_time": "2025-08-25T11:45:30.604880Z"
    }
   },
   "source": "import numpy as np",
   "execution_count": 1,
   "outputs": []
  },
  {
   "metadata": {
    "ExecuteTime": {
     "end_time": "2025-08-25T12:05:02.473093Z",
     "start_time": "2025-08-25T12:05:02.466065Z"
    }
   },
   "cell_type": "code",
   "source": "a = np.arange(10)",
   "id": "f9d7b080f2501e6b",
   "execution_count": 2,
   "outputs": []
  },
  {
   "metadata": {
    "ExecuteTime": {
     "end_time": "2025-08-25T12:05:03.423396Z",
     "start_time": "2025-08-25T12:05:03.409282Z"
    }
   },
   "cell_type": "code",
   "source": "a",
   "id": "669577319af5dd2d",
   "execution_count": 3,
   "outputs": []
  },
  {
   "metadata": {
    "ExecuteTime": {
     "end_time": "2025-08-25T12:05:09.064325Z",
     "start_time": "2025-08-25T12:05:09.052309Z"
    }
   },
   "cell_type": "code",
   "source": "np.sqrt(a)",
   "id": "ce8071f58476fb51",
   "execution_count": 4,
   "outputs": []
  },
  {
   "metadata": {},
   "cell_type": "markdown",
   "source": "np.exp(a)",
   "id": "ef299ae66d3ff2c5"
  },
  {
   "metadata": {
    "ExecuteTime": {
     "end_time": "2025-08-25T12:06:34.107045Z",
     "start_time": "2025-08-25T12:06:34.099020Z"
    }
   },
   "cell_type": "code",
   "source": [
    "x = np.random.randn(8)\n",
    "y = np.random.randn(8)"
   ],
   "id": "e8f4ed51faa31243",
   "execution_count": 8,
   "outputs": []
  },
  {
   "metadata": {
    "ExecuteTime": {
     "end_time": "2025-08-25T12:06:36.568834Z",
     "start_time": "2025-08-25T12:06:36.559524Z"
    }
   },
   "cell_type": "code",
   "source": "x",
   "id": "30bce979051c429a",
   "execution_count": 9,
   "outputs": []
  },
  {
   "metadata": {
    "ExecuteTime": {
     "end_time": "2025-08-25T12:06:38.557568Z",
     "start_time": "2025-08-25T12:06:38.548287Z"
    }
   },
   "cell_type": "code",
   "source": "y",
   "id": "d21cfa522346c9a6",
   "execution_count": 10,
   "outputs": []
  },
  {
   "metadata": {},
   "cell_type": "markdown",
   "source": [
    "一元函数 ufunc\n",
    "\n",
    "通用函数也可以称为 ufunc， 是一种在 ndarray 数据中进行逐元素操作的函数。某些简单函数接受了一个或者多个标量数值，并产生一个或多个标量结果，而通用函数就是对这些简单函数的向量化封装。\n"
   ],
   "id": "ce50722ff6cb30b4"
  },
  {
   "metadata": {
    "ExecuteTime": {
     "end_time": "2025-08-25T12:07:08.375971Z",
     "start_time": "2025-08-25T12:07:08.366483Z"
    }
   },
   "cell_type": "code",
   "source": "np.abs(x)",
   "id": "aca8d41cbde938d4",
   "execution_count": 12,
   "outputs": []
  },
  {
   "metadata": {
    "ExecuteTime": {
     "end_time": "2025-08-25T12:07:17.720532Z",
     "start_time": "2025-08-25T12:07:17.711529Z"
    }
   },
   "cell_type": "code",
   "source": "np.fabs(x)",
   "id": "326ace0ff878d0fc",
   "execution_count": 13,
   "outputs": []
  },
  {
   "metadata": {
    "ExecuteTime": {
     "end_time": "2025-08-25T12:07:36.545244Z",
     "start_time": "2025-08-25T12:07:36.537031Z"
    }
   },
   "cell_type": "code",
   "source": "np.sqrt(np.fabs(x))",
   "id": "ac42964c96a3a74e",
   "execution_count": 15,
   "outputs": []
  },
  {
   "metadata": {
    "ExecuteTime": {
     "end_time": "2025-08-25T12:07:46.974684Z",
     "start_time": "2025-08-25T12:07:46.965416Z"
    }
   },
   "cell_type": "code",
   "source": "np.square(x) == x * x",
   "id": "fb2b3a91c64e5070",
   "execution_count": 16,
   "outputs": []
  },
  {
   "metadata": {
    "ExecuteTime": {
     "end_time": "2025-08-25T12:07:57.152327Z",
     "start_time": "2025-08-25T12:07:57.144269Z"
    }
   },
   "cell_type": "code",
   "source": "np.square(x) == x ** 2",
   "id": "f4414ce5f45711be",
   "execution_count": 17,
   "outputs": []
  },
  {
   "metadata": {
    "ExecuteTime": {
     "end_time": "2025-08-25T12:08:51.703160Z",
     "start_time": "2025-08-25T12:08:51.691177Z"
    }
   },
   "cell_type": "code",
   "source": [
    "t = np.fabs(x)\n",
    "np.log(t), np.log2(t), np.log10(t) # ln 2 10"
   ],
   "id": "9cfb4d5d8811bc62",
   "execution_count": 19,
   "outputs": []
  },
  {
   "metadata": {
    "ExecuteTime": {
     "end_time": "2025-08-25T12:09:09.100274Z",
     "start_time": "2025-08-25T12:09:09.092232Z"
    }
   },
   "cell_type": "code",
   "source": "np.log1p(t) # log(1+x)",
   "id": "d6acdaec5122069e",
   "execution_count": 20,
   "outputs": []
  },
  {
   "metadata": {
    "ExecuteTime": {
     "end_time": "2025-08-25T12:09:16.810042Z",
     "start_time": "2025-08-25T12:09:16.800773Z"
    }
   },
   "cell_type": "code",
   "source": "np.sign(x) # 1 整数 0 -1 负数",
   "id": "9819f3547b6e02e2",
   "execution_count": 21,
   "outputs": []
  },
  {
   "metadata": {
    "ExecuteTime": {
     "end_time": "2025-08-25T12:09:42.993949Z",
     "start_time": "2025-08-25T12:09:42.986057Z"
    }
   },
   "cell_type": "code",
   "source": "np.ceil(x) # >= x 的最小正数",
   "id": "b2375963511e2e4d",
   "execution_count": 22,
   "outputs": []
  },
  {
   "metadata": {
    "ExecuteTime": {
     "end_time": "2025-08-25T12:09:54.108134Z",
     "start_time": "2025-08-25T12:09:54.096915Z"
    }
   },
   "cell_type": "code",
   "source": "np.floor(x) # <= x 的最大整数",
   "id": "cd595b81d6125af2",
   "execution_count": 23,
   "outputs": []
  },
  {
   "metadata": {
    "ExecuteTime": {
     "end_time": "2025-08-25T12:10:07.063152Z",
     "start_time": "2025-08-25T12:10:07.054097Z"
    }
   },
   "cell_type": "code",
   "source": "np.rint(x) # 四舍五入到最接近的整数",
   "id": "ab3f8f4380f2dd0d",
   "execution_count": 24,
   "outputs": []
  },
  {
   "metadata": {},
   "cell_type": "markdown",
   "source": "一元函数第二弹",
   "id": "8b53de06e1c8a6e4"
  },
  {
   "metadata": {
    "ExecuteTime": {
     "end_time": "2025-08-25T12:10:55.854010Z",
     "start_time": "2025-08-25T12:10:55.845806Z"
    }
   },
   "cell_type": "code",
   "source": "np.modf(x) # 将小数位和整数位分别返回",
   "id": "b28897a23a36674d",
   "execution_count": 25,
   "outputs": []
  },
  {
   "metadata": {
    "ExecuteTime": {
     "end_time": "2025-08-25T12:11:19.722148Z",
     "start_time": "2025-08-25T12:11:19.709526Z"
    }
   },
   "cell_type": "code",
   "source": "np.isnan(x) # 是否是 NaN",
   "id": "17c7fc0983631fc1",
   "execution_count": 26,
   "outputs": []
  },
  {
   "metadata": {
    "ExecuteTime": {
     "end_time": "2025-08-25T12:11:37.411296Z",
     "start_time": "2025-08-25T12:11:37.401773Z"
    }
   },
   "cell_type": "code",
   "source": "np.isfinite(x) # 是否是有穷的 非 inf 非 nan",
   "id": "4a62ef05fba31711",
   "execution_count": 27,
   "outputs": []
  },
  {
   "metadata": {
    "ExecuteTime": {
     "end_time": "2025-08-25T12:11:44.236776Z",
     "start_time": "2025-08-25T12:11:44.226911Z"
    }
   },
   "cell_type": "code",
   "source": "np.isinf(x)",
   "id": "17eb533b6e6be4f5",
   "execution_count": 28,
   "outputs": []
  },
  {
   "metadata": {},
   "cell_type": "markdown",
   "source": [
    "以及一些:\n",
    "\n",
    "- sin cos tan\n",
    "- sinh cosh tanh\n",
    "- arcsin arccos arctan\n",
    "- atcsinh arccosh arctanh"
   ],
   "id": "8cbb2cf4a5c2ed9e"
  },
  {
   "metadata": {},
   "cell_type": "markdown",
   "source": "二元函 ufunc",
   "id": "52d0cb426f7e4fb1"
  },
  {
   "metadata": {},
   "cell_type": "markdown",
   "source": "np.mod(x, y) # 取余",
   "id": "a3092ee3097cf6ff"
  },
  {
   "metadata": {
    "ExecuteTime": {
     "end_time": "2025-08-25T12:13:19.366795Z",
     "start_time": "2025-08-25T12:13:19.358804Z"
    }
   },
   "cell_type": "code",
   "source": "np.dot(x, y)",
   "id": "fb90272ce1ca76c6",
   "execution_count": 30,
   "outputs": []
  },
  {
   "metadata": {},
   "cell_type": "markdown",
   "source": [
    "比较:\n",
    "\n",
    "- greater greater_equal\n",
    "- less less_equal\n",
    "- equal not_equal"
   ],
   "id": "bf7974202dad7b4b"
  },
  {
   "metadata": {},
   "cell_type": "markdown",
   "source": [
    "逻辑运算\n",
    "\n",
    "- logical_and\n",
    "- logical_or\n",
    "- logical_xor"
   ],
   "id": "f7c65a248b6d717a"
  },
  {
   "metadata": {
    "ExecuteTime": {
     "end_time": "2025-08-25T12:14:32.470770Z",
     "start_time": "2025-08-25T12:14:32.462874Z"
    }
   },
   "cell_type": "code",
   "source": "np.power(x, 3)",
   "id": "8e8e7c472d15d141",
   "execution_count": 31,
   "outputs": []
  },
  {
   "metadata": {},
   "cell_type": "code",
   "execution_count": null,
   "source": "",
   "id": "5c7b75ea46278586",
   "outputs": []
  }
 ],
 "metadata": {
  "kernelspec": {
   "display_name": "Python 3",
   "language": "python",
   "name": "python3"
  },
  "language_info": {
   "codemirror_mode": {
    "name": "ipython",
    "version": 2
   },
   "file_extension": ".py",
   "mimetype": "text/x-python",
   "name": "python",
   "nbconvert_exporter": "python",
   "pygments_lexer": "ipython2",
   "version": "2.7.6"
  }
 },
 "nbformat": 4,
 "nbformat_minor": 5
}
