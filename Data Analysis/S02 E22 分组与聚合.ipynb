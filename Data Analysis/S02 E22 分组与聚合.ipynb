{
 "cells": [
  {
   "metadata": {},
   "cell_type": "markdown",
   "source": "## 1 对分组进行迭代",
   "id": "d10bdcfc933f6141"
  },
  {
   "cell_type": "code",
   "id": "initial_id",
   "metadata": {
    "collapsed": true,
    "ExecuteTime": {
     "end_time": "2025-08-30T12:28:06.534846Z",
     "start_time": "2025-08-30T12:28:06.526170Z"
    }
   },
   "source": "import pandas as pd",
   "outputs": [],
   "execution_count": 57
  },
  {
   "metadata": {
    "ExecuteTime": {
     "end_time": "2025-08-30T12:28:06.679392Z",
     "start_time": "2025-08-30T12:28:06.674213Z"
    }
   },
   "cell_type": "code",
   "source": "path = './Repo/分组聚合.xlsx'",
   "id": "9123323eb7b542ea",
   "outputs": [],
   "execution_count": 58
  },
  {
   "metadata": {
    "ExecuteTime": {
     "end_time": "2025-08-30T12:28:06.705167Z",
     "start_time": "2025-08-30T12:28:06.694003Z"
    }
   },
   "cell_type": "code",
   "source": "df = pd.read_excel(path)",
   "id": "179a9a212f46a9ca",
   "outputs": [],
   "execution_count": 59
  },
  {
   "metadata": {
    "ExecuteTime": {
     "end_time": "2025-08-30T12:28:06.720331Z",
     "start_time": "2025-08-30T12:28:06.706184Z"
    }
   },
   "cell_type": "code",
   "source": "df",
   "id": "a9536a5fa01bca86",
   "outputs": [
    {
     "data": {
      "text/plain": [
       "    城市    区  人数  金额\n",
       "0  北京市  西城区  37  74\n",
       "1   天津  和平区  48  96\n",
       "2  北京市  东城区  40  80\n",
       "3   天津  南开区  34  68\n",
       "4  北京市  西城区  49  98\n",
       "5   天津  南开区  44  88\n",
       "6   天津  和平区  49  98\n",
       "7  北京市  东城区  48  96\n",
       "8  北京市  西城区  26  52\n",
       "9   天津  南开区  30  60"
      ],
      "text/html": [
       "<div>\n",
       "<style scoped>\n",
       "    .dataframe tbody tr th:only-of-type {\n",
       "        vertical-align: middle;\n",
       "    }\n",
       "\n",
       "    .dataframe tbody tr th {\n",
       "        vertical-align: top;\n",
       "    }\n",
       "\n",
       "    .dataframe thead th {\n",
       "        text-align: right;\n",
       "    }\n",
       "</style>\n",
       "<table border=\"1\" class=\"dataframe\">\n",
       "  <thead>\n",
       "    <tr style=\"text-align: right;\">\n",
       "      <th></th>\n",
       "      <th>城市</th>\n",
       "      <th>区</th>\n",
       "      <th>人数</th>\n",
       "      <th>金额</th>\n",
       "    </tr>\n",
       "  </thead>\n",
       "  <tbody>\n",
       "    <tr>\n",
       "      <th>0</th>\n",
       "      <td>北京市</td>\n",
       "      <td>西城区</td>\n",
       "      <td>37</td>\n",
       "      <td>74</td>\n",
       "    </tr>\n",
       "    <tr>\n",
       "      <th>1</th>\n",
       "      <td>天津</td>\n",
       "      <td>和平区</td>\n",
       "      <td>48</td>\n",
       "      <td>96</td>\n",
       "    </tr>\n",
       "    <tr>\n",
       "      <th>2</th>\n",
       "      <td>北京市</td>\n",
       "      <td>东城区</td>\n",
       "      <td>40</td>\n",
       "      <td>80</td>\n",
       "    </tr>\n",
       "    <tr>\n",
       "      <th>3</th>\n",
       "      <td>天津</td>\n",
       "      <td>南开区</td>\n",
       "      <td>34</td>\n",
       "      <td>68</td>\n",
       "    </tr>\n",
       "    <tr>\n",
       "      <th>4</th>\n",
       "      <td>北京市</td>\n",
       "      <td>西城区</td>\n",
       "      <td>49</td>\n",
       "      <td>98</td>\n",
       "    </tr>\n",
       "    <tr>\n",
       "      <th>5</th>\n",
       "      <td>天津</td>\n",
       "      <td>南开区</td>\n",
       "      <td>44</td>\n",
       "      <td>88</td>\n",
       "    </tr>\n",
       "    <tr>\n",
       "      <th>6</th>\n",
       "      <td>天津</td>\n",
       "      <td>和平区</td>\n",
       "      <td>49</td>\n",
       "      <td>98</td>\n",
       "    </tr>\n",
       "    <tr>\n",
       "      <th>7</th>\n",
       "      <td>北京市</td>\n",
       "      <td>东城区</td>\n",
       "      <td>48</td>\n",
       "      <td>96</td>\n",
       "    </tr>\n",
       "    <tr>\n",
       "      <th>8</th>\n",
       "      <td>北京市</td>\n",
       "      <td>西城区</td>\n",
       "      <td>26</td>\n",
       "      <td>52</td>\n",
       "    </tr>\n",
       "    <tr>\n",
       "      <th>9</th>\n",
       "      <td>天津</td>\n",
       "      <td>南开区</td>\n",
       "      <td>30</td>\n",
       "      <td>60</td>\n",
       "    </tr>\n",
       "  </tbody>\n",
       "</table>\n",
       "</div>"
      ]
     },
     "execution_count": 60,
     "metadata": {},
     "output_type": "execute_result"
    }
   ],
   "execution_count": 60
  },
  {
   "metadata": {
    "ExecuteTime": {
     "end_time": "2025-08-30T12:28:06.732771Z",
     "start_time": "2025-08-30T12:28:06.722077Z"
    }
   },
   "cell_type": "code",
   "source": [
    "for (i, j), group in df.groupby(['城市', '区']):\n",
    "    print(i, j) # 城区\n",
    "    print(group) # df"
   ],
   "id": "deafcf45dc2af310",
   "outputs": [
    {
     "name": "stdout",
     "output_type": "stream",
     "text": [
      "北京市 东城区\n",
      "    城市    区  人数  金额\n",
      "2  北京市  东城区  40  80\n",
      "7  北京市  东城区  48  96\n",
      "北京市 西城区\n",
      "    城市    区  人数  金额\n",
      "0  北京市  西城区  37  74\n",
      "4  北京市  西城区  49  98\n",
      "8  北京市  西城区  26  52\n",
      "天津 南开区\n",
      "   城市    区  人数  金额\n",
      "3  天津  南开区  34  68\n",
      "5  天津  南开区  44  88\n",
      "9  天津  南开区  30  60\n",
      "天津 和平区\n",
      "   城市    区  人数  金额\n",
      "1  天津  和平区  48  96\n",
      "6  天津  和平区  49  98\n"
     ]
    }
   ],
   "execution_count": 61
  },
  {
   "metadata": {},
   "cell_type": "markdown",
   "source": "## 2 分组聚合",
   "id": "2bbf7fb3b6a9cc21"
  },
  {
   "metadata": {
    "ExecuteTime": {
     "end_time": "2025-08-30T12:28:06.790410Z",
     "start_time": "2025-08-30T12:28:06.785738Z"
    }
   },
   "cell_type": "code",
   "source": "path = './Repo/分组聚合.xlsx'",
   "id": "6d775db167ed0dec",
   "outputs": [],
   "execution_count": 62
  },
  {
   "metadata": {
    "ExecuteTime": {
     "end_time": "2025-08-30T12:28:06.821845Z",
     "start_time": "2025-08-30T12:28:06.808508Z"
    }
   },
   "cell_type": "code",
   "source": "df = pd.read_excel(path)",
   "id": "b269fffac1395a44",
   "outputs": [],
   "execution_count": 63
  },
  {
   "metadata": {
    "ExecuteTime": {
     "end_time": "2025-08-30T12:28:06.858325Z",
     "start_time": "2025-08-30T12:28:06.843930Z"
    }
   },
   "cell_type": "code",
   "source": [
    "df2 = df.groupby(['城市', '区'])[['人数']].sum()\n",
    "df2"
   ],
   "id": "d842e7f49e3f0be2",
   "outputs": [
    {
     "data": {
      "text/plain": [
       "          人数\n",
       "城市  区       \n",
       "北京市 东城区   88\n",
       "    西城区  112\n",
       "天津  南开区  108\n",
       "    和平区   97"
      ],
      "text/html": [
       "<div>\n",
       "<style scoped>\n",
       "    .dataframe tbody tr th:only-of-type {\n",
       "        vertical-align: middle;\n",
       "    }\n",
       "\n",
       "    .dataframe tbody tr th {\n",
       "        vertical-align: top;\n",
       "    }\n",
       "\n",
       "    .dataframe thead th {\n",
       "        text-align: right;\n",
       "    }\n",
       "</style>\n",
       "<table border=\"1\" class=\"dataframe\">\n",
       "  <thead>\n",
       "    <tr style=\"text-align: right;\">\n",
       "      <th></th>\n",
       "      <th></th>\n",
       "      <th>人数</th>\n",
       "    </tr>\n",
       "    <tr>\n",
       "      <th>城市</th>\n",
       "      <th>区</th>\n",
       "      <th></th>\n",
       "    </tr>\n",
       "  </thead>\n",
       "  <tbody>\n",
       "    <tr>\n",
       "      <th rowspan=\"2\" valign=\"top\">北京市</th>\n",
       "      <th>东城区</th>\n",
       "      <td>88</td>\n",
       "    </tr>\n",
       "    <tr>\n",
       "      <th>西城区</th>\n",
       "      <td>112</td>\n",
       "    </tr>\n",
       "    <tr>\n",
       "      <th rowspan=\"2\" valign=\"top\">天津</th>\n",
       "      <th>南开区</th>\n",
       "      <td>108</td>\n",
       "    </tr>\n",
       "    <tr>\n",
       "      <th>和平区</th>\n",
       "      <td>97</td>\n",
       "    </tr>\n",
       "  </tbody>\n",
       "</table>\n",
       "</div>"
      ]
     },
     "execution_count": 64,
     "metadata": {},
     "output_type": "execute_result"
    }
   ],
   "execution_count": 64
  },
  {
   "metadata": {
    "ExecuteTime": {
     "end_time": "2025-08-30T12:28:06.917008Z",
     "start_time": "2025-08-30T12:28:06.903938Z"
    }
   },
   "cell_type": "code",
   "source": [
    "df3 = df.groupby(['城市', '区'])[['人数', '金额']].sum()\n",
    "df3"
   ],
   "id": "514f9c59feb95b5b",
   "outputs": [
    {
     "data": {
      "text/plain": [
       "          人数   金额\n",
       "城市  区            \n",
       "北京市 东城区   88  176\n",
       "    西城区  112  224\n",
       "天津  南开区  108  216\n",
       "    和平区   97  194"
      ],
      "text/html": [
       "<div>\n",
       "<style scoped>\n",
       "    .dataframe tbody tr th:only-of-type {\n",
       "        vertical-align: middle;\n",
       "    }\n",
       "\n",
       "    .dataframe tbody tr th {\n",
       "        vertical-align: top;\n",
       "    }\n",
       "\n",
       "    .dataframe thead th {\n",
       "        text-align: right;\n",
       "    }\n",
       "</style>\n",
       "<table border=\"1\" class=\"dataframe\">\n",
       "  <thead>\n",
       "    <tr style=\"text-align: right;\">\n",
       "      <th></th>\n",
       "      <th></th>\n",
       "      <th>人数</th>\n",
       "      <th>金额</th>\n",
       "    </tr>\n",
       "    <tr>\n",
       "      <th>城市</th>\n",
       "      <th>区</th>\n",
       "      <th></th>\n",
       "      <th></th>\n",
       "    </tr>\n",
       "  </thead>\n",
       "  <tbody>\n",
       "    <tr>\n",
       "      <th rowspan=\"2\" valign=\"top\">北京市</th>\n",
       "      <th>东城区</th>\n",
       "      <td>88</td>\n",
       "      <td>176</td>\n",
       "    </tr>\n",
       "    <tr>\n",
       "      <th>西城区</th>\n",
       "      <td>112</td>\n",
       "      <td>224</td>\n",
       "    </tr>\n",
       "    <tr>\n",
       "      <th rowspan=\"2\" valign=\"top\">天津</th>\n",
       "      <th>南开区</th>\n",
       "      <td>108</td>\n",
       "      <td>216</td>\n",
       "    </tr>\n",
       "    <tr>\n",
       "      <th>和平区</th>\n",
       "      <td>97</td>\n",
       "      <td>194</td>\n",
       "    </tr>\n",
       "  </tbody>\n",
       "</table>\n",
       "</div>"
      ]
     },
     "execution_count": 65,
     "metadata": {},
     "output_type": "execute_result"
    }
   ],
   "execution_count": 65
  },
  {
   "metadata": {
    "ExecuteTime": {
     "end_time": "2025-08-30T12:28:06.997410Z",
     "start_time": "2025-08-30T12:28:06.983732Z"
    }
   },
   "cell_type": "code",
   "source": [
    "path = './Repo/分组聚合2.xlsx'\n",
    "df = pd.read_excel(path, index_col = '店号')\n",
    "df"
   ],
   "id": "5bd41a3392a6fc67",
   "outputs": [
    {
     "data": {
      "text/plain": [
       "      1月  2月  3月  4月\n",
       "店号                  \n",
       "1店    25  77  76  29\n",
       "2店    49  84  95  75\n",
       "25店   57  80  44  28\n",
       "35店   46  25  95  37\n",
       "105店  57  84  95  37\n",
       "225店  57  77  76  28"
      ],
      "text/html": [
       "<div>\n",
       "<style scoped>\n",
       "    .dataframe tbody tr th:only-of-type {\n",
       "        vertical-align: middle;\n",
       "    }\n",
       "\n",
       "    .dataframe tbody tr th {\n",
       "        vertical-align: top;\n",
       "    }\n",
       "\n",
       "    .dataframe thead th {\n",
       "        text-align: right;\n",
       "    }\n",
       "</style>\n",
       "<table border=\"1\" class=\"dataframe\">\n",
       "  <thead>\n",
       "    <tr style=\"text-align: right;\">\n",
       "      <th></th>\n",
       "      <th>1月</th>\n",
       "      <th>2月</th>\n",
       "      <th>3月</th>\n",
       "      <th>4月</th>\n",
       "    </tr>\n",
       "    <tr>\n",
       "      <th>店号</th>\n",
       "      <th></th>\n",
       "      <th></th>\n",
       "      <th></th>\n",
       "      <th></th>\n",
       "    </tr>\n",
       "  </thead>\n",
       "  <tbody>\n",
       "    <tr>\n",
       "      <th>1店</th>\n",
       "      <td>25</td>\n",
       "      <td>77</td>\n",
       "      <td>76</td>\n",
       "      <td>29</td>\n",
       "    </tr>\n",
       "    <tr>\n",
       "      <th>2店</th>\n",
       "      <td>49</td>\n",
       "      <td>84</td>\n",
       "      <td>95</td>\n",
       "      <td>75</td>\n",
       "    </tr>\n",
       "    <tr>\n",
       "      <th>25店</th>\n",
       "      <td>57</td>\n",
       "      <td>80</td>\n",
       "      <td>44</td>\n",
       "      <td>28</td>\n",
       "    </tr>\n",
       "    <tr>\n",
       "      <th>35店</th>\n",
       "      <td>46</td>\n",
       "      <td>25</td>\n",
       "      <td>95</td>\n",
       "      <td>37</td>\n",
       "    </tr>\n",
       "    <tr>\n",
       "      <th>105店</th>\n",
       "      <td>57</td>\n",
       "      <td>84</td>\n",
       "      <td>95</td>\n",
       "      <td>37</td>\n",
       "    </tr>\n",
       "    <tr>\n",
       "      <th>225店</th>\n",
       "      <td>57</td>\n",
       "      <td>77</td>\n",
       "      <td>76</td>\n",
       "      <td>28</td>\n",
       "    </tr>\n",
       "  </tbody>\n",
       "</table>\n",
       "</div>"
      ]
     },
     "execution_count": 66,
     "metadata": {},
     "output_type": "execute_result"
    }
   ],
   "execution_count": 66
  },
  {
   "metadata": {
    "ExecuteTime": {
     "end_time": "2025-08-30T12:28:07.048450Z",
     "start_time": "2025-08-30T12:28:07.043824Z"
    }
   },
   "cell_type": "code",
   "source": [
    "dict = {\n",
    "    '1月': 'count',\n",
    "    '2月': 'sum',\n",
    "    '3月': 'max',\n",
    "    '4月': 'mean'\n",
    "}"
   ],
   "id": "4d3c24a517e49783",
   "outputs": [],
   "execution_count": 67
  },
  {
   "metadata": {
    "ExecuteTime": {
     "end_time": "2025-08-30T12:28:07.182185Z",
     "start_time": "2025-08-30T12:28:07.172224Z"
    }
   },
   "cell_type": "code",
   "source": [
    "df4 = df.groupby('店号').agg(dict)\n",
    "df4"
   ],
   "id": "228b4736b7981af6",
   "outputs": [
    {
     "data": {
      "text/plain": [
       "      1月  2月  3月    4月\n",
       "店号                    \n",
       "105店   1  84  95  37.0\n",
       "1店     1  77  76  29.0\n",
       "225店   1  77  76  28.0\n",
       "25店    1  80  44  28.0\n",
       "2店     1  84  95  75.0\n",
       "35店    1  25  95  37.0"
      ],
      "text/html": [
       "<div>\n",
       "<style scoped>\n",
       "    .dataframe tbody tr th:only-of-type {\n",
       "        vertical-align: middle;\n",
       "    }\n",
       "\n",
       "    .dataframe tbody tr th {\n",
       "        vertical-align: top;\n",
       "    }\n",
       "\n",
       "    .dataframe thead th {\n",
       "        text-align: right;\n",
       "    }\n",
       "</style>\n",
       "<table border=\"1\" class=\"dataframe\">\n",
       "  <thead>\n",
       "    <tr style=\"text-align: right;\">\n",
       "      <th></th>\n",
       "      <th>1月</th>\n",
       "      <th>2月</th>\n",
       "      <th>3月</th>\n",
       "      <th>4月</th>\n",
       "    </tr>\n",
       "    <tr>\n",
       "      <th>店号</th>\n",
       "      <th></th>\n",
       "      <th></th>\n",
       "      <th></th>\n",
       "      <th></th>\n",
       "    </tr>\n",
       "  </thead>\n",
       "  <tbody>\n",
       "    <tr>\n",
       "      <th>105店</th>\n",
       "      <td>1</td>\n",
       "      <td>84</td>\n",
       "      <td>95</td>\n",
       "      <td>37.0</td>\n",
       "    </tr>\n",
       "    <tr>\n",
       "      <th>1店</th>\n",
       "      <td>1</td>\n",
       "      <td>77</td>\n",
       "      <td>76</td>\n",
       "      <td>29.0</td>\n",
       "    </tr>\n",
       "    <tr>\n",
       "      <th>225店</th>\n",
       "      <td>1</td>\n",
       "      <td>77</td>\n",
       "      <td>76</td>\n",
       "      <td>28.0</td>\n",
       "    </tr>\n",
       "    <tr>\n",
       "      <th>25店</th>\n",
       "      <td>1</td>\n",
       "      <td>80</td>\n",
       "      <td>44</td>\n",
       "      <td>28.0</td>\n",
       "    </tr>\n",
       "    <tr>\n",
       "      <th>2店</th>\n",
       "      <td>1</td>\n",
       "      <td>84</td>\n",
       "      <td>95</td>\n",
       "      <td>75.0</td>\n",
       "    </tr>\n",
       "    <tr>\n",
       "      <th>35店</th>\n",
       "      <td>1</td>\n",
       "      <td>25</td>\n",
       "      <td>95</td>\n",
       "      <td>37.0</td>\n",
       "    </tr>\n",
       "  </tbody>\n",
       "</table>\n",
       "</div>"
      ]
     },
     "execution_count": 68,
     "metadata": {},
     "output_type": "execute_result"
    }
   ],
   "execution_count": 68
  },
  {
   "metadata": {},
   "cell_type": "markdown",
   "source": "## 3 使用字典和Series分组",
   "id": "d2905661f8f85e7d"
  },
  {
   "metadata": {
    "ExecuteTime": {
     "end_time": "2025-08-30T12:28:07.234398Z",
     "start_time": "2025-08-30T12:28:07.228037Z"
    }
   },
   "cell_type": "code",
   "source": "path = './Repo/分组聚合2.xlsx'",
   "id": "ac1b192bbad1c624",
   "outputs": [],
   "execution_count": 69
  },
  {
   "metadata": {
    "ExecuteTime": {
     "end_time": "2025-08-30T12:28:07.422808Z",
     "start_time": "2025-08-30T12:28:07.411692Z"
    }
   },
   "cell_type": "code",
   "source": "df = pd.read_excel(path, index_col = '店号')",
   "id": "616e65991da78478",
   "outputs": [],
   "execution_count": 70
  },
  {
   "metadata": {
    "ExecuteTime": {
     "end_time": "2025-08-30T12:28:07.466844Z",
     "start_time": "2025-08-30T12:28:07.457926Z"
    }
   },
   "cell_type": "code",
   "source": "df",
   "id": "552cf45c50979c22",
   "outputs": [
    {
     "data": {
      "text/plain": [
       "      1月  2月  3月  4月\n",
       "店号                  \n",
       "1店    25  77  76  29\n",
       "2店    49  84  95  75\n",
       "25店   57  80  44  28\n",
       "35店   46  25  95  37\n",
       "105店  57  84  95  37\n",
       "225店  57  77  76  28"
      ],
      "text/html": [
       "<div>\n",
       "<style scoped>\n",
       "    .dataframe tbody tr th:only-of-type {\n",
       "        vertical-align: middle;\n",
       "    }\n",
       "\n",
       "    .dataframe tbody tr th {\n",
       "        vertical-align: top;\n",
       "    }\n",
       "\n",
       "    .dataframe thead th {\n",
       "        text-align: right;\n",
       "    }\n",
       "</style>\n",
       "<table border=\"1\" class=\"dataframe\">\n",
       "  <thead>\n",
       "    <tr style=\"text-align: right;\">\n",
       "      <th></th>\n",
       "      <th>1月</th>\n",
       "      <th>2月</th>\n",
       "      <th>3月</th>\n",
       "      <th>4月</th>\n",
       "    </tr>\n",
       "    <tr>\n",
       "      <th>店号</th>\n",
       "      <th></th>\n",
       "      <th></th>\n",
       "      <th></th>\n",
       "      <th></th>\n",
       "    </tr>\n",
       "  </thead>\n",
       "  <tbody>\n",
       "    <tr>\n",
       "      <th>1店</th>\n",
       "      <td>25</td>\n",
       "      <td>77</td>\n",
       "      <td>76</td>\n",
       "      <td>29</td>\n",
       "    </tr>\n",
       "    <tr>\n",
       "      <th>2店</th>\n",
       "      <td>49</td>\n",
       "      <td>84</td>\n",
       "      <td>95</td>\n",
       "      <td>75</td>\n",
       "    </tr>\n",
       "    <tr>\n",
       "      <th>25店</th>\n",
       "      <td>57</td>\n",
       "      <td>80</td>\n",
       "      <td>44</td>\n",
       "      <td>28</td>\n",
       "    </tr>\n",
       "    <tr>\n",
       "      <th>35店</th>\n",
       "      <td>46</td>\n",
       "      <td>25</td>\n",
       "      <td>95</td>\n",
       "      <td>37</td>\n",
       "    </tr>\n",
       "    <tr>\n",
       "      <th>105店</th>\n",
       "      <td>57</td>\n",
       "      <td>84</td>\n",
       "      <td>95</td>\n",
       "      <td>37</td>\n",
       "    </tr>\n",
       "    <tr>\n",
       "      <th>225店</th>\n",
       "      <td>57</td>\n",
       "      <td>77</td>\n",
       "      <td>76</td>\n",
       "      <td>28</td>\n",
       "    </tr>\n",
       "  </tbody>\n",
       "</table>\n",
       "</div>"
      ]
     },
     "execution_count": 71,
     "metadata": {},
     "output_type": "execute_result"
    }
   ],
   "execution_count": 71
  },
  {
   "metadata": {
    "ExecuteTime": {
     "end_time": "2025-08-30T12:28:07.586214Z",
     "start_time": "2025-08-30T12:28:07.578093Z"
    }
   },
   "cell_type": "code",
   "source": [
    "对应关系 = {'1月':'一季度','2月':'一季度','3月':'一季度','4月':'二季度'}\n",
    "数据2 = df.groupby(对应关系,axis=1)\n",
    "print(数据2.sum())"
   ],
   "id": "5aa097ef3142c6d7",
   "outputs": [
    {
     "name": "stdout",
     "output_type": "stream",
     "text": [
      "      一季度  二季度\n",
      "店号            \n",
      "1店    178   29\n",
      "2店    228   75\n",
      "25店   181   28\n",
      "35店   166   37\n",
      "105店  236   37\n",
      "225店  210   28\n"
     ]
    },
    {
     "name": "stderr",
     "output_type": "stream",
     "text": [
      "C:\\Users\\95432\\AppData\\Local\\Temp\\ipykernel_12876\\1157648449.py:2: FutureWarning: DataFrame.groupby with axis=1 is deprecated. Do `frame.T.groupby(...)` without axis instead.\n",
      "  数据2 = df.groupby(对应关系,axis=1)\n"
     ]
    }
   ],
   "execution_count": 72
  },
  {
   "metadata": {},
   "cell_type": "markdown",
   "source": "## 4 通过函数分组（罕见）",
   "id": "87226f93d3be9cd9"
  },
  {
   "metadata": {
    "ExecuteTime": {
     "end_time": "2025-08-30T12:28:07.633870Z",
     "start_time": "2025-08-30T12:28:07.610574Z"
    }
   },
   "cell_type": "code",
   "source": [
    "import pandas as pd\n",
    "路径 = './Repo/分组聚合.xlsx'\n",
    "数据 = pd.read_excel(路径,index_col='城市')\n",
    "数据2 = 数据.groupby(len).sum()\n",
    "print(数据2)\n",
    "\n",
    "\n",
    "import pandas as pd\n",
    "路径 = './Repo/分组聚合2.xlsx'\n",
    "数据 = pd.read_excel(路径,index_col='店号')\n",
    "S1 = ['北京','北京','北京','北京','天津','天津']\n",
    "数据2= 数据.groupby([len,S1]).min()\n",
    "print(数据2)"
   ],
   "id": "926dbdfbb817b01c",
   "outputs": [
    {
     "name": "stdout",
     "output_type": "stream",
     "text": [
      "                  区   人数   金额\n",
      "城市                           \n",
      "2   和平区南开区南开区和平区南开区  205  410\n",
      "3   西城区东城区西城区东城区西城区  200  400\n",
      "       1月  2月  3月  4月\n",
      "店号                   \n",
      "2  北京  25  77  76  29\n",
      "3  北京  46  25  44  28\n",
      "4  天津  57  77  76  28\n"
     ]
    }
   ],
   "execution_count": 73
  },
  {
   "metadata": {},
   "cell_type": "markdown",
   "source": "## 5 通过索引级别分组",
   "id": "c68e8458e2f8e7c7"
  },
  {
   "metadata": {
    "ExecuteTime": {
     "end_time": "2025-08-30T12:28:07.686713Z",
     "start_time": "2025-08-30T12:28:07.663758Z"
    }
   },
   "cell_type": "code",
   "source": [
    "路径 = './Repo/分组聚合3.xlsx'\n",
    "数据 = pd.read_excel(路径,index_col=[0,1])\n",
    "数据"
   ],
   "id": "a45d2531921e1cc",
   "outputs": [
    {
     "data": {
      "text/plain": [
       "       语文  数学\n",
       "班级 性别        \n",
       "一班 男   55  68\n",
       "   女   76  76\n",
       "二班 男   51  65\n",
       "   女   54  69\n",
       "三班 男   50  78\n",
       "   女   51  76\n",
       "四班 男   80  67\n",
       "   女   62  70"
      ],
      "text/html": [
       "<div>\n",
       "<style scoped>\n",
       "    .dataframe tbody tr th:only-of-type {\n",
       "        vertical-align: middle;\n",
       "    }\n",
       "\n",
       "    .dataframe tbody tr th {\n",
       "        vertical-align: top;\n",
       "    }\n",
       "\n",
       "    .dataframe thead th {\n",
       "        text-align: right;\n",
       "    }\n",
       "</style>\n",
       "<table border=\"1\" class=\"dataframe\">\n",
       "  <thead>\n",
       "    <tr style=\"text-align: right;\">\n",
       "      <th></th>\n",
       "      <th></th>\n",
       "      <th>语文</th>\n",
       "      <th>数学</th>\n",
       "    </tr>\n",
       "    <tr>\n",
       "      <th>班级</th>\n",
       "      <th>性别</th>\n",
       "      <th></th>\n",
       "      <th></th>\n",
       "    </tr>\n",
       "  </thead>\n",
       "  <tbody>\n",
       "    <tr>\n",
       "      <th rowspan=\"2\" valign=\"top\">一班</th>\n",
       "      <th>男</th>\n",
       "      <td>55</td>\n",
       "      <td>68</td>\n",
       "    </tr>\n",
       "    <tr>\n",
       "      <th>女</th>\n",
       "      <td>76</td>\n",
       "      <td>76</td>\n",
       "    </tr>\n",
       "    <tr>\n",
       "      <th rowspan=\"2\" valign=\"top\">二班</th>\n",
       "      <th>男</th>\n",
       "      <td>51</td>\n",
       "      <td>65</td>\n",
       "    </tr>\n",
       "    <tr>\n",
       "      <th>女</th>\n",
       "      <td>54</td>\n",
       "      <td>69</td>\n",
       "    </tr>\n",
       "    <tr>\n",
       "      <th rowspan=\"2\" valign=\"top\">三班</th>\n",
       "      <th>男</th>\n",
       "      <td>50</td>\n",
       "      <td>78</td>\n",
       "    </tr>\n",
       "    <tr>\n",
       "      <th>女</th>\n",
       "      <td>51</td>\n",
       "      <td>76</td>\n",
       "    </tr>\n",
       "    <tr>\n",
       "      <th rowspan=\"2\" valign=\"top\">四班</th>\n",
       "      <th>男</th>\n",
       "      <td>80</td>\n",
       "      <td>67</td>\n",
       "    </tr>\n",
       "    <tr>\n",
       "      <th>女</th>\n",
       "      <td>62</td>\n",
       "      <td>70</td>\n",
       "    </tr>\n",
       "  </tbody>\n",
       "</table>\n",
       "</div>"
      ]
     },
     "execution_count": 74,
     "metadata": {},
     "output_type": "execute_result"
    }
   ],
   "execution_count": 74
  },
  {
   "metadata": {
    "ExecuteTime": {
     "end_time": "2025-08-30T12:28:07.741711Z",
     "start_time": "2025-08-30T12:28:07.734342Z"
    }
   },
   "cell_type": "code",
   "source": [
    "数据3 = 数据.groupby(level='班级').mean()\n",
    "print(数据3)"
   ],
   "id": "b630301335d7a517",
   "outputs": [
    {
     "name": "stdout",
     "output_type": "stream",
     "text": [
      "      语文    数学\n",
      "班级            \n",
      "一班  65.5  72.0\n",
      "三班  50.5  77.0\n",
      "二班  52.5  67.0\n",
      "四班  71.0  68.5\n"
     ]
    }
   ],
   "execution_count": 75
  },
  {
   "metadata": {
    "ExecuteTime": {
     "end_time": "2025-08-30T12:28:07.795228Z",
     "start_time": "2025-08-30T12:28:07.788784Z"
    }
   },
   "cell_type": "code",
   "source": "路径 = './Repo/分组聚合4.xlsx'",
   "id": "806ac7fa9804c428",
   "outputs": [],
   "execution_count": 76
  },
  {
   "metadata": {
    "ExecuteTime": {
     "end_time": "2025-08-30T12:28:07.891851Z",
     "start_time": "2025-08-30T12:28:07.873667Z"
    }
   },
   "cell_type": "code",
   "source": [
    "数据 = pd.read_excel(路径,header=[0,1])\n",
    "L1 = ['1季度','1季度','1季度','2季度','2季度']\n",
    "L2 = ['1月','2月','3月','4月','5月']\n",
    "多层索引 = pd.MultiIndex.from_arrays([L1,L2],names=['季度','月份'])"
   ],
   "id": "20b66898b65e7a4d",
   "outputs": [],
   "execution_count": 77
  },
  {
   "metadata": {
    "ExecuteTime": {
     "end_time": "2025-08-30T12:28:07.970062Z",
     "start_time": "2025-08-30T12:28:07.963928Z"
    }
   },
   "cell_type": "code",
   "source": "多层索引",
   "id": "50909f5549967b24",
   "outputs": [
    {
     "data": {
      "text/plain": [
       "MultiIndex([('1季度', '1月'),\n",
       "            ('1季度', '2月'),\n",
       "            ('1季度', '3月'),\n",
       "            ('2季度', '4月'),\n",
       "            ('2季度', '5月')],\n",
       "           names=['季度', '月份'])"
      ]
     },
     "execution_count": 78,
     "metadata": {},
     "output_type": "execute_result"
    }
   ],
   "execution_count": 78
  },
  {
   "metadata": {
    "ExecuteTime": {
     "end_time": "2025-08-30T12:28:08.016340Z",
     "start_time": "2025-08-30T12:28:08.003873Z"
    }
   },
   "cell_type": "code",
   "source": [
    "数据2 = pd.DataFrame(数据,columns=多层索引)\n",
    "数据2"
   ],
   "id": "3854ddf7c5f95e10",
   "outputs": [
    {
     "data": {
      "text/plain": [
       "季度 1季度         2季度    \n",
       "月份  1月  2月  3月  4月  5月\n",
       "0   44  28  40  21  28\n",
       "1   22  34  41  37  38\n",
       "2   28  23  48  37  32\n",
       "3   39  20  33  20  35\n",
       "4   37  49  49  21  40\n",
       "5   25  40  24  33  47"
      ],
      "text/html": [
       "<div>\n",
       "<style scoped>\n",
       "    .dataframe tbody tr th:only-of-type {\n",
       "        vertical-align: middle;\n",
       "    }\n",
       "\n",
       "    .dataframe tbody tr th {\n",
       "        vertical-align: top;\n",
       "    }\n",
       "\n",
       "    .dataframe thead tr th {\n",
       "        text-align: left;\n",
       "    }\n",
       "</style>\n",
       "<table border=\"1\" class=\"dataframe\">\n",
       "  <thead>\n",
       "    <tr>\n",
       "      <th>季度</th>\n",
       "      <th colspan=\"3\" halign=\"left\">1季度</th>\n",
       "      <th colspan=\"2\" halign=\"left\">2季度</th>\n",
       "    </tr>\n",
       "    <tr>\n",
       "      <th>月份</th>\n",
       "      <th>1月</th>\n",
       "      <th>2月</th>\n",
       "      <th>3月</th>\n",
       "      <th>4月</th>\n",
       "      <th>5月</th>\n",
       "    </tr>\n",
       "  </thead>\n",
       "  <tbody>\n",
       "    <tr>\n",
       "      <th>0</th>\n",
       "      <td>44</td>\n",
       "      <td>28</td>\n",
       "      <td>40</td>\n",
       "      <td>21</td>\n",
       "      <td>28</td>\n",
       "    </tr>\n",
       "    <tr>\n",
       "      <th>1</th>\n",
       "      <td>22</td>\n",
       "      <td>34</td>\n",
       "      <td>41</td>\n",
       "      <td>37</td>\n",
       "      <td>38</td>\n",
       "    </tr>\n",
       "    <tr>\n",
       "      <th>2</th>\n",
       "      <td>28</td>\n",
       "      <td>23</td>\n",
       "      <td>48</td>\n",
       "      <td>37</td>\n",
       "      <td>32</td>\n",
       "    </tr>\n",
       "    <tr>\n",
       "      <th>3</th>\n",
       "      <td>39</td>\n",
       "      <td>20</td>\n",
       "      <td>33</td>\n",
       "      <td>20</td>\n",
       "      <td>35</td>\n",
       "    </tr>\n",
       "    <tr>\n",
       "      <th>4</th>\n",
       "      <td>37</td>\n",
       "      <td>49</td>\n",
       "      <td>49</td>\n",
       "      <td>21</td>\n",
       "      <td>40</td>\n",
       "    </tr>\n",
       "    <tr>\n",
       "      <th>5</th>\n",
       "      <td>25</td>\n",
       "      <td>40</td>\n",
       "      <td>24</td>\n",
       "      <td>33</td>\n",
       "      <td>47</td>\n",
       "    </tr>\n",
       "  </tbody>\n",
       "</table>\n",
       "</div>"
      ]
     },
     "execution_count": 79,
     "metadata": {},
     "output_type": "execute_result"
    }
   ],
   "execution_count": 79
  },
  {
   "metadata": {
    "ExecuteTime": {
     "end_time": "2025-08-30T12:28:08.070657Z",
     "start_time": "2025-08-30T12:28:08.063934Z"
    }
   },
   "cell_type": "code",
   "source": [
    "数据3 = 数据2.groupby(level='季度',axis=1).sum()\n",
    "print(数据3)"
   ],
   "id": "ea82eb8317c8fab2",
   "outputs": [
    {
     "name": "stdout",
     "output_type": "stream",
     "text": [
      "季度  1季度  2季度\n",
      "0   112   49\n",
      "1    97   75\n",
      "2    99   69\n",
      "3    92   55\n",
      "4   135   61\n",
      "5    89   80\n"
     ]
    },
    {
     "name": "stderr",
     "output_type": "stream",
     "text": [
      "C:\\Users\\95432\\AppData\\Local\\Temp\\ipykernel_12876\\2901680766.py:1: FutureWarning: DataFrame.groupby with axis=1 is deprecated. Do `frame.T.groupby(...)` without axis instead.\n",
      "  数据3 = 数据2.groupby(level='季度',axis=1).sum()\n"
     ]
    }
   ],
   "execution_count": 80
  }
 ],
 "metadata": {
  "kernelspec": {
   "display_name": "Python 3",
   "language": "python",
   "name": "python3"
  },
  "language_info": {
   "codemirror_mode": {
    "name": "ipython",
    "version": 2
   },
   "file_extension": ".py",
   "mimetype": "text/x-python",
   "name": "python",
   "nbconvert_exporter": "python",
   "pygments_lexer": "ipython2",
   "version": "2.7.6"
  }
 },
 "nbformat": 4,
 "nbformat_minor": 5
}
