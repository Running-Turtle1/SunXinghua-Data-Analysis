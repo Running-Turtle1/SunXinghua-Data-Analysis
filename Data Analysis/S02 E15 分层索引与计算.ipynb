{
 "cells": [
  {
   "metadata": {},
   "cell_type": "markdown",
   "source": "多层索引",
   "id": "17eedf66881ade19"
  },
  {
   "cell_type": "code",
   "id": "initial_id",
   "metadata": {
    "collapsed": true,
    "ExecuteTime": {
     "end_time": "2025-08-28T10:56:38.886313Z",
     "start_time": "2025-08-28T10:56:38.880213Z"
    }
   },
   "source": "import pandas as pd",
   "execution_count": 10,
   "outputs": []
  },
  {
   "metadata": {
    "ExecuteTime": {
     "end_time": "2025-08-28T10:56:38.913194Z",
     "start_time": "2025-08-28T10:56:38.909768Z"
    }
   },
   "cell_type": "code",
   "source": "path = './Repo/多层索引.xlsx'",
   "id": "9e5c89213f2989e4",
   "execution_count": 11,
   "outputs": []
  },
  {
   "metadata": {
    "ExecuteTime": {
     "end_time": "2025-08-28T10:56:38.934770Z",
     "start_time": "2025-08-28T10:56:38.914202Z"
    }
   },
   "cell_type": "code",
   "source": "df = pd.read_excel(path, index_col = [0, 1], sheet_name = '有序')",
   "id": "2fe13007e8188c36",
   "execution_count": 12,
   "outputs": []
  },
  {
   "metadata": {
    "ExecuteTime": {
     "end_time": "2025-08-28T10:56:38.942778Z",
     "start_time": "2025-08-28T10:56:38.934770Z"
    }
   },
   "cell_type": "code",
   "source": "df",
   "id": "c5866c06bbb354e7",
   "execution_count": 13,
   "outputs": []
  },
  {
   "metadata": {
    "ExecuteTime": {
     "end_time": "2025-08-28T10:56:38.954999Z",
     "start_time": "2025-08-28T10:56:38.942778Z"
    }
   },
   "cell_type": "code",
   "source": "df.index",
   "id": "8c0492fc649a87f1",
   "execution_count": 14,
   "outputs": []
  },
  {
   "metadata": {
    "ExecuteTime": {
     "end_time": "2025-08-28T10:56:38.964769Z",
     "start_time": "2025-08-28T10:56:38.954999Z"
    }
   },
   "cell_type": "code",
   "source": "df.index.levels[0]",
   "id": "32d77678a4d95d35",
   "execution_count": 15,
   "outputs": []
  },
  {
   "metadata": {
    "ExecuteTime": {
     "end_time": "2025-08-28T10:56:54.169903Z",
     "start_time": "2025-08-28T10:56:54.157971Z"
    }
   },
   "cell_type": "code",
   "source": "df.index.levels[1]",
   "id": "6fd5fbee1d52de72",
   "execution_count": 17,
   "outputs": []
  },
  {
   "metadata": {
    "ExecuteTime": {
     "end_time": "2025-08-28T10:57:56.944936Z",
     "start_time": "2025-08-28T10:57:56.937517Z"
    }
   },
   "cell_type": "code",
   "source": "df2 = df.loc['1班', slice(None), :]",
   "id": "c601c76550ba6be7",
   "execution_count": 18,
   "outputs": []
  },
  {
   "metadata": {
    "ExecuteTime": {
     "end_time": "2025-08-28T10:57:58.666647Z",
     "start_time": "2025-08-28T10:57:58.655093Z"
    }
   },
   "cell_type": "code",
   "source": "df2",
   "id": "1938fb4de323f79a",
   "execution_count": 19,
   "outputs": []
  },
  {
   "metadata": {},
   "cell_type": "markdown",
   "source": "index 为无序",
   "id": "4181e1d94ab457db"
  },
  {
   "metadata": {
    "ExecuteTime": {
     "end_time": "2025-08-28T11:00:22.132157Z",
     "start_time": "2025-08-28T11:00:22.116208Z"
    }
   },
   "cell_type": "code",
   "source": "df = pd.read_excel(path, index_col = [0, 1], sheet_name = '无序')",
   "id": "60175b996ebf4e94",
   "execution_count": 20,
   "outputs": []
  },
  {
   "metadata": {
    "ExecuteTime": {
     "end_time": "2025-08-28T11:00:22.736987Z",
     "start_time": "2025-08-28T11:00:22.730495Z"
    }
   },
   "cell_type": "code",
   "source": "df",
   "id": "2287c050b4cec937",
   "execution_count": 21,
   "outputs": []
  },
  {
   "metadata": {
    "ExecuteTime": {
     "end_time": "2025-08-28T11:05:18.177856Z",
     "start_time": "2025-08-28T11:05:18.168854Z"
    }
   },
   "cell_type": "code",
   "source": "df = df.sort_index(level = '科目')",
   "id": "aa864d34b2030b8c",
   "execution_count": 29,
   "outputs": []
  },
  {
   "metadata": {
    "ExecuteTime": {
     "end_time": "2025-08-28T11:05:20.150543Z",
     "start_time": "2025-08-28T11:05:20.138289Z"
    }
   },
   "cell_type": "code",
   "source": "df",
   "id": "4452e53a4f7feb6c",
   "execution_count": 30,
   "outputs": []
  },
  {
   "metadata": {
    "ExecuteTime": {
     "end_time": "2025-08-28T11:05:42.534134Z",
     "start_time": "2025-08-28T11:05:42.522133Z"
    }
   },
   "cell_type": "code",
   "source": "df.loc['语文', :, :]",
   "id": "5c85c3a053594ef3",
   "execution_count": 32,
   "outputs": []
  },
  {
   "metadata": {},
   "cell_type": "markdown",
   "source": "一、from_arrays 方法",
   "id": "cdbba1878a6c5a9"
  },
  {
   "metadata": {
    "ExecuteTime": {
     "end_time": "2025-08-28T11:07:48.266161Z",
     "start_time": "2025-08-28T11:07:48.254103Z"
    }
   },
   "cell_type": "code",
   "source": [
    "multiIndex = pd.MultiIndex.from_arrays(\n",
    "    [\n",
    "        ['a', 'a', 'b', 'b'],\n",
    "        [1, 2, 1, 2]\n",
    "    ],\n",
    "    names = ['x', 'y']\n",
    ")\n",
    "multiIndex"
   ],
   "id": "c0e5a7397cb943ea",
   "execution_count": 33,
   "outputs": []
  },
  {
   "metadata": {
    "ExecuteTime": {
     "end_time": "2025-08-28T11:11:11.279634Z",
     "start_time": "2025-08-28T11:11:11.266634Z"
    }
   },
   "cell_type": "code",
   "source": [
    "multiIndex2 = pd.MultiIndex.from_tuples(\n",
    "    [('a', 1), ('a', 2), ('b', 1), ('b', 2)],\n",
    "    names = ['x', 'y']\n",
    ")\n",
    "multiIndex2"
   ],
   "id": "848420ddbf7e6840",
   "execution_count": 37,
   "outputs": []
  },
  {
   "metadata": {
    "ExecuteTime": {
     "end_time": "2025-08-28T11:11:28.693078Z",
     "start_time": "2025-08-28T11:11:28.684074Z"
    }
   },
   "cell_type": "code",
   "source": [
    "multiIndex3 = pd.MultiIndex.from_product([['a', 'b'], [1, 2]],names=['x','y'])\n",
    "multiIndex3"
   ],
   "id": "7cfec3188e9e0a27",
   "execution_count": 38,
   "outputs": []
  },
  {
   "metadata": {
    "ExecuteTime": {
     "end_time": "2025-08-28T11:13:36.615228Z",
     "start_time": "2025-08-28T11:13:36.601636Z"
    }
   },
   "cell_type": "code",
   "source": [
    "import numpy as np\n",
    "index = pd.MultiIndex.from_product([[2019, 2020], [5, 6]],names=['年', '月'])\n",
    "columns = pd.MultiIndex.from_product([['香蕉', '苹果'], ['土豆', '茄子']],names=['水果', '蔬菜'])\n",
    "数据 = pd.DataFrame(np.random.random(size=(4, 4)), index=index, columns=columns)  # 笔记3.2\n",
    "print(数据)"
   ],
   "id": "b4161aaa5b63962b",
   "execution_count": 43,
   "outputs": []
  },
  {
   "metadata": {},
   "cell_type": "code",
   "execution_count": null,
   "source": "",
   "id": "376e3f6158556280",
   "outputs": []
  }
 ],
 "metadata": {
  "kernelspec": {
   "display_name": "Python 3",
   "language": "python",
   "name": "python3"
  },
  "language_info": {
   "codemirror_mode": {
    "name": "ipython",
    "version": 2
   },
   "file_extension": ".py",
   "mimetype": "text/x-python",
   "name": "python",
   "nbconvert_exporter": "python",
   "pygments_lexer": "ipython2",
   "version": "2.7.6"
  }
 },
 "nbformat": 4,
 "nbformat_minor": 5
}
